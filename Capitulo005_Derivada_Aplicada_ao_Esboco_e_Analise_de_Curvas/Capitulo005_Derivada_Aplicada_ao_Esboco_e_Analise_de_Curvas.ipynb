{
 "cells": [
  {
   "cell_type": "markdown",
   "id": "d4ea28a8",
   "metadata": {
    "slideshow": {
     "slide_type": "slide"
    }
   },
   "source": [
    "<center> <img src=\"logo_ifba.jpg\" alt=\"jpg_python\" width=\"100\" height=\"200\"> </center>\n",
    "<br><br>\n",
    "<div align=\"center\"><span style=\"font-size: 26px;\"><strong>Cálculo Diferencial Aplicado à Computação <br></strong></span></div> <br>\n",
    "<center> <img src=\"python_gif.gif\" alt=\"gif_python\" width=\"80\"> </center>"
   ]
  },
  {
   "cell_type": "markdown",
   "id": "d76184a7",
   "metadata": {
    "slideshow": {
     "slide_type": "slide"
    }
   },
   "source": [
    "<div style=\"border: 2px solid black; padding: 10px; width: 95%; background-color: lightgray; display: flex; align-items: center;\">\n",
    "    <h1 style=\"color: red; text-align: center; margin: auto;\">\n",
    "        Capítulo 5: Derivada Aplicada ao Esboço e Análise de Curvas\n",
    "    </h1>\n",
    "</div>\n",
    "\n",
    "<font color='red'></font>\n",
    "<a href=\"\"></a>"
   ]
  },
  {
   "cell_type": "markdown",
   "id": "1844c7cb",
   "metadata": {},
   "source": [
    "Neste capítulo, exploraremos o poderoso papel das derivadas na matemática aplicada ao esboço e análise de curvas. A capacidade de entender e prever o comportamento das funções é essencial em diversas áreas da ciência e engenharia. Além disso, discutiremos o Método de Newton, uma ferramenta iterativa baseada em derivadas, que nos permite aproximar soluções de equações não-lineares com grande precisão."
   ]
  },
  {
   "cell_type": "markdown",
   "id": "9466f06c",
   "metadata": {},
   "source": [
    "# <div style=\"margin-top: -20px;\">\n",
    "<hr style=\"border: 2px solid black;\">\n",
    "\n",
    "<font color='black'><span style=\"font-size: 22px;\"><strong>5.1 O Teorema do Valor Médio</strong></span></font>\n",
    "\n",
    "<hr style=\"border: 2px solid black;\">\n",
    "</div>"
   ]
  },
  {
   "cell_type": "markdown",
   "id": "45be7178",
   "metadata": {},
   "source": [
    "Os teoremas a seguir são a base de muitos dos resultados que estudaremos neste capítulo:"
   ]
  },
  {
   "cell_type": "markdown",
   "id": "50a48119",
   "metadata": {},
   "source": [
    "####  <font color='red'> Teorema 1 (Teorema de Rolle)</font>"
   ]
  },
  {
   "cell_type": "markdown",
   "id": "eade8c34",
   "metadata": {},
   "source": [
    "<font color='red'> Se $f$ é contínua em um intervalo fechado $[a,b]$, diferenciável no intervalo aberto $(a,b)$ e se $f(a) = f(b) = 0$, então existe pelo menos um ponto $c$ em $(a,b)$ tal que $f'(c) = 0$."
   ]
  },
  {
   "cell_type": "markdown",
   "id": "81303a67",
   "metadata": {},
   "source": [
    "#### Interpretação Geométrica do Teorema de Rolle"
   ]
  },
  {
   "cell_type": "markdown",
   "id": "2893f19e",
   "metadata": {},
   "source": [
    "Consideremos uma função $f$ que é contínua no intervalo fechado $[a,b]$, e diferenciável no aberto $(a,b)$. Suponhamos que $f(a) = f(b) = 0$. Temos dois exemplos atendendo estas condições exibidos na figura a seguir:<br><br>\n",
    "\n",
    "<center> <img src=\"fig5-1.jpg\" alt=\"jpg_python\" width=\"700\" height=\"\"> </center>\n",
    "\n",
    "Observe em ambos casos que existem pontos nos quais as tangentes aos gráficos dados são horizontais, isto é, valores críticos $c$ para os quais $f'(c) = 0$.\n",
    "\n",
    "Na mesma linha do **Teorema 1** temos o seguinte teorema:"
   ]
  },
  {
   "cell_type": "markdown",
   "id": "877a4b44",
   "metadata": {},
   "source": [
    "####  <font color='red'> Teorema 2 (Teorema do Valor Médio)</font>"
   ]
  },
  {
   "cell_type": "markdown",
   "id": "7ba304a5",
   "metadata": {},
   "source": [
    "<font color='red'> Seja $f$ contínua no intervalo fechado $[a,b]$ e diferenciável no intervalo aberto $(a,b)$. Então existe um ponto $c$ no intervalo aberto $(a,b)$ tal que<br><br>\n",
    " $$f'(c) = \\frac{f(b)-f(a)}{b-a}.$$"
   ]
  },
  {
   "cell_type": "markdown",
   "id": "d34758f2",
   "metadata": {},
   "source": [
    "#### Interpretação Geométrica do Teorema do Valor Médio"
   ]
  },
  {
   "cell_type": "markdown",
   "id": "ed951443",
   "metadata": {},
   "source": [
    "O **Teorema 2** afirma que uma função diferenciável em um intervalo $(a,b)$ é tal que existe um ponto $c \\in (a,b)$ para o qual a reta tangente ao gráfico de $f$ em $(c,f(c))$ tem a mesma inclinação que reta secante ao gráfico de $f$ nos pontos $(a,f(a))$ e $(b,f(b))$. Vejamos isto na figura a seguir:<br><br>\n",
    "\n",
    "<center> <img src=\"fig5-2.jpg\" alt=\"jpg_python\" width=\"500\" height=\"\"> </center>"
   ]
  },
  {
   "cell_type": "markdown",
   "id": "59d8e038",
   "metadata": {},
   "source": [
    "####  <font color='blue'> Exemplo 1 </font>"
   ]
  },
  {
   "cell_type": "markdown",
   "id": "7016994f",
   "metadata": {},
   "source": [
    "<font color='blue'> Considere a função $f(x) = x^{2}$ no intervalo $[0,2]$. Mostre que existe um ponto $c \\in (0,2)$ tal que $f'(c)$ tem o mesmo valor que a inclinação da reta secante ao gráfico de $f$ nos pontos $(0,f(0))$ e $(2,f(2))$. Qual o valor de $c$?"
   ]
  },
  {
   "cell_type": "markdown",
   "id": "08d4119a",
   "metadata": {},
   "source": [
    "#####  <font color='blue'> Solução </font>"
   ]
  },
  {
   "cell_type": "markdown",
   "id": "9c43237b",
   "metadata": {},
   "source": [
    "<font color='blue'> Note que $f(x) = x^{2}$ é contínua e diferenciável em $\\mathbb{R}$ e portanto é contínua em $[0,2]$ e diferenciável em $(0,2)$. Portanto, o **Teorema 2** assegura a existência de $c \\in (0,2)$ tal que $f'(c) = \\frac{f(2) - f(0)}{2-0} = \\frac{4-0}{2-0} = 2$. Para obtermos o valor $c$ devemos resolver a equação $f'(x) = 2$. Pois bem,<br><br>\n",
    " $$f'(x) = 2 \\Rightarrow (x^{2})' = 2 \\Rightarrow 2x = 2 \\Rightarrow x = 1.$$<br>\n",
    " Portanto, $c = 1$. Acompanhe a figura a seguir:<br><br>\n",
    " <center> <img src=\"fig5-3.jpg\" alt=\"jpg_python\" width=\"500\" height=\"\"> </center>"
   ]
  },
  {
   "cell_type": "markdown",
   "id": "eadbe6f0",
   "metadata": {},
   "source": [
    "####  <font color='blue'> Exemplo 2 </font>"
   ]
  },
  {
   "cell_type": "markdown",
   "id": "2ae194b8",
   "metadata": {},
   "source": [
    "<font color='blue'> Considere um veículo que viaja de uma cidade $A$ para uma cidade $B$ situada a $200 \\ km$. O veículo leva $4$ horas para completar a viagem. Mostre que em algum momento o velocímetro do carro marcou a velocidade de $50 \\ km/h$."
   ]
  },
  {
   "cell_type": "markdown",
   "id": "a0660288",
   "metadata": {},
   "source": [
    "#####  <font color='blue'> Solução </font>"
   ]
  },
  {
   "cell_type": "markdown",
   "id": "3e2cb2ee",
   "metadata": {},
   "source": [
    "<font color='blue'> Consideremos uma função $f$ que represente as diversas posições do veículo ao longo do tempo. Seja $t_{0} = a$ o instante que passa pela posição $f(a)$ na qual a cidade $A$ está localizada e $t_{1} = b$ o instante que passa pela posição $f(b)$ na qual a cidade $B$ está localizada. Sabemos da aulas de física que a velocidade média entre as cidades $A$ e $B$ pode ser calculada por:<br><br>\n",
    " $$v_{m} = \\frac{\\Delta s}{\\Delta t} = \\frac{f(b)-f(a)}{b-a} = \\frac{200}{4} = 50 \\ km/h$$<br>\n",
    " Supondo que o movimento do carro é suave, isto é, a equação que o modela é diferenciável entre $a$ e $b$ temos que existe $c$ tal que $f'(c) = 50$. Mas a derivada de $f$ dada por $f'$ representa exatamente a função horária da velocidade instantânea. Sendo assim, no instante $c$ a velocidade do carro foi de $50 \\ km/h$."
   ]
  },
  {
   "cell_type": "markdown",
   "id": "f9354e11",
   "metadata": {},
   "source": [
    "# <div style=\"margin-top: -20px;\">\n",
    "<hr style=\"border: 2px solid black;\">\n",
    "\n",
    "<font color='black'><span style=\"font-size: 22px;\"><strong>5.2 A Derivada Primeira</strong></span></font>\n",
    "\n",
    "<hr style=\"border: 2px solid black;\">\n",
    "</div>"
   ]
  },
  {
   "cell_type": "markdown",
   "id": "f1c4f563",
   "metadata": {},
   "source": [
    "#### Crescimento e Decrescimento Geometricamente"
   ]
  },
  {
   "cell_type": "markdown",
   "id": "283568f2",
   "metadata": {},
   "source": [
    "A figura a seguir apresenta gráficos com indicações referentes ao crescimento e decrescimento:<br><br>\n",
    " <center> <img src=\"fig5-4.jpg\" alt=\"jpg_python\" width=\"600\" height=\"\"> </center>"
   ]
  },
  {
   "cell_type": "markdown",
   "id": "d9f1e217",
   "metadata": {},
   "source": [
    "####  <font color='red'> Definição 1</font>"
   ]
  },
  {
   "cell_type": "markdown",
   "id": "2c53b606",
   "metadata": {},
   "source": [
    "<font color='red'> Uma função $f$ é dita **crescente** em um conjunto $A$ se, para quaisquer $x_{1},x_{2} \\in A$<br><br>\n",
    " $$x_{1} < x_{2} \\rightarrow f(x_{1}) < f(x_{2}).$$<br><br>\n",
    " Analogamente, Uma função $f$ é dita **decrescente** em um conjunto $A$ se, para quaisquer $x_{1},x_{2} \\in A$<br><br>\n",
    " $$x_{1} < x_{2} \\rightarrow f(x_{1}) > f(x_{2}).$$"
   ]
  },
  {
   "cell_type": "markdown",
   "id": "9805ab00",
   "metadata": {},
   "source": [
    "O teorema a seguir irá relacionar o sinal da função derivada de uma função $f$ com o comportamento da mesma quanto ao crescimento ou decrescimento."
   ]
  },
  {
   "cell_type": "markdown",
   "id": "72ba0ce9",
   "metadata": {},
   "source": [
    "####  <font color='red'> Teorema 3</font>"
   ]
  },
  {
   "cell_type": "markdown",
   "id": "62d7be6d",
   "metadata": {},
   "source": [
    "<font color='red'> Se $f'(x) > 0$ para todo $x$ no intervalo aberto $(a,b)$, então $f$ é crescente em $(a,b)$. Se $f'(x) < 0$ para todo $x$ em $(a,b)$ então $f$ é decrescente em $(a,b)$."
   ]
  },
  {
   "cell_type": "markdown",
   "id": "72252299",
   "metadata": {},
   "source": [
    "####  <font color='blue'> Exemplo 3 </font>"
   ]
  },
  {
   "cell_type": "markdown",
   "id": "721d4706",
   "metadata": {},
   "source": [
    "<font color='blue'> Estude o crescimento e decrescimento das seguintes funções nos intervalos indicados:<br><br>\n",
    " a) $f(x) = 4 - x^{2}$, $\\mathbb{R}$<br><br>\n",
    " b) $g(x) = 2x - 3$, $\\mathbb{R}$<br><br>\n",
    " c) $h(x) = x^{3} - 27x + 3$, $\\mathbb{R}$<br><br>\n",
    " d) $i(x) = e^{-x}$, $\\mathbb{R}$<br><br>\n",
    " e) $j(x) = x^{3}$, $\\mathbb{R}$<br><br>\n",
    " f) $k(x) = \\frac{1}{x^{2}-1}$, $\\mathbb{R} - \\{-1, 1\\}$<br><br>"
   ]
  },
  {
   "cell_type": "markdown",
   "id": "ef634155",
   "metadata": {},
   "source": [
    "<font color='blue'> *Em funções cuja derivada é contínua (a derivada, não a função) podemos aplicar valores antes, entre e após os pontos críticos para determinar o sinal da função em cada parte. Caso a função contenha descontinuidades *trataremos* elas como os pontos críticos (embora não o sejam). Isso ficará mais claro na solução dos itens a seguir.*"
   ]
  },
  {
   "cell_type": "markdown",
   "id": "8dfc73cc",
   "metadata": {},
   "source": [
    "#####  <font color='blue'> Solução </font>"
   ]
  },
  {
   "cell_type": "markdown",
   "id": "d91d6281",
   "metadata": {},
   "source": [
    "<font color='blue'> a) Primeiramente devemos obter os pontos críticos de $f$. Eles são os pontos de \"possível\" mudança de crescimento (lembre-se das inflexões). Pois bem,<br><br>\n",
    " $$f'(x) = 0 \\Rightarrow (4 - x^{2})' = 0 \\Rightarrow -2x = 0 \\Rightarrow x = 0$$<br>\n",
    " Note que $f'(x) = -2x$ é contínua para todo $x \\in \\mathbb{R}$. Temos, portanto o ponto de separação $c = 0$ (ponto crítico). Assim, basta avaliarmos $f'$ (não $f$) em um ponto antes de $0$ e um ponto depois de $0$, digamos $x = -1$ e $x = 1$ (podem ser quaisquer um, sendo um antes e um após $0$). Vejamos a tabela a seguir:<br><br>\n",
    " $$\\begin{array}{c|c|c|c|c}\n",
    "x\t   & intervalo      & f'(x)      & sinal & conclusão  \\\\\\hline\n",
    "-1     &   x<0          & f'(-1) = 2 &  +    & crescente  \\\\\n",
    "1      &   x>0          & f'(1) = -2 &  -    & decrescente\\\\\n",
    "\\end{array}$$<br>\n",
    " Portanto, $f$ é crescente se $x < 0$ e decrescente se $x > 0$. Vejamos o gráfico de $f$:<br><br>\n",
    " <center> <img src=\"fig5-5.jpg\" alt=\"jpg_python\" width=\"500\" height=\"\"> </center><br>\n",
    " b) Analogamente ao item \"a\", devemos, primeiramente, obter os pontos críticos de $g$. Eles são os pontos de \"possível\" mudança de crescimento. Pois bem,<br><br>\n",
    " $$g'(x) = 0 \\Rightarrow (2x - 3)' = 0 \\Rightarrow 2 \\neq 0 \\Rightarrow sem \\ ponto \\ críticos$$<br>\n",
    " Neste caso, temos que $g$ é crescente para todo $x \\in \\mathbb{R}$ pois $g'(x) = 2 > 0$ para todo $x \\in \\mathbb{R}$. Vejamos o gráfico de $g$:<br><br>\n",
    " <center> <img src=\"fig5x-1.jpg\" alt=\"jpg_python\" width=\"500\" height=\"\"> </center><br>\n",
    " c) Analogamente aos casos anteriores,<br><br>\n",
    " $$h'(x) = 0 \\Rightarrow (x^{3} - 27x + 3)' = 0 \\Rightarrow 3x^{2} - 27 = 0 \\Rightarrow 3x^{2} = 27 \\Rightarrow x^{2} = 9 \\Rightarrow x = \\pm 3$$<br>\n",
    " Note que $h'(x) = 3x^{2} - 27$ é contínua para todo $x \\in \\mathbb{R}$. Temos portanto, os pontos separação $c_{1} = -3$ e $c_{2} = 3$ (pontos críticos). Assim, basta avaliarmos $h'$ (não $h$) em um ponto antes de $-3$, outro entre $-3$ e $3$ e mais um após $3$, digamos $x = -4$, $x = 0$ e $x = 4$. Vejamos a tabela a seguir:<br><br>\n",
    " $$\\begin{array}{c|c|c|c|c}\n",
    "x\t   & intervalo      & h'(x)       & sinal & conclusão  \\\\\\hline\n",
    "-4     &   x<-3         & h'(-4) = 21 &  +    & crescente  \\\\\n",
    "0      &   -3<x<3       & h'(0) = -27 &  -    & decrescente\\\\\n",
    "4      &   x>3          & h'(4) = 21  &  +    & crescente  \\\\\n",
    "\\end{array}$$<br>\n",
    " Portanto, $h$ é crescente se $x < -3$ ou $x > 3$ e decrescente se $-3 < x < 3$. Vejamos o gráfico de $h$:<br><br>\n",
    " <center> <img src=\"fig5-6.jpg\" alt=\"jpg_python\" width=\"500\" height=\"\"> </center><br>\n",
    " d) Analogamente aos itens anteriores, temos:<br><br>\n",
    " $$i'(x) = 0 \\Rightarrow (e^{-x})' = 0 \\Rightarrow -e^{-x} \\neq 0 \\Rightarrow sem \\ ponto \\ críticos$$<br>\n",
    " Neste caso, temos que $i$ é decrescente para todo $x \\in \\mathbb{R}$ pois $i'(x) = -e^{-x}< 0$ para todo $x \\in \\mathbb{R}$. Vejamos o gráfico de $i$:<br><br>\n",
    " <center> <img src=\"fig5-7.jpg\" alt=\"jpg_python\" width=\"500\" height=\"\"> </center><br>\n",
    " e) Analogamente aos casos anteriores,<br><br>\n",
    " $$j'(x) = 0 \\Rightarrow (x^{3})' = 0 \\Rightarrow 3x^{2} = 0 \\Rightarrow x = 0 $$<br>\n",
    " Note que $j'(x) = 3x^{2}$ é contínua para todo $x \\in \\mathbb{R}$. Temos portanto, o único ponto de separação é $c = 0$ (ponto crítico). Assim, basta avaliarmos $j'$ em um ponto antes de $0$ e outro após $0$, digamos $-1$ e $1$. Vejamos a tabela a seguir:<br><br>\n",
    " $$\\begin{array}{c|c|c|c|c}\n",
    "x\t   & intervalo      & j'(x)       & sinal & conclusão  \\\\\\hline\n",
    "-1     &   x<0          & j'(-1) = 3 &  +    & crescente  \\\\\n",
    "1      &   x>0          & j'(1) = 3 &  +    & crescente\\\\\n",
    "\\end{array}$$<br>\n",
    " Portanto, $j$ é crescente para todo $x \\in \\mathbb{R}$. A não mudança de sinal em um ponto de continuidade de $j$ indica possivelmente uma inflexão:<br><br>\n",
    " <center> <img src=\"fig5-8.jpg\" alt=\"jpg_python\" width=\"500\" height=\"\"> </center><br>\n",
    " f) Analogamente aos casos anteriores,<br><br>\n",
    " $$k'(x) = 0 \\Rightarrow \\left(\\frac{1}{x^{2}-1}\\right)' = 0 \\Rightarrow -\\frac{2x}{(x^{2}-1)^{2}} = 0 \\Rightarrow 2x = 0 \\Rightarrow x = 0$$<br>\n",
    " Note que $k'(x) = \\frac{1}{x^{2}-1}$ é descontínua em $x = 1$ e $x = -1$. Temos portanto, os pontos separação $c = 0$ (ponto crítico) e $x_{1} = -1$ e $x_{2} = 1$ (descontinuidades) basta avaliarmos $k'$ em um ponto antes de $-1$, outro entre $-1$ e $0$, outro entre $0$ e $1$ e mais um após $1$, digamos $x = -2$, $x = -\\frac{1}{2}$, $x = \\frac{1}{2}$ e $x = 2$. Vejamos a tabela a seguir:<br><br>\n",
    " $$\\begin{array}{c|c|c|c|c}\n",
    "x\t   & intervalo      & k'(x)                   & sinal & conclusão  \\\\\\hline\n",
    "-2     &   x<-1         & k'(-2) = \\frac{4}{9}    &  +    & crescente  \\\\\n",
    "-0.5   &   -1<x<0       & k'(-0.5) = 1.78         &  +    & crescente \\\\\n",
    "0.5    &   0<x<1        & k'(0.5) = -1.78         &  -    & decescente  \\\\\n",
    "2      &   x>1          & k'(2) = -\\frac{4}{9}    &  -    & decrescente  \\\\\n",
    "\\end{array}$$<br>\n",
    " Portanto, $k$ é crescente se $x < -3$ ou $-1<x<0$ e decrescente se $0<x<1$ ou $x > 1$. Vejamos o gráfico de $k$:<br><br>\n",
    " <center> <img src=\"fig5-9.jpg\" alt=\"jpg_python\" width=\"500\" height=\"\"> </center>\n",
    " "
   ]
  },
  {
   "cell_type": "markdown",
   "id": "da44df4e",
   "metadata": {},
   "source": [
    "# <div style=\"margin-top: -20px;\">\n",
    "<hr style=\"border: 2px solid black;\">\n",
    "\n",
    "<font color='black'><span style=\"font-size: 22px;\"><strong>5.3 A Derivada Segunda</strong></span></font>\n",
    "\n",
    "<hr style=\"border: 2px solid black;\">\n",
    "</div>"
   ]
  },
  {
   "cell_type": "markdown",
   "id": "c04554af",
   "metadata": {},
   "source": [
    "#### <font color='red'> Definição 3"
   ]
  },
  {
   "cell_type": "markdown",
   "id": "43776fac",
   "metadata": {},
   "source": [
    "<font color='red'> Uma curva não retilínea é côncava para cima se a abertura desta estiver para cima  (Figura (a)). Analogamente, uma curva não retilínea é côncava para baixo se a abertura desta estiver para baixo (Figura (b))."
   ]
  },
  {
   "cell_type": "markdown",
   "id": "ddd2bac5",
   "metadata": {},
   "source": [
    "<center> <img src=\"fig5-10.jpg\" alt=\"jpg_python\" width=\"700\" height=\"\"> </center><br>"
   ]
  },
  {
   "cell_type": "markdown",
   "id": "e0c2d339",
   "metadata": {},
   "source": [
    "####  <font color='red'> Teorema 4</font>"
   ]
  },
  {
   "cell_type": "markdown",
   "id": "cc1942cb",
   "metadata": {},
   "source": [
    "<font color='red'> Se $f''(x) > 0$ para todo $x$ em $(a,b)$, então o gráfico de $f$ é côncavo para cima em $(a,b)$. Analogamente, se $f''(x) < 0$ para todo $x$ em $(a,b)$, então o gráfico de $f$ é côncavo para baixo em $(a,b)$."
   ]
  },
  {
   "cell_type": "markdown",
   "id": "fdd16d39",
   "metadata": {},
   "source": [
    "Complementando o **Teorema 4**, temos que se $f''(x) = 0$ para todo $x$ em $(a,b)$, então o gráfico de $f$ é uma reta em $(a,b)$."
   ]
  },
  {
   "cell_type": "markdown",
   "id": "30a9c04a",
   "metadata": {},
   "source": [
    "####  <font color='blue'> Exemplo 4 </font>"
   ]
  },
  {
   "cell_type": "markdown",
   "id": "b3a2476f",
   "metadata": {},
   "source": [
    "<font color='blue'> Estude a convavidade das funções dadas no **Exemplo 3**:<br><br>\n",
    " a) $f(x) = 4 - x^{2}$ em $\\mathbb{R}$<br><br>\n",
    " b) $g(x) = 2x - 3$ em $\\mathbb{R}$<br><br>\n",
    " c) $h(x) = x^{3} - 27x + 3$ em $\\mathbb{R}$<br><br>\n",
    " d) $i(x) = e^{-x}$ em $\\mathbb{R}$<br><br>\n",
    " e) $j(x) = x^{3}$<br><br>\n",
    " f) $k(x) = \\frac{1}{x^{2}-1}$ em $\\mathbb{R} - \\{-1, 1\\}$"
   ]
  },
  {
   "cell_type": "markdown",
   "id": "f0ecc087",
   "metadata": {},
   "source": [
    "#####  <font color='blue'> Solução </font>"
   ]
  },
  {
   "cell_type": "markdown",
   "id": "a1d3bd60",
   "metadata": {},
   "source": [
    "<font color='blue'> a) Basta obtermos os valores para os quais $f''(x) = 0$ e obter o sinal das partes separadas. Pois bem,<br><br>\n",
    " $$(f(x))'' = 0 \\Rightarrow (4-x^{2})'' = 0 \\Rightarrow (-2x)' = 0 \\Rightarrow -2 \\neq 0$$<br>\n",
    " Note que $f''(x) = -2$ que é uma função negativa para todo $x$ em $\\mathbb{R}$. Portanto, sua concavidade é voltada para baixo em todos os pontos do seu domínio. Volte ao gráfico de $f$ no **Exemplo 3**.<br><br>\n",
    " b) Analogamente ao item \"a\", temos:<br><br>\n",
    " $$(g(x))'' = 0 \\Rightarrow (2x - 3)'' = 0 \\Rightarrow (2)' = 0$$<br>\n",
    " Note que $g''(x) = 0$. Portanto, esta é uma linha retilínea em todo ponto $x$ de $\\mathbb{R}$. Novamente, volte ao gráfico de $g$ no **Exemplo 3**.<br><br>\n",
    " c) Analogamente aos itens anteriores, temos:<br><br>\n",
    " $$(h(x))'' = 0 \\Rightarrow (x^{3} - 27x + 3)'' = 0 \\Rightarrow (3x^{2} - 27)' = 0 \\Rightarrow 6x = 0 \\Rightarrow x = 0 $$<br>\n",
    "    Sendo $h''(x) = 6x$ contínua em $\\mathbb{R}$ devemos estudar seu sinal considerando o ponto de separação $x = 0$. Neste caso, avaliaremos $h''(x)$ em, digamos, $x = -1$ e $x =1$. Vejamos a tabela a seguir:<br><br>\n",
    " $$\\begin{array}{c|c|c|c|c}\n",
    "x\t   & intervalo    & h''(x)       & sinal & conclusão  \\\\\\hline\n",
    "-1     &   x<0        & h''(-1) = -6 &  -    & para \\ baixo  \\\\\n",
    "1      &   x>0        & h''(1) = 6   &  +    & para \\ cima\\\\\n",
    "\\end{array}$$<br>\n",
    " d) Analogamente aos itens anteriores:<br><br>\n",
    " $$(i(x))'' = 0 \\Rightarrow (e^{-x})'' = 0 \\Rightarrow (-e^{-x})' = 0 \\Rightarrow e^{-x} \\neq 0$$<br>\n",
    " Note que $i''(x) > 0$ para todo $x$ em $\\mathbb{R}$. Sendo assim, a concavidade do seu gráfico será voltada para cima em toda a reta.<br><br>\n",
    " e) Analogamente aos itens anteriores, temos:<br><br>\n",
    " $$(j(x))'' = 0 \\Rightarrow (x^{3})'' = 0 \\Rightarrow (3x^{2})' = 0 \\Rightarrow 6x= 0 \\Rightarrow x =0$$<br>\n",
    " Sendo $j''(x) = 6x$ contínua em $\\mathbb{R}$ devemos estudar seu sinal considerando o ponto de separação $x = 0$. Neste caso, avaliaremos $h''(x)$ em, digamos, $x = -1$ e $x = 1$. Vejamos a tabela a seguir:<br><br>\n",
    " $$\\begin{array}{c|c|c|c|c}\n",
    "x\t   & intervalo      & j''(x)       & sinal & conclusão  \\\\\\hline\n",
    "-1     &   x<0          & j''(-1) = -6 &  -    & para \\ baixo  \\\\\n",
    "1      &   x>0          & j''(1) = 6   &  +    & para \\ cima\\\\\n",
    "\\end{array}$$<br>\n",
    " f) Analogamente aos itens anteriores, temos:<br><br>\n",
    " $$(k(x))'' = 0 \\Rightarrow \\left(\\frac{1}{x^{2}-1}\\right)'' = 0 \\Rightarrow \\left(-\\frac{2x}{(x^{2}-1)^{2}}\\right)' = 0 \\Rightarrow$$<br>\n",
    " $$\\Rightarrow \\frac{6x^{2}+2}{(x^{2}-1)^{3}} = 0 \\Rightarrow 6x^{2} + 2 = 0 \\Rightarrow x^{2} = -\\frac{1}{3} \\Rightarrow k''(x) \\neq 0$$<br>\n",
    " Note que $k''$ não tem pontos de separação tais que $k''(x) = 0$. Contudo, sendo descontínua em $x = 1$ e $x = -1$ devemos tomá-los como pontos de separação. Vejamos a tabela a seguir:<br><br>\n",
    " $$\\begin{array}{c|c|c|c|c}\n",
    "x\t   & intervalo      & k''(x)                  & sinal & conclusão  \\\\\\hline\n",
    "-2     &  x<-1          & k''(-2) = \\frac{26}{27} &  +    & para \\ cima  \\\\\n",
    "0     &   -1<x<1        & k''(0) = -2             &  -    & para \\ baixo  \\\\\n",
    "2     &   x>1           & k''(2) = \\frac{26}{27}  &  -    & para \\ cima  \\\\\n",
    "\\end{array}$$<br>\n",
    " Observe o gráfico de $k$ no **Exemplo 3**.   "
   ]
  },
  {
   "cell_type": "markdown",
   "id": "3177e3e5",
   "metadata": {},
   "source": [
    "# <div style=\"margin-top: -20px;\">\n",
    "<hr style=\"border: 2px solid black;\">\n",
    "\n",
    "<font color='black'><span style=\"font-size: 22px;\"><strong>5.4 O Método de Newton</strong></span></font>\n",
    "\n",
    "<hr style=\"border: 2px solid black;\">\n",
    "</div>"
   ]
  },
  {
   "cell_type": "markdown",
   "id": "105bb125",
   "metadata": {},
   "source": [
    "Apresentaremos nesta seção uma importante ferramenta do cálculo, o Método de Newton, também conhecido como Newton-Raphson. Este método é fundamental para encontrar raízes de funções de forma eficiente. Utilizando uma abordagem iterativa, ele permite aproximar soluções de equações com grande precisão. Sua aplicação vai desde problemas simples de matemática até complexas simulações em física e engenharia, demonstrando sua versatilidade e importância no campo do cálculo numérico."
   ]
  },
  {
   "cell_type": "markdown",
   "id": "f39f7e27",
   "metadata": {},
   "source": [
    "#### Motivação"
   ]
  },
  {
   "cell_type": "markdown",
   "id": "1c79dece",
   "metadata": {},
   "source": [
    "Observemos algumas equações:\n",
    "\n",
    "$(1) \\ 2x - 5 = 0$\n",
    "\n",
    "$(2) \\ x^{2} - 5x + 6 = 0$\n",
    "\n",
    "$(3) \\ 2^{x}-x-3 = 0$\n",
    "\n",
    "$(4) \\ e^{x}-x^{2} = 0$\n",
    "\n",
    "$(5) \\ e^{sen(x)}-x = 0$\n",
    "\n",
    "$(6) \\ x^{5} - 3x + 1 = 0$\n",
    "\n",
    "Quais das equações acima você acredita saber obter a solução exata?\n",
    "\n",
    "Ao analisarmos rapidamente, notamos que as duas primeiras equações são relativamente simples de resolver, pois correspondem a equações de primeiro e segundo graus, respectivamente, para as quais temos métodos diretos de solução. No entanto, as equações subsequentes não se resolvem tão facilmente e não possuem soluções diretas como a equação quadrática $(2)$. Encontrar soluções algébricas exatas para estas pode ser bastante desafiador, se não impossível, devido à complexidade introduzida pelas funções exponenciais e trigonométricas."
   ]
  },
  {
   "cell_type": "markdown",
   "id": "135537b3",
   "metadata": {},
   "source": [
    "#### Construção do Método de Newton"
   ]
  },
  {
   "cell_type": "markdown",
   "id": "c7257e69",
   "metadata": {},
   "source": [
    "Digamos que estamos tentando encontrar uma raiz $r$ para a equação $f(x)$, isto é, $r$ tal que $f(r) = 0$. Digamos também que um certo valor $x_{0}$ está \"próximo\" de uma solução. Se traçarmos a reta tangente ao gráfico de $f$ no ponto de abscissa $x_{0}$, então tal reta tangente *geralmente* irá intersectar o eixo $x$ em um ponto cuja abscissa $x_{1}$ está ainda mais próxima da solução que $x_{0}$.<br><br>\n",
    "\n",
    "<center> <img src=\"fig5-11.jpg\" alt=\"jpg_python\" width=\"600\" height=\"\"> </center><br>\n",
    "\n",
    "A equação da reta tangente é ao ponto de abscissa $x_{0}$ é dada por:\n",
    "\n",
    "$$y - f(x_{0}) = f'(x_{0})(x-x_{0})$$\n",
    "\n",
    "Se tal reta intersecta o eixo $x$ temos que $y = 0$. Admitindo que $f'(x_{0}) \\neq 0$, temos que \n",
    "\n",
    "$$0 - f(x_{0}) = f'(x_{0})(x_{1}-x_{0}) \\Rightarrow x_{1} - x_{0} = -\\frac{f(x_{0})}{f'(x_{0})} \\Rightarrow x_{1} = x_{0} - \\frac{f(x_{0})}{f'(x_{0})}$$\n",
    "\n",
    "Podemos repetir este processo tomando a equação recursiva:\n",
    "\n",
    "<font color='red'>$$x_{n+1} = x_{n} - \\frac{f(x_{n})}{f'(x_{n})}, \\ n \\geq 0.$$</font>"
   ]
  },
  {
   "cell_type": "markdown",
   "id": "62417879",
   "metadata": {},
   "source": [
    "####  <font color='blue'> Exemplo 5 </font>"
   ]
  },
  {
   "cell_type": "markdown",
   "id": "4fec0efc",
   "metadata": {},
   "source": [
    "<font color='blue'> Calcule $3$ iterações do Método de Newton para cada uma das funções a seguir a partir do valor $x_{0}$ fornecido:<br><br>\n",
    " a) $f(x) = 2 - x^{2}$, $x_{0} = 1$<br><br>\n",
    " b) $g(x) = e^{x} - 3x$, $x_{0} = 0$<br><br>\n",
    " *Recomendamos fortemente o uso da função STO de uma calculadora científica.*"
   ]
  },
  {
   "cell_type": "markdown",
   "id": "d6531e95",
   "metadata": {},
   "source": [
    "#####  <font color='blue'> Solução </font>"
   ]
  },
  {
   "cell_type": "markdown",
   "id": "79ed3764",
   "metadata": {},
   "source": [
    "<font color='blue'> a) Primeiramente devemos calcular a derivada de $f(x)$. Pois bem,\n",
    " $$(f(x))' = (2 - x^{2})' = -2x.$$<br>\n",
    " Temos a seguinte função recursiva:<br><br>\n",
    " $$x_{n+1} = x_{n} - \\frac{f(x_{n})}{f'(x_{n})}, \\ x_{0} = 1 \\Rightarrow x_{n+1} = x_{n} - \\frac{2-x_{n}^{2}}{-2x_{n}} \\Rightarrow x_{n+1} = x_{n} + \\frac{2-x_{n}^{2}}{2x_{n}}, \\ x_{0} = 1$$<br>\n",
    " Nossa primeira iteração $x_{1}$ é dada por:<br><br>\n",
    " $$x_{1} = x_{0} + \\frac{2 - x_{0}^{2}}{2x_{0}} = 1 + \\frac{2 - 1^{2}}{2\\cdot1} = 1.5$$<br>\n",
    " Continuando, temos:<br><br>\n",
    " $$x_{2} = x_{1} + \\frac{2 - x_{1}^{2}}{2x_{1}} = 1 + \\frac{2 - 1.5^{2}}{2\\cdot1.5} = 1.4166666666666667$$<br>\n",
    " $$x_{3} = x_{2} + \\frac{2 - x_{2}^{2}}{2x_{2}} = 1 + \\frac{2 - 1.4166666666666667^{2}}{2\\cdot1.4166666666666667} = 1.4142156862745099 $$<br>\n",
    " Assim, temos que uma aproximação para uma raíz de $f(x)= 2 - x^{2}$ é dada por $x_{3} = 1.4142156862745099$. Observe a tabela a seguir:<br><br>\n",
    " $$\\begin{array}{c|c|c}\n",
    "n & x_{n}\t               & f(x_{n})  \\\\ \\hline\n",
    "0 & 1                      & 1 \\\\\n",
    "1 & 1.5                    & -0.25 \\\\\n",
    "2 & 1.4166666666666667     & -0.006944444444444642 \\\\\n",
    "3 & 1.4142156862745099     & -6.007304882871267e-06 \\\\\n",
    "\\end{array}$$<br>\n",
    " (*$f(x_{n})$ não é necessária*)<br><br>\n",
    " Note que<br><br>\n",
    " $$2-x^{2} = 0 \\Rightarrow x = \\sqrt{2}  = 1.4142156862745099.$$<br>\n",
    " Para efeito de esboço gráfico podemos considerar o valor $1.4$ (esboço manual).<br><br>\n",
    " Legal ou não?<br><br>\n",
    " b) Analogamente ao item \"a\", temos que:<br><br>\n",
    " $$(g(x))' = (e^{x} - 3x)' \\Rightarrow e^{x} - 3 \\Rightarrow x_{n+1} = x_{n} - \\frac{e^{x_{n}}-3x_{n}}{e^{x_{n}}-3}, \\ x_{0} = 0$$<br>\n",
    " Nossa primeira iteração $x_{1}$ é dada por:<br>\n",
    " $$x_{1} = x_{0} - \\frac{e^{x_{0}}-3x_{0}}{e^{x_{0}}-3} = 0 - \\frac{e^{0}-3\\cdot0}{e^{0}-3} = -\\frac{1-0}{1-3} = \\frac{1}{2} = 0.5$$<br>\n",
    " Continuando, temos:<br><br>\n",
    " $$x_{2} = x_{1} - \\frac{e^{x_{1}}-3x_{1}}{e^{x_{1}}-3} = 0.5 - \\frac{e^{0.5}-3\\cdot0.5}{e^{0.5}-3} = 0.6100596549589618$$<br><br>\n",
    " $$x_{3} = x_{2} - \\frac{e^{x_{2}}-3x_{2}}{e^{x_{2}}-3} =$$\n",
    " $$ = 0.6100596549589618 - \\frac{e^{0.6100596549589618}-3\\cdot0.6100596549589618}{e^{0.6100596549589618}-3} = 0.6189967797415397$$<br>\n",
    " Assim, temos que uma aproximação para uma raíz de $g(x)= e^{x} - x$ é dada por $x_{3} = 0.6189967797415397$. Observe a tabela a seguir:<br><br>\n",
    " $$\\begin{array}{c|c}\n",
    "n & x_{n}\t               \\\\ \\hline\n",
    "0 & 0                      \\\\\n",
    "1 & 0.5                    \\\\\n",
    "2 & 0.6100596549589618     \\\\\n",
    "3 & 0.6189967797415397     \\\\\n",
    "\\end{array}$$<br>\n",
    " Utilizando a plataforma [WolframAlpha](https://www.wolframalpha.com/input?i=e%5Ex+-+3x+%3D+0+solution) obtem-se $0.619061$ (é possível obter mais dígitos).<br><br>\n",
    " Para efeito de esboço gráfico podemos considerar o valor $0.6$ (esboço manual)."
   ]
  },
  {
   "cell_type": "markdown",
   "id": "aef01a20",
   "metadata": {},
   "source": [
    "#### Implementação do Método de Newton"
   ]
  },
  {
   "cell_type": "markdown",
   "id": "6eb5f074",
   "metadata": {},
   "source": [
    "<font color='red'>$$x_{n+1} = x_{n} - \\frac{f(x_{n})}{f'(x_{n})}, \\ n \\geq 0.$$</font>"
   ]
  },
  {
   "cell_type": "markdown",
   "id": "f25df343",
   "metadata": {},
   "source": [
    "O código a seguir apresenta as iterações referentes ao item \"a\" do **Exemplo 5**:"
   ]
  },
  {
   "cell_type": "code",
   "execution_count": 1,
   "id": "749d6345",
   "metadata": {
    "ExecuteTime": {
     "end_time": "2024-03-27T18:39:07.060441Z",
     "start_time": "2024-03-27T18:39:06.928534Z"
    }
   },
   "outputs": [
    {
     "name": "stdout",
     "output_type": "stream",
     "text": [
      "x_0 = 1\n",
      "x_1 = 1.5\n",
      "x_2 = 1.4166666666666667\n",
      "x_3 = 1.4142156862745099\n",
      "x_4 = 1.4142135623746899\n",
      "x_5 = 1.4142135623730951\n",
      "x_6 = 1.414213562373095\n",
      "x_7 = 1.4142135623730951\n"
     ]
    }
   ],
   "source": [
    "from numpy import*\n",
    "\n",
    "def f(x):\n",
    "    return 2-x**2\n",
    "\n",
    "def df(x):\n",
    "    return -2*x\n",
    "\n",
    "n = 7\n",
    "\n",
    "x0 = 1\n",
    "\n",
    "for i in range(0,n+1):\n",
    "    print(f'x_{i} = {x0}')\n",
    "    x0 = x0 - f(x0) / df(x0)\n",
    "    i = i + 1"
   ]
  },
  {
   "cell_type": "code",
   "execution_count": 2,
   "id": "3c276015",
   "metadata": {
    "ExecuteTime": {
     "end_time": "2024-03-27T18:39:07.321534Z",
     "start_time": "2024-03-27T18:39:07.314042Z"
    }
   },
   "outputs": [
    {
     "name": "stdout",
     "output_type": "stream",
     "text": [
      "x_0 = 0\n",
      "x_1 = 0.5\n",
      "x_2 = 0.6100596549589618\n",
      "x_3 = 0.6189967797415397\n"
     ]
    }
   ],
   "source": [
    "from numpy import*\n",
    "\n",
    "def f(x):\n",
    "    return exp(x)-3*x\n",
    "\n",
    "def df(x):\n",
    "    return exp(x)-3\n",
    "\n",
    "n = 3\n",
    "\n",
    "x0 = 0\n",
    "\n",
    "for i in range(0,n+1):\n",
    "    print(f'x_{i} = {x0}')\n",
    "    x0 = x0 - f(x0) / df(x0)\n",
    "    i = i + 1"
   ]
  },
  {
   "cell_type": "markdown",
   "id": "88a81582",
   "metadata": {},
   "source": [
    "#### Observação 1"
   ]
  },
  {
   "cell_type": "markdown",
   "id": "7dfb8842",
   "metadata": {},
   "source": [
    "Experiemente aplicar o Método de Newton à função $g(x) = e^{x} - 3x$ dada no item \"b\" do **Exemplo 5** partindo de $x_{0} = 2$ ao invés de $x_{0} = 0$. Para onde irá a sequência de aproximações?"
   ]
  },
  {
   "cell_type": "code",
   "execution_count": 9,
   "id": "0e83cf6e",
   "metadata": {
    "ExecuteTime": {
     "end_time": "2024-03-27T18:57:38.549147Z",
     "start_time": "2024-03-27T18:57:38.542826Z"
    }
   },
   "outputs": [
    {
     "name": "stdout",
     "output_type": "stream",
     "text": [
      "x_0 = 1\n",
      "x_1 = 0.0\n",
      "x_2 = 0.5\n",
      "x_3 = 0.6100596549589618\n",
      "x_4 = 0.6189967797415397\n",
      "x_5 = 0.6190612833553127\n"
     ]
    }
   ],
   "source": [
    "from numpy import*\n",
    "\n",
    "def f(x):\n",
    "    return exp(x)-3*x\n",
    "\n",
    "def df(x):\n",
    "    return exp(x)-3\n",
    "\n",
    "n = 5\n",
    "\n",
    "x0 = 1\n",
    "\n",
    "for i in range(0,n+1):\n",
    "    print(f'x_{i} = {x0}')\n",
    "    x0 = x0 - f(x0) / df(x0)\n",
    "    i = i + 1"
   ]
  },
  {
   "cell_type": "markdown",
   "id": "0e84670b",
   "metadata": {},
   "source": [
    "##### Resposta"
   ]
  },
  {
   "cell_type": "markdown",
   "id": "2712c116",
   "metadata": {},
   "source": [
    "A figura a seguir nos fornece uma pista para qual zero o método de Newton aproximará.\n",
    "\n",
    "<center> <img src=\"fig5-12.jpg\" alt=\"jpg_python\" width=\"500\" height=\"\"> </center>\n",
    "\n",
    "Pode-se notar que o zero aproximado corresponde à queda da tangente a partir do valor inicial $x_{0}$."
   ]
  },
  {
   "cell_type": "markdown",
   "id": "5214e2c3",
   "metadata": {},
   "source": [
    "# <div style=\"margin-top: -20px;\">\n",
    "<hr style=\"border: 2px solid black;\">\n",
    "\n",
    "<font color='black'><span style=\"font-size: 22px;\"><strong>5.5 Esboço Gráfico Completo</strong></span></font>\n",
    "\n",
    "<hr style=\"border: 2px solid black;\">\n",
    "</div>"
   ]
  },
  {
   "cell_type": "markdown",
   "id": "898bf8e4",
   "metadata": {},
   "source": [
    "Nesta seção apresentaremos alguns exemplos nos quais esboçamos gráficos de algumas funções usando as técnicas vistas até então. Ressaltamos que o exposto pode ser visto como indo além de um simples esboço uma vez que apresentaremos pontos características importantes como intervalos de crescimento, extremos locais, pontos de inflexão, concavidade, raízes entre outros elementos."
   ]
  },
  {
   "cell_type": "markdown",
   "id": "c2595492",
   "metadata": {},
   "source": [
    "####  <font color='blue'> Exemplo 6 </font>"
   ]
  },
  {
   "cell_type": "markdown",
   "id": "cb97a855",
   "metadata": {},
   "source": [
    "<font color='blue'> Determine, para cada uma das funções a seguir:<br><br>\n",
    " i) os pontos críticos;<br><br>\n",
    " ii) a classificação dos pontos críticos;<br><br>\n",
    " iii) os intervalos de crescimento e decrescimento;<br><br>\n",
    " iv) a concavidade;<br><br>\n",
    " v) assíntotas verticais;<br><br>\n",
    " vi) assíntotas horizontais;<br><br>\n",
    " vii) as raízes com uma casa decimal de precisão (item opcional);<br><br>\n",
    " viii) o esboço gráfico de $f$.<br><br>\n",
    " a) $f(x) = x^{2} - 5x + 6$<br><br>\n",
    " b) $g(x) = x^{3} - 3x + 3$<br><br>\n",
    " c) $h(x) = 2 - e^{x}$<br><br>\n",
    " d) $j(x) = \\frac{1}{x-1}$\n",
    " "
   ]
  },
  {
   "cell_type": "markdown",
   "id": "d4b3c913",
   "metadata": {},
   "source": [
    "#####  <font color='blue'> Solução </font>"
   ]
  },
  {
   "cell_type": "markdown",
   "id": "1837762a",
   "metadata": {},
   "source": [
    "<font color='blue'> a) Temos que:<br><br>\n",
    " i) $f'(x) = (x^{2}-5x + 6)' = 2x - 5$<br><br>\n",
    " $f'(x) = 0 \\Rightarrow 2x - 5 = 0 \\Rightarrow x = \\frac{5}{2}$<br><br>\n",
    " Note que $f'(x) = 2x -5$ é bem definida em $\\mathbb{R}$. Portanto, $x = \\frac{5}{2} = 2.5$ é o único ponto crítico de $f$.<br><br>\n",
    " ii) Consideremos a tabela:<br><br>\n",
    " $$\\begin{array}{c|c|c}\n",
    "x\t     & f(x) & classificação \\\\ \\hline\n",
    "2.4      & -0.24    &\\\\\n",
    "2.5      & -0.25    & mínimo \\ local \\\\\n",
    "2.6      & -0.24    &\\\\\n",
    "\\end{array}$$<br>\n",
    " iii) De posse da tabela anterior vemos que $f$ descresce se $x < 2.5$ e cresce se $x > 2.5$.<br><br>\n",
    " iv) Temos que $f''(x) = 2$ é positiva para todo $x$ real. Portanto, a concavidade de $f$ é voltada para cima em $\\mathbb{R}$.<br><br>\n",
    " v) Não há descontinuidades e, portanto, não há assíntotas verticais;<br><br>\n",
    " vi) Temos que<br><br>\n",
    " $$lim_{x \\to -\\infty} x^{2} - 5x + 6 = lim_{x \\to -\\infty} x^{2} = +\\infty$$<br>\n",
    " $$lim_{x \\to +\\infty} x^{2} - 5x + 6 = lim_{x \\to +\\infty} x^{2} = +\\infty$$<br>\n",
    " Portanto, não temos assíntotas horizontais.<br><br>\n",
    " vii) Note que $x = 2.5$ é um mínimo local tal que $f(2.5) = -0.25< 0$ enquanto que $lim_{x \\to \\pm \\infty} x^{2} - 5x + 6 = \\infty$ (mudança de sinal de $-$ para $+$). Sendo $f$ contínua esta deve possuir dois zeros, um antes e um depois de $2.5$. Sendo esta uma função polinomial de grau $2$ podemos usar a fórmula de Bhaskara:<br><br>\n",
    " $$\\Delta = (-5)^{2} - 4 \\cdot 1 \\cdot 6 = 1 \\Rightarrow x = \\frac{-(-5) \\pm \\sqrt{1}}{2 \\cdot 1} \\Rightarrow x_{1} = 2 \\ e \\ x_{2} = 3$$<br>\n",
    " viii) O gráfico de $f$ é dado a seguir:<br><br>\n",
    " <center> <img src=\"fig5-13.jpg\" alt=\"jpg_python\" width=\"500\" height=\"\"> </center><br>\n",
    " b) Temos que:<br><br>\n",
    " i) $g'(x) = (x^{3} - 3x + 3)' = 3x^{2} - 3$<br><br>\n",
    " $g'(x) = 0 \\Rightarrow 3x^{2} - 3 = 0 \\Rightarrow 3x^{2} = 3 \\Rightarrow x^{2} = 1 \\Rightarrow c_{1} = -1, \\ c_{2} = 1$<br><br>\n",
    " Note que $g'(x) = 3x^{2} - 3$ é bem definida em $\\mathbb{R}$. Portanto, $c_{1} = -1$ e $c_{2} = 1$ são os únicos pontos críticos de $g$:<br><br>\n",
    " ii) Consideremos a tabela:<br><br>\n",
    " $$\\begin{array}{c|c|c}\n",
    "x\t    & g(x) & classificação \\\\ \\hline\n",
    "-1.1    & 4.967    &\\\\\n",
    "-1      & 5        & máximo \\ local \\\\\n",
    "-0.9    & 4.971    &\\\\ \\hline\n",
    "0.9     & 1.029    &\\\\\n",
    "1       & 1        & mínimo \\ local\\\\\n",
    "1.1     & 1.031    &\\\\\n",
    "\\end{array}$$<br>\n",
    " iii) De posse da tabela anterior vemos que $g$ cresce se $x < -1$ e decresce se $-1 < x < 1$ e cresce se $x > 1$.<br><br>\n",
    " iv) Temos que $g''(x) = 6x$. Vejamos os pontos para os quais $g''(x) = 0$:<br><br>\n",
    " $$g''(x) = 0 \\Rightarrow 6x = 0 \\Rightarrow x = 0.$$<br>\n",
    " A tabela a seguir apresenta a concavidade associada ao gráfico de $g$:<br><br>\n",
    " $$\\begin{array}{c|c|c|c|c}\n",
    "x\t   & intervalo      & g''(x)       & sinal & conclusão  \\\\\\hline\n",
    "-1     &   x<0          & g''(-1) = -6 &  -    & para \\ baixo  \\\\\n",
    "1      &   x>0          & g''(1) = 6   &  +    & para \\ cima\\\\\n",
    "\\end{array}$$<br>\n",
    " v) Não há descontinuidades e, portanto, não há assíntotas verticais;<br><br>\n",
    " vi) Temos que<br><br>\n",
    " $$lim_{x \\to -\\infty} x^{3} - 3x + 3 = lim_{x \\to -\\infty} x^{3} = -\\infty$$<br>\n",
    " $$lim_{x \\to -\\infty} x^{3} - 3x + 3 = lim_{x \\to +\\infty} x^{3} = +\\infty$$<br>\n",
    " Portanto, não temos assíntotas horizontais.<br><br>\n",
    " vii) Note que $x = -1$ e $x = 1$ são tais que:<br><br>\n",
    " $g(-\\infty) < 0$ e $g(-1) > 0$, portanto há um zero em $(-\\infty,-1)$<br><br>\n",
    " Podemos usar o método de Newton considerando o valor incial $p_{0} = -2$. Pois bem,<br><br>\n",
    " $$x_{n+1} = x_{n} - \\frac{g(x_{n})}{g'(x_{n})} \\Rightarrow x_{n+1} = x_{n} - \\frac{x_{n}^{3} - 3x_{n} + 3}{3x_{n}^{2} - 2}$$<br>\n",
    " Vejamos a tabela a seguir:<br><br>\n",
    " $$\\begin{array}{c|c}\n",
    "n & x_{n}\t              \\\\ \\hline\n",
    "0 & -2.0000000000000000   \\\\\n",
    "1 & -2.1111111111111111   \\\\\n",
    "2 & -2.1038359788359790   \\\\\n",
    "3 & -2.1038034033871718\n",
    "\\end{array}$$<br>\n",
    " Podemos considerar que um zero de $g$ é aproximadamente $-2.1$.<br><br>\n",
    " viii) O gráfico de $g$ é dado a seguir:<br><br>\n",
    " <center> <img src=\"fig5-14.jpg\" alt=\"jpg_python\" width=\"500\" height=\"\"> </center><br>\n",
    " c) Temos que:<br><br>\n",
    " i) $h'(x) = (2-e^{x})' = -e^{x}$<br><br>\n",
    " $h'(x) = 0 \\Rightarrow -e^{x} = 0 \\Rightarrow e^{x} = 0 \\Rightarrow \\nexists x \\in \\mathbb{R}$<br><br>\n",
    " Note que $h'(x) = -e^{x}$ é bem definida em $\\mathbb{R}$. Portanto, não temos ponto crítico algum em $\\mathbb{R}$:<br><br>\n",
    " ii) Não há pontos críticos a classificar classificar.<br><br>\n",
    " iii) Note que $h'(x) = -e^{x}$ é negativa para todo $x$ em $\\mathbb{R}$. Portanto, $h$ é descrescente para todo $x$ em $\\mathbb{R}$.<br><br>\n",
    " iv) Temos que $h''(x) = -e^{x}$ e, portanto não temos valor $x$ para o que $h''(x) = 0$. Sendo $h'(x)  < 0$ para todo $x \\in \\mathbb{R}$, temos que a concavidade do grafico de $h$ é voltada para baixo em toda a reta.:<br><br>\n",
    " v) Não há descontinuidades e, portanto, não há assíntotas verticais;<br><br>\n",
    " vi) Temos que<br><br>\n",
    " $$lim_{x \\to -\\infty} 2 - e^{x} = 2 - e^{-\\infty} = 2 - \\frac{1}{e^{\\infty}} = 2 - 0 = 0$$<br>\n",
    " $$lim_{x \\to -\\infty} 2 - e^{x} = 2 - e^{\\infty} = 2 - \\infty = -\\infty$$<br>\n",
    " Portanto, temos que $y = 2$ é uma assíntota horizontal de $h$.<br><br>\n",
    " vii) Note que<br><br>\n",
    " $$h(x) = 0 \\Rightarrow 2 - e^{x} = 0 \\Rightarrow e^{x} = 2 \\Rightarrow x = ln(2) = 0.6931471805599453.$$<br>\n",
    " Em particular, poderíamos também observar que $h(0) = 2 - e^{0} = 2-1 > 0$ e $h(1) = 2 - e^{1} = 2 - e < 0$. Sendo $h$ contínua em $\\mathbb{R}$, temos que $h$ deve ter um zero em  $(0,1)$. Podemos usar o método de Newton considerando o valor incial $p_{0} = 0.5$. Pois bem,<br><br>\n",
    " $$x_{n+1} = x_{n} - \\frac{h(x_{n})}{h'(x_{n})} \\Rightarrow x_{n+1} = x_{n} - \\frac{2-e^{x_{n}}}{-e^{x_{n}}} = x_{n} + \\frac{2-e^{x_{n}}}{e^{x_{n+1}}}$$<br>\n",
    " Vejamos a tabela a seguir:<br><br>\n",
    " $$\\begin{array}{c|c}\n",
    "n & x_{n}\t               \\\\ \\hline\n",
    "0 & 0.5000000000000000     \\\\\n",
    "1 & 0.7130613194252668     \\\\\n",
    "2 & 0.6933441573155041     \\\\\n",
    "3 & 0.6931471999585926\n",
    "\\end{array}$$<br>\n",
    " Podemos considerar que um zero de $h$ é aproximadamente $0.7$ (ou simplesmente considerar que $2-e^{x} = 0 \\Rightarrow e^{x} = 2 \\Rightarrow x = ln(2) = 0.6931471805599453$).<br><br>\n",
    " viii) O gráfico de $h$ é dado a seguir:<br><br>\n",
    " <center> <img src=\"fig5-15.jpg\" alt=\"jpg_python\" width=\"500\" height=\"\"> </center><br>\n",
    " d) Temos que:<br><br>\n",
    " i) $j'(x) = \\left(\\frac{1}{x-1}\\right)' = -\\frac{1}{(x-1)^{2}}$<br><br>\n",
    " $$j'(x) = 0 \\Rightarrow -\\frac{1}{(x-1)^{2}} = 0 \\Rightarrow-1 = 0 \\Rightarrow \\nexists x \\in \\mathbb{R}$$<br>\n",
    " Note que $j'(x) = -\\frac{1}{(x-1)^{2}}$ não é bem definida em $x = 1$:<br><br>\n",
    " ii) Não há pontos críticos uma vez que o ponto de indefinição de $j'$ é um ponto fora do domínio de $j$.<br><br>\n",
    " iii) Note que $j'(x) = -\\frac{1}{(x-1)^{2}}$ é negativa para todo $x$ em $\\mathbb{R}$. Portanto, $j$ é descrescente para todo $x$ em $\\mathbb{R}$.<br><br>\n",
    " iv) Temos que $j''(x) = \\frac{2}{(x-1)^{3}}$. Note que<br><br>\n",
    " $$j''(x) = 0 \\Rightarrow \\frac{2}{(x-1)^{3}} = 0 \\Rightarrow 2 = 0 \\Rightarrow \\nexists x \\in \\mathbb{R}.$$<br>\n",
    " Portanto não temos valor $x$ para o que $j''(x) = 0$. Por outro lado, temos que $j''(x) < 0$ se $x < 1$ (concavidade para baixo) e $j''(x) > 0$ se $x > 1$ (concavidade para cima):<br><br>\n",
    " v) Note que $x = 1$ é uma descontinuidade de $j$. Assim, temos os seguintes limites laterais:<br><Br>\n",
    " $$lim_{x \\to 1^{-}} \\frac{1}{x-1} = \\frac{1}{-0} = -\\infty$$<br>\n",
    " $$lim_{x \\to 1^{+}} \\frac{1}{x-1} = \\frac{1}{+0} = +\\infty$$<br>\n",
    " Portanto, $x = 1$ é uma assíntota vertical de $j$.<br><br>\n",
    " vi) Temos que<br><br>\n",
    " $$lim_{x \\to -\\infty} \\frac{1}{x-1} = 0$$<br>\n",
    " $$lim_{x \\to -\\infty} \\frac{1}{x-1} = 0$$<br>\n",
    " Portanto, temos que $y = 0$ é uma assíntota horizontal de $h$.<br><br>\n",
    " vii) Note que $j$ não possui zeros. De fato,<br><br>\n",
    " $$j(x) = 0 \\Rightarrow  \\frac{1}{x-1} = 0 \\Rightarrow 1 = 0 \\Rightarrow \\nexists x \\in \\mathbb{R}.$$\n",
    " viii) O gráfico de $j$ é dado a seguir:<br><br>\n",
    " <center> <img src=\"fig5-16.jpg\" alt=\"jpg_python\" width=\"500\" height=\"\"> </center>"
   ]
  },
  {
   "cell_type": "markdown",
   "id": "3be7f94f",
   "metadata": {
    "heading_collapsed": true
   },
   "source": [
    "# <div style=\"margin-top: -20px;\">\n",
    "<hr style=\"border: 2px solid black;\">\n",
    "\n",
    "<font color='black'><span style=\"font-size: 22px;\"><strong>Exercícios Resolvidos</strong></span></font>\n",
    "\n",
    "<hr style=\"border: 2px solid black;\">\n",
    "</div>"
   ]
  },
  {
   "cell_type": "markdown",
   "id": "68fd83cb",
   "metadata": {
    "heading_collapsed": true,
    "hidden": true
   },
   "source": [
    "#### Exercício Resolvido 1"
   ]
  },
  {
   "cell_type": "markdown",
   "id": "ccb7d93f",
   "metadata": {
    "hidden": true
   },
   "source": [
    "Considere a função $f(x) = x^{3} - 3x$ no intervalo $[-1,1]$. Mostre que existe um ponto $c \\in (-1,1)$ tal que $f'(c)$ tem o mesmo valor que a inclinação da reta secante ao gráfico de $f$ nos pontos $(-1,f(-1))$ e $(1,f(1))$. Qual o valor de $c$? O que isto significa em termos de reta tangente?"
   ]
  },
  {
   "cell_type": "markdown",
   "id": "c518e78f",
   "metadata": {
    "heading_collapsed": true,
    "hidden": true
   },
   "source": [
    "##### Solução"
   ]
  },
  {
   "cell_type": "markdown",
   "id": "e35ef192",
   "metadata": {
    "hidden": true
   },
   "source": [
    "Note que $f(x) = x^{3} - 3x$ é contínua e diferenciável em $\\mathbb{R}$ e portanto é contínua em $[-1,1]$ e diferenciável em $(-1,1)$. Portanto, o **Teorema 2** assegura a existência de $c \\in (-1,1)$ tal que \n",
    "\n",
    "$$f'(c) = \\frac{f(1) - f(-1)}{1-(-1)} = \\frac{(1^{3} - 3\\cdot1) - ((-1)^{3} - 3(-1))}{2} = \\frac{1-3+1-3}{2} = -2.$$\n",
    "\n",
    "Para obtermos o valor $c$ devemos resolver a equação $f'(x) = 2$. Pois bem,<br><br>\n",
    " $$f'(x) = 2 \\Rightarrow (x^{3} - 3x)' = -2 \\Rightarrow 3x^{2} - 3 = -2 \\Rightarrow 3x^{2} = 1 \\Rightarrow$$\n",
    " \n",
    " $$\\Rightarrow x^{2} = \\frac{1}{3} \\Rightarrow x = \\pm \\sqrt{\\frac{1}{3}} = \\pm 0.5773502691896257 .$$\n",
    " \n",
    " Portanto, nos pontos de abscissas $c_{1} = -\\sqrt{\\frac{1}{3}}$ e $c_{2} = \\sqrt{\\frac{1}{3}}$ a tangente ao gráfico de $f$ tem inclinação igual a $-2$ que é a mesma da reta secante a $f$ nos pontos $(-1,f(1))$ e $(1,f(1))$. Observe o gráfico a seguir:<br><br>\n",
    " <center> <img src=\"fig5-17.jpg\" alt=\"jpg_python\" width=\"500\" height=\"\"> </center>"
   ]
  },
  {
   "cell_type": "markdown",
   "id": "5efed73d",
   "metadata": {
    "heading_collapsed": true,
    "hidden": true
   },
   "source": [
    "#### Exercício Resolvido 2"
   ]
  },
  {
   "cell_type": "markdown",
   "id": "253d2fa9",
   "metadata": {
    "hidden": true
   },
   "source": [
    "Considere a função $f(x) = 1/x$ no intervalo $[-1,1]$. Mostre que não existe $c \\in (-1,1)$ tal que $f'(c)$ tem o esmo valor que a incrlinação da reta secante ao gráfico de $f$ nos pontos $(-1,f(-1))$ e $(1,f(1))$. Há alguma contradição com o **Teorema 2**?"
   ]
  },
  {
   "cell_type": "markdown",
   "id": "15beef5f",
   "metadata": {
    "heading_collapsed": true,
    "hidden": true
   },
   "source": [
    "##### Solução"
   ]
  },
  {
   "cell_type": "markdown",
   "id": "f6dc3d5a",
   "metadata": {
    "hidden": true
   },
   "source": [
    "Incialmente calculemos o quociente $\\frac{f(1)-f(-1)}{1-(-1)} = \\frac{1 + 1}{1+1} = 1$. Continuando, temos\n",
    "\n",
    "$$f'(x) = \\left(\\frac{1}{x}\\right)' = (x^{-1})' = -x^{-2} = -\\frac{1}{x^{2}}$$\n",
    "\n",
    "Igualando $f'(x)$ a $1$, temos:\n",
    "\n",
    "$$f'(x) = 1 \\Rightarrow -\\frac{1}{x^{2}} = 1 \\Rightarrow x^{2} = -1 \\Rightarrow x = \\pm \\sqrt{-1} \\Rightarrow \\nexists x \\in \\mathbb{R}$$\n",
    "\n",
    "Não há qualquer contradição com o **Teorema 2** pois este exige que $f$ seja contínua em todo ponto de $[-1,1]$ o que não é o caso pois, $x = 0$ é uma descontinuidade de $f$. Acompanhe o gráfico a seguir:<br><br>\n",
    " <center> <img src=\"fig5-18.jpg\" alt=\"jpg_python\" width=\"500\" height=\"\"> </center><br>\n",
    "\n",
    "Note que toda tangente ao gráfico de $f$ tem inclinação negativa (\"descendo\" da *esquerda para a direita*) ao passo que a secante tem inclinação positiva (\"subindo\" da *esquerda para a direita*)."
   ]
  },
  {
   "cell_type": "markdown",
   "id": "1cefe332",
   "metadata": {
    "heading_collapsed": true,
    "hidden": true
   },
   "source": [
    "#### Exercício Resolvido 3"
   ]
  },
  {
   "cell_type": "markdown",
   "id": "82e11455",
   "metadata": {
    "hidden": true
   },
   "source": [
    "Estude o crescimento, o decrescimento e a concavidade das seguintes funções nos intervalos indicados:\n",
    "\n",
    "a) $f(x) = 12 - 2x^{2}$ em $\\mathbb{R}$\n",
    "\n",
    "b) $g(x) = 2-5x$ em $\\mathbb{R}$\n",
    "\n",
    "c) $h(x) = x^{3} - 12x^{2} + 3$ em $\\mathbb{R}$\n",
    "\n",
    "d) $i(x) = e^{x} - x$ em $\\mathbb{R}$\n",
    "\n",
    "e) $k(x) = \\frac{1}{4-x}$ em $\\mathbb{R} - \\{4\\}$"
   ]
  },
  {
   "cell_type": "markdown",
   "id": "a8aca6c2",
   "metadata": {
    "heading_collapsed": true,
    "hidden": true
   },
   "source": [
    "##### Solução"
   ]
  },
  {
   "cell_type": "markdown",
   "id": "8aa4b56d",
   "metadata": {
    "hidden": true
   },
   "source": [
    "a) Temos que observar o comportamento da primeira e segunda derivadas de $f$. Pois bem,\n",
    "\n",
    "i) Crescimento e Decrescimento: \n",
    "\n",
    "$$f'(x) = (12-2x^{2})' = -4x \\Rightarrow f'(x) = 0 \\Rightarrow -4x = 0 \\Rightarrow x = 0.$$\n",
    "\n",
    "Como $f$ é bem definida em $\\mathbb{R}$, temos que $x = 0$ é o único ponto crítico de $f$. Vejamos a tabela a seguir para obter os intervalos de crescimento e decrescimento:\n",
    "\n",
    "$$\\begin{array}{c|c|c|c|c}\n",
    "x\t   & intervalo   & f'(x)       & sinal & conclusão  \\\\\\hline\n",
    "-1     &   x<0       & f'(-1) = 4  &  +    & crescente  \\\\\n",
    "1      &   x>0       & f'(1) = -4  &  -    & decrescente\\\\\n",
    "\\end{array}$$\n",
    "\n",
    "ii) Concavidade: \n",
    "\n",
    "$$f''(x)  = (12-2x^{2})'' =  -4 \\Rightarrow f''(x) < 0 \\ \\forall x \\in \\mathbb{R}$$\n",
    "\n",
    "Sendo $f''(x) < 0$ para todo $x \\in \\mathbb{R}$, temos que a concavidade do gráfico de $f$ é voltada para baixo em $\\mathbb{R}$.\n",
    "\n",
    "b) Analogamente ao item \"a\", temos:\n",
    "\n",
    "i) Crescimento e Descrescimento:\n",
    "\n",
    "$$g'(x) = (2-5x)' = -5 \\Rightarrow g'(x) < 0 \\ \\forall x \\in \\mathbb{R}$$\n",
    "\n",
    "Sendo $g'(x) < 0$ para todo $x \\in \\mathbb{R}$, temos que $g$ é decrescente em $\\mathbb{R}$.\n",
    "\n",
    "ii) Concavidade:\n",
    "\n",
    "$$g''(x)  = (2-5x)'' = 0$$\n",
    "\n",
    "Sendo $g''(x) = 0$ temos que o gráfico de $g$ não é côncavo em nehum ponto, sendo portanto uma reta.\n",
    "\n",
    "c) Analogamente aos itens anteriores:\n",
    "\n",
    "i) Crescimento e Decrescimento:\n",
    "\n",
    "$$h'(x) = (x^{3} - 12x^{2} + 3)' = 3x^{2} - 24x \\Rightarrow h'(x) = 3x^{2} - 24x \\Rightarrow$$\n",
    "$$\\Rightarrow 3x^{2} - 24x = 0 \\Rightarrow 3x(x-8) = 0 \\Rightarrow x = 0 \\ e \\ x = 8.$$\n",
    "\n",
    "Como $h$ é bem definida em $\\mathbb{R}$, temos que $x = 0$ e $x = 8$ são os únicos pontos críticos de $h$. Vejamos a tabela a seguir para obter os intervalos de crescimento e decrescimento:\n",
    "\n",
    "$$\\begin{array}{c|c|c|c|c}\n",
    "x\t   & intervalo     & h'(x)          & sinal  & conclusão  \\\\\\hline\n",
    "-1     &   x<0         & h'(-1) = 27    &  +     & crescente  \\\\\n",
    "1      &   0<x<8       & h'(1) = -21    &  -     & decrescente \\\\\n",
    "9      &   x>8         & h'(9) = 27     &  +     & crescente  \\\\\n",
    "\\end{array}$$\n",
    "\n",
    "ii) Concavidade:\n",
    "\n",
    "$$h''(x) = (x^{3} - 12x^{2} + 3)'' = 6x - 24 \\Rightarrow 6x = 24 \\Rightarrow x = 4$$\n",
    "\n",
    "A tabela a seguir nos fornecerá a concavidade do gráfico de $h$:\n",
    "\n",
    "$$\\begin{array}{c|c|c|c|c}\n",
    "x\t   & intervalo     & h''(x)          & sinal  & conclusão  \\\\\\hline\n",
    "3      &   x<4         & h''(3) = -6     &  -     & para \\ baixo  \\\\\n",
    "5      &   x>4         & h''(5) = 6      &  +     & para \\ cima \\\\\n",
    "\\end{array}$$\n",
    "\n",
    "d) Analogamente aos itens anteriores:\n",
    "\n",
    "i) Crescimento e Decrescimento:\n",
    "\n",
    "$$i'(x) = (e^{x} - x)' = e^{x} - 1 \\Rightarrow i'(x) = e^{x} - 1 \\Rightarrow e^{x} - 1 = 0 \\Rightarrow e^{x} = 1 \\Rightarrow e^{x} = e^{0} \\Rightarrow x = 0.$$\n",
    "\n",
    "Como $i$ é bem definida em $\\mathbb{R}$, temos que $x = 0$ é o único ponto críticos de $i$. Vejamos a tabela a seguir para obter os intervalos de crescimento e decrescimento:\n",
    "\n",
    "$$\\begin{array}{c|c|c|c|c}\n",
    "x\t   & intervalo     & i'(x)                & sinal & conclusão  \\\\\\hline\n",
    "-1     &   x<0         & i'(-1) = -0.6321...  &  -    & decrescente  \\\\\n",
    "1      &   x>0         & i'(1) = 1.7182...    &  +    & crescente \\\\\n",
    "\\end{array}$$\n",
    "\n",
    "ii) Concavidade:\n",
    "\n",
    "$$i''(x) = (e^{x} - x)'' =e^{x} \\Rightarrow i''(x) = e^{x}  \\Rightarrow i''(x) > 0 \\ \\forall x \\in \\mathbb{R}$$\n",
    "\n",
    "Como $i''(x) > 0$ para todo $x \\in \\mathbb{R}$, temos que o gráfico de $i$ apresenta concavidade sempre voltada para cima.\n",
    "\n",
    "e) Analogamente aos itens anteriores:\n",
    "\n",
    "i) Crescimento e Decrescimento:\n",
    "\n",
    "$$k'(x) = \\left(\\frac{1}{4-x}\\right)' = \\frac{1}{(4-x)^{2}} \\Rightarrow k'(x) = \\frac{1}{(4-x)^{2}}$$\n",
    "\n",
    "Note que $k'(x) \\neq 0$ para todo $x \\in \\mathbb{R}$. Contudo, $k''$ apresenta uma descontinuidade em $x = 4$. A tabela a seguir nos fornecerá o crescimento e o decrescimento de $k$:\n",
    "\n",
    "$$\\begin{array}{c|c|c|c|c}\n",
    "x\t   & intervalo     & k'(x)          & sinal  & conclusão  \\\\\\hline\n",
    "3      &   x<4         & k'(3) = 1      &  +     & crescente  \\\\\n",
    "5      &   x>4         & k'(1) = 1      &  +     & crescente \\\\\n",
    "\\end{array}$$\n",
    "\n",
    "ii) Concavidade:\n",
    "\n",
    "$$i''(x) = \\left(\\frac{1}{4-x}\\right)'' = \\frac{2}{(4-x)^{3}}$$\n",
    "\n",
    "Note que $k''(x) \\neq 0$ para todo $x \\in \\mathbb{R}$. Contudo, $k''$ apresenta uma descontinuidade em $x = 4$. A tabela a seguir nos fornecerá a concavidade do gráfico de $k$:\n",
    "\n",
    "$$\\begin{array}{c|c|c|c|c}\n",
    "x\t   & intervalo     & k''(x)          & sinal  & conclusão  \\\\\\hline\n",
    "3      &   x<4         & k''(3) = 2      &  +     & para \\ cima  \\\\\n",
    "5      &   x>4         & k''(5) = -2     &  -     & para \\ baixo \\\\\n",
    "\\end{array}$$"
   ]
  },
  {
   "cell_type": "markdown",
   "id": "c53d758f",
   "metadata": {
    "heading_collapsed": true,
    "hidden": true
   },
   "source": [
    "#### Exercício Resolvido 4"
   ]
  },
  {
   "cell_type": "markdown",
   "id": "fa4b5301",
   "metadata": {
    "hidden": true
   },
   "source": [
    "Para cada uma das funções especificadas abaixo, realize $3$ iterações do Método de Newton, começando do ponto inicial $p_{0}$ fornecido:\n",
    "\n",
    "a) $f(x) = x^{2} - 5$, $p_{0} = 1$\n",
    "\n",
    "b) $h(x) = e^{2x} - 6x$, $p_{0} = 0$\n",
    "\n",
    "c) $i(x) = x^{2} - 2^{x}$, $p_{0} = 0$\n",
    "\n",
    "d) $j(x) = x - cos(x)$, $p_{0} = 2$"
   ]
  },
  {
   "cell_type": "markdown",
   "id": "d12d8c7e",
   "metadata": {
    "heading_collapsed": true,
    "hidden": true
   },
   "source": [
    "##### Solução"
   ]
  },
  {
   "cell_type": "markdown",
   "id": "29858957",
   "metadata": {
    "hidden": true
   },
   "source": [
    "a) Primeiramente devemos calcular a derivada de $f(x)$. Pois bem,<br><br>\n",
    " $$(f(x))' = (x^{2}-5)' = 2x.$$<br>\n",
    " Temos a seguinte função recursiva:<br><br>\n",
    " $$new(x) = x - \\frac{f(x)}{f'(x)} = x -\\frac{x^{2}-5}{2x}$$<br>\n",
    " $p_{1} = new(1) = 1 - \\frac{1^{2}-5}{2\\cdot1} = 3$<br><br>\n",
    " $p_{2} = new(3) = 3 - \\frac{3^{2}-5}{3\\cdot1} = 2.3333333333333335$<br><br>\n",
    " $p_{3} = new(2.3333333333333335) = 2.3333333333333335 - \\frac{2.3333333333333335^{2}-5}{2\\cdot 2.3333333333333335} = 2.238095238095238$<br><br>\n",
    "Resumidamente, temos a seguinte tabela:<br><br>\n",
    " $$\\begin{array}{c|c}\n",
    "n\t & p_{n}  \\\\ \\hline\n",
    "0    & 1.0000000000000000 \\\\\n",
    "1    & 3.0000000000000000 \\\\\n",
    "2    & 2.3333333333333335 \\\\\n",
    "3    & 2.2380952380952380 \\\\\n",
    "\\end{array}$$<br>\n",
    "b) Temos que<br><br>\n",
    "$$h(x) = e^{2x} - 6x \\Rightarrow h'(x) = 2e^{2x} - 6 \\Rightarrow new(x) = x - \\frac{e^{2x} - 6x}{2e^{2x} - 6}$$<br>\n",
    "As iterações são dadas na tabela a seguir:<br><br>\n",
    "$$\\begin{array}{c|c}\n",
    "n\t & p_{n}  \\\\ \\hline\n",
    "0    & 0.00000000000000000 \\\\\n",
    "1    & 0.25000000000000000 \\\\\n",
    "2    & 0.30502982747948090 \\\\\n",
    "3    & 0.30949838987076983 \\\\\n",
    "\\end{array}$$<br>\n",
    "c) Temos que<br><br>\n",
    "$$i(x) = x^{2} - 2^{x} \\Rightarrow i'(x) = 2x - 2^{x}ln(2) \\Rightarrow new(x) = x - \\frac{x^{2} - 2^{x}}{2x-2^{x}ln(2)}$$<br>\n",
    "As iterações são dadas na tabela a seguir:<br><br>\n",
    "$$\\begin{array}{c|c}\n",
    "n\t & p_{n}  \\\\ \\hline\n",
    "0    & 0.0000000000000000 \\\\\n",
    "1    & -1.4426950408889634 \\\\\n",
    "2    & -0.8970645800168299 \\\\\n",
    "3    & -0.7734702256634284 \\\\\n",
    "\\end{array}$$<br>\n",
    "d) Temos que<br><br>\n",
    "$$j(x) = x - cos(x) \\Rightarrow j'(x) = 1 + sen(x) \\Rightarrow new(x) = x - \\frac{x - cos(x)}{1 + sen(x)}$$<br>\n",
    "As iterações são dadas na tabela a seguir:\n",
    "$$\\begin{array}{c|c}\n",
    "n\t & p_{n}  \\\\ \\hline\n",
    "0    & 2.0000000000000000 \\\\\n",
    "1    & 0.7345361688544632 \\\\\n",
    "2    & 0.7390897242053693 \\\\\n",
    "3    & 0.7390851332198145 \\\\\n",
    "\\end{array}$$"
   ]
  },
  {
   "cell_type": "markdown",
   "id": "6d4b6532",
   "metadata": {
    "heading_collapsed": true,
    "hidden": true
   },
   "source": [
    "#### Exercício Resolvido 5"
   ]
  },
  {
   "cell_type": "markdown",
   "id": "d60f58de",
   "metadata": {
    "hidden": true
   },
   "source": [
    "Considere a função $f(x) = x^{3} - 4x - 1$ cujo gráfico é dado a seguir:<br><br>\n",
    " <center> <img src=\"fig5-19.jpg\" alt=\"jpg_python\" width=\"500\" height=\"\"> </center><br>\n",
    "\n",
    "a) Calcule $3$ iterações do método de Newton a partir de i) $p_{0} = -2.5$, $p_{0} = -0.5$ e $p_{0} = 3$.\n",
    "\n",
    "b) O que se pode observar sobre a escolha do valor de $x_{0}$ em funções apresentando mais de um zero?"
   ]
  },
  {
   "cell_type": "markdown",
   "id": "96c2a30e",
   "metadata": {
    "heading_collapsed": true,
    "hidden": true
   },
   "source": [
    "##### Solução"
   ]
  },
  {
   "cell_type": "markdown",
   "id": "f53edb81",
   "metadata": {
    "hidden": true
   },
   "source": [
    "a) Temos que<br><br>\n",
    "$$f(x) = x^{3} - 4x -1 \\Rightarrow f'(x) = 3x^{2} - 4 \\Rightarrow new(x) = x - \\frac{x^{3} - 4x -1}{3x^{2} - 4}$$<br>\n",
    "Vejamos as iterações para cada ponto:<br><br>\n",
    "$x_{0} = 2.5$:<br><br>\n",
    "$$\\begin{array}{c|c}\n",
    "n\t & p_{n}  \\\\ \\hline\n",
    "0    & -2.5000000000000000 \\\\\n",
    "1    & -2.0508474576271185 \\\\\n",
    "2    & -1.8857933682535180 \\\\\n",
    "3    & -1.8613332057733178 \\\\\n",
    "\\end{array}$$<br>\n",
    "$x_{0} = -0.5$:<br><br>\n",
    "$$\\begin{array}{c|c}\n",
    "n\t & p_{n}  \\\\ \\hline\n",
    "0    & -0.50000000000000000 \\\\\n",
    "1    & -0.23076923076923078 \\\\\n",
    "2    & -0.25400023705108450 \\\\\n",
    "3    & -0.25410168630438346 \\\\\n",
    "\\end{array}$$<br>\n",
    "$x_{0} = 3$:<br><br>\n",
    "$$\\begin{array}{c|c}\n",
    "n\t & p_{n}  \\\\ \\hline\n",
    "0    & 3.0000000000000000 \\\\\n",
    "1    & 2.3913043478260870 \\\\\n",
    "2    & 2.1549635442373654 \\\\\n",
    "3    & 2.1159454947237117 \\\\\n",
    "\\end{array}$$<br>\n",
    "b) Pode-se notar, nos casos em que $f$ possui mais de um zero que o valor de $x_{0}$ repercute em qual zero de $f$ iremos obter uma aproximação."
   ]
  },
  {
   "cell_type": "markdown",
   "id": "943e15b5",
   "metadata": {
    "heading_collapsed": true,
    "hidden": true
   },
   "source": [
    "#### Exercício Resolvido 6"
   ]
  },
  {
   "cell_type": "markdown",
   "id": "9fec256b",
   "metadata": {
    "hidden": true
   },
   "source": [
    "Determine, para cada uma das funções a seguir:<br><br>\n",
    " i) os pontos críticos;<br><br>\n",
    " ii) a classificação dos pontos críticos;<br><br>\n",
    " iii) os intervalos de crescimento e decrescimento;<br><br>\n",
    " iv) a concavidade;<br><br>\n",
    " v) assíntotas verticais;<br><br>\n",
    " vi) assíntotas horizontais;<br><br>\n",
    " vii) as raízes com uma casa decimal de precisão (item opcional);<br><br>\n",
    " viii) o esboço gráfico de $f$.<br><br>\n",
    " a) $f(x) = 6x - x^{2}$<br><br>\n",
    " b) $g(x) = \\frac{x-3}{x-1}$<br><br>\n",
    " c) $h(x) = xe^{x}$ "
   ]
  },
  {
   "cell_type": "markdown",
   "id": "fecf211b",
   "metadata": {
    "heading_collapsed": true,
    "hidden": true
   },
   "source": [
    "##### Solução"
   ]
  },
  {
   "cell_type": "markdown",
   "id": "aeeb2a75",
   "metadata": {
    "hidden": true
   },
   "source": [
    "a) Temos que:<br><br>\n",
    "i) $$f'(x) = (6x - x^{2})' = 6 - 2x$$<br><br>\n",
    "$$f'(x) = 0 \\Rightarrow 6 - 2x = 0 \\Rightarrow 2x = 6 \\Rightarrow x = 3$$<br><br>\n",
    "Note que $f'(x) = 6 - 2x$ é bem definida em $\\mathbb{R}$. Portanto, $x = 3$ é o único ponto crítico de $f$.<br><br>\n",
    "ii) Consideremos a tabela:<br><br>\n",
    "$$\\begin{array}{c|c|c}\n",
    "x\t     & f(x) & classificação \\\\ \\hline\n",
    "2.9      & 8.99    &\\\\\n",
    "3.0      & 9.00    & máximo \\ local \\\\\n",
    "3.1      & 8.99    &\\\\\n",
    "\\end{array}$$<br>\n",
    "iii) De posse da tabela anterior vemos que $f$ decresce se $x > 3$ e cresce se $x < 3$.<br><br>\n",
    "iv) Temos que $f''(x) = -2$ é negativa para todo $x$ real. Portanto, a concavidade de $f$ é voltada para baixo em $\\mathbb{R}$.<br><br>\n",
    "v) Não há descontinuidades e, portanto, não há assíntotas verticais;<br><br>\n",
    "vi) Temos que<br><br>\n",
    "$$lim_{x \\to -\\infty} 6x - x^{2} = lim_{x \\to -\\infty} -x^{2} = -\\infty$$<br>\n",
    "$$lim_{x \\to +\\infty} 6x - x^{2} = lim_{x \\to +\\infty} -x^{2} = -\\infty$$<br>\n",
    "Portanto, não temos assíntotas horizontais.<br><br>\n",
    "vii) Note que $x = 3$ é um máximo local tal que $f(3) = 9.00 > 0$ enquanto que $lim_{x \\to \\pm \\infty} 6x - x^{2} = -\\infty$ (mudança de sinal de $+$ para $-$). Sendo $f$ contínua esta deve possuir dois zeros, um antes e um depois de $2.5$. Sendo esta uma função polinomial de grau $2$ podemos usar a fórmula de Bhaskara:<br><br>\n",
    "$$\\Delta = (-6)^{2} - 4\\cdot(-1)\\cdot0 = 36 \\Rightarrow x = \\frac{-6 \\pm \\sqrt{6}}{2\\cdot(-1)} \\Rightarrow x_{1} = 0 \\ e \\ x_{2} = 6$$<br><br>\n",
    "viii) O gráfico de $f$ é dado a seguir:<br><br>\n",
    "<center> <img src=\"fig5-20.jpg\" alt=\"jpg_python\" width=\"500\" height=\"\"> </center><br>\n",
    "b) Temos que:<br><br>\n",
    "i) $g'(x) = \\left(\\frac{x-3}{x-2}\\right)' = \\frac{(x-2)(x-3)'-(x-3)(x-2)'}{(x-2)^{2}} = \\frac{1}{(x-2)^{2}}$<br><br>\n",
    "$$g'(x) = 0 \\Rightarrow \\frac{1}{(x-2)^{2}} = 0 \\Rightarrow \\nexists x \\in \\mathbb{R}$$\n",
    "Note que $g'(x) = \\frac{1}{(x-2)^{2}}$ não é bem definida em $x = 2$:<br><br>\n",
    "ii) Não há pontos críticos uma vez que o ponto de indefinição de $g'$ é um ponto fora do domínio de $g$.<br><br>\n",
    "iii) Note que $g'(x) = \\frac{1}{(x-1)^{2}}$ é positiva para todo $x$ em $\\mathbb{R}$. Portanto, $g$ é crescente para todo $x$ em $\\mathbb{R}$.<br><br>\n",
    "iv) Temos que $g''(x) = -\\frac{2}{(x-2)^{3}}$ apresenta o seguinte sinal nos intervalos $(-\\infty,2)$ e $(2,+\\infty)$:\n",
    "A tabela a seguir apresenta a concavidade associada ao gráfico de $g$:<br><br>\n",
    " $$\\begin{array}{c|c|c|c|c}\n",
    "x\t   & intervalo      & g''(x)       & sinal & conclusão  \\\\\\hline\n",
    "1     &   x<2           & g''(1) = 2   &  +    & para \\ cima  \\\\\n",
    "3     &   x>2           & g''(3) = -2  &  -    & para \\ baixo \\\\\n",
    "\\end{array}$$<br>\n",
    "Temos que $g''(x) < 0$ se $x > 2$ (concavidade para baixo) e $g''(x) > 0$ se $x < 2$ (concavidade para baixo):<br><br>\n",
    "v) Note que $x = 2$ é uma descontinuidade de $g$. Assim, temos os seguintes limites laterais:<br><br>\n",
    "$$lim_{x \\to 2^{-}} \\frac{x-3}{x-2} = \\frac{-1}{-0} = +\\infty$$<br>\n",
    " $$lim_{x \\to 2^{+}} \\frac{x-3}{x-2} = \\frac{-1}{+0} = -\\infty$$<br>\n",
    "Portanto, $x = 2$ é uma assíntota vertical de $g$.<br><br>\n",
    "vi) Temos que<br><br>\n",
    "$$lim_{x \\to -\\infty} \\frac{x-3}{x-2} = lim_{x \\to -\\infty} \\frac{x}{x} = 1$$<br>\n",
    "$$lim_{x \\to -\\infty} \\frac{x-3}{x-2} = lim_{x \\to +\\infty} \\frac{x}{x} = 1$$<br>\n",
    "Portanto, temos que $y = 1$ é uma assíntota horizontal de $h$.<br><br>\n",
    "vii) Temos que\n",
    "$$g(x) = 0 \\Rightarrow \\frac{x-3}{x-2} = 0 \\Rightarrow x - 3 = 0 \\Rightarrow x = 3.$$\n",
    "viii) O gráfico de $g$ é dado a seguir:\n",
    " <center> <img src=\"fig5-21.jpg\" alt=\"jpg_python\" width=\"500\" height=\"\"> </center>\n",
    "c) Temos que:<br><br>\n",
    "i) $h'(x) = (xe^{x})' = x(e^{x})' + e^{x}(x)' = xe^{x} + e^{x} = (x+1)e^{x}$<br><br>\n",
    "$$h'(x) = 0 \\Rightarrow (x+1)e^{x} = 0 \\Rightarrow x + 1 =  0 \\Rightarrow x = -1.$$<br>\n",
    "Note que $e^{x} \\neq 0$ para todo $x \\in \\mathbb{R}$.<br><br>\n",
    "Note que $f'(x) = (x+1)e^{x}$ é bem definida em $\\mathbb{R}$. Portanto, $x = -1$ é o único ponto crítico de $f$.<br><br>\n",
    "ii) Consideremos a tabela:<br><br>\n",
    "$$\\begin{array}{c|c|c}\n",
    "x\t     & f(x) & classificação \\\\ \\hline\n",
    "-1.1     & -0.3661581920678875    &\\\\\n",
    "-1       & -0.36787944117144233    & mínimo \\ local \\\\\n",
    "-0.9     & -0.36591269376653923    &\\\\\n",
    "\\end{array}$$<br>\n",
    "iii) Sendo o termo $e^{x}$ sempre positivo, o sinal de $(x+1)e^{x}$ é igual ao sinal de $x+1$, isto é, $f'(x) < 0$ se $x < -1$ e $f'(x) > 0$ se $x > -1$. Portanto, $f'(x)$ é decrescente se $x < -1$ e crescente se $x > -1$.\n",
    "iv) Temos que\n",
    "$$h''(x) = ((x+1)e^{x})' = (x+1)(e^{x})' + e^{x}(x+1)' = (x+1)e^{x} + e^{x} = (x+2)e^{x}$$\n",
    "$$h''(x) = 0 \\Rightarrow (x+2)e^{x} = 0 \\Rightarrow x+2 = 0 \\Rightarrow x = -2.$$\n",
    "A tabela a seguir apresenta a concavidade associada ao gráfico de $g$:<br><br>\n",
    " $$\\begin{array}{c|c|c|c|c}\n",
    "x\t   & intervalo      & h''(x)                           & sinal & conclusão  \\\\\\hline\n",
    "-3     &   x<-2          & h''(-3) = -0.049787068367863944 &  -    & para \\ baixo  \\\\\n",
    "0      &   x>-2          & h''(0) =  2.0000000000000000000 &  +    & para \\ cima\\\\\n",
    "\\end{array}$$<br>\n",
    "v) Não há descontinuidades e, portanto, não há assíntotas verticais;<br><br>\n",
    "vi) Temos que<br><br>\n",
    "$$lim_{x \\to -\\infty} xe^{x} = -\\infty\\cdot e^{-\\infty} = \\frac{-\\infty}{e^{\\infty}} = 0$$<br>\n",
    "$$lim_{x \\to +\\infty} xe^{x} = \\infty \\cdot e^{\\infty} = \\infty$$<br>\n",
    "Portanto, temos que $y =0$ é uma assíntota horizontal de $h$.<br><br>\n",
    "vii) Note que<br><br>\n",
    "$$h(x) = 0 \\Rightarrow xe^{x} = 0 \\Rightarrow x = 0$$\n",
    "viii) O gráfico de $h$ é dado a seguir:<br><br>\n",
    " <center> <img src=\"fig5-22.jpg\" alt=\"jpg_python\" width=\"500\" height=\"\"> </center><br>"
   ]
  },
  {
   "cell_type": "markdown",
   "id": "0cb4d27d",
   "metadata": {
    "heading_collapsed": true,
    "hidden": true
   },
   "source": [
    "#### Exercício Resolvido 7"
   ]
  },
  {
   "cell_type": "markdown",
   "id": "dec84ae1",
   "metadata": {
    "hidden": true
   },
   "source": [
    "Mostre que $2x^{3} + x - 4 = 0$ admite exatamente uma solução real."
   ]
  },
  {
   "cell_type": "markdown",
   "id": "654ab007",
   "metadata": {
    "heading_collapsed": true,
    "hidden": true
   },
   "source": [
    "##### Solução"
   ]
  },
  {
   "cell_type": "markdown",
   "id": "d7815880",
   "metadata": {
    "hidden": true
   },
   "source": [
    "Analisemos o sinal da derivada primeira de $f(x) = 2x^{3} + x - 4$.<br><br>\n",
    "$f'(x) = (2x^{3} + x - 4)' = 6x^{2} + 1$<br><br>\n",
    "$$f'(x) = 0 \\Rightarrow  6x^{2} + 1 = 0 \\Rightarrow 6x^{2} = -1 \\Rightarrow x^{2} = -\\frac{1}{6} \\Rightarrow x = \\pm \\sqrt{\\frac{1}{6}} \\notin \\mathbb{R}$$<br>\n",
    "Isto significa que a derivada não muda de sinal, isto é, $f$ é sempre crescente pois $f'(1) = 6\\cdot1^{2} + 1 = 7 > 0$ (pode testar com outro valor de $x$).\n",
    "Por outro lado, note que $f(x)$ é tal que:\n",
    "$$lim_{x \\to -\\infty} 2x^{3} + x - 4 = lim_{x \\to -\\infty} 2x^{3} = 2\\cdot(-\\infty)^{3} = -\\infty$$\n",
    "$$lim_{x \\to +\\infty} 2x^{3} + x - 4 = lim_{x \\to +\\infty} 2x^{3} = 2\\cdot(+\\infty)^{3} = +\\infty$$\n",
    "Sendo $f$ contínua em $\\mathbb{R}$ temos que em algum ponto o gráfico desta função irá intersectar o eixo-$x$, isto é, $2x^{3} + x - 4 = 0$ possui uma solução real. A unicidade desta solução se deve ao fato de $f$ ser sempre crescente em $\\mathbb{R}$. Do contrário, caso houvesse mais de um zero o gráfico de $f$ deveria \"subir\" e \"descer\" (\"descer\" e \"subir\") ao menos uma vez. Mas isto contrariaria o fato de $f$ não possui extremos locais."
   ]
  },
  {
   "cell_type": "markdown",
   "id": "1a1ae330",
   "metadata": {
    "heading_collapsed": true
   },
   "source": [
    "# <div style=\"margin-top: -20px;\">\n",
    "<hr style=\"border: 2px solid black;\">\n",
    "\n",
    "<font color='black'><span style=\"font-size: 22px;\"><strong>Exercícios</strong></span></font>\n",
    "\n",
    "<hr style=\"border: 2px solid black;\">\n",
    "</div>"
   ]
  },
  {
   "cell_type": "markdown",
   "id": "7ee03f48",
   "metadata": {
    "heading_collapsed": true,
    "hidden": true
   },
   "source": [
    "#### Exercício 1"
   ]
  },
  {
   "cell_type": "markdown",
   "id": "81888764",
   "metadata": {
    "hidden": true
   },
   "source": [
    "Considere a função $f(x) = x^{2} - 4$ no intervalo $[0,2]$. Mostre que existe um ponto $c \\in (0,2)$ tal que $f'(c)$ tem o mesmo valor que a inclinação da reta secante ao gráfico de $f$ nos pontos $(0,f(0))$ e $(2,f(2))$. Qual o valor de $c$? O que isto significa em termos de reta tangente?"
   ]
  },
  {
   "cell_type": "markdown",
   "id": "0756610d",
   "metadata": {
    "heading_collapsed": true,
    "hidden": true
   },
   "source": [
    "##### Respostas"
   ]
  },
  {
   "cell_type": "markdown",
   "id": "78365aae",
   "metadata": {
    "hidden": true
   },
   "source": [
    "Encontre a solução da equação $f'(x) = \\frac{f(2)-f(0)}{2-0}$ e proceda como no **Exemplo Resolvido 1**."
   ]
  },
  {
   "cell_type": "markdown",
   "id": "b0f56f91",
   "metadata": {
    "heading_collapsed": true,
    "hidden": true
   },
   "source": [
    "#### Exercício 2"
   ]
  },
  {
   "cell_type": "markdown",
   "id": "fb3865f4",
   "metadata": {
    "hidden": true
   },
   "source": [
    "Considere um tanque sendo enchido com água. Em um primeira observação o tanque apresentava $1000 \\ l$ (litros) e, cerca de duas horas depois, ele atingiu a quantidade máxima de $4500 \\ l$. Mostre que, em algum momento o tanque estava sendo enchido a uma taxa de $1750 \\ l/h$ (litros por hora)."
   ]
  },
  {
   "cell_type": "markdown",
   "id": "b5d10840",
   "metadata": {
    "heading_collapsed": true,
    "hidden": true
   },
   "source": [
    "##### Respostas"
   ]
  },
  {
   "cell_type": "markdown",
   "id": "83071bf8",
   "metadata": {
    "hidden": true
   },
   "source": [
    "Basta seguir os mesmos passos do **Exemplo 2**."
   ]
  },
  {
   "cell_type": "markdown",
   "id": "614f3ee3",
   "metadata": {
    "heading_collapsed": true,
    "hidden": true
   },
   "source": [
    "#### Exercício 3"
   ]
  },
  {
   "cell_type": "markdown",
   "id": "126e5bcf",
   "metadata": {
    "hidden": true
   },
   "source": [
    "Estude o crescimento e decrescimento das seguintes funções nos intervalos indicados:<br><br>\n",
    " a) $f(x) = 3$, $\\mathbb{R}$<br><br>\n",
    " b) $g(x) = 5x - x^{2}$, $\\mathbb{R}$<br><br>\n",
    " c) $h(x) = 4-2x$, $\\mathbb{R}$<br><br>\n",
    " d) $i(x) = x^{3} - 24x + 3$, $\\mathbb{R}$<br><br>\n",
    " e) $j(x) = xe^{x}$, $\\mathbb{R}$<br><br>\n",
    " f) $k(x) = x^{5}-1$, $\\mathbb{R}$<br><br>\n",
    " g) $l(x) = \\frac{x+1}{3x-1}$, $\\mathbb{R} - \\left\\{\\frac{1}{3}\\right\\}$<br><br>\n",
    " h) $m(x) = \\frac{x}{e^{x}-1}$, $\\mathbb{R} - \\{0\\}$"
   ]
  },
  {
   "cell_type": "markdown",
   "id": "fa1acbce",
   "metadata": {
    "heading_collapsed": true,
    "hidden": true
   },
   "source": [
    "##### Respostas"
   ]
  },
  {
   "cell_type": "markdown",
   "id": "cd98e2bd",
   "metadata": {
    "hidden": true
   },
   "source": [
    "a) $f$ é constante em todos seu domínio.\n",
    "\n",
    "b) $g$ é decrescente em $\\left(-\\infty,\\frac{5}{2}\\right)$ e crescente em $\\left(\\frac{5}{2},+\\infty\\right)$.\n",
    "\n",
    "c) $h$ é decrescente em todo seu domínio.\n",
    "\n",
    "d) $i$ é decrescente em $(-\\sqrt{8},+\\sqrt{8})$ e crescente em cada um dos intervalos $(-\\infty,-\\sqrt{8})$ e $(\\sqrt{8},+\\infty)$\n",
    "\n",
    "e) $j$ é decrescente em $(-\\infty,-1)$ e crescente em $(-1,+\\infty)$.\n",
    "\n",
    "f) $k$ é crescente em todo seu domínio.\n",
    "\n",
    "g) $l$ é decrescente em $\\left(-\\infty,\\frac{1}{3}\\right)$ e $\\left(\\frac{1}{3},+\\infty\\right)$.\n",
    "\n",
    "h) $m$ é decrescente em cada um dos intervalos $(-\\infty,0)$ e $(0,+\\infty)$."
   ]
  },
  {
   "cell_type": "markdown",
   "id": "c9ebca34",
   "metadata": {
    "heading_collapsed": true,
    "hidden": true
   },
   "source": [
    "#### Exercício 4"
   ]
  },
  {
   "cell_type": "markdown",
   "id": "692e8fc9",
   "metadata": {
    "hidden": true
   },
   "source": [
    "Estude a concavidade das seguintes funções nos intervalos indicados:<br><br>\n",
    " a) $f(x) = -4$, $\\mathbb{R}$<br><br>\n",
    " b) $g(x) = x^{2}-3$, $\\mathbb{R}$<br><br>\n",
    " c) $h(x) = 3x-5$, $\\mathbb{R}$<br><br>\n",
    " d) $i(x) = -x^{3} +3x^{2} -1$, $\\mathbb{R}$<br><br>\n",
    " e) $j(x) = xe^{x}$, $\\mathbb{R}$<br><br>\n",
    " f) $k(x) = x^{5}-1$, $\\mathbb{R}$<br><br>\n",
    " g) $l(x) = \\frac{x}{x-1}$, $\\mathbb{R} - \\left\\{\\frac{1}{3}\\right\\}$"
   ]
  },
  {
   "cell_type": "markdown",
   "id": "afc80664",
   "metadata": {
    "heading_collapsed": true,
    "hidden": true
   },
   "source": [
    "##### Respostas"
   ]
  },
  {
   "cell_type": "markdown",
   "id": "952009ed",
   "metadata": {
    "hidden": true
   },
   "source": [
    "a) Não há concavidade pois trata-se de uma reta.\n",
    "\n",
    "b) Concavidade voltada para cima em $\\mathbb{R}$.\n",
    "\n",
    "c) Não há concavidade pois trata-se de uma reta.\n",
    "\n",
    "d) Concavidade voltada para baixo em $(1,+\\infty)$ e para cima em $(-\\infty,1)$.\n",
    "\n",
    "e) Concavidade voltada para baixo em $(-\\infty,-2)$ e para cima em $(-2,+\\infty)$.\n",
    "\n",
    "f) Concavidade voltada para baixo em $(-\\infty,0)$ e para cima em $(0,+\\infty)$.\n",
    "\n",
    "g) Concavidade voltada para baixo em $(-\\infty,1)$ e para cima em $(1,+\\infty)$."
   ]
  },
  {
   "cell_type": "markdown",
   "id": "16604683",
   "metadata": {
    "heading_collapsed": true,
    "hidden": true
   },
   "source": [
    "#### Exercício 5"
   ]
  },
  {
   "cell_type": "markdown",
   "id": "9091790b",
   "metadata": {
    "hidden": true
   },
   "source": [
    "Para cada uma das funções especificadas abaixo, realize $3$ iterações do Método de Newton, começando do ponto inicial $p_{0}$ fornecido:\n",
    "\n",
    "a) $f(x) = x^{3} - 10$, $p_{0} = 1$\n",
    "\n",
    "b) $h(x) = e^{x} - x^{2}$, $p_{0} = 0$\n",
    "\n",
    "c) $i(x) = sen(x)- x + 1$, $p_{0} = 3$\n",
    "\n",
    "d) $j(x) = e^{x}sen(x)-1$, $p_{0} = 0$"
   ]
  },
  {
   "cell_type": "markdown",
   "id": "04568216",
   "metadata": {
    "heading_collapsed": true,
    "hidden": true
   },
   "source": [
    "##### Respostas"
   ]
  },
  {
   "cell_type": "markdown",
   "id": "832505af",
   "metadata": {
    "hidden": true
   },
   "source": [
    "$$ a) \\begin{array}{c|c}\n",
    "n & p_{n}\t               \\\\ \\hline\n",
    "0 & 1.00000000000     \\\\\n",
    "1 & 4.00000000000   \\\\\n",
    "2 & 2.87500000000     \\\\\n",
    "3 & 2.31994328922\n",
    "\\end{array} \\ \\ \\ \\ \n",
    "b) \\begin{array}{c|c}\n",
    "n & p_{n}\t               \\\\ \\hline\n",
    "0 &  0.00000000000     \\\\\n",
    "1 & -1.00000000000     \\\\\n",
    "2 & -0.73304360525     \\\\\n",
    "3 & -0.70380778632\n",
    "\\end{array} \\ \\ \\ \\ \n",
    "c) \\begin{array}{c|c}\n",
    "n & p_{n}\t               \\\\ \\hline\n",
    "0 &  3.00000000000     \\\\\n",
    "1 &  2.06588592916    \\\\\n",
    "2 &  1.93982094132     \\\\\n",
    "3 &  1.93457269118\n",
    "\\end{array} \\ \\ \\ \\\n",
    "d) \\begin{array}{c|c}\n",
    "n & p_{n}\t               \\\\ \\hline\n",
    "0 &  0.00000000000    \\\\\n",
    "1 &  1.00000000000    \\\\\n",
    "2 &  0.65725814297     \\\\\n",
    "3 &  0.59118310538\n",
    "\\end{array}$$<br>"
   ]
  },
  {
   "cell_type": "markdown",
   "id": "77f453dd",
   "metadata": {
    "heading_collapsed": true,
    "hidden": true
   },
   "source": [
    "#### Exercício 6"
   ]
  },
  {
   "cell_type": "markdown",
   "id": "10d1eee4",
   "metadata": {
    "hidden": true
   },
   "source": [
    "Considere a função $f(x) = \\frac{x^{4}}{4}-x-3$ cujo gráfico é dado a seguir:<br><br>\n",
    " <center> <img src=\"fig5-23.jpg\" alt=\"jpg_python\" width=\"500\" height=\"\"> </center><br>\n",
    "\n",
    "Aplique valores de $p_{0}$ adequados para aproximar as duas soluções por meio do método de Newton adotando $n = 3$ (três iterações)."
   ]
  },
  {
   "cell_type": "markdown",
   "id": "6735e037",
   "metadata": {
    "heading_collapsed": true,
    "hidden": true
   },
   "source": [
    "##### Respostas"
   ]
  },
  {
   "cell_type": "markdown",
   "id": "80babc4e",
   "metadata": {
    "hidden": true
   },
   "source": [
    "Partindo de $p_{0} = -1$, obtemos $p_{3} = -1.5545380072795256$;\n",
    "\n",
    "Partindo de $p_{0} = 2$, obtemos $p_{3} = 2.1281661097058553$"
   ]
  },
  {
   "cell_type": "markdown",
   "id": "abc2df6b",
   "metadata": {
    "heading_collapsed": true,
    "hidden": true
   },
   "source": [
    "#### Exercício 7"
   ]
  },
  {
   "cell_type": "markdown",
   "id": "61a5fd65",
   "metadata": {
    "hidden": true
   },
   "source": [
    "Determine, para cada uma das funções a seguir:<br><br>\n",
    " i) os pontos críticos;<br><br>\n",
    " ii) a classificação dos pontos críticos;<br><br>\n",
    " iii) os intervalos de crescimento e decrescimento;<br><br>\n",
    " iv) a concavidade;<br><br>\n",
    " v) assíntotas verticais;<br><br>\n",
    " vi) assíntotas horizontais;<br><br>\n",
    " vii) as raízes com uma casa decimal de precisão (item opcional);<br><br>\n",
    " viii) o esboço gráfico de $f$.<br><br>\n",
    " a) $f(x) = x^{2} - 9$<br><br>\n",
    " b) $g(x) = x^{3} - 6x$<br><br>\n",
    " c) $h(x) = x - e^{x} + 1$<br><br>\n",
    " d) $j(x) = \\frac{x-1}{4-x}$ "
   ]
  },
  {
   "cell_type": "markdown",
   "id": "f39e46b7",
   "metadata": {
    "heading_collapsed": true,
    "hidden": true
   },
   "source": [
    "##### Respostas"
   ]
  },
  {
   "cell_type": "markdown",
   "id": "5af8c825",
   "metadata": {
    "hidden": true
   },
   "source": [
    "a) i) $0$, ii) mínimo local, iii) decrescente em $(-\\infty,0)$, crescente em $(0,+\\infty)$, iv) concavidade para cima em $\\mathbb{R}$, v) não existem assíntotas verticais, vi) não existem assíntotas horizontais, vii) $x' = -3$ e $x'' = 3$, viii) esboço gráfico:<br><br>\n",
    " <center> <img src=\"fig5-24.jpg\" alt=\"jpg_python\" width=\"500\" height=\"\"> </center><br>\n",
    "b) i) $c_{1} = -\\sqrt{2}$ e $c_{2} = \\sqrt{2}$, ii) $c_{1}$ é um máximo local e $c_{2}$ é um mínimo local, iii) $g$ é decrescente em $(-\\sqrt{2},\\sqrt{2})$ e crescente em cada um dos intervalos $(-\\infty,-\\sqrt{2})$ e $(\\sqrt{2},+\\infty)$, iv) concavidade para baixo em $(-\\infty,0)$ e para cima em $(0,+\\infty)$, v) não existem assíntotas verticais, vi) não existem assíntotas horizontais, vii) $x' = -\\sqrt{6}$, $x'' = 0$ e $x''' = \\sqrt{6}$, viii) esboço gráfico:<br><br>\n",
    " <center> <img src=\"fig5-25.jpg\" alt=\"jpg_python\" width=\"500\" height=\"\"> </center><br>\n",
    " c) i) $0$, ii) máximo local, iii) decrescente em $(0,+\\infty)$ e crescente em $(-\\infty,0)$, iv) concavidade para baixo em $\\mathbb{R}$, v) não existem assíntotas verticais, vi) não existem assíntotas horizontais, vii) $x' = 0$, viii) <br><br>\n",
    " <center> <img src=\"fig5-26.jpg\" alt=\"jpg_python\" width=\"500\" height=\"\"> </center><br>\n",
    " d) i) sem pontos críticos, ii) sem máximos ou mínimos locais, iii) crescente nos intervalos em $(-\\infty,4)$ e $(4,+\\infty)$, iv) concavidade para baixo em $(4,+\\infty)$ e para cima em $(-\\infty,4)$, v) $x = 4$ é uma assíntota vertical, vi) $y = -1$ é uma assíntota horizontal, vii) $x' = 1$, viii) esboço gráfico:<br><br>\n",
    " <center> <img src=\"fig5-27.jpg\" alt=\"jpg_python\" width=\"500\" height=\"\"> </center><br>"
   ]
  },
  {
   "cell_type": "markdown",
   "id": "dfa764f1",
   "metadata": {
    "heading_collapsed": true
   },
   "source": [
    "# <div style=\"margin-top: -20px;\">\n",
    "<hr style=\"border: 2px solid black;\">\n",
    "\n",
    "<font color='black'><span style=\"font-size: 22px;\"><strong>Vídeo Aulas</strong></span></font>\n",
    "\n",
    "<hr style=\"border: 2px solid black;\">\n",
    "</div>"
   ]
  },
  {
   "cell_type": "markdown",
   "id": "dd70cf35",
   "metadata": {
    "hidden": true
   },
   "source": []
  },
  {
   "cell_type": "markdown",
   "id": "2aae9154",
   "metadata": {
    "hidden": true
   },
   "source": []
  },
  {
   "cell_type": "code",
   "execution_count": null,
   "id": "fff06b4b",
   "metadata": {
    "ExecuteTime": {
     "end_time": "2024-01-31T14:56:44.171658Z",
     "start_time": "2024-01-31T14:56:44.031684Z"
    },
    "hidden": true
   },
   "outputs": [],
   "source": [
    "from numpy import arange, vectorize, sin, exp\n",
    "import matplotlib.pyplot as plt\n",
    "\n",
    "def f(x):\n",
    "    return exp(x)-3*x\n",
    "\n",
    "def g(x):\n",
    "    return 2*x\n",
    "\n",
    "def h(x):\n",
    "    return 2*x-1\n",
    "\n",
    "# Vetorizando a função f\n",
    "f_vectorized = vectorize(f)\n",
    "g_vectorized = vectorize(g)\n",
    "h_vectorized = vectorize(h)\n",
    "\n",
    "# Domínio Dividido (vizinhança [-2,3] de x = 1)\n",
    "x1 = arange(-2, 4, 0.02)\n",
    "\n",
    "\n",
    "\n",
    "# Imagens Divididas\n",
    "y1 = f_vectorized(x1) \n",
    "y2 = g_vectorized(x1)  \n",
    "y3 = h_vectorized(x1)  \n",
    "\n",
    "\n",
    "# Adicionando linhas de referência (eixos x e y)\n",
    "plt.axhline(0, color='black', linewidth=1)\n",
    "plt.axvline(0, color='black', linewidth=1)\n",
    "\n",
    "# Grade\n",
    "plt.grid()\n",
    "\n",
    "\n",
    "plt.ylim(-3,3)\n",
    "\n",
    "# Plotando o gráfico\n",
    "plt.plot(x1,y1,'r-')\n",
    "\n",
    "\n",
    "\n",
    "plt.show()"
   ]
  },
  {
   "cell_type": "code",
   "execution_count": null,
   "id": "54674ce9",
   "metadata": {
    "ExecuteTime": {
     "end_time": "2024-03-20T21:43:57.923818Z",
     "start_time": "2024-03-20T21:43:57.784481Z"
    },
    "hidden": true
   },
   "outputs": [],
   "source": [
    "from numpy import arange, vectorize\n",
    "import matplotlib.pyplot as plt\n",
    "\n",
    "def f(x):\n",
    "    return (x-1)/(4-x)\n",
    "\n",
    "\n",
    "f_vectorized = vectorize(f)\n",
    "\n",
    "\n",
    "\n",
    "# Gerando os valores de x para duas partes: x < 0 e x > 0\n",
    "x1 = arange(-2, 3.99, 0.01)  # Valores negativos de x, excluindo o zero\n",
    "x2 = arange(4.01, 10, 0.01)\n",
    "\n",
    "# Aplicando a função vetorizada\n",
    "y1 = f_vectorized(x1)\n",
    "y2 = f_vectorized(x2)\n",
    "\n",
    "# Adicionando linhas de referência (eixos x e y)\n",
    "plt.axhline(0, color='black', linewidth=1)\n",
    "plt.axvline(0, color='black', linewidth=1)\n",
    "\n",
    "\n",
    "\n",
    "# Grade\n",
    "plt.grid()\n",
    "\n",
    "plt.ylim(-10,10)\n",
    "# Plotando o gráfico para a parte negativa e positiva, separadamente\n",
    "plt.plot(x1, y1, 'k')\n",
    "plt.plot(x2, y2, 'k')\n",
    "\n",
    "\n",
    "\n",
    "\n",
    "# Mostrar o gráfico\n",
    "plt.show()\n"
   ]
  }
 ],
 "metadata": {
  "kernelspec": {
   "display_name": "Python 3 (ipykernel)",
   "language": "python",
   "name": "python3"
  },
  "language_info": {
   "codemirror_mode": {
    "name": "ipython",
    "version": 3
   },
   "file_extension": ".py",
   "mimetype": "text/x-python",
   "name": "python",
   "nbconvert_exporter": "python",
   "pygments_lexer": "ipython3",
   "version": "3.11.5"
  },
  "varInspector": {
   "cols": {
    "lenName": 16,
    "lenType": 16,
    "lenVar": 40
   },
   "kernels_config": {
    "python": {
     "delete_cmd_postfix": "",
     "delete_cmd_prefix": "del ",
     "library": "var_list.py",
     "varRefreshCmd": "print(var_dic_list())"
    },
    "r": {
     "delete_cmd_postfix": ") ",
     "delete_cmd_prefix": "rm(",
     "library": "var_list.r",
     "varRefreshCmd": "cat(var_dic_list()) "
    }
   },
   "types_to_exclude": [
    "module",
    "function",
    "builtin_function_or_method",
    "instance",
    "_Feature"
   ],
   "window_display": false
  }
 },
 "nbformat": 4,
 "nbformat_minor": 5
}
