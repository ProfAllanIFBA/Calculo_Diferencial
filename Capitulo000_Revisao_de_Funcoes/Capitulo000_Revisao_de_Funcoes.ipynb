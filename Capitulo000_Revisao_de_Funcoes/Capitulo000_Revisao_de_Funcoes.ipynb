{
 "cells": [
  {
   "cell_type": "markdown",
   "id": "d4ea28a8",
   "metadata": {
    "slideshow": {
     "slide_type": "slide"
    }
   },
   "source": [
    "<center> <img src=\"logo_ifba.jpg\" alt=\"jpg_python\" width=\"100\" height=\"200\"> </center>\n",
    "<br><br>\n",
    "<div align=\"center\"><span style=\"font-size: 26px;\"><strong>Cálculo Diferencial Aplicado à Computação <br></strong></span></div> <br>\n",
    "<center> <img src=\"python_gif.gif\" alt=\"gif_python\" width=\"80\"> </center>\n"
   ]
  },
  {
   "cell_type": "markdown",
   "id": "d76184a7",
   "metadata": {
    "slideshow": {
     "slide_type": "slide"
    }
   },
   "source": [
    "<div style=\"border: 2px solid black; padding: 10px; width: 95%; background-color: lightgray; display: flex; align-items: center;\">\n",
    "    <h1 style=\"color: red; text-align: center; margin: auto;\">\n",
    "        Capítulo 0: Revisão de Funções\n",
    "    </h1>\n",
    "</div>\n",
    "\n",
    "<font color='red'></font>\n",
    "<a href=\"\"></a>"
   ]
  },
  {
   "cell_type": "markdown",
   "id": "7142d16f",
   "metadata": {},
   "source": [
    "Este capítulo é dedicado à revisão de diversos tipos de funções e conceitos fundamentais. Os conceitos abordados são frequentemente encontrados no ensino básico e são essenciais para a disciplina de Cálculo Diferencial Aplicado à Computação. Em seguida, são fornecidos os links para o Colab e GitHub, onde estão localizados os conteúdos para revisão. Estes tópicos serão abordados em sala de maneira breve, sendo responsabilidade de cada aluno aprofundar-se neles detalhadamente."
   ]
  },
  {
   "cell_type": "markdown",
   "id": "fcc96519",
   "metadata": {},
   "source": [
    "## Funções"
   ]
  },
  {
   "cell_type": "markdown",
   "id": "c7d851ab",
   "metadata": {},
   "source": [
    "- [Colab](https://colab.research.google.com/github/ProfAllanIFBA/Matematica_Discreta_I/blob/main/Capitulo008_Funcoes/Capitulo008_Funcoes.ipynb)\n",
    "- [GitHub](https://github.com/ProfAllanIFBA/Matematica_Discreta_I/tree/main/Capitulo008_Funcoes)"
   ]
  },
  {
   "cell_type": "markdown",
   "id": "ae150170",
   "metadata": {},
   "source": [
    "## Aprofundando o Estudo de Funções"
   ]
  },
  {
   "cell_type": "markdown",
   "id": "2644cef7",
   "metadata": {},
   "source": [
    "- [Colab](https://colab.research.google.com/github/ProfAllanIFBA/Matematica_Discreta_I/blob/main/Capitulo009_Aprofundando_o_Estudo_de_Funcoes/Capitulo009_Aprofundando_o_Estudo_de_Funcoes.ipynb)\n",
    "- [GitHub](https://github.com/ProfAllanIFBA/Matematica_Discreta_I/blob/main/Capitulo009_Aprofundando_o_Estudo_de_Funcoes/Capitulo009_Aprofundando_o_Estudo_de_Funcoes.ipynb)"
   ]
  },
  {
   "cell_type": "markdown",
   "id": "f997bb48",
   "metadata": {},
   "source": [
    "## Função Polinomial do Primeiro Grau"
   ]
  },
  {
   "cell_type": "markdown",
   "id": "886e5e44",
   "metadata": {},
   "source": [
    "- [Colab](https://colab.research.google.com/github/ProfAllanIFBA/Matematica_Aplicada/blob/main/Capitulo006_Funcao_Polinomial_do_Primeiro_Grau/Capitulo006_Funcao_Polinomial_do_Primeiro_Grau.ipynb)\n",
    "- [GitHub](https://github.com/ProfAllanIFBA/Matematica_Aplicada/blob/main/Capitulo006_Funcao_Polinomial_do_Primeiro_Grau/Capitulo006_Funcao_Polinomial_do_Primeiro_Grau.ipynb)"
   ]
  },
  {
   "cell_type": "markdown",
   "id": "591903e1",
   "metadata": {},
   "source": [
    "## Função Polinomial do Segundo Grau"
   ]
  },
  {
   "cell_type": "markdown",
   "id": "918f7b50",
   "metadata": {},
   "source": [
    "- [Colab](https://colab.research.google.com/github/ProfAllanIFBA/Matematica_Aplicada/blob/main/Capitulo007_Funcao_Polinomial_do_Segundo_Grau/Capitulo007_Funcao_Polinomial_do_Segundo_Grau.ipynb)\n",
    "- [GitHub](https://github.com/ProfAllanIFBA/Matematica_Aplicada/blob/main/Capitulo007_Funcao_Polinomial_do_Segundo_Grau/Capitulo007_Funcao_Polinomial_do_Segundo_Grau.ipynb)"
   ]
  },
  {
   "cell_type": "markdown",
   "id": "8a799456",
   "metadata": {},
   "source": [
    "## Função Exponencial"
   ]
  },
  {
   "cell_type": "markdown",
   "id": "2b0a8389",
   "metadata": {},
   "source": [
    "- [Colab](https://colab.research.google.com/github/ProfAllanIFBA/Matematica_Aplicada/blob/main/Capitulo008_Funcao_Exponencial/Capitulo008_Funcao_Exponencial.ipynb)\n",
    "- [GitHub](https://github.com/ProfAllanIFBA/Matematica_Aplicada/blob/main/Capitulo008_Funcao_Exponencial/Capitulo008_Funcao_Exponencial.ipynb)"
   ]
  },
  {
   "cell_type": "markdown",
   "id": "2b38cc7c",
   "metadata": {},
   "source": [
    "## Função Logarítmica"
   ]
  },
  {
   "cell_type": "markdown",
   "id": "6cfee9e1",
   "metadata": {},
   "source": [
    "- [Colab](https://colab.research.google.com/github/ProfAllanIFBA/Matematica_Aplicada/blob/main/Capitulo009_Funcao_Logaritmica/Capitulo009_Funcao_Logaritmica.ipynb)\n",
    "- [GitHub](https://github.com/ProfAllanIFBA/Matematica_Aplicada/blob/main/Capitulo009_Funcao_Logaritmica/Capitulo009_Funcao_Logaritmica.ipynb)"
   ]
  },
  {
   "cell_type": "markdown",
   "id": "1687c483",
   "metadata": {},
   "source": [
    "## Link do Simulado (não avaliativo)"
   ]
  },
  {
   "cell_type": "markdown",
   "id": "c7c1e658",
   "metadata": {},
   "source": [
    "Será postado em breve."
   ]
  }
 ],
 "metadata": {
  "kernelspec": {
   "display_name": "Python 3 (ipykernel)",
   "language": "python",
   "name": "python3"
  },
  "language_info": {
   "codemirror_mode": {
    "name": "ipython",
    "version": 3
   },
   "file_extension": ".py",
   "mimetype": "text/x-python",
   "name": "python",
   "nbconvert_exporter": "python",
   "pygments_lexer": "ipython3",
   "version": "3.11.5"
  },
  "varInspector": {
   "cols": {
    "lenName": 16,
    "lenType": 16,
    "lenVar": 40
   },
   "kernels_config": {
    "python": {
     "delete_cmd_postfix": "",
     "delete_cmd_prefix": "del ",
     "library": "var_list.py",
     "varRefreshCmd": "print(var_dic_list())"
    },
    "r": {
     "delete_cmd_postfix": ") ",
     "delete_cmd_prefix": "rm(",
     "library": "var_list.r",
     "varRefreshCmd": "cat(var_dic_list()) "
    }
   },
   "types_to_exclude": [
    "module",
    "function",
    "builtin_function_or_method",
    "instance",
    "_Feature"
   ],
   "window_display": false
  }
 },
 "nbformat": 4,
 "nbformat_minor": 5
}
