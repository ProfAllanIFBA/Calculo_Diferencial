{
 "cells": [
  {
   "cell_type": "markdown",
   "id": "d4ea28a8",
   "metadata": {
    "slideshow": {
     "slide_type": "slide"
    }
   },
   "source": [
    "<center> <img src=\"logo_ifba.jpg\" alt=\"jpg_python\" width=\"100\" height=\"200\"> </center>\n",
    "<br><br>\n",
    "<div align=\"center\"><span style=\"font-size: 26px;\"><strong>Cálculo Diferencial Aplicado à Computação <br></strong></span></div> <br>\n",
    "<center> <img src=\"python_gif.gif\" alt=\"gif_python\" width=\"80\"> </center>"
   ]
  },
  {
   "cell_type": "markdown",
   "id": "d76184a7",
   "metadata": {
    "slideshow": {
     "slide_type": "slide"
    }
   },
   "source": [
    "<div style=\"border: 2px solid black; padding: 10px; width: 95%; background-color: lightgray; display: flex; align-items: center;\">\n",
    "    <h1 style=\"color: red; text-align: center; margin: auto;\">\n",
    "        Capítulo 3: Derivada\n",
    "    </h1>\n",
    "</div>\n",
    "\n",
    "<font color='red'></font>\n",
    "<a href=\"\"></a>"
   ]
  },
  {
   "cell_type": "markdown",
   "id": "1844c7cb",
   "metadata": {},
   "source": [
    "A derivada de uma função representa o conceito matemático de taxa instantânea de variação, medindo como o valor da função muda em resposta a uma variação no seu ponto de entrada. É o principal fundamento do cálculo diferencial. Em um gráfico, a derivada em um ponto corresponde à inclinação da reta tangente à curva da função naquele ponto. A derivada tem aplicações vastas, incluindo problemas de otimização, movimento, crescimento e declínio, e em qualquer contexto onde seja necessário entender como a variação de uma quantidade afeta outra."
   ]
  },
  {
   "cell_type": "markdown",
   "id": "8de9f6a8",
   "metadata": {},
   "source": [
    "# <div style=\"margin-top: -20px;\">\n",
    "<hr style=\"border: 2px solid black;\">\n",
    "\n",
    "<font color='black'><span style=\"font-size: 22px;\"><strong>3.1 Coeficiente Angular da Reta Tangente</strong></span></font>\n",
    "\n",
    "<hr style=\"border: 2px solid black;\">\n",
    "</div>"
   ]
  },
  {
   "cell_type": "markdown",
   "id": "69458203",
   "metadata": {},
   "source": [
    "Na geometria, uma reta tangente $T$ a uma circunferência é uma reta que intercepta a circunferência em um único ponto $P$. Acompanhe a figura a seguir:<br><br>\n",
    "\n",
    "<center> <img src=\"fig3-1.jpg\" alt=\"jpg_python\" width=\"350\" height=\"\"> </center>\n",
    "\n",
    "No cálculo lançaremos mão de um conceito semelhante a este, a tangente a uma função em um ponto. Acompanhe a figura a seguir:<br><br>\n",
    "\n",
    "<center> <img src=\"fig3-2.jpg\" alt=\"jpg_python\" width=\"400\" height=\"\"> </center>"
   ]
  },
  {
   "cell_type": "markdown",
   "id": "9e7aceb1",
   "metadata": {},
   "source": [
    "#### Equação de Uma Reta"
   ]
  },
  {
   "cell_type": "markdown",
   "id": "5f8bf462",
   "metadata": {},
   "source": [
    "Há duas maneiras de se determinar a equação de uma reta. A primeira envolve conhecer dois pontos, $(x_{0},y_{0})$ e $(x_{1},y_{1})$, pelos quais a reta passa. A segunda maneira utiliza a inclinação $m$ da reta e um ponto adicional por onde ela passa. Neste contexto, utilizaremos principalmente a segunda abordagem. Ambos métodos utilizam da fórmula:\n",
    "\n",
    "<font color='red'>$$y - y_{0} = m(x-x_{0})$$\n",
    " ou<br>\n",
    " $$y = mx - mx_{0} + y_{0} \\tag{1}$$</font>\n",
    "\n",
    "em que $m$ vem da relação <font color='red'>$m = \\frac{y_{1}-y_{0}}{x_{1}-x_{0}}$</font>."
   ]
  },
  {
   "cell_type": "markdown",
   "id": "f2718527",
   "metadata": {},
   "source": [
    "####  <font color='blue'> Exemplo 1 </font>"
   ]
  },
  {
   "cell_type": "markdown",
   "id": "cc0449b1",
   "metadata": {},
   "source": [
    "<font color='blue'> Determine: <br><br>\n",
    " a) a equação da reta que passa pelos pontos $(1,1)$ e $(2,3)$.<br><br>\n",
    " b) a equação da reta que passa pelo ponto $(2,1)$ e tem inclinação $m = -1$."
   ]
  },
  {
   "cell_type": "markdown",
   "id": "084530e1",
   "metadata": {},
   "source": [
    "##### <font color='blue'> Solução"
   ]
  },
  {
   "cell_type": "markdown",
   "id": "9c4899a0",
   "metadata": {},
   "source": [
    "<font color='blue'> Temos que:<br><br>\n",
    " a) Considerando $P_{0}(1,1)$ e $P_{1}(2,3)$ devemos, primeiramente, obter a inclinação $m$. Pois bem,<br><br>\n",
    " $$ m = \\frac{y_{1}-y_{0}}{x_{1}-x_{0}} = \\frac{3-1}{2-1} = 2.$$<br>\n",
    " Utilizando a equação da $(1)$, temos:<br><br>\n",
    " $$y - y_{0} = m(x-x_{0}) \\Rightarrow y - 1 = 2(x-1) \\Rightarrow y - 1 = 2x - 2 \\Rightarrow y = 2x -1.$$<br>\n",
    " b) Como já possuímos a inclinação da reta basta usarmos diretamente a equação $(1)$ considerando $P_{0}(2,1)$ e $m = -1$:<br><br>\n",
    " $$y - y_{0} = m(x-x_{0}) \\Rightarrow y - 1 = -1(x-2) \\Rightarrow y - 1 = -x + 2 \\Rightarrow y = -x + 3.$$<br>\n",
    " O código a seguir exibe o gráfico das equações:"
   ]
  },
  {
   "cell_type": "code",
   "execution_count": 1,
   "id": "dcb20dbf",
   "metadata": {
    "ExecuteTime": {
     "end_time": "2024-01-24T14:55:22.843992Z",
     "start_time": "2024-01-24T14:55:19.535717Z"
    },
    "code_folding": []
   },
   "outputs": [
    {
     "data": {
      "image/png": "[encoded data removed]",
      "text/plain": [
       "<Figure size 640x480 with 1 Axes>"
      ]
     },
     "metadata": {},
     "output_type": "display_data"
    }
   ],
   "source": [
    "from numpy import arange, vectorize\n",
    "import matplotlib.pyplot as plt\n",
    "\n",
    "def f(x):\n",
    "    return 2*x-1 # Troque por 2x + 1 por -x + 3\n",
    "\n",
    "f_vectorized = vectorize(f)\n",
    "\n",
    "# Gerando os valores de x\n",
    "x = arange(-4, 4, 0.01)  #Ajuste os limites para \n",
    "\n",
    "# Aplicando a função vetorizada\n",
    "y = f_vectorized(x)\n",
    "\n",
    "# Adicionando linhas de referência (eixos x e y)\n",
    "plt.axhline(0, color='k', linewidth=1)\n",
    "plt.axvline(0, color='k', linewidth=1)\n",
    "\n",
    "# Grade\n",
    "plt.grid()\n",
    "\n",
    "# Plotando o gráfico para a parte negativa e positiva, separadamente\n",
    "plt.plot(x, y, 'b-')\n",
    "\n",
    "# Mostrar o gráfico\n",
    "plt.show()"
   ]
  },
  {
   "cell_type": "markdown",
   "id": "1eed63f2",
   "metadata": {},
   "source": [
    "<font color='blue'> O código a seguir mostra como se calcular a equação da reta nos dois casos expostos acima:"
   ]
  },
  {
   "cell_type": "code",
   "execution_count": 2,
   "id": "570b5b4f",
   "metadata": {
    "ExecuteTime": {
     "end_time": "2024-01-24T14:55:22.852719Z",
     "start_time": "2024-01-24T14:55:22.847005Z"
    }
   },
   "outputs": [],
   "source": [
    "'''\n",
    "Usaremos tuplas para a inserção dos pontos p0(x0,y0) e p1(x1,y1). Neste caso\n",
    "p0[0] = x0, p0[1] = y0, p1[0] = x1 e p1[1] = y1\n",
    "'''\n",
    "\n",
    "# Equações da reta a partir de dois pontos p0(x0,y0) e p1(x1,y1) pertencentes à reta\n",
    "def reta_2pontos(p0,p1):\n",
    "    m = (p1[1]-p0[1])/(p1[0]-p0[0])\n",
    "    \n",
    "    if -m*p0[0] + p0[1] >= 0:\n",
    "        equacao = f'y = {m}x + {-m*p0[0] + p0[1]}'\n",
    "    else:\n",
    "        equacao = f'y = {m}x  {-m*p0[0] + p0[1]}'\n",
    "        \n",
    "    return equacao\n",
    "\n",
    "# Equação da reta a partir de um ponto p0(x0,y0) e a inclinação da reta\n",
    "def reta_ponto_e_inc(p0,m):\n",
    "    \n",
    "    if -m*p0[0] + p0[1] >= 0:\n",
    "        equacao = f'y = {m}x + {-m*p0[0] + p0[1]}'\n",
    "    else:\n",
    "        equacao = f'y = {m}x  {-m*p0[0] + p0[1]}'\n",
    "        \n",
    "    return equacao"
   ]
  },
  {
   "cell_type": "code",
   "execution_count": 3,
   "id": "46a9e405",
   "metadata": {
    "ExecuteTime": {
     "end_time": "2024-01-24T14:55:22.861905Z",
     "start_time": "2024-01-24T14:55:22.853713Z"
    }
   },
   "outputs": [
    {
     "data": {
      "text/plain": [
       "'y = 2.0x  -1.0'"
      ]
     },
     "execution_count": 3,
     "metadata": {},
     "output_type": "execute_result"
    }
   ],
   "source": [
    "reta_2pontos((1,1),(2,3))"
   ]
  },
  {
   "cell_type": "code",
   "execution_count": 4,
   "id": "bef86d16",
   "metadata": {
    "ExecuteTime": {
     "end_time": "2024-01-24T14:55:22.871613Z",
     "start_time": "2024-01-24T14:55:22.864411Z"
    }
   },
   "outputs": [
    {
     "data": {
      "text/plain": [
       "'y = -1x + 3'"
      ]
     },
     "execution_count": 4,
     "metadata": {},
     "output_type": "execute_result"
    }
   ],
   "source": [
    "reta_ponto_e_inc((2,1),-1)"
   ]
  },
  {
   "cell_type": "markdown",
   "id": "90b298b4",
   "metadata": {},
   "source": [
    "#### Inclinação da Reta Tangente a Uma Curva Como Um Limite"
   ]
  },
  {
   "cell_type": "markdown",
   "id": "452bfd83",
   "metadata": {},
   "source": [
    "Seja $P$ um ponto pertencente ao gráfico de uma função $y = f(x)$. Então, as coordenadas de $P$ são $(x,f(x))$. Considere o ponto $Q$ do gráfico que tem abscissa $x + h$. $Q$ está próximo de $P$ se, e somente se, $h$ estiver próximo de $0$ (pois $f$ é uma função contínua). Como a abscissa de $Q$ é $x + h$, a ordenada $y$ de $Q$ deve ser $f(x+h)$.<br><br>\n",
    "\n",
    "<center> <img src=\"fig3-x1.jpg\" alt=\"jpg_python\" width=\"700\" height=\"\"> </center>\n",
    "\n",
    "Por definição de coeficiente angular, a reta $PQ$ terá uma inclinação:\n",
    "\n",
    "$$\\frac{f(x+h)-f(x)}{(x+h)-x} = \\frac{f(x+h)-f(x)}{h}.$$\n",
    "\n",
    "Esta aproximação de $Q$ de $P$ pode ser entendida por meio das secantes passando por $P$ e $Q_{1}$ e por $P$ e $Q_{2}$ conforme a figura a seguir:<br><br>\n",
    "\n",
    "<center> <img src=\"fig3-3.jpg\" alt=\"jpg_python\" width=\"700\" height=\"\"> </center>"
   ]
  },
  {
   "cell_type": "markdown",
   "id": "f61c49d6",
   "metadata": {},
   "source": [
    "####  <font color='red'> Definição 1 </font>"
   ]
  },
  {
   "cell_type": "markdown",
   "id": "0779d919",
   "metadata": {},
   "source": [
    " <font color='red'> Considere uma função contínua em $x_{0}$. Por **reta tangente** ao gráfico de $f$ em $P(x_{0},f(x_{0}))$ queremos dizer a reta que passa por $P$ e tem coeficiente angular<br><br>\n",
    " $$lim_{h \\to 0} \\frac{f(x_{0}+h) - f(x_{0})}{h}.$$\n",
    "    "
   ]
  },
  {
   "cell_type": "markdown",
   "id": "8addd16e",
   "metadata": {},
   "source": [
    "#### Ângulo da Reta Tangente"
   ]
  },
  {
   "cell_type": "markdown",
   "id": "e47bebe8",
   "metadata": {},
   "source": [
    "O ângulo $\\alpha$ que a reta tangente a uma curva em um ponto $P(x_{0},y_{0})$ faz com o eixo-$x$ pode ser obtido tomando-se o arco tangente do limite $lim_{h \\to 0} \\frac{f(x_{0}+h) - f(x_{0})}{h}$.<br><br>\n",
    "<center> <img src=\"fig3-x2.jpg\" alt=\"jpg_python\" width=\"400\" height=\"\"> </center>"
   ]
  },
  {
   "cell_type": "markdown",
   "id": "f6410b4c",
   "metadata": {},
   "source": [
    "####  <font color='blue'> Exemplo 2 </font>"
   ]
  },
  {
   "cell_type": "markdown",
   "id": "05d2c0ef",
   "metadata": {},
   "source": [
    "<font color='blue'> Considerando a função $f(x) = x^{2}$, obtenha:<br><br>\n",
    " a) o coeficiente angular da reta tangente ao gráfico de $f$ no ponto $(1,1)$.<br><br>\n",
    " b) a equação da reta tangente ao gráfico de $f$ no ponto $(1,1)$.<br><br>\n",
    " c) o ângulo entre a reta tangente obtida no item \"b\" e o eixo-$x$."
   ]
  },
  {
   "cell_type": "markdown",
   "id": "fc7ac910",
   "metadata": {},
   "source": [
    "##### <font color='blue'> Solução"
   ]
  },
  {
   "cell_type": "markdown",
   "id": "ce14d9ca",
   "metadata": {},
   "source": [
    "<font color='blue'> Temos que:<br><br>\n",
    " a) O coeficiente angular será dado pelo limite $lim_{h \\to 0} \\frac{f(x_{0}+h) - f(x_{0})}{h}$ para $f(x) = x^{2}$ e $x_{0} = 1$. Pois bem,<br><br>\n",
    " $$lim_{h \\to 0} \\frac{f(x+h) -f(x)}{h} = lim_{h \\to 0} \\frac{(1 + h)^{2} - 1^{2}}{h} = lim_{h \\to 0} \\frac{1^{2} + 2h + h^{2} - 1}{h} =$$<br>\n",
    " $$=lim_{h \\to 0} \\frac{2h + h^{2}}{h} = lim_{h \\to 0} \\frac{h(2 + h)}{h} = lim_{h \\to 0} 2 + h = 2.$$<br>\n",
    " b) De posse do coeficiente angular obtido no item \"a\", basta usarmos a equação $y - y_{0} = m(x-x_{0})$ em que $m = 2$, $x_{0} = 1$ e $y_{0} = 1$. Pois bem,<br><br>\n",
    " $$y - 1 = 2(x-1) \\Rightarrow y = 2x -1.$$<br>\n",
    " Portanto, a equação da reta tangente ao gráfico de $f(x) = x^{2}$ no ponto $(1,1)$ é dada por $t(x) = 2x - 1$.<br><br>\n",
    " c) A inclinação da reta é dada por arctangente de $2$. A célula a seguir nos apresentará a resposta em graus e radianos:"
   ]
  },
  {
   "cell_type": "code",
   "execution_count": 5,
   "id": "58e5bfe7",
   "metadata": {
    "ExecuteTime": {
     "end_time": "2024-01-24T14:55:22.880606Z",
     "start_time": "2024-01-24T14:55:22.873604Z"
    }
   },
   "outputs": [
    {
     "name": "stdout",
     "output_type": "stream",
     "text": [
      "Inclinação = 1.1071487177940904 radianos.\n",
      "Inclinação = 63.43494882292201 graus.\n"
     ]
    }
   ],
   "source": [
    "import numpy as np\n",
    "\n",
    "inclinacao_radianos = np.arctan(2)\n",
    "\n",
    "inclinacao_graus = (180/np.pi)*inclinacao_radianos\n",
    "\n",
    "print(f'Inclinação = {inclinacao_radianos} radianos.')\n",
    "print(f'Inclinação = {inclinacao_graus} graus.')"
   ]
  },
  {
   "cell_type": "markdown",
   "id": "a3f5541e",
   "metadata": {},
   "source": [
    "<font color='blue'> A figura a seguir apresenta um esboço gráfico dos itens \"a\", \"b\" e \"c\":<Br><br>\n",
    " <center> <img src=\"fig3-5.jpg\" alt=\"jpg_python\" width=\"500\" height=\"\"> </center>\n",
    "    "
   ]
  },
  {
   "cell_type": "markdown",
   "id": "7ed06f95",
   "metadata": {},
   "source": [
    "####  <font color='blue'> Exemplo 3 </font>"
   ]
  },
  {
   "cell_type": "markdown",
   "id": "622b772d",
   "metadata": {},
   "source": [
    "<font color='blue'> Determine o coeficiente angular (inclinação) da reta tangente ao gráfico de $f(x) = \\frac{1}{x}$ no ponto de abscissa $x_{0} = a$."
   ]
  },
  {
   "cell_type": "markdown",
   "id": "8fd80907",
   "metadata": {},
   "source": [
    "#####  <font color='blue'> Solução"
   ]
  },
  {
   "cell_type": "markdown",
   "id": "e61f90f1",
   "metadata": {},
   "source": [
    "<font color='blue'> Temos que<br><br>\n",
    " $$lim_{h \\to 0} \\frac{f(a+h) - f(a)}{h} = lim_{h \\to 0} \\frac{\\frac{1}{a + h} - \\frac{1}{a}}{h} = lim_{h \\to 0} \\frac{\\frac{a - (a + h)}{(a + h)a}}{h} =$$<br>\n",
    " $$=lim_{h \\to 0} \\frac{\\frac{-h}{(a + h)a}}{h}  = lim_{h \\to 0} \\frac{-h}{(a + h)a}\\frac{1}{h} = lim_{h \\to 0} \\frac{-1}{(a + h)a} = -\\frac{1}{a^{2}}$$"
   ]
  },
  {
   "cell_type": "markdown",
   "id": "869837ce",
   "metadata": {},
   "source": [
    "# <div style=\"margin-top: -20px;\">\n",
    "<hr style=\"border: 2px solid black;\">\n",
    "\n",
    "<font color='black'><span style=\"font-size: 22px;\"><strong>3.2 A Derivada</strong></span></font>\n",
    "\n",
    "<hr style=\"border: 2px solid black;\">\n",
    "</div>"
   ]
  },
  {
   "cell_type": "markdown",
   "id": "8c2b6b65",
   "metadata": {},
   "source": [
    "A definição de derivada, logo a seguir, decorre imediatamente da **Definição 1** dada na seção anterior."
   ]
  },
  {
   "cell_type": "markdown",
   "id": "e677a180",
   "metadata": {},
   "source": [
    "####  <font color='red'> Definição 2 </font>"
   ]
  },
  {
   "cell_type": "markdown",
   "id": "0caa7a49",
   "metadata": {},
   "source": [
    "<font color='red'> A derivada $f'$ de uma função $f$ é definida pela fórmula:<br><br>\n",
    " $$lim_{h \\to 0} \\frac{f(x+h) -f(x)}{h}.$$"
   ]
  },
  {
   "cell_type": "markdown",
   "id": "f702d49f",
   "metadata": {},
   "source": [
    "####  <font color='blue'> Exemplo 4 </font>"
   ]
  },
  {
   "cell_type": "markdown",
   "id": "53fff0fc",
   "metadata": {},
   "source": [
    "<font color='blue'> Determine a derivada das funções dadas a seguir:<br><br>\n",
    " a) $f(x) = 3x + 4$ $ \\ \\ \\ \\ \\ $ b) $g(x) = 2x^{2} + 1$ $ \\ \\ \\ \\ \\ $ c) $s(x) = \\sqrt{x}$"
   ]
  },
  {
   "cell_type": "markdown",
   "id": "0bd65c76",
   "metadata": {},
   "source": [
    "#####  <font color='blue'> Solução </font>"
   ]
  },
  {
   "cell_type": "markdown",
   "id": "29381cc6",
   "metadata": {},
   "source": [
    "<font color='blue'> Basta calcularmos o limite $lim_{h \\to 0} \\frac{f(x+h) -f(x)}{h}$ para cada uma das funções dadas:<br><br>\n",
    " a) Temos que<br><br>\n",
    " $$f'(x) = lim_{h \\to 0} \\frac{f(x+h) -f(x)}{h} = lim_{h \\to 0} \\frac{3(x+h) + 4 - (3x + 4)}{h} =$$<br>\n",
    " $$=lim_{h \\to 0} \\frac{3x + 3h + 4 - 3x - 4}{h} = lim_{h \\to 0} \\frac{3h}{h} = 3$$<br>\n",
    " b) Temos que<br><br>\n",
    " $$g'(x) = lim_{h \\to 0} \\frac{g(x+h) -g(x)}{h} = lim_{h \\to 0} \\frac{2(x+h)^{2} + 1 - (2x^{2} + 1)}{h} =$$<br>\n",
    " $$=lim_{h \\to 0} \\frac{2(x^{2}+2xh + h^{2}) + 1 - 2x^{2} - 1}{h} = lim_{h \\to 0} \\frac{2x^{2}+4xh + 2h^{2} + 1 - 2x^{2} - 1}{h} =$$<br>\n",
    " $$=lim_{h \\to 0} \\frac{4xh + 2h^{2}}{h} = lim_{h \\to 0} \\frac{h(4x + 2h)}{h} = lim_{h \\to 0} 4x + 2h = 4x$$<br>\n",
    " c) Temos que<br><br>\n",
    " $$s'(x) = lim_{h \\to 0} \\frac{s(x+h)-s(x)}{h} = lim_{h \\to 0} \\frac{\\sqrt{x+h} -\\sqrt{x}}{h} = lim_{h \\to 0} \\frac{\\sqrt{x+h} -\\sqrt{x}}{h}\\frac{\\sqrt{x+h} +\\sqrt{x}}{\\sqrt{x+h} +\\sqrt{x}} = $$<br>\n",
    " $$=lim_{h \\to 0} \\frac{\\sqrt{x+h}^{2} -\\sqrt{x}^{2}}{h\\left(\\sqrt{x+h} +\\sqrt{x}\\right)} = lim_{h \\to 0} \\frac{\\left(x+h\\right) -\\left(x\\right)}{h\\left(\\sqrt{x+h} +\\sqrt{x}\\right)} = lim_{h \\to 0} \\frac{h}{h\\left(\\sqrt{x+h} +\\sqrt{x}\\right)} =$$<br>\n",
    " $$=lim_{h \\to 0} \\frac{1}{\\sqrt{x+h} +\\sqrt{x}} = \\frac{1}{2\\sqrt{x}}$$\n"
   ]
  },
  {
   "cell_type": "markdown",
   "id": "dc26689c",
   "metadata": {},
   "source": [
    "# <div style=\"margin-top: -20px;\">\n",
    "<hr style=\"border: 2px solid black;\">\n",
    "\n",
    "<font color='black'><span style=\"font-size: 22px;\"><strong>3.3 Teoremas e Regras de Derivação</strong></span></font>\n",
    "\n",
    "<hr style=\"border: 2px solid black;\">\n",
    "</div>"
   ]
  },
  {
   "cell_type": "markdown",
   "id": "42c8159e",
   "metadata": {},
   "source": [
    "Apresentaremos algumas regras básicas que nos auxiliarão no cálculo de derivadas:"
   ]
  },
  {
   "cell_type": "markdown",
   "id": "c735d85e",
   "metadata": {},
   "source": [
    "####  <font color='red'> Teorema 1 </font>"
   ]
  },
  {
   "cell_type": "markdown",
   "id": "2d878628",
   "metadata": {},
   "source": [
    "<font color='red'> A derivada de uma função constante $f(x) = k$ é igual a zero."
   ]
  },
  {
   "cell_type": "markdown",
   "id": "832cde6a",
   "metadata": {},
   "source": [
    "##### <font color='red'> Demonstração"
   ]
  },
  {
   "cell_type": "markdown",
   "id": "d52297ee",
   "metadata": {},
   "source": [
    "<font color='red'> De fato,<br><br>\n",
    " $$lim_{h \\to 0} \\frac{f(x+h)-f(x)}{h} = lim_{h \\to 0} \\frac{k-k}{h} = lim_{h \\to 0} \\frac{0}{h} = 0.$$"
   ]
  },
  {
   "cell_type": "markdown",
   "id": "692f47af",
   "metadata": {},
   "source": [
    "####  <font color='red'> Teorema 2 </font>"
   ]
  },
  {
   "cell_type": "markdown",
   "id": "94a6a037",
   "metadata": {},
   "source": [
    "<font color='red'> A derivada da função identidade $f(x) = x$ é igual a $1$."
   ]
  },
  {
   "cell_type": "markdown",
   "id": "92ec9beb",
   "metadata": {},
   "source": [
    "##### <font color='red'> Demonstração"
   ]
  },
  {
   "cell_type": "markdown",
   "id": "5029e2b7",
   "metadata": {},
   "source": [
    "<font color='red'> De fato,<br><br>\n",
    " $$lim_{h \\to 0} \\frac{f(x+h)-f(x)}{h} = lim_{h \\to 0} \\frac{(x+h)-x}{h} = lim_{h \\to 0} \\frac{h}{h} = lim_{h \\to 0} 1 = 1.$$"
   ]
  },
  {
   "cell_type": "markdown",
   "id": "cd4c6796",
   "metadata": {},
   "source": [
    "####  <font color='red'> Teorema 3 </font>"
   ]
  },
  {
   "cell_type": "markdown",
   "id": "c8ff6b86",
   "metadata": {},
   "source": [
    "<font color='red'> A derivada de uma função polinomial do primiero grau $f(x) = ax + b$ vale $a$."
   ]
  },
  {
   "cell_type": "markdown",
   "id": "ded5adc5",
   "metadata": {},
   "source": [
    "##### <font color='red'> Demonstração"
   ]
  },
  {
   "cell_type": "markdown",
   "id": "d165c76e",
   "metadata": {},
   "source": [
    "<font color='red'> "
   ]
  },
  {
   "cell_type": "markdown",
   "id": "6810ad6d",
   "metadata": {},
   "source": [
    "<font color='red'> De fato,<br><br>\n",
    " $$lim_{h \\to 0} \\frac{f(x+h)-f(x)}{h} = lim_{h \\to 0} \\frac{a(x+h) + b - (ax + b)}{h} = lim_{h \\to 0} \\frac{ah}{h} = lim_{h \\to 0} \\ a = a.$$"
   ]
  },
  {
   "cell_type": "markdown",
   "id": "8b6ec840",
   "metadata": {},
   "source": [
    "####  <font color='blue'> Exemplo 5 </font>"
   ]
  },
  {
   "cell_type": "markdown",
   "id": "353dbfb3",
   "metadata": {},
   "source": [
    "<font color='blue'> Determine a derivada das funções a seguir:<br><br>\n",
    " a) $f(x)  = 3$ $\\ \\ \\ \\ \\ $ b) $g(x) = 4x - 2$"
   ]
  },
  {
   "cell_type": "markdown",
   "id": "2e383fbd",
   "metadata": {},
   "source": [
    "#####  <font color='blue'> Solução </font>"
   ]
  },
  {
   "cell_type": "markdown",
   "id": "ddd57d08",
   "metadata": {},
   "source": [
    "<font color='blue'> Temos que<br><br>\n",
    " a) $f'(x) = D_{x}(3) = 0$ (**Teorema 1**)<br><br>\n",
    " b) $g'(x) = D_{x}(4x - 2) = 4$ (**Teorema 3**)<br><br>\n",
    " *A notação $D_{x}(f)$ indica a derivada da função $f$ em relação à variável $x$.*"
   ]
  },
  {
   "cell_type": "markdown",
   "id": "cd9e0015",
   "metadata": {},
   "source": [
    "####  <font color='red'> Teorema 4 </font>"
   ]
  },
  {
   "cell_type": "markdown",
   "id": "c47dcbe7",
   "metadata": {},
   "source": [
    "<font color='red'> (i) **Regra da Soma**: Se $f$ e $g$ são funções diferenciáveis, então <br><br>\n",
    " $$D_{x}((f+g)(x)) = D_{x}(f(x)) + D_{x}(g(x)).$$<br>\n",
    " <font color='blue'> Por exemplo,<br><br>\n",
    "  $D_{x}(3x + \\sqrt{x}) = D_{x}(3x) + D_{x}(\\sqrt{x}) = 3 + \\frac{1}{2\\sqrt{x}}.$"
   ]
  },
  {
   "cell_type": "markdown",
   "id": "9c8d779f",
   "metadata": {},
   "source": [
    "<font color='red'>(ii) **Regra da Diferença**: Se $f$ e $g$ são funções diferenciáveis, então <br><br>\n",
    " $$D_{x}((f-g)(x)) = D_{x}(f(x)) - D_{x}(g(x)).$$<br>\n",
    " <font color='blue'> Por exemplo,<br><br>\n",
    "  $D_{x}(4x - 5) = D_{x}(4x) - D_{x}(5) = 4 - 0 = 4.$"
   ]
  },
  {
   "cell_type": "markdown",
   "id": "54a95b54",
   "metadata": {},
   "source": [
    "<font color='red'> (iii) **Regra do Produto**: Se $f$ e $g$ são funções diferenciáveis, então<br><br>\n",
    " $$D_{x}((f\\cdot g)(x)) = f(x)\\cdot D_{x}(g(x)) + g(x)\\cdot D_{x}(f(x)).$$<br>\n",
    " <font color='blue'> Por exemplo,<br><br>\n",
    "  $D_{x}((3x(x+2)) = 3xD_{x}(x+2) + (x+2)D_{x}(3x) = 3x\\cdot1 + (x + 2) \\cdot3 = 3x + 3x + 6 = 6x + 6.$"
   ]
  },
  {
   "cell_type": "markdown",
   "id": "a302b132",
   "metadata": {},
   "source": [
    "<font color='red'>(iv) **Regra do Quociente**: Se $f$ e $g$ são funções diferenciáveis, então<br><br>\n",
    " $$D_{x}\\left(\\left(\\frac{f}{g}\\right)(x)\\right) = \\frac{g(x)\\cdot D_{x}(f(x)) - f(x)\\cdot D_{x}(g(x))}{(g(x))^{2}}$$<br>\n",
    " neste último caso, considerando pontos nos quais $g(x) \\neq 0$.<br><br>\n",
    "  <font color='blue'> Por exemplo,<br><br>\n",
    "  $D_{x}\\left(\\frac{1}{x}\\right) = \\frac{xD_{x}(1) - 1D_{x}(x)}{x^{2}} = \\frac{x\\cdot0 - 1\\cdot1}{x^{2}} = \\frac{-1}{x^{2}}$"
   ]
  },
  {
   "cell_type": "markdown",
   "id": "cda8e17b",
   "metadata": {},
   "source": [
    "<font color='red'> (v) **Regra da Potência**: $D_{x}(x^{n}) = nx^{n-1}$.<br><br>\n",
    "  <font color='blue'> Por exemplo,<br><br>\n",
    "  $D_{x}(x^{5}) = 5x^{5-1} = 5x^{4}.$"
   ]
  },
  {
   "cell_type": "markdown",
   "id": "b4e446aa",
   "metadata": {},
   "source": [
    "##### <font color='red'> Demonstração"
   ]
  },
  {
   "cell_type": "markdown",
   "id": "59f95369",
   "metadata": {},
   "source": [
    "<font color='red'> *Antes de ver as demonstrações siga para **Exemplo 6** no qual as regras apresentadas são facilmente aplicadas.*<br><br>\n",
    " (i) **Regra da Soma**: De fato,<br><br>\n",
    " $$D_{x}((f+g)(x)) = lim_{h \\to 0} \\frac{(f+g)(x+h) - (f+g)(x)}{h} = lim_{h \\to 0} \\frac{(f(x+h) + g(x+h)) - (f(x) + g(x))}{h} = $$<br>\n",
    " $$= lim_{h \\to 0} \\frac{(f(x+h) - f(x)) + (g(x+h) - g(x))}{h} = lim_{h \\to 0} \\frac{(f(x+h) - f(x))}{h} + lim_{h \\to 0} \\frac{(g(x+h) - g(x))}{h} =$$<br>\n",
    " $$= D_{x}(f(x)) + D_{x}(g(x))$$<br>\n",
    " (ii) **Regra da Diferença**: Siga o mesmo raciocínio empregado na demonstração da regra da soma.<br><br>\n",
    " (iii) **Regra do Produto**: Temos que<br><br>\n",
    " $$D_{x}((f\\cdot g)(x)) = lim_{h \\to 0} \\frac{(f\\cdot g)(x+h) - (f\\cdot g)(x)}{h} = lim_{h \\to 0} \\frac{f(x+h)\\cdot g(x+h) - f(x)\\cdot g(x)}{h}$$<br><br>\n",
    " Somando $f(x+h)g(x) - f(x+h)g(x)$ (que vale $0$) aos termos do denominador da expressão anterior e colocando em evidência alguns termos, teremos:<br><br>\n",
    " $$lim_{h \\to 0} \\frac{f(x+h)\\cdot g(x+h) - f(x)\\cdot g(x) + f(x+h)g(x) - f(x+h)g(x)}{h} = $$<br>\n",
    " $$=lim_{h \\to 0} \\frac{f(x+h)(g(x+h) - g(x)) + g(x)(f(x+h)-f(x))}{h} = $$<br>\n",
    " $$=lim_{h \\to 0} \\frac{f(x+h)(g(x+h) - g(x))}{h} + lim_{h \\to 0}\\frac{g(x)(f(x+h)-f(x))}{h} =$$<br>\n",
    " $$=lim_{h \\to 0} f(x+h)lim_{h \\to 0}\\frac{g(x+h) - g(x)}{h} + g(x)lim_{h \\to 0}\\frac{f(x+h)-f(x)}{h} = f(x) \\cdot D_{x}(g(x)) + g(x)\\cdot D_{x}(f(x)).$$<br>\n",
    " (iv) **Regra do Quociente**: Temos que<br><br>\n",
    " $$D_{x}\\left(\\left(\\frac{f}{g}\\right)(x)\\right) = lim_{h \\to 0} \\frac{\\left(\\frac{f}{g}\\right)(x+h) -\\left(\\frac{f}{g}\\right)(x)}{h} = lim_{h \\to 0} \\frac{\\frac{f(x+h)}{g(x+h)} -\\frac{f(x)}{g(x)}}{h} = $$<br>\n",
    " $$=lim_{h \\to 0} \\frac{\\frac{f(x+h)g(x) - f(x)g(x+h)}{g(x+h)g(x)}}{h} = lim_{h \\to 0} \\frac{f(x+h)g(x) - f(x)g(x+h)}{hg(x+h)g(x)} = $$<br>\n",
    " Somando $f(x)g(x) - f(x)g(x)$ (que vale $0$) aos termos do denominador da expressão anterior e colocando em evidência alguns termos, teremos:<br><br>\n",
    " $$lim_{h \\to 0} \\frac{f(x+h)g(x) - f(x)g(x+h) + f(x)g(x) - f(x)g(x)}{hg(x+h)g(x)} =$$<br>\n",
    " $$=lim_{h \\to 0} \\frac{g(x)(f(x+h)-f(x)) - f(x)(g(x+h) - g(x))}{hg(x+h)g(x)} = $$<br>\n",
    " $$=\\left(g(x)\\cdot lim_{h \\to 0} \\frac{f(x+h)-f(x)}{h} - f(x) \\cdot lim_{h \\to 0} \\frac{g(x+h) - g(x)}{h}\\right)lim_{h \\to 0} \\frac{1}{g(x+h)g(x)} = $$<br>\n",
    " $$ = \\left(g(x)f'(x) - f(x)g'(x)\\right)\\frac{1}{(g(x))^{2}} = \\frac{g(x)f'(x) - f(x)g'(x)}{(g(x))^{2}}$$<br>\n",
    " (v) **Regra da Potência**: Temos que<br><br>\n",
    " $$D_{x}(x^{n}) = lim_{h \\to 0} \\frac{(x+h)^{n} - x^{n}}{h} = $$<br>\n",
    " $$= lim_{h \\to 0} \\frac{x^{n} + nx^{n-1}h + \\frac{n(n-1)}{2}x^{n-2}h^{2} + \\ldots + nxh^{n-1} + h^{n} - x^{n}}{h}=$$<br>\n",
    " $$ = lim_{h \\to 0} \\frac{h\\left(nx^{n-1} + \\frac{n(n-1)}{2}x^{n-2}h + \\ldots + nxh^{n-2} + h^{n-1}\\right)}{h}=$$<br>\n",
    " $$ = lim_{h \\to 0} nx^{n-1} + \\frac{n(n-1)}{2}x^{n-2}h + \\ldots + nxh^{n-2} + h^{n-1}= nx^{n-1}$$<br>\n",
    " *A a fórmula<br><br>\n",
    "  $$(x+h)^{n} = \\sum_{k=0}^{n}\\binom{n}{k}x^{n-k}y^{k} = x^{n} + nx^{n-1}h + \\frac{n(n-1)}{2}x^{n-2}h^{2} + \\ldots + nxh^{n-1} + h^{n}$$<br>\n",
    "  é conhecida como **expansão binomial** ou **Binômio de Newton***."
   ]
  },
  {
   "cell_type": "markdown",
   "id": "1610ad19",
   "metadata": {},
   "source": [
    "####  <font color='blue'> Exemplo 6 </font>"
   ]
  },
  {
   "cell_type": "markdown",
   "id": "2d78eeb9",
   "metadata": {},
   "source": [
    "<font color='blue'> Utilize os **Teoremas 1**, **2**, **3** e **4** para calcular as derivadas das funções dadas a seguir:<br><br>\n",
    " a) $f(x) = 3x - 7$ $\\ \\ \\ \\ \\ $ b) $g(x) = \\frac{1}{2}x^{2} - 3x + 1$ $\\ \\ \\ \\ \\ $ c) $h(x) = \\frac{1}{x^{3}}$ $\\ \\ \\ \\ \\ $ d) $i(x) = \\sqrt[3]{x^{2}}$<br><br>\n",
    " e) $j(x) = (x^{2} + 1)(2x - 3)$ $\\ \\ \\ \\ \\ $ f) $k(x) = \\frac{3x^{2} + x}{3-x^{4}}$"
   ]
  },
  {
   "cell_type": "markdown",
   "id": "1147aab1",
   "metadata": {},
   "source": [
    "#####  <font color='blue'> Solução </font>"
   ]
  },
  {
   "cell_type": "markdown",
   "id": "20cf3b85",
   "metadata": {},
   "source": [
    "<font color='blue'> Temos que<br><br>\n",
    " a) Podemos usar a **Regra da Subtração**<br><br>\n",
    " $$D_{x}(f(x)) = D_{x}(3x -7) = D_{x}(3x) - D_{x}(7) = 3D_{x}(x) - 0 = 3\\cdot 1 = 3$$<br>\n",
    " ou simplesmente, aplicamos o **Teorema 3**<br><br>\n",
    " $$D_{x}(3x-7) = 3$$<br>\n",
    " b) $$D_{x}(g(x)) = D_{x}\\left(\\frac{1}{2}x^{2} - 3x + 1\\right) = D_{x}\\left(\\frac{1}{2}x^{2}\\right) - D_{x}(3x) + D_{x}(1) =$$<br>\n",
    " $$ = \\frac{1}{2}D_{x}(x^{2}) - 3D_{x}(x) + 0 = \\frac{1}{2}2x^{2-1} - 3\\cdot 1 = x - 3$$<br>\n",
    " c) Podemos a usar a **Regra da Potência**<br><br>\n",
    " $$D_{x}\\left(\\frac{1}{x^{3}}\\right) = D_{x}(x^{-3}) = -3x^{-3-1} = -3x^{-4} = -\\frac{3}{x^{4}}$$<br>\n",
    " d) Podemos reescrever o radical como uma pontência e usar a **Regra da Potência**<br><br>\n",
    " $$D_{x}(i(x)) = D_{x}\\left(\\sqrt[3]{x^{2}}\\right) = D_{x}\\left(x^{\\frac{2}{3}}\\right) = \\frac{2}{3}x^{\\frac{2}{3} - 1} = \\frac{2}{3}x^{-\\frac{1}{3}} = \\frac{2}{3}\\frac{1}{x^{\\frac{1}{3}}} = \\frac{2}{3\\sqrt[3]{x}}$$<br>\n",
    " e) Utilizaremos a **Regra do Produto** considerando as funções de suporte $A(x) = x^{2} + 1$ e $B(x) = 2x - 3$. Facilmente obtemos que $D_{x}(A(x)) = 2x$ e $D_{x}(B(x)) = 2$. Usando a regra $D_{x}(A(x)\\cdot B(x)) = A(x)D_{x}(B(x)) + B(x)D_{x}(A(x))$, temos:<br><br>\n",
    " $$D_{x}(j(x)) = (x^{2} + 1)\\cdot 2 + 2x\\cdot(2x-3) = 2x^{2} + 2 + 4x^{2} - 6x = 6x^{2} - 6x + 2$$<br>\n",
    " f) Utilizaremos a **Regra do Quociente** considerando as funções de suporte $A(x) = 3x^{2} + x$ e $B(x) = 3 - x^{4}$. Facilmente obtemos que $D_{x}(A(x)) = 6x + 1$ e $D_{x}(B(x)) = -4x^{3}$. Usando a regra $D_{x}\\left(\\frac{A(x)}{B(x)}\\right) = \\frac{B(x)D_{x}(A(x)) - A(x)D_{x}(B(x))}{(B(x))^{2}}$, temos:<br><br>\n",
    " $$D_{x}(k(x)) = \\frac{(3-x^{4})(6x + 1) - (3x^{2} + x)(-4x^{3})}{(3-x^{4})^{2}} = \\frac{18x + 3 - 6x^{5} - x^{4} + 12x^{5} + 4x^{4}}{(3-x^{4})^{2}} =$$<br>\n",
    " $$ = \\frac{6x^{5} + 3x^{4} + 18x + 3}{(3-x^{4})^{2}}$$"
   ]
  },
  {
   "cell_type": "markdown",
   "id": "f2dd2720",
   "metadata": {},
   "source": [
    "####  <font color='red'> Teorema 5</font>"
   ]
  },
  {
   "cell_type": "markdown",
   "id": "54fecfe0",
   "metadata": {},
   "source": [
    "<font color='red'> **Regra da Cadeia**: Se $f$ é diferenciável no ponto $x = a$ e $g$ é diferenciável no ponto $y = f(a)$, então a composição $g \\circ f$ é diferenciável em $x = a$ e vale a seguinte fórmula:<br><br>\n",
    " $$(g(f(x)))'_{x = a} = g'(f(x)) \\cdot f'(x)_{x = a}$$"
   ]
  },
  {
   "cell_type": "markdown",
   "id": "2f488468",
   "metadata": {},
   "source": [
    "*Por questões de simplicidade optamos por usar a notação compacta $f'$ ao invés de $D_{x}(f(x))$.*"
   ]
  },
  {
   "cell_type": "markdown",
   "id": "00cb708e",
   "metadata": {},
   "source": [
    "####  <font color='blue'> Exemplo 7 </font>"
   ]
  },
  {
   "cell_type": "markdown",
   "id": "af8d4130",
   "metadata": {},
   "source": [
    "<font color='blue'> Calcule a derivada das seguintes funções:<br><br>\n",
    " a) $r(x) = (x^{3} - 2x + 1)^{2}$ $\\ \\ \\ \\ \\ $ b) $s(x) = \\sqrt[3]{2x + 3}$"
   ]
  },
  {
   "cell_type": "markdown",
   "id": "46497262",
   "metadata": {},
   "source": [
    "#####  <font color='blue'> Solução </font>"
   ]
  },
  {
   "cell_type": "markdown",
   "id": "990e02ea",
   "metadata": {},
   "source": [
    "<font color='blue'> Temos que<br><br>\n",
    " a) Utilizemos a **Regra da Cadeia** apresentada no **Teorema 5** para derivar a função $r(x) = (x^{3} - 2x + 1)^{2}$ considerando $f(x) = x^{3} - 2x + 1$ e $g(y) = y^{2}$ (vamos usar $y$ ao invés de $x$ para a função externa). Facilmente obtemos $f'(x) = 3x^{2} - 2$ e $g'(y) = 2y$. Aplicando a regra $(g(f(x))' = g'(f(x))\\cdot f'(x)$, temos:<br><br>\n",
    " $$D_{x}\\left((x^{3} - 2x + 1)^{2}\\right) = 2y(3x^{2} - 2) = 2(x^{3} - 2x + 1)(3x^{2} - 2)$$<br>\n",
    " b) Utilizemos a **Regra da Cadeia** apresentada no **Teorema 5** para derivar a função $s(x) = \\sqrt[3]{2x + 3}$ considerando $f(x) = 2x + 3$ e $g(y) = \\sqrt[3]{y}$. Facilmente obtemos $f'(x) = 2$ e $g'(y) = \\frac{1}{3\\sqrt[3]{y^{2}}}$. Aplicando a regra $(g(f(x)))' = g'(f(x))\\cdot f'(x)$, temos:<br><br>\n",
    " $$D_{x}\\left(\\sqrt[3]{2x + 3}\\right) = \\frac{1}{3\\sqrt[3]{y^{2}}} \\cdot 2 = \\frac{2}{3\\sqrt[3]{(2x+3)^{2}}}$$"
   ]
  },
  {
   "cell_type": "markdown",
   "id": "87039e33",
   "metadata": {},
   "source": [
    "#### Observação 1"
   ]
  },
  {
   "cell_type": "markdown",
   "id": "729f2ce7",
   "metadata": {},
   "source": [
    "Observe que os argumentos das funções dadas nos **Teorema 1** ao **5** são a letra $x$, nossa variável de costume. Contudo, não há uma letra padrão. Por exemplo, ao escrevermos $D_{t}(t^{2})$ estamos dizendo estar derivando a função $f(t) = t^{2}$ em relação à variável $t$. Neste caso, $D_{t}(t^{2}) = 2t$. Por outro lado, se escrevermos $D_{x}(t^{2})$ estaremos derivando a função $f(t) = t^{2}$ em relação à variável $x$. Teremos portanto uma função constante em relação à variável $x$, donde segue que $D_{x}(t^{2}) = 0$. Uma outra notação para a derivada de uma função em relação à certa variável é $\\frac{df}{dx}$. Esta última será bastante útil em algumas situações."
   ]
  },
  {
   "cell_type": "markdown",
   "id": "c238e1b7",
   "metadata": {},
   "source": [
    "# <div style=\"margin-top: -20px;\">\n",
    "<hr style=\"border: 2px solid black;\">\n",
    "\n",
    "<font color='black'><span style=\"font-size: 22px;\"><strong>3.4 Derivadas de Funções Básicas</strong></span></font>\n",
    "\n",
    "<hr style=\"border: 2px solid black;\">\n",
    "</div>"
   ]
  },
  {
   "cell_type": "markdown",
   "id": "910ebc01",
   "metadata": {},
   "source": [
    "Até o presente momento nos atemos somente à derivada de funções polinomiais, funções racionais e funções pontências $x^{k}$ com $k$ não inteiro. Contudo, existem muitas outras funções importantes como as exponenciais, logarítmicas, trigonométricas entre outras. Apresentaremos as seguir (**Teorema 6**) algumas destas funções e suas respectivas derivadas. Em princípio, por questões de tempo, apenas apresentaremos tais derivadas sem uma prova rigorosa."
   ]
  },
  {
   "cell_type": "markdown",
   "id": "0e6ebd59",
   "metadata": {},
   "source": [
    "####  <font color='red'> Teorema 6</font>"
   ]
  },
  {
   "cell_type": "markdown",
   "id": "335f4cbb",
   "metadata": {},
   "source": [
    "<font color='red'> **i. Funções Trigonométricas**<br><br>- $ D_{x}(sen(x)) = cos(x) $<br><br>\n",
    "    - $ D_{x}(cos(x)) = -sen(x) $<br><br>\n",
    "    - $ D_{x}(tan(x)) = sec^{2}(x) $<br><br>\n",
    " **ii. Funções Exponencial**<br><br>\n",
    "    - $ D_{x}(e^{x}) = e^{x} $ em que $e = 2.718281828459...$ <br><br>\n",
    "    - $ D_{x}(a^x) = a^x\\ln a $<br><br>\n",
    " **iii. Funções Logarítmicas**<br><br>\n",
    "    - $ D_{x}(ln(x)) = \\frac{1}{x} $<br><br>\n",
    "    - $ D_{x}(log_{b}(x)) = \\frac{1}{xln(b)} $<br><br>\n",
    " **iv. Funções Trigonométricas Inversas**<br><br>\n",
    "    - $ D_{x}(sen^{-1}(x)) = \\frac{1}{\\sqrt{1-x^2}} $<br><br>\n",
    "    - $ D_{x}(cos^{-1}(x)) = -\\frac{1}{\\sqrt{1-x^2}} $<br><br>\n",
    "    - $ D_{x}(tan^{-1}(x)) = \\frac{1}{1+x^2} $<br><br>\n",
    " **v. Funções Hiperbólicas**<br><br>\n",
    "    - $ D_{x}(senh(x)) = cosh(x) $<br><br>\n",
    "    - $ D_{x}(cosh(x)) = senh(x) $<br><br>\n",
    "    - $ D_{x}(tanh(x)) = sech^{2}(x) $<br><br>\n",
    " **vi. Funções Hiperbólicas Inversas**<br><br>\n",
    "    - $ D_{x}(senh^{-1}(x)) = \\frac{1}{\\sqrt{x^2 + 1}} $<br><br>\n",
    "    - $ D_{x}(cosh^{-1}(x)) = \\frac{1}{\\sqrt{x^2 - 1}} $<br><br>\n",
    "    - $ D_{x}(tanh^{-1}(x)) = \\frac{1}{1 - x^2} $<br><br>"
   ]
  },
  {
   "cell_type": "markdown",
   "id": "3115e8f6",
   "metadata": {},
   "source": [
    "Nos exemplos que se seguirão e também no escopo geral da matéria nos ateremos principalmente aos três primeiro tipos de funções, isto é, as trigonométricas, as exponenciais e as logarítmicas."
   ]
  },
  {
   "cell_type": "markdown",
   "id": "f3521f9c",
   "metadata": {},
   "source": [
    "#### Observação 2"
   ]
  },
  {
   "cell_type": "markdown",
   "id": "9f1f4349",
   "metadata": {},
   "source": [
    "Os argumentos das funções apresentadas no **Teorema 6** são a letra $x$ de modo que tudo que tratamos na **Observação 1** continua válido. Contudo, ocorre, em muitos casos de termos argumentos formados por outras funções por meio de composição. Neste caso, qualquer coisa diferente de $x$ (ou $t$ para $D_{t}$, $s$ para $D_{s}$) como por exemplo $cos(x+1)$, $e^{3x^{2} + 3}$, $sen(\\pi x)$ etc será tratado como uma função coposta e seguirá, adicionalmente, a **Regra da Cadeia** (**Teorema 5**). É comum em muitos livros escrever suas tabelas de derivadas, por exemplo, $D_{x}(sen(u)) = cos(u)u'$, em que $u = u(x)$ é uma função de $x$."
   ]
  },
  {
   "cell_type": "markdown",
   "id": "377d76e9",
   "metadata": {},
   "source": [
    "####  <font color='blue'> Exemplo 8 </font>"
   ]
  },
  {
   "cell_type": "markdown",
   "id": "cb4c6a9d",
   "metadata": {},
   "source": [
    "<font color='blue'> Calcule a derivada das seguintes funções:<br><br>\n",
    " a) $f(x) = -cos(x)$ $\\ \\ \\ \\ \\ $ b) $g(x) = 3e^{x}$ $\\ \\ \\ \\ \\ $ c) $h(x) = tan(3x+1) $ $\\ \\ \\ \\ \\ $ d) $i(x) = 3x^{2} + e^{x^{2}}$ $\\ \\ \\ \\ \\ $ e) $j(x) = 2^{x}$<br><br>\n",
    " f) $k(x) = 3^{sen(x)}$ $\\ \\ \\ \\ \\ $ g) $l(x) = ln(x) + 3x - 1$ $\\ \\ \\ \\ \\ $ h) $m(x) = log_{2}(x)$ $\\ \\ \\ \\ \\ $ i) $n(x) = log_{3}(x^{2} + 1)$<br><br>\n",
    " j) $o(x) = e^{x}sen(x) $ $\\ \\ \\ \\ \\ $ k) $p(x) = \\frac{sen(x)}{cos(x) + 1}$ $\\ \\ \\ \\ \\ $ l) $q(x) = 2^{x}x^{2} + tan(x)$ $\\ \\ \\ \\ \\ $ m) $r(x) = \\sqrt{sen(x)}$<br><br>\n",
    " n) $s(x) = \\frac{1 - cos(x)}{e^{2x}}$ $\\ \\ \\ \\ \\ $ o) $t(x) = sen(e^{x^{2}+1})$"
   ]
  },
  {
   "cell_type": "markdown",
   "id": "8a32fba0",
   "metadata": {},
   "source": [
    "#####  <font color='blue'> Solução </font>"
   ]
  },
  {
   "cell_type": "markdown",
   "id": "057b5ffc",
   "metadata": {},
   "source": [
    "<font color='blue'> a) Temos que<br><br>\n",
    " $$D_{x}(f(x)) = D_{x}(-cos(x)) = -D_{x}(cos(x)) = - (-sen(x)) = sen(x)$$<br>\n",
    " b) Temos que<br><br>\n",
    " $$D_{x}(g(x)) = D_{x}(3e^{x}) = 3D_{x}(e^{x}) = 3e^{x}$$<br>\n",
    " c) Neste caso devemos usar a regra da cadeia considerando $h(x) = B(A(x))$ com $A(x) = 3x + 1$ $(\\Rightarrow A'(x) = 3)$ e $B(y) = tan(y)$ $(\\Rightarrow B'(y) = sec^{2}(y))$. Assim,<br><br>\n",
    " $$D_{x}(h(x)) = B'(y)\\cdot A'(x) = tan'(y)\\cdot (3x + 1)' = sec^{2}(y) \\cdot 3 = 3sec^{2}(3x+1)$$<br>\n",
    " d) Novamente, devemos usar a regra da cadeia ao termo $e^{x^{2}}$ considerando $A(x) = x^{2}$ $(\\Rightarrow A'(x) = 2x)$ e $B(y) = e^{y}$ $(\\Rightarrow B'(y) = e^{y})$. Neste caso,<br><br>\n",
    " $$D_{x}(e^{x^{2}}) = (e^{y})'(x^{2})' = e^{y}\\cdot 2x = 2xe^{x^{2}}.$$\n",
    " Assim,<br><br>\n",
    " $$D_{x}(i(x)) = D_{x}\\left(3x^{2} + e^{x^{2}}\\right) = D_{x}(3x^{2}) + D_{x}\\left(e^{x^{2}}\\right) = 6x + 2xe^{x^{2}} = 2x\\left(3 + e^{x^{2}}\\right)$$<br>\n",
    " e) Temos que<br><br>\n",
    " $$D_{x}(j(x)) = D_{x}(2^{x}) = 2^{x}ln(2)$$<br>\n",
    " f) Novamente, devemos usar a regra da cadeia à função $k(x) = 3^{sen(x)}$, considerando $k(x) = B(A(x))$ com $A(x) = sen(x)$ $(\\Rightarrow A'(x) = cos(x))$ e $B(y) = 3^{y}$ $(\\Rightarrow B'(y) = 3^{y}ln(3))$. Assim,<br><br>\n",
    " $$D_{x}(k(x) = D_{x}\\left(3^{sen(x)}\\right) = \\left(3^{y}\\right)'(sen(x))' = 3^{y}ln(3)cos(x) = ln(3)3^{sen(x)}cos(x)$$<br>\n",
    " g) Temos que<br><br>\n",
    " $$D_{x}(l(x)) = D_{x}(ln(x) + 3x - 1) = D_{x}(ln(x)) + D_{x}(3x) + D_{x}(-1) = \\frac{1}{x} + 3 + 0 = 3 + \\frac{1}{x}$$<br>\n",
    " h) Temos que<br><br>\n",
    " $$D_{x}(m(x)) = D_{x}(log_{2}(x)) = \\frac{1}{xln(2)}$$<br>\n",
    " i) Novamente, devemos usar a regra da cadeia à função $log_{3}(x^{2}+1)$ considerando $A(x) = x^{2} + 1$($\\Rightarrow A'(x) = 2x$) e $B(y) = log_{3}(y)$ $\\left(\\Rightarrow B'(y) = \\frac{1}{yln(3)}\\right)$. Assim,<br><br>\n",
    " $$D_{x}(n(x)) = D_{x}(log_{3}(x^{2} + 1) = (log_{3}(y))'(x^{2} + 1)' = \\frac{1}{yln(3)}2x = \\frac{2x}{(x^{2}+1)ln(3)}$$<br>\n",
    " j) Considerando a função $o(x) = e^{x}sen(x)$ em que $A(x) = e^{x} (\\Rightarrow A'(x) = e^{x})$ e $B(x) = sen(x)(\\Rightarrow B'(x) = cos(x))$ podemos usar a regra do produto $D_{x}(A(x)B(x)) = A(x)D_{x}(B(x)) + B(x)D_{x}(A(x))$. Assim,<br><br>\n",
    " $$D_{x}(o(x)) = D_{x}(e^{x}sen(x)) = e^{x}cos(x) + sen(x)e^{x} = e^{x}(cos(x) + sen(x))$$<br>\n",
    " k) Considerando a função $p(x) = \\frac{sen(x)}{cos(x) + 1}$ em que $A(x) = sen(x) (\\Rightarrow A'(x) = cos(x))$ e $B(x) = cos(x) + 1(\\Rightarrow B'(x) = -sen(x)))$ podemos usar a regra do quociente $D_{x}\\left(\\frac{A(x)}{B(x)}\\right) = \\frac{B(x)D_{x}(A(x)) - A(x)D_{x}(B(x))}{(B(x))^{2}}$. Assim,<br><br>\n",
    " $$D_{x}(p(x)) = D_{x}\\left(\\frac{sen(x)}{cos(x) + 1}\\right) = \\frac{(cos(x) + 1)cos(x) - sen(x)(-sen(x))}{(cos(x)+1)^{2}} = $$<br>\n",
    " $$ = \\frac{cos^{2}(x) + cos(x) + sen^{2}(x)}{(cos(x) + 1)^{2}} = \\frac{cos(x) + 1}{(cos(x) + 1)^{2}} = \\frac{1}{cos(x)+1}$$<br>\n",
    " l) Temos que<br><br>\n",
    " $$D_{x}(q(x)) = D_{x}(2^{x}x^{2} + tan(x)) = D_{x}(2^{x}x^{2}) + D_{x}(tan(x)) =$$<br>\n",
    " $$ = 2^{x}D_{x}(x^{2}) + x^{2}D_{x}(2^{x}) + sec^{2}(x) = 2^{x}\\cdot2x + x^{2}2^{x}ln(2) + sec^{2}(x) = $$<br>\n",
    " $$= 2^{x}x(2 + ln(2)x) + sec^{2}(x)$$<br>\n",
    " m) Novamente, devemos usar a regra da cadeia à função $\\sqrt{sen(x)}$ considerando $A(x) = sen(x)$($\\Rightarrow A'(x) = cos(x)$) e $B(y) = \\sqrt{y}$ $\\left(\\Rightarrow B'(y) = \\frac{1}{2\\sqrt{y}}\\right)$. Assim,<br><br>\n",
    " $$D_{x}(r(x)) = D_{x}\\left(\\sqrt{sen(x)}\\right) = \\left(\\sqrt{y}\\right)'(sen(x))' = \\frac{1}{2\\sqrt{y}}cos(x) = \\frac{cos(x)}{2\\sqrt{sen(x)}}$$<br>\n",
    " n) Devemos usar a regra do quociente em conjunto com a regra da cadeia (omitiremos algumas passagens). Seja $A(x) = 1 - cos(x)$($\\Rightarrow A'(x) = sen(x)$) e $B(x) = e^{2x}$($\\Rightarrow B'(x) = 2e^{2x}$):<br><br>\n",
    " $$D_{x}(s(x)) = D_{x}\\left(\\frac{1 - cos(x)}{e^{2x}} \\right) = \\frac{e^{2x}sen(x) - (1-cos(x))2e^{2x}}{\\left(e^{2x}\\right)^{2}} = $$<br>\n",
    " $$ = \\frac{e^{2x}(sen(x) - 2(1-cos(x))}{e^{4x}} = \\frac{sen(x) + 2cos(x) - 2}{e^{2x}}$$<br>\n",
    " o) Temos neste caso uma dupla regra da cadeia considerando a função $t(x) = sen(e^{x^{2}+1})$. Temos a derivada da função mais interna $e^{x^{2} + 1}$ a qual podemos considerar $A(x) = x^{2} + 1$ e $B(y) = e^{y}$ e a derivada da função mais interna $sen(e^{x^{2}+1})$ a qual podemos considerar $B(y) = e^{y}$ e $C(z) = sen(z)$. Neste caso,<br><br>\n",
    " $$D_{x}(sen(e^{x^{2+1}})) = (C(B(A(x)))' = C'(z)B'(y)A'(x) = (sen(z))'(e^{y})'(x^{2}+1)' =$$<br>\n",
    " $$ = cos(z)e^{y}\\cdot 2x = cos(e^{x^{2} + 1})e^{x^{2}+1}\\cdot 2x = 2xe^{x^{2}+1}cos(e^{x^{2} + 1})$$"
   ]
  },
  {
   "cell_type": "markdown",
   "id": "39b0e206",
   "metadata": {},
   "source": [
    "#### Derivada no Python"
   ]
  },
  {
   "cell_type": "markdown",
   "id": "06f6f3dc",
   "metadata": {},
   "source": [
    "No contexto do cálculo diferencial, um recurso de extrema importância é o uso da biblioteca SymPy, que oferece funcionalidades avançadas para cálculo simbólico, tornando possível realizar operações como derivadas, integração e resolução de equações de forma precisa e eficiente. A célula de código a seguir apresenta todas as funções (são muitas mesmo) disponíveis na biblioteca SymPy:"
   ]
  },
  {
   "cell_type": "code",
   "execution_count": null,
   "id": "615f06a8",
   "metadata": {
    "ExecuteTime": {
     "end_time": "2024-01-24T14:55:23.515867Z",
     "start_time": "2024-01-24T14:55:22.882580Z"
    }
   },
   "outputs": [],
   "source": [
    "import sympy\n",
    "\n",
    "dir(sympy)"
   ]
  },
  {
   "cell_type": "markdown",
   "id": "27acb63e",
   "metadata": {},
   "source": [
    "Temos a seguinte tradução:\n",
    "\\begin{array}{cc} \\\\\n",
    "Forma \\ Usual & Forma \\ Computacional \\\\\n",
    "sen(x) &  sin(x) \\\\\n",
    "cos(x) &  cos(x) \\\\\n",
    "tan(x) &  tan(x) \\\\\n",
    "e^{x} & exp(x) \\\\\n",
    "a^{x} & pow(x,a) \\\\\n",
    "ln(x) &  log(x) \\\\\n",
    "log_{b}(x) & log(x,b) \\\\\n",
    "sin^{-1}(x) & asin(x) \\\\\n",
    "cos^{-1}(x) & acos(x) \\\\\n",
    "tan^{-1}(x) & atan(x) \\\\\n",
    "senh(x) & sinh(x) \\\\\n",
    "cosh(x) & cosh(x) \\\\\n",
    "tanh(x) & tanh(x) \\\\\n",
    "senh^{-1}(x) & asinh(x) \\\\\n",
    "cosh^{-1}(x) & acosh(x) \\\\\n",
    "tanh^{-1}(x) & atanh(x) \\\\\n",
    "\\end{array}"
   ]
  },
  {
   "cell_type": "code",
   "execution_count": null,
   "id": "a5e9d4ec",
   "metadata": {
    "ExecuteTime": {
     "end_time": "2024-01-24T14:55:53.439189Z",
     "start_time": "2024-01-24T14:55:53.408194Z"
    }
   },
   "outputs": [],
   "source": [
    "help(sympy.sin)"
   ]
  },
  {
   "cell_type": "code",
   "execution_count": null,
   "id": "e2ccacb5",
   "metadata": {
    "ExecuteTime": {
     "end_time": "2024-01-24T14:55:23.571810Z",
     "start_time": "2024-01-24T14:55:23.566769Z"
    }
   },
   "outputs": [],
   "source": [
    "help(sympy.symbols)"
   ]
  },
  {
   "cell_type": "markdown",
   "id": "5286070c",
   "metadata": {},
   "source": [
    "Apresentamos, na célula de código a seguir, a implementação de um código para o cálculo de derivadas:"
   ]
  },
  {
   "cell_type": "code",
   "execution_count": 9,
   "id": "d5276d84",
   "metadata": {
    "ExecuteTime": {
     "end_time": "2024-01-24T14:55:23.580784Z",
     "start_time": "2024-01-24T14:55:23.573823Z"
    }
   },
   "outputs": [],
   "source": [
    "import sympy as sp\n",
    "\n",
    "def derivada(f):\n",
    "    # Defina a variável simbólica\n",
    "    x = sp.symbols('x')\n",
    "\n",
    "    # Defina a função simbólica\n",
    "    F = eval(f)\n",
    "\n",
    "    # Calcule a derivada da função em relação a x\n",
    "    derivada = sp.diff(F, x)\n",
    "\n",
    "    # Imprima a derivada\n",
    "    return print(f\"A derivada de f(x) = {f} é dada por f'(x) = {derivada}.\")"
   ]
  },
  {
   "cell_type": "code",
   "execution_count": 10,
   "id": "dc9d4e88",
   "metadata": {
    "ExecuteTime": {
     "end_time": "2024-01-24T14:55:23.648839Z",
     "start_time": "2024-01-24T14:55:23.583777Z"
    }
   },
   "outputs": [
    {
     "name": "stdout",
     "output_type": "stream",
     "text": [
      "A derivada de f(x) = sp.sin(sp.exp(x**2+1)) é dada por f'(x) = 2*x*exp(x**2 + 1)*cos(exp(x**2 + 1)).\n"
     ]
    }
   ],
   "source": [
    "derivada('sp.sin(sp.exp(x**2+1))')"
   ]
  },
  {
   "cell_type": "markdown",
   "id": "f121af5f",
   "metadata": {},
   "source": [
    "# <div style=\"margin-top: -20px;\">\n",
    "<hr style=\"border: 2px solid black;\">\n",
    "\n",
    "<font color='black'><span style=\"font-size: 22px;\"><strong>3.5 Derivação Implícita</strong></span></font>\n",
    "\n",
    "<hr style=\"border: 2px solid black;\">\n",
    "</div>"
   ]
  },
  {
   "cell_type": "markdown",
   "id": "3a1a5e16",
   "metadata": {},
   "source": [
    "Em muitas situações conhecemos as funções de forma explícita, isto é, funções da forma $y = f(x)$. Nesta forma as variáveis dependente ($y$) e independente ($x$) ocupam lados distintos além de $y$ aparecer isolada. Contudo, em certas situações não temos relações explícitas (pelo menos em princípio). Por exemplo, imagine que queiramos derivar a expressão $x^{2} + cos(y) = 1$. Uma forma de procedermos é usarmos a **Regra da Cadeia** (**Teorema 5**) a todo termo que possui $y$:\n",
    "\n",
    "$$D_{x}(x^{2} + cos(y)) = D_{x}(1) \\Rightarrow D_{x}(x^{2}) + D_{x}(cos(y))  = 0 \\Rightarrow 2x - sen(y)D_{x}(y) = 0$$\n",
    "\n",
    "Agora podemos isolar $D_{x}(y)$:\n",
    "\n",
    "$$2x - sen(y)D_{x}(y) = 0 \\Rightarrow sen(y)D_{x}(y) = 2x \\Rightarrow D_{x}(y) = \\frac{2x}{sen(y)}$$\n",
    "\n"
   ]
  },
  {
   "cell_type": "markdown",
   "id": "f898a456",
   "metadata": {},
   "source": [
    "####  <font color='blue'> Exemplo 9 </font>"
   ]
  },
  {
   "cell_type": "markdown",
   "id": "0c17509a",
   "metadata": {},
   "source": [
    "<font color='blue'> Calcule a derivada das seguintes funções implícitas. Em todo caso isole $D_{x}(y)$ (ou $y'$ caso precise usar esta notação):<br><br>\n",
    " a) $3x^{2} + 2xy = 1$ $\\ \\ \\ \\ \\ $ b) $xsen(y) + y = cos(x)$"
   ]
  },
  {
   "cell_type": "markdown",
   "id": "53a370c9",
   "metadata": {},
   "source": [
    "#####  <font color='blue'> Solução </font>"
   ]
  },
  {
   "cell_type": "markdown",
   "id": "7fc3dce8",
   "metadata": {
    "ExecuteTime": {
     "end_time": "2024-01-04T21:12:38.760179Z",
     "start_time": "2024-01-04T21:12:38.433902Z"
    }
   },
   "source": [
    "<font color='blue'> a) Temos que<br><br>\n",
    " $$D_{x}(3x^{2} + 2xy) = D_{x}(1) \\Rightarrow D_{x}(3x^{2}) + D_{x}(2xy)) = 0 \\Rightarrow $$<br>\n",
    " $$ \\Rightarrow 3D_{x}(x^{2}) + 2D_{x}(xy) = 0 \\Rightarrow 6x + 2(xD_{x}(y) + y\\cdot D_{x}(x)) = 0 \\Rightarrow $$<br>\n",
    " $$\\Rightarrow 6x + 2xD_{x}(y) + 2y  = 0 \\Rightarrow 2xD_{x}(y) = -6x - 2y \\Rightarrow$$<br>\n",
    " $$ \\Rightarrow D_{x}(y) = -\\frac{6x + 2y}{2x} \\Rightarrow D_{x}(y) = -\\frac{2(3x + y)}{2x} = -\\frac{3x + y}{x}$$<br>\n",
    " b) Usando a notação $y'$ ao invés de $D_{x}()$, temos<br><br>\n",
    " $$(xsen(y) + y)' = (cos(x))' \\Rightarrow (xsen(y))' + (y)' = -sen(x) \\Rightarrow$$<br>\n",
    " $$\\Rightarrow xcos(y)y' + sen(y) + y' = -sen(x) \\Rightarrow y'(xcos(y) + 1) = -sen(x) - sen(y) \\Rightarrow$$<br>\n",
    " $$y' = -\\frac{sen(x)+sen(y)}{xcos(y) + 1}$$"
   ]
  },
  {
   "cell_type": "markdown",
   "id": "35560cfe",
   "metadata": {},
   "source": [
    "####  <font color='blue'> Exemplo 10 </font>"
   ]
  },
  {
   "cell_type": "markdown",
   "id": "fa99507c",
   "metadata": {},
   "source": [
    "<font color='blue'> Encontre a equação da reta tangente à curva $x^{2} + y^{2} = 4$ no ponto $(\\sqrt{2},\\sqrt{2})$."
   ]
  },
  {
   "cell_type": "markdown",
   "id": "fcba458c",
   "metadata": {},
   "source": [
    "##### <font color='blue'> Solução"
   ]
  },
  {
   "cell_type": "markdown",
   "id": "63f56394",
   "metadata": {},
   "source": [
    "<font color='blue'> Primeiramente devemos obter a derivada da expressão implícita $x^{2} + y^{2} = 4$. Pois bem,<br><br>\n",
    " $$D_{x}(x^{2} + y^{2}) = D_{x}(4) \\Rightarrow 2x + 2yD_{x}(y) = 0 \\Rightarrow 2yD_{x}(y) = -2x \\Rightarrow D_{x}(y) = -\\frac{2x}{2y} \\Rightarrow D_{x}(y) = -\\frac{x}{y}.$$<br>\n",
    " Agora vamos obter o coeficiente angular $m$ da reta tangente à curva $y - y_{0} = m(x-x_{0})$:<br><br>\n",
    " $$m = y'\\left(\\sqrt{2}\\right) = - \\frac{\\sqrt{2}}{\\sqrt{2}} = -1$$<br>\n",
    " Temos portanto a seguinte equação da reta:<br><br>\n",
    " $$y - \\sqrt{2} = -1(x - \\sqrt{2}) \\Rightarrow y = -x + 2\\sqrt{2}$$<br>\n",
    " Segue um esboço gráfico da situação:<br><br>\n",
    " <center> <img src=\"fig3-6.jpg\" alt=\"jpg_python\" width=\"400\" height=\"\"> </center>"
   ]
  },
  {
   "cell_type": "markdown",
   "id": "26e4a7fd",
   "metadata": {},
   "source": [
    "# <div style=\"margin-top: -20px;\">\n",
    "<hr style=\"border: 2px solid black;\">\n",
    "\n",
    "<font color='black'><span style=\"font-size: 22px;\"><strong>3.6 Cálculo de Limites Usando a Regra de L'Hôpital</strong></span></font>\n",
    "\n",
    "<hr style=\"border: 2px solid black;\">\n",
    "</div>"
   ]
  },
  {
   "cell_type": "markdown",
   "id": "2840db21",
   "metadata": {},
   "source": [
    "A regra de L'Hôpital é uma ferramenta útil para calcular limites de quocientes de funções que resultam em formas indeterminadas, como $\\frac{0}{0}$ ou $\\frac{\\infty}{\\infty}$."
   ]
  },
  {
   "cell_type": "markdown",
   "id": "def5704b",
   "metadata": {},
   "source": [
    "####  <font color='red'> Teorema 7 </font>"
   ]
  },
  {
   "cell_type": "markdown",
   "id": "4d94b7db",
   "metadata": {},
   "source": [
    "<font color='red'> Sejam $f$ e $g$ funções diferenciáveis próximas de $c$ ou para todo $x$ em um intervalo que se estende até $\\infty$ ou $-\\infty$, com $g'(c) \\neq 0$. Se $lim_{x \\to c} f(x) = 0$ e $lim_{x \\to c} g(x) = 0$, ou $lim_{x \\to c} f(x) = \\infty$ e $lim_{x \\to c} g(x) = \\infty$, então:<br><br>\n",
    " $$lim_{x \\to c} \\frac{f(x)}{g(x)} = lim_{x \\to c} \\frac{f'(x)}{g'(x)},$$<br>\n",
    " Esta regra também se aplica quando $c = \\pm \\infty$."
   ]
  },
  {
   "cell_type": "markdown",
   "id": "a40270ae",
   "metadata": {},
   "source": [
    "####  <font color='blue'> Exemplo 11 </font>"
   ]
  },
  {
   "cell_type": "markdown",
   "id": "b6738961",
   "metadata": {},
   "source": [
    "<font color='blue'> Determine o valor dos seguintes limites usando a Regra de L'Hôpital:<br><br>\n",
    " a) $lim_{x \\to 1} \\frac{x^{2}-1}{x-1}$<br><br>\n",
    " b) $lim_{x \\to -\\infty} \\frac{4x+1}{3x-5}$<br><br>\n",
    " c) $lim_{x \\to 0} \\frac{sen(2x)}{3x}$<br><br>\n",
    " d) $lim_{x \\to \\infty} \\frac{e^{x}-1}{x}$<br><br>\n",
    " e) $lim_{x \\to 2} \\frac{x^{3} - 5 x^{2} + 8x - 4}{x^{2}-4x+4}$<br><br>\n",
    " f) $lim_{x \\to \\infty} \\frac{e^{x}}{x^{2}}$<br><br>    "
   ]
  },
  {
   "cell_type": "markdown",
   "id": "81d33f5c",
   "metadata": {},
   "source": [
    "#####  <font color='blue'> Solução </font>"
   ]
  },
  {
   "cell_type": "markdown",
   "id": "f10feb60",
   "metadata": {},
   "source": [
    "<font color='blue'> a) Note que $\\frac{1^{2}-1}{1-1} = \\frac{0}{0}$. Podemos, portanto, aplicar a regra de $L'Hôpital$:<br><br>\n",
    " $$lim_{x \\to 1} \\frac{x^{2}-1}{x-1} = lim_{x \\to 1} \\frac{(x^{2}-1)'}{(x-1)'} = lim_{x \\to 1} \\frac{2x}{1} = lim_{x \\to 1} 2x = 2\\cdot1 = 2$$<br>\n",
    " b) Note que $\\frac{4(-\\infty)+1}{3(-\\infty)-5} = \\frac{-\\infty+1}{-\\infty-5} = \\frac{-\\infty}{-\\infty}$. Podemos, portanto, aplicar a regra de $L'Hôpital$:<br><br>\n",
    " $$lim_{x \\to -\\infty} \\frac{4x+1}{3x-5} = lim_{x \\to -\\infty} \\frac{(4x+1)'}{(3x-5)'} = lim_{x \\to -\\infty} \\frac{4}{3} = \\frac{4}{3}$$<br><br>\n",
    " c) Note que $\\frac{sen(2\\cdot0)}{3\\cdot0} = \\frac{sen(0)}{0} = \\frac{0}{0}$. Assim,\n",
    " $$lim_{x \\to 0} \\frac{sen(2x)}{3x} = lim_{x \\to 0} \\frac{(sen(2x))'}{(3x)'} = lim_{x \\to 0} \\frac{2cos(2x)}{3} =$$<br><br>\n",
    " $$= \\frac{2cos(2\\cdot0)}{3} = \\frac{2cos(0)}{3} = \\frac{2\\cdot1}{3} = \\frac{2}{3}$$<br><br>\n",
    " d) Note que $\\frac{e^{\\infty}-1}{\\infty} = \\frac{\\infty}{\\infty}$. Assim,\n",
    " $$lim_{x \\to \\infty} \\frac{e^{x}-1}{x} = lim_{x \\to \\infty} \\frac{(e^{x}-1)'}{(x)'} = lim_{x \\to \\infty} \\frac{e^{x}}{1} = lim_{x \\to \\infty} e^{x} = e^{\\infty} = \\infty$$<br><br>\n",
    " e) Note que $\\frac{2^{3} - 5\\cdot2^{2} + 8\\cdot2 - 4}{2^{2}-4\\cdot2+4} = \\frac{0}{0}$. Assim,<br><br>\n",
    " $$lim_{x \\to 2} \\frac{x^{3} - 5 x^{2} + 8x - 4}{x^{2}-4x+4} = lim_{x \\to 2} \\frac{(x^{3} - 5 x^{2} + 8x - 4)'}{(x^{2}-4x+4)'} = lim_{x \\to 2} \\frac{3x^{2} - 10x + 8}{2x-4} = \\frac{3\\cdot2^{2} - 10\\cdot2 + 8}{2\\cdot 2-4} = \\frac{0}{0}$$<br>\n",
    " Podemos aplicar novamente a regra de L'Hôpital:<br><br>\n",
    " $$lim_{x \\to 2} \\frac{x^{3} - 5 x^{2} + 8x - 4}{x^{2}-4x+4} = lim_{x \\to 2} \\frac{(3x^{2} - 10x + 8)'}{(2x-4)'} = lim_{x \\to 2} \\frac{6x - 10}{2} = \\frac{6\\cdot2 - 10}{2} = 1$$<br>\n",
    " f) Note que $\\frac{e^{\\infty}}{\\infty^{2}} = \\frac{\\infty}{\\infty}$. Assim,<br><br>\n",
    " $$lim_{x \\to \\infty} \\frac{e^{x}}{x^{2}} = lim_{x \\to \\infty} \\frac{(e^{x})'}{(x^{2})'} = lim_{x \\to \\infty} \\frac{e^{x}}{2x} = _{\\frac{\\infty}{\\infty}} =  lim_{x \\to \\infty} \\frac{(e^{x})'}{(2x)'} = lim_{x \\to \\infty} \\frac{e^{x}}{2} = \\frac{\\infty}{2} = \\infty$$"
   ]
  },
  {
   "cell_type": "markdown",
   "id": "d6c4a2a3",
   "metadata": {
    "heading_collapsed": true
   },
   "source": [
    "# <div style=\"margin-top: -20px;\">\n",
    "<hr style=\"border: 2px solid black;\">\n",
    "\n",
    "<font color='black'><span style=\"font-size: 22px;\"><strong>Exercícios Resolvidos</strong></span></font>\n",
    "\n",
    "<hr style=\"border: 2px solid black;\">\n",
    "</div>"
   ]
  },
  {
   "cell_type": "markdown",
   "id": "fd6c9fc2",
   "metadata": {
    "hidden": true
   },
   "source": [
    "#####  <font color='red'> Demonstração </font>"
   ]
  },
  {
   "cell_type": "markdown",
   "id": "8a3b747b",
   "metadata": {
    "hidden": true
   },
   "source": [
    "<font color='red'> Suponha que $f$ e $g$ são continuamente diferenciáveis num número real $c$, em que<br><br> $$lim _{x\\to c}{\\frac {f(x)}{g(x)}}=\\lim _{x\\to c}{\\frac {f(x)-f(c)}{g(x)-g(c)}}=\\lim _{x\\to c}{\\frac {\\left({\\frac {f(x)-f(c)}{x-c}}\\right)}{\\left({\\frac {g(x)-g(c)}{x-c}}\\right)}}={\\frac {\\lim _{x\\to c}\\left({\\frac {f(x)-f(c)}{x-c}}\\right)}{\\lim _{x\\to c}\\left({\\frac {g(x)-g(c)}{x-c}}\\right)}}={\\frac {f'(c)}{g'(c)}}=\\lim _{x\\to c}{\\frac {f'(x)}{g'(x)}}.$$"
   ]
  },
  {
   "cell_type": "markdown",
   "id": "9076057f",
   "metadata": {
    "heading_collapsed": true,
    "hidden": true
   },
   "source": [
    "#### Exercício Resolvido 1"
   ]
  },
  {
   "cell_type": "markdown",
   "id": "62d7387d",
   "metadata": {
    "hidden": true
   },
   "source": [
    "Determine:\n",
    "\n",
    " a) a equação da reta que passa pelos pontos $(0,-1)$ e $(1,3)$.\n",
    " \n",
    " b) a equação da reta que passa pelos pontos $(1,1)$ e $(-2,1)$.\n",
    " \n",
    " c) a equação da reta que passa pelo ponto $(-1,1)$ e tem coeficiente angular $m = 3$.\n",
    " \n",
    " d) a equação da reta que passa pela origem e tem coeficiente angular $m = -2$."
   ]
  },
  {
   "cell_type": "markdown",
   "id": "8e2933e7",
   "metadata": {
    "heading_collapsed": true,
    "hidden": true
   },
   "source": [
    "##### Solução"
   ]
  },
  {
   "cell_type": "markdown",
   "id": "d386beda",
   "metadata": {
    "hidden": true
   },
   "source": [
    "Temos que:\n",
    "\n",
    "a) Basta obtermos o coeficiente angular $m$ e utilizar a equação $y - y_{0} = m(x-x_{0})$:\n",
    "\n",
    "$$m = \\frac{y_{1}-y_{0}}{x_{1}-x_{0}} = \\frac{3 - (-1)}{1 - 0} = \\frac{4}{1} = 4 \\Rightarrow y - (-1) = 4(x-0) \\Rightarrow y + 1 = 4x \\Rightarrow y = 4x - 1.$$\n",
    "\n",
    "b) Utilizemos um raciocínio semelhante ao item \"a\":\n",
    "\n",
    "$$m = \\frac{y_{1}-y_{0}}{x_{1}-x_{0}} = \\frac{1 - 1}{-2 - 1} = \\frac{0}{-3} = 0 \\Rightarrow y - 1 = 0(x-1) \\Rightarrow y = 1.$$\n",
    "\n",
    "c) Como já temos o coeficiente angular $m$, basta utilizarmos a equação $y - y_{0} = m(x-x_{0})$:\n",
    "\n",
    "$$y - 1 = 3(x - (-1)) \\Rightarrow y - 1 = 3(x + 1) \\Rightarrow y = 3x + 4.$$\n",
    "\n",
    "d) Analogamente ao item \"c\", temos:\n",
    "\n",
    "$$y - 0 = -2(x - 0) \\Rightarrow y = -2x.$$"
   ]
  },
  {
   "cell_type": "markdown",
   "id": "450bed02",
   "metadata": {
    "heading_collapsed": true,
    "hidden": true
   },
   "source": [
    "#### Exercício Resolvido 2"
   ]
  },
  {
   "cell_type": "markdown",
   "id": "0d3f8ff8",
   "metadata": {
    "hidden": true
   },
   "source": [
    "Para cada uma das funções a seguir determine a equação da reta tangente ao gráfico da mesma no ponto de abscissa $x = a$:\n",
    "\n",
    "a) $f(x) = x^{3}$\n",
    "\n",
    "b) $f(x) = 3x^{2} - 6x + 4$\n",
    "\n",
    "c) $f(x) = \\sqrt{x+1}$"
   ]
  },
  {
   "cell_type": "markdown",
   "id": "b4d54c67",
   "metadata": {
    "heading_collapsed": true,
    "hidden": true
   },
   "source": [
    "##### Solução"
   ]
  },
  {
   "cell_type": "markdown",
   "id": "ecb7c4e7",
   "metadata": {
    "hidden": true
   },
   "source": [
    "Devemos calcular o limite $lim_{h \\to 0} \\frac{f(a+h)-f(a)}{h}$ para cada uma das funções dadas:\n",
    "\n",
    "a) Temos que\n",
    "\n",
    "$$lim_{h \\to 0} \\frac{f(a+h)-f(a)}{h} = lim_{h \\to 0} \\frac{(a+h)^{3}-a^{3}}{h} = lim_{h \\to 0} \\frac{a^{3} -3a^{2}h + 3ah^{2} - h^{3} -a^{3}}{h} = $$\n",
    "\n",
    "$$=lim_{h \\to 0} \\frac{-3a^{2}h + 3ah^{2} - h^{3}}{h} = lim_{h \\to 0} \\frac{h(-3a^{2} + 3ah - h^{2})}{h} = lim_{h \\to 0} -3a^{2} + 3ah - h^{2} = -3a^{2}$$\n",
    "\n",
    "b) Temos que\n",
    "\n",
    "$$lim_{h \\to 0} \\frac{f(a+h)-f(a)}{h} = lim_{h \\to 0} \\frac{3(a+h)^2 - 6(a+h) + 4 - (3a^{2} - 6a + 4)}{h} = lim_{h \\to 0} \\frac{3(a^{2} + 2ah + h^{2}) - 6(a+h) + 4 - (3a^{2} - 6a + 4)}{h} = $$\n",
    "\n",
    "$$=lim_{h \\to 0} \\frac{3a^{2} + 6ah + 3h^{2} - 6a - 6h + 4 - 3a^{2} + 6a - 4}{h} = $$\n",
    "$$=lim_{h \\to 0} \\frac{6ah + 3h^{2} - 6h}{h} = lim_{h \\to 0} \\frac{h(6a + 3h - 6)}{h} = lim_{h \\to 0} 6a + 3h - 6 = 6a - 6$$\n",
    "\n",
    "c) Temos que\n",
    "\n",
    "$$lim_{h \\to 0} \\frac{f(a+h)-f(a)}{h} = lim_{h \\to 0} \\frac{\\sqrt{(a+h)+1} -\\sqrt{a+1}}{h} = $$\n",
    "\n",
    "$$=lim_{h \\to 0} \\frac{\\sqrt{(a+h)+1} -\\sqrt{a+1}}{h}\\frac{\\sqrt{(a+h)+1} +\\sqrt{a+1}}{\\sqrt{(a+h)+1} +\\sqrt{a+1}} = $$\n",
    "\n",
    "$$=lim_{h \\to 0} \\frac{\\sqrt{(a+h)+1}^{2} -\\sqrt{a+1}^{2}}{h\\left(\\sqrt{(a+h)+1} +\\sqrt{a+1}\\right)} =$$\n",
    "\n",
    "$$=lim_{h \\to 0} \\frac{\\left((a+h)+1\\right) -\\left(a+1\\right)}{h\\left(\\sqrt{(a+h)+1} +\\sqrt{a+1}\\right)} =$$\n",
    "\n",
    "$$=lim_{h \\to 0} \\frac{h}{h\\left(\\sqrt{(a+h)+1} +\\sqrt{a+1}\\right)} =$$\n",
    "\n",
    "$$=lim_{h \\to 0} \\frac{1}{\\sqrt{(a+h)+1} +\\sqrt{a+1}} = \\frac{1}{2\\sqrt{a+1}}$$\n"
   ]
  },
  {
   "cell_type": "markdown",
   "id": "cd4c3067",
   "metadata": {
    "heading_collapsed": true,
    "hidden": true
   },
   "source": [
    "#### Exercício Resolvido 3"
   ]
  },
  {
   "cell_type": "markdown",
   "id": "3610cd78",
   "metadata": {
    "hidden": true
   },
   "source": [
    "Considere o seguinte teorema:\n",
    "\n",
    "<font color='red'>Duas retas distintas $r_{1}: y = a_{1}x + b_{1}$ e $r_{2}: y = a_{2}x + b_{2}$ são ditas paralelas se, e somente se, $a_{1} = a_{2}$. Os valores $a_{1}$ e $a_{2}$ que acompanham as retas representam seus coeficientes angulares."
   ]
  },
  {
   "cell_type": "markdown",
   "id": "c0065c30",
   "metadata": {
    "hidden": true
   },
   "source": [
    "Usando a **Definição 1** e definição acima encontre o(s) ponto(s) do gráfico de $y = x^{2} + 3x$ na qual a reta tangente é paralela à reta $y = 5x + 1$."
   ]
  },
  {
   "cell_type": "markdown",
   "id": "c9006e95",
   "metadata": {
    "heading_collapsed": true,
    "hidden": true
   },
   "source": [
    "##### Solução"
   ]
  },
  {
   "cell_type": "markdown",
   "id": "06893209",
   "metadata": {
    "hidden": true
   },
   "source": [
    "Primeiramente devemos obter a derivada de $f(x) = x^{2} + 3x$ em um ponto de abscissa $x = x_{0}$. Pois bem,\n",
    "\n",
    "$$lim_{h \\to 0} \\frac{f(x_{0}+h) - f(x_{0})}{h} = lim_{h \\to 0} \\frac{(x_{0} + h)^{2} + 3(x_{0} + h) - (x_{0}^{2} + 3a)}{h} = $$\n",
    "\n",
    "$$=lim_{h \\to 0} \\frac{x_{0}^{2} + 2x_{0}h + h^{2} + 3x_{0} + 3h - x_{0}^{2} - 3x_{0}}{h} = lim_{h \\to 0} \\frac{ 2x_{0}h + h^{2} + 3h}{h} =   $$\n",
    "\n",
    "$$=lim_{h \\to 0} \\frac{ h(2x_{0} + h + 3)}{h} = lim_{h \\to 0} 2x_{0} + h + 3 = 2x_{0} + 3$$\n",
    "\n",
    "Com a reta tangente, $r_{1}$ deve ser paralela à reta tangente $r_{2}$, temos que seus coeficientes angulares devem ser iguais, isto é,\n",
    "\n",
    "$$2x_{0} + 3 = 5 \\Rightarrow 2x_{0} = 2 \\Rightarrow x_{0} = 1.$$\n",
    "\n",
    "Como $x_{0}$ pertence ao gráfico de $f(x) = x^{2} + 3x$ podemos substituí-lo para obtermos a ordenada $y_{0}$. Pois bem,\n",
    "\n",
    "$$y_{0} = 1^{2} + 3\\cdot 1 \\Rightarrow y_{0} = 4.$$\n",
    "\n",
    "Sendo assim, a reta tangente ao gráfico de $y = x^{2} + 3x$ no ponto $(1,4)$ é paralela à reta $y = 5x + 1$. Em particular, a reta tangente ao gráfico de $f$ no ponto $(1,4)$ é dada por:\n",
    "\n",
    "$$ y - 4 = 5(x-1) \\Rightarrow y = 5x -1$$\n",
    "\n",
    "O código a seguir apresenta os esboço gráfico de todas as funções citadas:"
   ]
  },
  {
   "cell_type": "code",
   "execution_count": 11,
   "id": "1e0ea52d",
   "metadata": {
    "ExecuteTime": {
     "end_time": "2024-01-24T14:55:24.037166Z",
     "start_time": "2024-01-24T14:55:23.650831Z"
    },
    "hidden": true
   },
   "outputs": [
    {
     "data": {
      "image/png": "[encoded data removed]",
      "text/plain": [
       "<Figure size 640x480 with 1 Axes>"
      ]
     },
     "metadata": {},
     "output_type": "display_data"
    }
   ],
   "source": [
    "from numpy import arange, vectorize\n",
    "import matplotlib.pyplot as plt\n",
    "\n",
    "def f(x):\n",
    "    return x**2 + 3*x\n",
    "\n",
    "def r1(x):\n",
    "    return 5*x + 1\n",
    "\n",
    "def r2(x):\n",
    "    return 5*x - 1\n",
    "\n",
    "f1_vectorized = vectorize(f)\n",
    "f2_vectorized = vectorize(r1)\n",
    "f3_vectorized = vectorize(r2)\n",
    "\n",
    "# Gerando os valores de x para duas partes: x < 0 e x > 0\n",
    "x = arange(-3, 3, 0.1)  # Valores negativos de x, excluindo o zero\n",
    "\n",
    "# Aplicando a função vetorizada\n",
    "y1 = f1_vectorized(x)\n",
    "y2 = f2_vectorized(x)\n",
    "y3 = f3_vectorized(x)\n",
    "\n",
    "\n",
    "# Adicionando linhas de referência (eixos x e y)\n",
    "plt.axhline(0, color='black', linewidth=0.5)\n",
    "plt.axvline(0, color='black', linewidth=0.5)\n",
    "\n",
    "# Grade\n",
    "plt.grid()\n",
    "\n",
    "# Definindo limites para o eixo y (aumente os valores -10 e 10 para -100 e 100)\n",
    "plt.ylim(-5, 10)\n",
    "\n",
    "# Plotando o gráfico para a parte negativa e positiva, separadamente\n",
    "plt.plot(x, y1, 'k-', linewidth=0.7, label = r'$y = x^{2} + 3x$')\n",
    "plt.plot(x, y2, 'r-', linewidth=0.7, label = r'$r1: y = 5x+1$')\n",
    "plt.plot(x, y3, 'b-', linewidth=0.7, label = r'$r2: y = 5x-1$')\n",
    "plt.plot(1, 4, 'go', linewidth=0.5, label = 'Ponto de Tangência')\n",
    "\n",
    "# Inserindo a legenda\n",
    "plt.legend()\n",
    "\n",
    "\n",
    "# Mostrar o gráfico\n",
    "plt.show()\n"
   ]
  },
  {
   "cell_type": "markdown",
   "id": "0f66c37c",
   "metadata": {
    "heading_collapsed": true,
    "hidden": true
   },
   "source": [
    "#### Exercício Resolvido 4"
   ]
  },
  {
   "cell_type": "markdown",
   "id": "3216beb0",
   "metadata": {
    "hidden": true
   },
   "source": [
    "Utilize regras de derivação para calcular as derivadas das seguintes funções:\n",
    "\n",
    "a) $f(x) = 4^{2}$ \n",
    "\n",
    "b) $g(x) = 5x + 3$ \n",
    "\n",
    "c) $h(x) = x^{4} + 4x^{3}$\n",
    "\n",
    "d) $i(x) = xln(x)$\n",
    "\n",
    "e) $j(x) = (x+1)sen(x^{2})$\n",
    "\n",
    "f) $k(x) = \\frac{x^{2}}{cos(x)}$ \n",
    "\n",
    "g) $l(x) = e^{sen(x)}$\n",
    "\n",
    "h) $m(x) = \\sqrt{x^{2} + 3x}$\n",
    "\n",
    "i) $n(x) = \\sqrt{e^{x}cos(x)}$\n",
    "\n",
    "j) $o(x) = xln(\\sqrt{x})$\n",
    "\n",
    "k) $p(x) = e^{sen(x^{2})}$\n",
    "\n",
    "l) $yx^{2} + y^{2}  = sen(x)$\n",
    "\n",
    "m) $y = sen(xy)$"
   ]
  },
  {
   "cell_type": "markdown",
   "id": "864064f7",
   "metadata": {
    "heading_collapsed": true,
    "hidden": true
   },
   "source": [
    "##### Solução"
   ]
  },
  {
   "cell_type": "markdown",
   "id": "4039bc42",
   "metadata": {
    "hidden": true
   },
   "source": [
    "Temos que\n",
    "\n",
    "a) $$D_{x}(f(x)) = D_{x}(4^{2}) = D_{x}{16} = 0 \\ (constante)$$\n",
    "\n",
    "b) $$D_{x}(g(x)) = D_{x}(5x + 3) = D_{x}(5x) + D_{x}(3) = 5D_{x}(x) + 0 = 5$$\n",
    "\n",
    "c) $$D_{x}(h(x)) = D_{x}(x^{4} + 4x^{3}) = D_{x}(x^{4}) + 4D_{x}(x^{3}) = 4x^{4-1} + 4\\cdot3x^{3-1} = 4x^{3} + 12x^{2}$$\n",
    "\n",
    "d) $$D_{x}(i(x)) = D_{x}(xln(x)) = xD_{x}(ln(x)) + ln(x)D_{x}(x) = x\\frac{1}{x} + ln(x) \\cdot 1 = 1 + ln(x)$$\n",
    "\n",
    "e) $$D_{x}(j(x)) = D_{x}((x+1)sen(x^{2}) = (x+1)D_{x}(sen(x^{2})) + sen(x^{2})D_{x}(x+1) =$$\n",
    "\n",
    "$$=(x+1)cos(x)x^{2} + sen(x^{2})\\cdot 1 = x^{2}(x+1)cos(x^{2}) + sen(x^{2})$$\n",
    "\n",
    "f) $$D_{x}(k(x)) = D_{x} \\left(\\frac{x^{2}}{cos(x)} \\right) = \\frac{cos(x)D_{x}(x^{2}) -x^{2}D_{x}(cos(x))}{cos^{2}(x)} =$$\n",
    "\n",
    "$$= \\frac{2xcos(x) - x^{2}(-sen(x))}{cos^{2}(x)} = \\frac{2xcos(x) + x^{2}sen(x)}{cos^{2}(x)} $$\n",
    "\n",
    "g) $$D_{x}(l(x)) = D_{x}\\left(e^{sen(x)}\\right) = D_{X}(e^{X})D_{x}(sen(x)) = e^{X}cos(x) = e^{sen(x)}cos(x)$$\n",
    "\n",
    "h) $$D_{x}(m(x)) = D_{x}\\left(\\sqrt{x^{2} + 3x}\\right) = D_{x}\\left((x^{2} + 3x)^{\\frac{1}{2}}\\right) = $$\n",
    "\n",
    "$$= D_{X}(X^{\\frac{1}{2}})D_{x}(x^{2} + 3x) = \\frac{1}{2}X^{\\frac{1}{2}-1}(2x + 3) = $$\n",
    "\n",
    "$$= \\frac{1}{2}X^{-\\frac{1}{2}}(2x+3) = \\frac{2x+3}{2X^{\\frac{1}{2}}} = \\frac{2x+3}{2\\sqrt{x^{2} + 3x}}$$\n",
    "\n",
    "i) $$D_{x}(i(x)) = D_{x}(\\sqrt{e^{x}cos(x)}) = D_{X}\\sqrt{X}D_{x}(e^{x}cos(x)) =$$\n",
    "\n",
    "$$=\\frac{1}{2\\sqrt{X}}(e^{x}D_{x}(cos(x)) + cos(x)D_{x}(e^{x})) = $$\n",
    "\n",
    "$$= \\frac{1}{2\\sqrt{e^{x}cos(x)}}(e^{x}(-sen(x) + cos(x)e^{x}) = $$\n",
    "\n",
    "$$= \\frac{e^{x}(cos(x) - sen(x)}{2\\sqrt{e^{x}cos(x)}} = $$\n",
    "\n",
    "j) $$D_{x}(o(x)) = D_{x}\\left(xln\\left(\\sqrt{x}\\right)\\right) = xD_{x}\\left(ln\\left(\\sqrt{x}\\right)\\right) + ln\\left(\\sqrt{x}\\right)D_{x}(x) = $$\n",
    "\n",
    "$$= xD_{x}\\left(ln\\left(\\sqrt{x}\\right)\\right) + ln\\left(\\sqrt{x}\\right)D_{x}(x) = xD_{X}\\left(ln(X)\\right)D_{x}\\left(\\sqrt{x}\\right) + ln\\left(\\sqrt{x}\\right) = $$\n",
    "\n",
    "$$= x \\frac{1}{X}\\frac{1}{2\\sqrt{x}} + ln\\left(\\sqrt{x}\\right) = x \\frac{1}{\\sqrt{x}}\\frac{1}{2\\sqrt{x}} + ln\\left(\\sqrt{x}\\right) = $$\n",
    "\n",
    "$$ = x \\frac{1}{2x} + ln\\left(\\sqrt{x}\\right) = \\frac{1}{2} + ln\\left(\\sqrt{x}\\right) $$\n",
    "\n",
    "k) $$D_{x}(p(x)) = D_{x}(e^{sen(x^{2})}) = D_{X}(e^{X})D_{W}(sen(W))D_{x}(x^{2}) =$$\n",
    "\n",
    "$$ = e^{X}cos(W)2x = 2xe^{sen(x^{2})}cos(x^{2})$$\n",
    "\n",
    "l) $$(yx^{2} + y^{2}  = sen(x))' = (yx^{2})' + (y^{2})' = (sen(x))' \\Rightarrow $$\n",
    "\n",
    "$$\\Rightarrow y(x^{2})' + x^{2}(y)' + 2yy' = cos(x) \\Rightarrow 2xy + x^{2}y' + 2yy' = cos(x) \\Rightarrow$$\n",
    "\n",
    "$$\\Rightarrow y'(x^{2} + 2y) = cos(x)-2xy \\Rightarrow y' = \\frac{cos(x)-2xy}{x^{2} + 2y}$$\n",
    "\n",
    "m) $$(y = sen(xy))' \\Rightarrow (y)' = (sen(xy))' \\Rightarrow y' = (sen(X))'(xy)' \\Rightarrow $$\n",
    "\n",
    "$$\\Rightarrow y' = cos(X)(x(y)' + y(x)') \\Rightarrow y' = (xy' + y)cos(xy) \\Rightarrow$$\n",
    "\n",
    "$$\\Rightarrow y' = xy'cos(xy) + ycos(xy) \\Rightarrow y' - xy'cos(xy) = ycos(xy) \\Rightarrow$$\n",
    "\n",
    "$$y'(1 - xcos(xy)) = ycos(xy) \\Rightarrow y' = \\frac{ycos(xy)}{1-xcos(xy)}$$"
   ]
  },
  {
   "cell_type": "markdown",
   "id": "be7aa0d0",
   "metadata": {
    "heading_collapsed": true,
    "hidden": true
   },
   "source": [
    "#### Exercício Resolvido 5"
   ]
  },
  {
   "cell_type": "markdown",
   "id": "92254fe8",
   "metadata": {
    "hidden": true
   },
   "source": [
    "Determine os valores para os quais as funções a seguir são diferenciáveis:\n",
    "\n",
    "a) $f(x) = 2x^{3} + x^{2} - 1$\n",
    "\n",
    "b) $g(x) = \\frac{x-2}{x^{2} -1}$\n",
    "\n",
    "c) $h(x) = \\sqrt[3]{x+1}$"
   ]
  },
  {
   "cell_type": "markdown",
   "id": "861fbd99",
   "metadata": {
    "heading_collapsed": true,
    "hidden": true
   },
   "source": [
    "##### Solução"
   ]
  },
  {
   "cell_type": "markdown",
   "id": "8fc34287",
   "metadata": {
    "hidden": true
   },
   "source": [
    "Basta diferenciarmos as funções e verificarmos onde tais derivadas são contínuas.\n",
    "\n",
    "a) Note que\n",
    "\n",
    "$$D_{x}(f(x)) = D_{x}(2x^{3} + x^{2} - 1) = 6x^{2} + 2x$$\n",
    "\n",
    "resulta em um polinômio que é, como vimos, uma função contínua em todo ponto real. Portanto, $f(x)$ é direnciável para todo $x \\in \\mathbb{R}$.\n",
    "\n",
    "b) Note que\n",
    "\n",
    "$$D_{x}(g(x)) = D_{x}\\left(\\frac{x-2}{x^{2}-1}\\right) = \\frac{(x^{2}-1)D_{x}(x-2) - (x-2)D_{x}(x^{2} -1)}{(x^{2}-1)^{2}} =$$\n",
    "\n",
    "$$= \\frac{(x^{2} - 1)\\cdot1 - (x-2)\\cdot2x}{(x^{2}-1)^{2}} = \\frac{x^{2} - 1 - 2x^{2} + 4x}{(x^{2}-1)^{2}} = \\frac{-x^{2} + 4x - 1}{(x^{2}-1)^{2}}$$\n",
    "\n",
    "Note que $g'(x)$ é bem definida nos pontos para os quais o denominador $(x^{2}-1)^{2}$ é não nulo. Pois bem,\n",
    "\n",
    "$$(x^{2}-1)^{2} \\neq 0 \\Rightarrow x^{2} - 1 \\neq \\sqrt{0} \\Rightarrow$$\n",
    "\n",
    "$$\\Rightarrow x^{2} \\neq 1 \\Rightarrow x \\neq \\pm \\sqrt{1} \\Rightarrow x \\neq \\pm 1$$\n",
    "\n",
    "Portanto, $g(x)$ é diferenciável em $\\mathbb{R} - \\{-1,1\\}$.\n",
    "\n",
    "c) Note que\n",
    "\n",
    "$$D_{x}(h(x)) = D_{x}\\left(\\sqrt[3]{x+1}\\right) = D_{x}\\left((x+1)^{\\frac{1}{3}}\\right) = D_{X}X^{\\frac{1}{3}}D_{x}(x+1) =$$\n",
    "\n",
    "$$= \\frac{1}{3}X^{\\frac{1}{3}-1}\\cdot1 = \\frac{1}{3}X^{-\\frac{2}{3}} = \\frac{1}{3X^{\\frac{2}{3}}} = \\frac{1}{3\\sqrt[3]{X^{2}}} = \\frac{1}{3\\sqrt[3]{(x+1)^{2}}} $$\n",
    "\n",
    "Note que $g'(x)$ é bem definida nos pontos para os quais o denominador $3\\sqrt[3]{(x+1)^{2}}$ é não nulo. Pois bem,\n",
    "\n",
    "$$3\\sqrt[3]{(x+1)^{2}} \\neq 0 \\Rightarrow \\sqrt[3]{(x+1)^{2}} \\neq \\frac{0}{3} \\Rightarrow (x+1)^{2} \\neq 0^{3} \\Rightarrow$$\n",
    "\n",
    "$$ \\Rightarrow x + 1 \\neq \\pm \\sqrt{0} \\Rightarrow x + 1 \\neq 0 \\Rightarrow x \\neq -1$$\n",
    "\n",
    "Portanto, $g(x)$ é diferenciável em $\\mathbb{R} - \\{-1\\}$."
   ]
  },
  {
   "cell_type": "markdown",
   "id": "e2457b1a",
   "metadata": {
    "heading_collapsed": true,
    "hidden": true
   },
   "source": [
    "#### Exercício Resolvido 6"
   ]
  },
  {
   "cell_type": "markdown",
   "id": "4f19183f",
   "metadata": {
    "hidden": true
   },
   "source": [
    "Obtenha a equação da reta tangente às funções nos pontos de abscissa dada:\n",
    "\n",
    "a) $f(x) = x^{2} + x - 1$, $x_{0} = 1$\n",
    "\n",
    "b) $g(x) = e^{x} + 2$, $x_{0} = 0$\n",
    "\n",
    "c) $h(x) = (x+1)e^{x}$, $x_{0} = -2$\n",
    "\n",
    "d) $i(x) \\frac{2x}{x+1}$, $x_{0} = 0$ "
   ]
  },
  {
   "cell_type": "markdown",
   "id": "4c69052a",
   "metadata": {
    "heading_collapsed": true,
    "hidden": true
   },
   "source": [
    "##### Solução"
   ]
  },
  {
   "cell_type": "markdown",
   "id": "6992c349",
   "metadata": {
    "hidden": true
   },
   "source": [
    "Primeiro devemos obter as derivadas das funções nas abscissas dadas $x_{0}$. Em seguida, obter os valor da ordenada $y_{0}$ como imagem de $x_{0}$ pelas funções e, por fim, substituir na fórmula:\n",
    "\n",
    "$$y - y_{0} = f'(x_{0})(x-x_{0})$$\n",
    "\n",
    "a) $$D_{x}(f(x)) = D_{x}(x^{2} + x - 1) = 2x + 1 \\Rightarrow f'(x) = 2x + 1 \\Rightarrow f'(x_{0}) = f'(1) = 2\\cdot 1 + 1 = 3$$\n",
    "\n",
    "$$y_{0} = f(x_{0}) = f(1) = 1^{2} + 1 - 1 = 1 \\Rightarrow P(1,1) \\Rightarrow y - y_{0} = f'(x_{0})(x - x_{0}) \\Rightarrow$$\n",
    "\n",
    "$$\\Rightarrow y - 1 = 3(x-1) \\Rightarrow y = 3x - 3 + 1 \\Rightarrow y = 3x -2$$\n",
    "\n",
    "b) $$D_{x}(g(x)) = D_{x}(e^{x} + 2) = e^{x} \\Rightarrow f'(x) = e^{x} \\Rightarrow g'(x_{0}) = g'(0) = e^{0} = 1$$\n",
    "\n",
    "$$y_{0} = g(x_{0}) = g(0) = e^{0} + 2 = 1 + 2 = 3 \\Rightarrow P(0,3) \\Rightarrow y - y_{0} = g'(x_{0})(x - x_{0}) \\Rightarrow$$\n",
    "\n",
    "$$\\Rightarrow y - 3 = 1(x-0) \\Rightarrow y = x + 3$$\n",
    "\n",
    "c) $$D_{x}(h(x)) = D_{x}((x+1)e^{x}) = (x+1)D_{x}(e^{x}) + e^{x}D_{x}(x) = (x+1)e^{x} + e^{x} \\Rightarrow$$\n",
    "\n",
    "$$\\Rightarrow h'(x) = (x+1)e^{x} + e^{x} \\Rightarrow h'(x_{0}) = h'(-2) = (1-2)e^{-2} + e^{-2} = 0$$\n",
    "\n",
    "$$y_{0} = h(x_{0}) = h(-2) = (-2+1)e^{-2} = -e^{-2} \\Rightarrow P(-2,-e^{-2}) \\Rightarrow y - y_{0} = h'(x_{0})(x - x_{0}) \\Rightarrow$$\n",
    "\n",
    "$$ \\Rightarrow y - (-e^{-2}) = 0(x-(-2)) \\Rightarrow y = -e^{-2} \\ (reta \\ horizontal \\ valor \\ constante)$$\n",
    "\n",
    "d) $$D_{x}\\left(\\frac{2x}{x+1}\\right) = \\frac{(x+1)D_{x}(2x) - 2xD_{x}(x+1)}{(x+1)^{2}} =$$\n",
    "\n",
    "$$= \\frac{(x+1)\\cdot2 - 2x\\cdot1}{(x+1)^{2}} = \\frac{2}{(x+1)^{2}} \\Rightarrow$$\n",
    "\n",
    "$$= i'(x) = \\frac{2}{(x+1)^{2}} \\Rightarrow i'(x_{0}) = i'(0) = \\frac{2}{(0+1)^{2}} = 2$$\n",
    "\n",
    "$$y_{0} = i(x_{0}) = i(0) = \\frac{2\\cdot0}{0+1} = 0 \\Rightarrow$$\n",
    "$$\\Rightarrow y - y_{0} = i'(x_{0})(x-x_{0}) \\Rightarrow y - 0 = 2(x-0) \\Rightarrow y = 2x$$\n",
    "\n",
    "A célula de código a seguir apresenta uma representação visual para as soluções apresentadas:"
   ]
  },
  {
   "cell_type": "code",
   "execution_count": 12,
   "id": "ec167597",
   "metadata": {
    "ExecuteTime": {
     "end_time": "2024-01-24T14:55:24.208605Z",
     "start_time": "2024-01-24T14:55:24.039187Z"
    },
    "hidden": true
   },
   "outputs": [
    {
     "data": {
      "image/png": "[encoded data removed]",
      "text/plain": [
       "<Figure size 640x480 with 1 Axes>"
      ]
     },
     "metadata": {},
     "output_type": "display_data"
    }
   ],
   "source": [
    "from numpy import*\n",
    "import matplotlib.pyplot as plt\n",
    "\n",
    "x0 = 1\n",
    "\n",
    "def f(x):\n",
    "    return x**2 + x - 1\n",
    "\n",
    "def tangente(x):\n",
    "    return 3*x-2\n",
    "\n",
    "f1_vectorized = vectorize(f)\n",
    "f2_vectorized = vectorize(tangente)\n",
    "\n",
    "\n",
    "# Gerando os valores de x para duas partes: x < 0 e x > 0\n",
    "x = arange(-3, 3, 0.1)  # Valores negativos de x, excluindo o zero\n",
    "\n",
    "# Aplicando a função vetorizada\n",
    "y1 = f1_vectorized(x)\n",
    "y2 = f2_vectorized(x)\n",
    "\n",
    "\n",
    "# Adicionando linhas de referência (eixos x e y)\n",
    "plt.axhline(0, color='black', linewidth=0.5)\n",
    "plt.axvline(0, color='black', linewidth=0.5)\n",
    "\n",
    "# Grade\n",
    "plt.grid()\n",
    "\n",
    "# Definindo limites para o eixo y (aumente os valores -10 e 10 para -100 e 100)\n",
    "plt.ylim(-5, 10)\n",
    "\n",
    "# Plotando o gráfico para a parte negativa e positiva, separadamente\n",
    "plt.plot(x, y1, 'k-', linewidth=0.7, label = 'Função')\n",
    "plt.plot(x, y2, 'r-', linewidth=0.7, label = 'Reta Tangente')\n",
    "plt.plot(x0, f(x0), 'go', linewidth=0.5, label = 'Ponto de Tangência')\n",
    "\n",
    "# Inserindo a legenda\n",
    "plt.legend()\n",
    "\n",
    "# Mostrar o gráfico\n",
    "plt.show()"
   ]
  },
  {
   "cell_type": "markdown",
   "id": "40806cbd",
   "metadata": {
    "heading_collapsed": true,
    "hidden": true
   },
   "source": [
    "#### Exercício Resolvido 7"
   ]
  },
  {
   "cell_type": "markdown",
   "id": "5386a0eb",
   "metadata": {
    "hidden": true
   },
   "source": [
    "Usando regras de derivação encontre o(s) ponto(s) do gráfico de $y = x^{3} - 2x$ na qual a reta tangente é paralela à reta $y = x + 3$."
   ]
  },
  {
   "cell_type": "markdown",
   "id": "49632edf",
   "metadata": {
    "heading_collapsed": true,
    "hidden": true
   },
   "source": [
    "##### Solução"
   ]
  },
  {
   "cell_type": "markdown",
   "id": "b2c75c30",
   "metadata": {
    "hidden": true
   },
   "source": [
    "Primeiramente devemos obter a derivada de $f(x) = x^{3} - 2x$ em um ponto de abscissa $x = x_{0}$. Pois bem,\n",
    "\n",
    "$$D_{x}(f(x)) = D_{x}(x^{3} - 2x) = 3x^{2} - 2$$\n",
    "\n",
    "Como a reta tangente, $r_{1}$ deve ser paralela à reta tangente $r_{2}$, temos que seus coeficientes angulares devem ser iguais, isto é,\n",
    "\n",
    "$$f'(x_{0}) = 1 \\Rightarrow 3x_{0}^{2} - 2 = 1 \\Rightarrow 3x_{0}^{2} = 3 \\Rightarrow x_{0} = \\pm 1 $$\n",
    "\n",
    "Como os pontos $x_{0} = -1$ e $x_{0} = 1$ pertence ao gráfico de $f(x) = x^{3} - 2x$ podemos substituí-los para obtermos a ordenada $y_{0}$ associada a cada um. Pois bem,\n",
    "\n",
    "$$x_{0} = -1 \\Rightarrow y_{0} = (-1)^{3} - 2(-1) = -1 + 2 = 1 \\Rightarrow P_{1}(-1,1)$$\n",
    "\n",
    "$$x_{0} = 1 \\Rightarrow y_{0} = 1^{3} - 2\\cdot1 = 1 - 2 = -1 \\Rightarrow P_{2}(1,-1)$$\n",
    "\n",
    "Sendo assim, temos duas retas tangentes, uma para cada ponto $P_{1}$ e $P_{2}$ obtidos acima:\n",
    "\n",
    "i) A reta tangente ao gráfico de $y = x^{3} - 2x$ no ponto $(-1,1)$ é paralela à reta $y = x + 3$. Em particular, a reta tangente ao gráfico de $f$ no ponto $(-1,1)$ é dada por:\n",
    "\n",
    "$$ y - 1 = 1(x-(-1)) \\Rightarrow y = x + 1 + 1 \\Rightarrow y = x + 2$$\n",
    "\n",
    "ii) A reta tangente ao gráfico de $y = x^{3} - 2x$ no ponto $(1,-1)$ é paralela à reta $y = x + 3$. Em particular, a reta tangente ao gráfico de $f$ no ponto $(1,-1)$ é dada por:\n",
    "\n",
    "$$ y - (-1) = 1(x-1) \\Rightarrow y = x - 1 - 1 \\Rightarrow y = x - 2$$\n",
    "\n",
    "O código a seguir´(já usado) apresenta os esboço gráfico de todas as funções citadas:"
   ]
  },
  {
   "cell_type": "code",
   "execution_count": 13,
   "id": "97b7e4b0",
   "metadata": {
    "ExecuteTime": {
     "end_time": "2024-01-24T14:55:24.392507Z",
     "start_time": "2024-01-24T14:55:24.210598Z"
    },
    "hidden": true
   },
   "outputs": [
    {
     "data": {
      "image/png": "[encoded data removed]",
      "text/plain": [
       "<Figure size 640x480 with 1 Axes>"
      ]
     },
     "metadata": {},
     "output_type": "display_data"
    }
   ],
   "source": [
    "from numpy import arange, vectorize\n",
    "import matplotlib.pyplot as plt\n",
    "\n",
    "x0 = -1\n",
    "funcao = 'x**3 - 2*x'\n",
    "tangente = 'x+2'\n",
    "reta = 'x+3'\n",
    "\n",
    "def f(x):\n",
    "    return eval(funcao)\n",
    "\n",
    "def r1(x):\n",
    "    return eval(tangente)\n",
    "\n",
    "def r2(x):\n",
    "    return eval(reta)\n",
    "\n",
    "f1_vectorized = vectorize(f)\n",
    "f2_vectorized = vectorize(r1)\n",
    "f3_vectorized = vectorize(r2)\n",
    "\n",
    "# Gerando os valores de x para duas partes: x < 0 e x > 0\n",
    "x = arange(-3, 3, 0.1)  # Valores negativos de x, excluindo o zero\n",
    "\n",
    "# Aplicando a função vetorizada\n",
    "y1 = f1_vectorized(x)\n",
    "y2 = f2_vectorized(x)\n",
    "y3 = f3_vectorized(x)\n",
    "\n",
    "\n",
    "# Adicionando linhas de referência (eixos x e y)\n",
    "plt.axhline(0, color='black', linewidth=0.5)\n",
    "plt.axvline(0, color='black', linewidth=0.5)\n",
    "\n",
    "# Grade\n",
    "plt.grid()\n",
    "\n",
    "# Definindo limites para o eixo y (aumente os valores -10 e 10 para -100 e 100)\n",
    "plt.ylim(-5, 10)\n",
    "\n",
    "# Plotando o gráfico para a parte negativa e positiva, separadamente\n",
    "plt.plot(x, y1, 'k-', linewidth=0.7, label = 'Função')\n",
    "plt.plot(x, y2, 'r-', linewidth=0.7, label = 'Reta Tangente')\n",
    "plt.plot(x, y3, 'b-', linewidth=0.7, label = 'Reta Paralela')\n",
    "plt.plot(x0, f(x0), 'go', linewidth=0.5, label = 'Ponto de Tangência')\n",
    "\n",
    "# Inserindo a legenda\n",
    "plt.legend()\n",
    "\n",
    "# Mostrar o gráfico\n",
    "plt.show()"
   ]
  },
  {
   "cell_type": "markdown",
   "id": "5191e326",
   "metadata": {
    "heading_collapsed": true,
    "hidden": true
   },
   "source": [
    "#### Exercício Resolvido 8"
   ]
  },
  {
   "cell_type": "markdown",
   "id": "256b21cf",
   "metadata": {
    "hidden": true
   },
   "source": [
    "Determine o valor dos seguintes limites usando a Regra de L'Hôpital:\n",
    "\n",
    "a) $lim_{x \\to -5} \\frac{x^{2}-25}{x^{2}+6x+5}$\n",
    "\n",
    "b) $lim_{x \\to \\infty} \\frac{x}{2^{x}}$\n",
    "\n",
    "c) $lim_{x \\to 0} \\frac{sen(6x)}{sen(2x)}$\n",
    "\n",
    "d) $lim_{x \\to \\infty} \\frac{e^{2x}}{x^{3}}$\n",
    "\n",
    "e) $lim_{x \\to 3^{-}} \\frac{x-3}{x^{2}-6x+9}$"
   ]
  },
  {
   "cell_type": "markdown",
   "id": "22ebc8a1",
   "metadata": {
    "heading_collapsed": true,
    "hidden": true
   },
   "source": [
    "##### Solução"
   ]
  },
  {
   "cell_type": "markdown",
   "id": "57d1df88",
   "metadata": {
    "hidden": true
   },
   "source": [
    "a) Note que $\\frac{(-5)^{2}-25}{(-5)^{2}+6(-5)+5} = \\frac{0}{0}$. Assim,\n",
    "\n",
    "$$lim_{x \\to -5} \\frac{x^{2}-25}{x^{2}+6x+5} = lim_{x \\to -5} \\frac{(x^{2}-25)'}{(x^{2}+6x+5)'} = lim_{x \\to -5} \\frac{2x}{2x+6} = \\frac{2(-5)}{2(-5)+6} = \\frac{-10}{-4} = \\frac{5}{2}$$\n",
    "\n",
    "b) Note que $\\frac{\\infty}{2^{\\infty}} = \\frac{\\infty}{\\infty}$. Assim,\n",
    "\n",
    "$$lim_{x \\to \\infty} \\frac{x}{2^{x}} = lim_{x \\to \\infty} \\frac{(x)'}{(2^{x})'} = lim_{x \\to \\infty} \\frac{1}{2^{x}ln(2)} = \\frac{1}{2^{\\infty}\\cdot ln(2)} = \\frac{1}{\\infty \\cdot ln(2)} = \\frac{1}{\\infty} = 0$$\n",
    "\n",
    "c) Note que $\\frac{sen(6\\cdot0)}{sen(2\\cdot0)} = \\frac{sen(0)}{sen(0)} = \\frac{0}{0}$. Assim,\n",
    "\n",
    "$$lim_{x \\to 0} \\frac{sen(6x)}{sen(2x)} = lim_{x \\to 0} \\frac{(sen(6x))'}{(sen(2x))'} = lim_{x \\to 0} \\frac{6cos(6x)}{2cos(2x)} = \\frac{6cos(6\\cdot0)}{2cos(2\\cdot0)} = \\frac{6cos(0)}{2cos(0)} = \\frac{6\\cdot1}{2\\cdot1} = 3$$\n",
    "\n",
    "d) Note que $\\frac{e^{2\\infty}}{\\infty^{3}} = \\frac{\\infty}{\\infty}$. Assim,\n",
    "\n",
    "$$lim_{x \\to \\infty} \\frac{e^{2x}}{x^{3}} = lim_{x \\to \\infty} \\frac{(e^{2x})'}{(x^{3})'} = lim_{x \\to \\infty} \\frac{2e^{2x}}{3x^{2}} = _{\\frac{\\infty}{\\infty}} = lim_{x \\to \\infty} \\frac{(2e^{2x})'}{(3x^{2})'} = $$\n",
    "\n",
    "$$= lim_{x \\to \\infty} \\frac{4e^{2x}}{6x} = _{\\frac{\\infty}{\\infty}} = lim_{x \\to \\infty} \\frac{(4e^{2x})'}{(6x)'} = lim_{x \\to \\infty} \\frac{8e^{2x}}{6} = \\frac{8e^{2\\infty}}{6} = \\frac{8\\infty}{6} = \\frac{\\infty}{6} = \\infty$$\n",
    "\n",
    "e) Note que $\\frac{3-3}{3^{2}-6\\cdot3+9} = \\frac{0}{0}$. Assim,\n",
    "\n",
    "$$lim_{x \\to 3^{-}} \\frac{x-3}{x^{2}-6x+9} = lim_{x \\to 3} \\frac{(x-3)'}{(x^{2}-6x+9)'} = lim_{x \\to 3} \\frac{1}{2x-6} = \\frac{1}{-0} = -\\infty$$"
   ]
  },
  {
   "cell_type": "markdown",
   "id": "fa23a4a9",
   "metadata": {
    "heading_collapsed": true,
    "hidden": true
   },
   "source": [
    "#### Exercício Resolvido 9"
   ]
  },
  {
   "cell_type": "markdown",
   "id": "3888d0be",
   "metadata": {
    "hidden": true
   },
   "source": [
    "*Considerando uma função $f$ diferenciável definida no domínio $(a,b)$, é possível identificar pontos de máximos e mínimos locais. Estes pontos são considerados globais se forem, respectivamente, o maior ou menor valores em todo o conjunto observado. Uma característica importante é a presença de tangentes horizontais nesses pontos.*\n",
    "\n",
    "Nos gráficos a seguir, apresente uma estimativa para as abscissas dos pontos de máximo e mínimo locais. Apresente também estimativas para os valores máximos e mínimos observados (globais).\n",
    "\n",
    "<center> <img src=\"fig3-7.jpg\" alt=\"jpg_python\" width=\"700\" height=\"\"> </center>"
   ]
  },
  {
   "cell_type": "markdown",
   "id": "5fe1a710",
   "metadata": {
    "hidden": true
   },
   "source": [
    "***Tanto este exercício quanto próximo (Exercícios 9 e 10) serão melhores entendidos logo mais nos capítulos de aplicação do cálculo diferencial.***"
   ]
  },
  {
   "cell_type": "markdown",
   "id": "78f281a3",
   "metadata": {
    "heading_collapsed": true,
    "hidden": true
   },
   "source": [
    "##### Solução"
   ]
  },
  {
   "cell_type": "markdown",
   "id": "77fb20f4",
   "metadata": {
    "hidden": true
   },
   "source": [
    "Destacamos as tangentes horizontais na figura a seguir:\n",
    "\n",
    "<center> <img src=\"fig3-8.jpg\" alt=\"jpg_python\" width=\"700\" height=\"\"> </center>\n",
    "\n",
    "Considerando o gráfico de $f(x)$ temos que existem tangentes horizontais em $x_{0} = -1$ e $x_{1} = 1$. Neste caso temos \n",
    "\n",
    "i) um ponto de máximo local em $x_{0} = -1$ cujo valor é $0.8$ (estimativa visual)\n",
    "\n",
    "ii) um ponto de mínimo local em $x_{1} = -1$ cujo valor é $-0.8$ (estimativa visual)\n",
    "\n",
    "Note que o maior valor atingido por $f(x)$ no gráfico observado é $3$ sendo atingido em $x = 2.5$ (estimativa visual). Por outro lado, o menor valor atingido por $f(x)$ no gráfico observado é $-0.8$ que ocorre em $x_{1} = -1$ (mínimo local igual a mínimo global).\n",
    "\n",
    "\n",
    "Considerando o gráfico de $g(x)$ temos que existem tangentes horizontais em $x_{0} = -60$, $x_{1} = -20$, $x_{2} = 20$ e $x_{3} = 60$. Neste caso temos \n",
    "\n",
    "i) dois pontos de máximo local $x_{0}$ e $x_{2}$ cuja imagem de ambos é igual a $1$.\n",
    "\n",
    "i) dois pontos de máximo local $x_{0}$ e $x_{2}$ cuja imagem de ambos é igual a $-1$.\n",
    "\n",
    "Note que o maior valor atingido por $f(x)$ no gráfico observado é $1$ sendo atingido em $x_{0}$ e $x_{2}$ (máximo local igual a máximo global). Por outro lado, o menor valor atingido por $f(x)$ no gráfico observado é $-1$ que ocorre em $x_{2}$ e $x_{3}$ (mínimo local igual a mínimo global)."
   ]
  },
  {
   "cell_type": "markdown",
   "id": "8a8e5d56",
   "metadata": {
    "heading_collapsed": true,
    "hidden": true
   },
   "source": [
    "#### Exercício Resolvido 10"
   ]
  },
  {
   "cell_type": "markdown",
   "id": "77837ab7",
   "metadata": {
    "hidden": true
   },
   "source": [
    "*Uma reta tangente, expressa por $r: y = mx + n$ ($m = f'(x_{0})$), é horizontal quando seu coeficiente angular $m$ é igual a zero. Desta forma, máximos locais podem (mas nem sempre) estar presentes nos valores $x_{0}$ para os quais $f'(x_{0})$ seja nula.*\n",
    "\n",
    "Sem esboçar o gráfico encontre máximos e mínimos locais de cada uma das funções a seguir:\n",
    "\n",
    "a) $f(x) = x^{2} - 5x +  6$\n",
    "\n",
    "b) $g(x) = \\frac{1}{x^{2} - 2x}$\n",
    "\n",
    "c) $h(x) = x^{3}$\n",
    "\n",
    "*Dica: Resolva a equação $f'(x) = 0$ e observe se a função em questão apresenta mudança de crescimento na vizinhança do ponto $x_{0}$ (solução da equação).*"
   ]
  },
  {
   "cell_type": "markdown",
   "id": "63050cbe",
   "metadata": {
    "heading_collapsed": true,
    "hidden": true
   },
   "source": [
    "##### Solução"
   ]
  },
  {
   "cell_type": "markdown",
   "id": "ce2b3cc7",
   "metadata": {
    "hidden": true
   },
   "source": [
    "Temos que\n",
    "\n",
    "a) $$f(x) = x^{2} - 5x + 6 \\Rightarrow f'(x) = 2x - 5$$\n",
    "\n",
    "Fazendo $f'(x) = 0$, temos:\n",
    "\n",
    "$$\\Rightarrow f'(x) = 0 \\Rightarrow 2x - 5 = 0 \\Rightarrow 2x = 5 \\Rightarrow x = \\frac{5}{2}$$\n",
    "\n",
    "Portanto $x_{0} = \\frac{5}{2}$ é um candidato a máximo ou mínimo local.\n",
    "\n",
    "Embora empregaremos um outro método no próximo capítulo, podemos analisar dois valores \"próximos\" de $\\frac{5}{2} = 2.5$, um levemente menor e um levemente maior, por exemplo $2.499$ e $2.501$. Note que $f(2.5) = -0.25$ ao passo que $f(2.499) > f(2.5)$ e $f(2.501) > f(2.5)$ o que nos induz a dizer que $f(2.5)$ é um mínimo local. Tome valores ainda mais próximos de $2.5$ como por exemplo $2.4999$ e $2.5001$, $2.49999$ e $2.50001$ etc.\n",
    "\n",
    "b) $$g(x) = \\frac{1}{x^{2} - 2x} \\Rightarrow g'(x) = \\frac{(x^{2} - 2x)\\cdot(1)' - 1\\cdot(x^{2} - 2x)'}{(x^{2} - 2x)^{2}} = $$\n",
    "\n",
    "$$= \\frac{(x^{2} - 2x)\\cdot0 - 1\\cdot(2x - 2)}{(x^{2} - 2x)^{2}} = \\frac{2x - 2}{(x^{2} - 2x)^{2}} \\Rightarrow g'(x) = \\frac{2x - 2}{(x^{2} - 2x)^{2}}$$\n",
    "\n",
    "Fazendo $g'(x) = 0$, temos:\n",
    "\n",
    "$$g'(x) = 0 \\Rightarrow \\frac{2x - 2}{(x^{2} - 2x)^{2}} = 0 \\Rightarrow 2x - 2 = 0 \\Rightarrow 2x = 2 \\Rightarrow x = 1$$\n",
    "\n",
    "Portanto, $x_{0} = 1$ é um cadidato a máximo ou mínimo local.\n",
    "\n",
    "Analogamente ao caso anterior analisemos comportamento de $g$ em dois pontos \"próximos\" a $x_{0} = 1$, por exemplo, $0.999$ e $1.001$. Note que $f(0.999) < f(1)$ e $f(1.001) < f(1)$ o que nos induz a dizer que $f(1)$ é um máximo local.\n",
    "\n",
    "c) $$h(x) = x^{3} \\Rightarrow h'(x) = 3x^{2} $$\n",
    "\n",
    "Fazendo $h'(x) = 0$, temos:\n",
    "\n",
    "$$h'(x) = 0 \\Rightarrow 3x^{2} = 0 \\Rightarrow x^{2} = 0 \\Rightarrow x = 0$$\n",
    "\n",
    "Portanto, $x_{0} = 0$ é um cadidato a máximo ou mínimo local.\n",
    "\n",
    "Analogamente aos casos anteriores analisemos comportamento de $h$ em dois pontos \"próximos\" a $x_{0} = 0$, por exemplo, $-0.001$ e $0.001$. Note que $f(-0.001) < f(0) < f(0.001)$ o que nos mostra que $f(0)$ não é inferior nem superior aos valores dados. A célula a seguir apresenta as contas (que podem ser feitas em uma calculadora comum)."
   ]
  },
  {
   "cell_type": "code",
   "execution_count": 14,
   "id": "f96a89a9",
   "metadata": {
    "ExecuteTime": {
     "end_time": "2024-01-24T14:55:24.400224Z",
     "start_time": "2024-01-24T14:55:24.394497Z"
    },
    "hidden": true
   },
   "outputs": [
    {
     "name": "stdout",
     "output_type": "stream",
     "text": [
      "-0.25\n",
      "-0.24999900000000075\n",
      "-0.24999899999999986\n",
      "-1.0\n",
      "-1.000001000001\n",
      "-1.000001000001\n",
      "0\n",
      "-1e-09\n",
      "1e-09\n"
     ]
    }
   ],
   "source": [
    "def f(x):\n",
    "    return x**2 - 5*x + 6\n",
    "\n",
    "print(f(2.5))\n",
    "print(f(2.499))\n",
    "print(f(2.501))\n",
    "\n",
    "def g(x):\n",
    "    return 1/(x**2-2*x)\n",
    "\n",
    "print(g(1))\n",
    "print(g(0.999))\n",
    "print(g(1.001))\n",
    "\n",
    "def h(x):\n",
    "    return x**3\n",
    "\n",
    "print(h(0))\n",
    "print(h(-0.001))\n",
    "print(h(0.001))\n"
   ]
  },
  {
   "cell_type": "markdown",
   "id": "c1bfe4ee",
   "metadata": {
    "hidden": true
   },
   "source": [
    "Embora indicamos a não utilização dos esboços gráficos antes de nossas conclusões podemos observá-los agora para corroborar as mesmas:\n",
    "\n",
    "<center> <img src=\"fig3-9.jpg\" alt=\"jpg_python\" width=\"700\" height=\"\"> </center>"
   ]
  },
  {
   "cell_type": "markdown",
   "id": "9340e0b8",
   "metadata": {
    "heading_collapsed": true
   },
   "source": [
    "# <div style=\"margin-top: -20px;\">\n",
    "<hr style=\"border: 2px solid black;\">\n",
    "\n",
    "<font color='black'><span style=\"font-size: 22px;\"><strong>Exercícios</strong></span></font>\n",
    "\n",
    "<hr style=\"border: 2px solid black;\">\n",
    "</div>"
   ]
  },
  {
   "cell_type": "markdown",
   "id": "23a2c1cf",
   "metadata": {
    "heading_collapsed": true,
    "hidden": true
   },
   "source": [
    "#### Exercício 1"
   ]
  },
  {
   "cell_type": "markdown",
   "id": "911969e5",
   "metadata": {
    "hidden": true
   },
   "source": [
    "Use a **Definição 2** para calcular as derivadas das seguintes funções:\n",
    "\n",
    "a) $f(x) = 3x - 1$\n",
    "\n",
    "b) $g(x) = x^{2} - 4x$\n",
    "\n",
    "c) $h(x) = \\frac{1}{2x -1}$\n",
    "\n",
    "d) $i(x) = \\sqrt{x - 2}$"
   ]
  },
  {
   "cell_type": "markdown",
   "id": "803eb81a",
   "metadata": {
    "heading_collapsed": true,
    "hidden": true
   },
   "source": [
    "##### Respostas"
   ]
  },
  {
   "cell_type": "markdown",
   "id": "5d64b575",
   "metadata": {
    "hidden": true
   },
   "source": [
    "a) $f'(x) = 3$\n",
    "\n",
    "b) $g'(x) = 2x - 4$\n",
    "\n",
    "c) $h'(x) = -\\frac{2}{(2x-1)^{2}}$\n",
    "\n",
    "d) $i(x) = \\frac{1}{2\\sqrt{x-2}}$"
   ]
  },
  {
   "cell_type": "markdown",
   "id": "7faffa81",
   "metadata": {
    "heading_collapsed": true,
    "hidden": true
   },
   "source": [
    "#### Exercício 2"
   ]
  },
  {
   "cell_type": "markdown",
   "id": "afb94ff7",
   "metadata": {
    "hidden": true
   },
   "source": [
    "Use regras de derivação para calcular a derivada das seguintes funções:\n",
    "\n",
    "a) $f(x) = cos(x) - sen(x)$\n",
    "\n",
    "b) $g(x) = e^{x} + x^{2}$\n",
    "\n",
    "c) $h(x) = (x^{3} + x^{2})sen(x)$\n",
    "\n",
    "d) $i(x) = \\frac{sen(x)}{e^{x} + 3}$\n",
    "\n",
    "e) $j(x) = e^{x^{2} + x + 1}$\n",
    "\n",
    "f) $k(x) = 3^{x} - x^{2} + sen(2x)$\n",
    "\n",
    "g) $l(x) = 2^{\\frac{1}{x}}$\n",
    "\n",
    "h) $m(x) = log_{2}(x^{2})$\n",
    "\n",
    "i) $n(x) = 2^{x}cos(x)$\n",
    "\n",
    "j) $o(x) = ln(x^{2} + sen(x))$\n",
    "\n",
    "k) $p(x) = ln(ln(x))$\n",
    "\n",
    "l) $q(x) = \\frac{x^{2}}{x-e^{2x}}$\n",
    "\n",
    "m) $2xy + y^{3} - x^{2} = 1$\n",
    "\n",
    "n) $xy= e^{xy}$"
   ]
  },
  {
   "cell_type": "markdown",
   "id": "c7aaae61",
   "metadata": {
    "heading_collapsed": true,
    "hidden": true
   },
   "source": [
    "##### Respostas"
   ]
  },
  {
   "cell_type": "markdown",
   "id": "2850e532",
   "metadata": {
    "hidden": true
   },
   "source": [
    "a) $f'(x) = -sen(x) - cos(x)$\n",
    "\n",
    "b) $g'(x) = e^{x} + 2x$\n",
    "\n",
    "c) $h'(x) = (x^{3} + x^{2})cos(x) + (3x^{2} + 2x)sen(x)$\n",
    "\n",
    "d) $i'(x) = \\frac{(e^{x} + 3)cos(x) - e^{x}sen(x)}{(e^{x} + 3)^{2}}$\n",
    "\n",
    "e) $j'(x) = (2x + 1)e^{x^{2} + x + 1}$\n",
    "\n",
    "f) $k'(x) = ln(3)3^{x} - 2x + 2cos(2x)$\n",
    "\n",
    "g) $l'(x) = -\\frac{2^{\\frac{1}{x}}ln(2)}{x^{2}}$\n",
    "\n",
    "h) $m'(x) = \\frac{2}{xln(2)}$\n",
    "\n",
    "i) $n'(x) = 2^{x}(ln(2)cos(x) - sen(x))$\n",
    "\n",
    "j) $o'(x) = \\frac{2x + cos(x)}{x^{2} + sen(x)}$\n",
    "\n",
    "k) $p'(x) = \\frac{1}{xln(x)}$\n",
    "\n",
    "l) $q'(x) = \\frac{(x-e^{2x})2x - x^{2}(1-2e^{2x})}{x-e^{2x}}$\n",
    "\n",
    "m) $y' = \\frac{2(x-y)}{2x + 3y^{2}}$\n",
    "\n",
    "n) $y' = -\\frac{y}{x}$"
   ]
  },
  {
   "cell_type": "markdown",
   "id": "4e7ce34c",
   "metadata": {
    "heading_collapsed": true,
    "hidden": true
   },
   "source": [
    "#### Exercício 3"
   ]
  },
  {
   "cell_type": "markdown",
   "id": "93f365a1",
   "metadata": {
    "hidden": true
   },
   "source": [
    "Determine a equação da reta tangente ao gráfico das funções dadas no ponto $x_{0}$ indicado:\n",
    "\n",
    "a) $f(x) = x^{3} + x$, $x_{0} = 1$\n",
    "\n",
    "b) $g(x) = \\frac{x}{x-1}$, $x_{0}=2$\n",
    "\n",
    "c) $h(x) = e^{x}$, $x_{0} = 0$\n",
    "\n",
    "d) $i(x) = ln(x)$, $x_{0} = 2$\n",
    "\n",
    "e) $xy^{2} + 2y -x^{2} = 4$, $x = 0$"
   ]
  },
  {
   "cell_type": "markdown",
   "id": "36e4f422",
   "metadata": {
    "heading_collapsed": true,
    "hidden": true
   },
   "source": [
    "##### Respostas"
   ]
  },
  {
   "cell_type": "markdown",
   "id": "13f6305e",
   "metadata": {
    "hidden": true
   },
   "source": [
    "a) $y = 4x - 2$\n",
    "\n",
    "b) $y = -x + 4$\n",
    "\n",
    "c) $y = x + 1$\n",
    "\n",
    "d) $y = \\frac{1}{2} - 1 + ln(2)$\n",
    "\n",
    "e) $y = -2x + 2$"
   ]
  },
  {
   "cell_type": "markdown",
   "id": "4b40f302",
   "metadata": {
    "heading_collapsed": true,
    "hidden": true
   },
   "source": [
    "#### Exercício 4"
   ]
  },
  {
   "cell_type": "markdown",
   "id": "e0156e5a",
   "metadata": {
    "hidden": true
   },
   "source": [
    "Encontre os pontos nos quais cada uma das funções a seguir é diferenciável:\n",
    "\n",
    "a) $f(x) = 2x^{2} + 3x + 1$\n",
    "\n",
    "b) $g(x) = \\frac{1}{x-1}$\n",
    "\n",
    "c) $h(x) = \\sqrt{2x - 5}$"
   ]
  },
  {
   "cell_type": "markdown",
   "id": "b56a0cad",
   "metadata": {
    "heading_collapsed": true,
    "hidden": true
   },
   "source": [
    "##### Respostas"
   ]
  },
  {
   "cell_type": "markdown",
   "id": "5f56feca",
   "metadata": {
    "hidden": true
   },
   "source": [
    "a) Diferenciável em todo $x \\in \\mathbb{R}$\n",
    "\n",
    "b) diferenciável em $x \\in \\mathbb{R} - \\{1\\}$\n",
    "\n",
    "c) diferenciável em $\\left(\\frac{5}{2},+\\infty\\right)$"
   ]
  },
  {
   "cell_type": "markdown",
   "id": "65d63080",
   "metadata": {
    "heading_collapsed": true,
    "hidden": true
   },
   "source": [
    "#### Exercício 5"
   ]
  },
  {
   "cell_type": "markdown",
   "id": "c7048039",
   "metadata": {
    "hidden": true
   },
   "source": [
    "Encontre o(s) ponto(s) do gráfico de $y = x^{2} - 5x + 6$ na qual a reta tangente é paralela à reta $y = 3x + 1$. Qual seria esta reta tangente?"
   ]
  },
  {
   "cell_type": "markdown",
   "id": "ab0a45b9",
   "metadata": {
    "heading_collapsed": true,
    "hidden": true
   },
   "source": [
    "##### Respostas"
   ]
  },
  {
   "cell_type": "markdown",
   "id": "499f0bdc",
   "metadata": {
    "hidden": true
   },
   "source": [
    "$P(4,2)$, $r: y = 3x - 10$"
   ]
  },
  {
   "cell_type": "markdown",
   "id": "4e0ec27c",
   "metadata": {
    "heading_collapsed": true,
    "hidden": true
   },
   "source": [
    "#### Exercício 6"
   ]
  },
  {
   "cell_type": "markdown",
   "id": "27aa75a8",
   "metadata": {
    "hidden": true
   },
   "source": [
    "Para cada uma das funções a seguir determine abscissas de tangentes horizontais e classifique tais pontos em mínimos locais, máximos locais ou nenhum dos dois:\n",
    "\n",
    "a) $f(x) = 3x^{2} - 6x$\n",
    "\n",
    "b) $g(x) = 2x^{3} + 3x^{2} - 12x + 18$\n",
    "\n",
    "c) $h(x) = 2x + 1$\n",
    "\n",
    "d) $i(x) = \\frac{x^2}{1-x}$\n",
    "\n",
    "e) $j(x) = \\frac{1}{x+1}$"
   ]
  },
  {
   "cell_type": "markdown",
   "id": "fd8fe6d0",
   "metadata": {
    "heading_collapsed": true,
    "hidden": true
   },
   "source": [
    "##### Respostas"
   ]
  },
  {
   "cell_type": "markdown",
   "id": "011ef0ca",
   "metadata": {
    "hidden": true
   },
   "source": [
    "a) $x_{0} = 1$, mínimo local\n",
    "\n",
    "b) $x_{0} = -2$, máximo local; $x_{1} = 1$, mínimo local\n",
    "\n",
    "c) não possui tangentes horizontais\n",
    "\n",
    "d) $x_{0} = 0$, mínimo local; $x_{1} = 2$, máximo local\n",
    "\n",
    "e) não possui tangentes horizontais"
   ]
  },
  {
   "cell_type": "markdown",
   "id": "694780ac",
   "metadata": {
    "heading_collapsed": true,
    "hidden": true
   },
   "source": [
    "#### Exercício 7"
   ]
  },
  {
   "cell_type": "markdown",
   "id": "d4ab3b4a",
   "metadata": {
    "hidden": true
   },
   "source": [
    "Determine o valor dos seguintes limites usando a Regra de L'Hôpital:\n",
    "\n",
    "a) $lim_{x \\to 3} \\frac{x^{2}-6x+9}{x^{2}-9}$\n",
    "\n",
    "b) $lim_{x \\to \\infty} \\frac{3x}{3^{x}}$\n",
    "\n",
    "c) $lim_{x \\to 0} \\frac{5x}{sen(2x)}$\n",
    "\n",
    "d) $lim_{x \\to \\infty} \\frac{e^{x}}{x+e^{x}}$\n",
    "\n",
    "e) $lim_{x \\to 2} \\frac{x^{2}-4}{x^{2}-4x + 4}$"
   ]
  },
  {
   "cell_type": "markdown",
   "id": "1bb0f3f2",
   "metadata": {
    "heading_collapsed": true,
    "hidden": true
   },
   "source": [
    "##### Respostas"
   ]
  },
  {
   "cell_type": "markdown",
   "id": "5ce62e79",
   "metadata": {
    "hidden": true
   },
   "source": [
    "a) $0$\n",
    "\n",
    "b) $0$\n",
    "\n",
    "c) $\\frac{5}{2}$\n",
    "\n",
    "d) $1$\n",
    "\n",
    "e) $1$"
   ]
  },
  {
   "cell_type": "markdown",
   "id": "dfa764f1",
   "metadata": {},
   "source": [
    "# <div style=\"margin-top: -20px;\">\n",
    "<hr style=\"border: 2px solid black;\">\n",
    "\n",
    "<font color='black'><span style=\"font-size: 22px;\"><strong>Vídeo Aulas</strong></span></font>\n",
    "\n",
    "<hr style=\"border: 2px solid black;\">\n",
    "</div>"
   ]
  },
  {
   "cell_type": "markdown",
   "id": "570023b5",
   "metadata": {},
   "source": [
    "[Equação de Uma Reta](https://youtu.be/lGpKRdGBfr8)\n",
    "\n",
    "[Inclinação da Reta Tangente Com Um Limite](https://youtu.be/h3KaCSKjFf0)\n",
    "\n",
    "[Exemplo Envolvendo Reta Tangente](https://youtu.be/JH9BY8hpkJk)\n",
    "\n",
    "[Inclinação de Uma Curva em Um Ponto](https://youtu.be/maOrxhGYsDw)\n",
    "\n",
    "[A Derivada](https://youtu.be/N6AE76pjQPo)\n",
    "\n",
    "[Teoremas Sobre Derivadas](https://youtu.be/cm1g3BzA8r0)\n",
    "\n",
    "[Regras de Derivação](https://youtu.be/QLPxb9MwUZQ)\n",
    "\n",
    "[Exemplos de Derivadas](https://youtu.be/Nw1LaXTQppA)\n",
    "\n",
    "[Regra da Cadeia](https://youtu.be/LtT86xaBC2U)\n",
    "\n",
    "[Derivadas de Funções Básicas](https://youtu.be/boWJ9OX767A)\n",
    "\n",
    "[Exemplo de Cálculo de Derivadas - Parte 1](https://youtu.be/qKSCZMpGm1k)\n",
    "\n",
    "[Exemplo de Cálculo de Derivadas - Parte 2](https://youtu.be/1ZmlLX5Sj_Q)\n",
    "\n",
    "[Exemplo de Cálculo de Derivadas - Parte 3](https://youtu.be/o7GXaPkt-hY)\n",
    "\n",
    "[Derivada no Python](https://youtu.be/XpM0C5d9RZo)\n",
    "\n",
    "[Derivação Implícita](https://youtu.be/mNJxBlotsoU)\n",
    "\n",
    "[Exemplo Envolvendo Derivação Implícita](https://youtu.be/pqnB-5MjBXI)\n",
    "\n",
    "[A Regra L'Hôpital](https://youtu.be/vEyCdF78Z6I)\n",
    "\n",
    "[Exemplos Envolvendo a Regra L'Hôpital](https://youtu.be/D_8PXWrljuI)"
   ]
  }
 ],
 "metadata": {
  "kernelspec": {
   "display_name": "Python 3 (ipykernel)",
   "language": "python",
   "name": "python3"
  },
  "language_info": {
   "codemirror_mode": {
    "name": "ipython",
    "version": 3
   },
   "file_extension": ".py",
   "mimetype": "text/x-python",
   "name": "python",
   "nbconvert_exporter": "python",
   "pygments_lexer": "ipython3",
   "version": "3.11.5"
  },
  "varInspector": {
   "cols": {
    "lenName": 16,
    "lenType": 16,
    "lenVar": 40
   },
   "kernels_config": {
    "python": {
     "delete_cmd_postfix": "",
     "delete_cmd_prefix": "del ",
     "library": "var_list.py",
     "varRefreshCmd": "print(var_dic_list())"
    },
    "r": {
     "delete_cmd_postfix": ") ",
     "delete_cmd_prefix": "rm(",
     "library": "var_list.r",
     "varRefreshCmd": "cat(var_dic_list()) "
    }
   },
   "types_to_exclude": [
    "module",
    "function",
    "builtin_function_or_method",
    "instance",
    "_Feature"
   ],
   "window_display": false
  }
 },
 "nbformat": 4,
 "nbformat_minor": 5
}
