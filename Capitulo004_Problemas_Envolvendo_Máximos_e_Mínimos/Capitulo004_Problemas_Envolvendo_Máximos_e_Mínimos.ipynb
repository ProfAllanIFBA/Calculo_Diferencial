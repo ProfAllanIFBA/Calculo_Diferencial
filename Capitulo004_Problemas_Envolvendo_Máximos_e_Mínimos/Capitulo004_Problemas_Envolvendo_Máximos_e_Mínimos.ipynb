{
 "cells": [
  {
   "cell_type": "markdown",
   "id": "d4ea28a8",
   "metadata": {
    "slideshow": {
     "slide_type": "slide"
    }
   },
   "source": [
    "<center> <img src=\"logo_ifba.jpg\" alt=\"jpg_python\" width=\"100\" height=\"200\"> </center>\n",
    "<br><br>\n",
    "<div align=\"center\"><span style=\"font-size: 26px;\"><strong>Cálculo Diferencial Aplicado à Computação <br></strong></span></div> <br>\n",
    "<center> <img src=\"python_gif.gif\" alt=\"gif_python\" width=\"80\"> </center>"
   ]
  },
  {
   "cell_type": "markdown",
   "id": "d76184a7",
   "metadata": {
    "slideshow": {
     "slide_type": "slide"
    }
   },
   "source": [
    "<div style=\"border: 2px solid black; padding: 10px; width: 95%; background-color: lightgray; display: flex; align-items: center;\">\n",
    "    <h1 style=\"color: red; text-align: center; margin: auto;\">\n",
    "        Capítulo 4: Problemas Envolvendo Máximos e Mínimos\n",
    "    </h1>\n",
    "</div>\n",
    "\n",
    "<font color='red'></font>\n",
    "<a href=\"\"></a>"
   ]
  },
  {
   "cell_type": "markdown",
   "id": "1844c7cb",
   "metadata": {},
   "source": [
    "Uma das principais aplicações das derivadas é a busca por pontos de máximo e mínimo locais em funções diferenciáveis. Esta ferramenta é fundamental na análise de funções, pois permite identificar pontos onde a função atinge seus valores mais altos ou mais baixos dentro de um intervalo especificado."
   ]
  },
  {
   "cell_type": "markdown",
   "id": "76d781a8",
   "metadata": {},
   "source": [
    "# <div style=\"margin-top: -20px;\">\n",
    "<hr style=\"border: 2px solid black;\">\n",
    "\n",
    "<font color='black'><span style=\"font-size: 22px;\"><strong>4.1 Extremos Locais de Uma Função</strong></span></font>\n",
    "\n",
    "<hr style=\"border: 2px solid black;\">\n",
    "</div>"
   ]
  },
  {
   "cell_type": "markdown",
   "id": "6a195d6d",
   "metadata": {},
   "source": [
    "####  <font color='red'> Definição 1 </font>"
   ]
  },
  {
   "cell_type": "markdown",
   "id": "36ca709b",
   "metadata": {},
   "source": [
    "<font color='red'> Uma função $f$ é dita ter um **máximo relativo** ao intervalo $[a,b]$ em $x = c$ se $f(x) \\leq f(c)$ para todo $x$ em $[a,b]$. Analogamente, uma função $f$ é dita ter um **mínimo relativo** ao intervalo $[a,b]$ em $x = c$ se $f(x) \\geq f(c)$ para todo $x$ em $[a,b]$."
   ]
  },
  {
   "cell_type": "markdown",
   "id": "4dca4cde",
   "metadata": {},
   "source": [
    "####  <font color='blue'> Exemplo 1 </font>"
   ]
  },
  {
   "cell_type": "markdown",
   "id": "081bdb30",
   "metadata": {},
   "source": [
    "<font color='blue'>  Observemos o gráfico da função $f(x) = -2x+1$ restrita ao intervalo $[-2,2]$:<br><br><center> <img src=\"fig4-1.jpg\" alt=\"jpg_python\" width=\"500\" height=\"\"> </center><br>\n",
    " Note que a função $f$ é tal que seu máximo realtivo a este invervalo ocorre em $x = -2$ pois $f(x) \\leq f(-2) = 5$ para todo $x \\in [-2,2]$. Analogamente, seu mínimo relativo neste intervalo é $x = 2$ pois $f(x) \\geq f(2) = -3$ para todo $x \\in [-2,2]$.\n",
    " "
   ]
  },
  {
   "cell_type": "markdown",
   "id": "cb6b937c",
   "metadata": {},
   "source": [
    "####  <font color='blue'> Exemplo 2 </font>"
   ]
  },
  {
   "cell_type": "markdown",
   "id": "c6e29384",
   "metadata": {},
   "source": [
    "<font color='blue'> Observemos o gráfico da função $f(x) = x^{2} - 5x + 6$ restrita ao intervalo $[0,4]$:<br><br>\n",
    " <center> <img src=\"fig4-2.jpg\" alt=\"jpg_python\" width=\"500\" height=\"\"> </center><br>\n",
    " Note que $f$ é tal que seu máximo realtivo ocorre em $x_{max,[0,5]} = 0$ pois $f(x) \\leq f(0) = 6$ para todo $x \\in [0,4]$. Analogamente, seu mínimo relativo neste intervalo é $x_{min,[0,4]} = 2.5$ pois $f(x) \\geq f(2.5) = -0.25$ para todo $x \\in [0,4]$. "
   ]
  },
  {
   "cell_type": "markdown",
   "id": "fa82ed1a",
   "metadata": {},
   "source": [
    "Note que, no **Exemplo 1** apresentamos valores máximo e mínimo local nos extremos do intervalo em questão. Por outro lado, no **Exemplo 2** obtivemos o mínimo local interno ao intervalo de restrição da função. Veremos a seguir que a derivada nos ajudará a obter os extremos locais de uma função."
   ]
  },
  {
   "cell_type": "markdown",
   "id": "45b1562f",
   "metadata": {},
   "source": [
    "## <div style=\"margin-top: -20px;\">\n",
    "<hr style=\"border: 2px solid black;\">\n",
    "\n",
    "<font color='black'><span style=\"font-size: 18px;\"><strong>4.1.1 Extremos Locais de Uma Função e a Derivada</strong></span></font>\n",
    "\n",
    "<hr style=\"border: 2px solid black;\">\n",
    "</div>"
   ]
  },
  {
   "cell_type": "markdown",
   "id": "8b4c146b",
   "metadata": {},
   "source": [
    "Considera a função $f$ cujo gráfico é dado a seguir:<br><br>\n",
    "<center> <img src=\"fig4-3.jpg\" alt=\"jpg_python\" width=\"500\" height=\"\"> </center>\n",
    "\n",
    "Note que, em toda faixa \"curta\" em torno de $x = 2$, isto é, $x \\in (2-\\delta,2+\\delta)$, $\\delta$ \"pequeno\", temos que $f(2) \\geq f(x)$. Isto é, $x = 2$ é um máximo local de $f$ restrita toda vizinhança $[2-\\delta,2+\\delta]$ para $\\delta$ suficientemente pequeno. De maneira análoga, podemos dizer que $x = 3$ é um mínimo local de $f$ restrita a toda vizinhança $[3-\\delta,3+\\delta]$ para $\\delta$ suficientemente pequeno. Note que, em ambos casos, o gráfico de $f$ possui uma tangente horizontal.<br><br>\n",
    "<center> <img src=\"fig4-4.jpg\" alt=\"jpg_python\" width=\"500\" height=\"\"> </center>\n",
    "\n",
    "Suponha que $f$ seja uma função diferenciável no intervalo de observação em questão. Considerando que a inclinação da reta tangente em qualquer ponto da função é dada pela derivada de $f$ nesse ponto, podemos afirmar que as abscissas $c$, nas quais as retas tangentes à curva da função são horizontais, correspondem aos pontos onde a derivada primeira da função, $f'(c)$, é igual a zero. Isso significa que, em tais pontos, a taxa de variação instantânea da função é nula, indicando \"possíveis\" pontos de máximo ou mínimo locais."
   ]
  },
  {
   "cell_type": "markdown",
   "id": "26d107df",
   "metadata": {},
   "source": [
    "####  <font color='red'> Teorema 1 </font>"
   ]
  },
  {
   "cell_type": "markdown",
   "id": "0c74ea59",
   "metadata": {},
   "source": [
    "<font color='red'> Se uma função $f$ diferenciável em $(a,b)$ tem um extremo local $x = c$, $c \\in (a,b)$, então $f'(c) = 0$."
   ]
  },
  {
   "cell_type": "markdown",
   "id": "cbcfcd70",
   "metadata": {},
   "source": [
    "####  <font color='blue'> Exemplo 3 </font>"
   ]
  },
  {
   "cell_type": "markdown",
   "id": "fced5a0e",
   "metadata": {},
   "source": [
    "<font color='blue'> Determine, para cada uma das funções a seguir, seus \"possíveis\" extremos locais:<br><br>\n",
    " a) $f(x) = x^{2}- 5x + 6$ $\\ \\ \\ \\ \\ $ b) $g(x) = 2x^{3} - 9x^{2} + 12x + 6$"
   ]
  },
  {
   "cell_type": "markdown",
   "id": "6afb668a",
   "metadata": {},
   "source": [
    "#####  <font color='blue'> Solução </font>"
   ]
  },
  {
   "cell_type": "markdown",
   "id": "cb33aa96",
   "metadata": {},
   "source": [
    "<font color='blue'> a) Basta resolvermos a equação $f'(x) = 0$. Pois bem,<br><br>\n",
    " $$f(x) = x^{2} - 5x + 6 \\Rightarrow f'(x) = 0 \\Rightarrow 2x - 5 = 0 \\Rightarrow x = \\frac{5}{2} = 2.5$$<br>\n",
    " Assim, um possível extremo local de $f$ ocorre em $x = \\frac{5}{2}$. Note que, para $\\delta$ suficientemente pequeno (teste $\\delta = 0.01$, por exemplo), temos que $f(2.5\\pm\\delta) > f(2.5)$ o que indica que $x = \\frac{5}{2}$ é um mínimo local de $f$.<br><br>\n",
    " b) Analogamente ao item \"a\", temos\n",
    " $$g(x) = 2x^{3} - 9x^{2} + 12x + 6 \\Rightarrow g'(x) = 0 \\Rightarrow g'(x) = 6x^{2} - 18x + 12 = 0$$<br>\n",
    " Aplicando a fórmula de Bhaskara, temos:<br><br>\n",
    " $$\\Delta = (-18)^{2} - 4\\cdot6\\cdot12 = 36 \\Rightarrow \\sqrt{\\Delta} = \\sqrt{36} = 6 \\Rightarrow x = \\frac{-(-18)\\pm \\sqrt{36}}{2\\cdot6} $$<br>\n",
    " $$x_{1} = \\frac{18 - 6}{12} = 1 \\ \\ e \\ \\ x_{2} = \\frac{18 + 6}{12} = 2$$<br>\n",
    " Assim, os possíveis extremos locais de $g$ ocorrem em $x = 1$ e $x = 2$. Analogamente ao item \"a\" temos que $g(1\\pm\\delta) < g(1)$ o que indica que $g(1)$ é um máximo local de $g$ e $g(2\\pm\\delta) > g(2)$ o que indica que $g(2)$ é um mínimo local de $g$. Acompanhemos isto nas tabelas a seguir:<br><br>\n",
    " $$\\begin{array}{c|cccc|c} \n",
    "x\t    &  g(x) & & & x & g(x)\\\\\n",
    "\\downarrow0.99\t&  10.999697999999999 & & & \\downarrow1.99        & 10.000297999999997\\\\\n",
    "\\downarrow0.999\t&  10.999996998000000       & & & \\downarrow1.999 & 10.000002998000000\\\\\n",
    "1\t            &  11 \\ (max)                & & &             2  & 10 \\ (min)\\\\\n",
    "\\uparrow1.001\t&  10.999997002000000       & & & \\uparrow 2.001  & 10.000003001999996 \\\\\n",
    "\\uparrow1.01\t&  10.999702000000003 & & & \\uparrow2.01          & 10.000302000000005 \\\\\n",
    "\\end{array}$$<br>\n",
    " Os gráficos de $f$ e $g$ são dados a seguir:<br><br>\n",
    " <center> <img src=\"fig4-5.jpg\" alt=\"jpg_python\" width=\"800\" height=\"\"> </center>"
   ]
  },
  {
   "cell_type": "markdown",
   "id": "317eff07",
   "metadata": {},
   "source": [
    "# <div style=\"margin-top: -20px;\">\n",
    "<hr style=\"border: 2px solid black;\">\n",
    "\n",
    "<font color='black'><span style=\"font-size: 22px;\"><strong>4.2 Ponto de Inflexão e Pontos Críticos</strong></span></font>\n",
    "\n",
    "<hr style=\"border: 2px solid black;\">\n",
    "</div>"
   ]
  },
  {
   "cell_type": "markdown",
   "id": "88f655c7",
   "metadata": {},
   "source": [
    "Você deve ter notado o uso da palavra \"possivel\" (destacada) quando tratamos da obtenção de extremos locais. Isso se deve ao fato de nem sempre um valor $c$ tal que $f'(c) = 0$ resultar em um extremo local (máximo ou mínimo). Podemos, por exemplo, ter a chamada **inflexão**, uma torção no gráfico de $f$. Por exemplo, a função $f(x) = x^{3}$ é tal que:<br><br>\n",
    " $$f(x) = x^{3} \\Rightarrow f'(x) = 0 \\Rightarrow 3x^{2} = 0 \\Rightarrow x = 0.$$\n",
    " \n",
    "Neste caso, o valor $c = 0$ é tal que $f'(c) = 0$ mas vemos que $f(0)$ não é maior nem o menor valor numa vizinhança $(0-\\delta, 0+\\delta)$ qualquer que seja o $\\delta \\in \\mathbb{R}$. Acompanhe a tabela a seguir:\n",
    " \n",
    " $$\\begin{array}{c|cccc|c} \n",
    "x\t    &  g(x) \\\\\n",
    "\\downarrow-0.01\t    &  -1e-06 \\ (min) \\\\\n",
    "\\downarrow-0.001\t&  -1e-09       \\\\\n",
    "0\t                &  0               \\\\\n",
    "\\uparrow0.001\t    &  1e-09      \\\\\n",
    "\\uparrow0.01\t    &  1e-06 \\ (max)\\\\\n",
    "\\end{array}$$<br>\n",
    "\n",
    "Observemos o gráfico de $f$:<br><br>\n",
    "\n",
    "<center> <img src=\"fig4-6.jpg\" alt=\"jpg_python\" width=\"500\" height=\"\"> </center>\n"
   ]
  },
  {
   "cell_type": "markdown",
   "id": "3ad7b647",
   "metadata": {},
   "source": [
    "####  <font color='red'> Definição 2 </font>"
   ]
  },
  {
   "cell_type": "markdown",
   "id": "74b9787c",
   "metadata": {},
   "source": [
    "<font color='red'> Um **ponto crítico** de uma função $f$ é um número $c$ no domínio de $f$ tal que $f'(c) = 0$ ou $f'(c)$ não existe."
   ]
  },
  {
   "cell_type": "markdown",
   "id": "5cef5a97",
   "metadata": {},
   "source": [
    "####  <font color='blue'> Exemplo 4 </font>"
   ]
  },
  {
   "cell_type": "markdown",
   "id": "8988c404",
   "metadata": {},
   "source": [
    "<font color='blue'> Determine, caso existam, os pontos críticos das funções a seguir:<br><br>\n",
    " a) $f(x) = \\sqrt[3]{2-x}$ $ \\ \\ \\ \\ \\ $ b) $g(x) = \\frac{x-2}{x^{2}-1}$"
   ]
  },
  {
   "cell_type": "markdown",
   "id": "17c43f8c",
   "metadata": {},
   "source": [
    "#####  <font color='blue'> Solução </font>"
   ]
  },
  {
   "cell_type": "markdown",
   "id": "986756d0",
   "metadata": {},
   "source": [
    "<font color='blue'> a) Basta obtermos todos o valores $c$ para os quais $f'(c) = 0$ ou $f'(c)$ não existe. Pois bem,<br><br>\n",
    " $$f'(x) = 0 \\Rightarrow \\left(\\sqrt[3]{2-x}\\right)' = 0 \\Rightarrow f'(x) = -\\frac{1}{3\\sqrt[3]{(2-x)^{2}}} = 0 \\Rightarrow \\nexists x \\in \\mathbb{R}$$<br>\n",
    " Embora não existam pontos $c$ para os quais $f'(c) = 0$ temos que a derivada $f'(x) = -\\frac{1}{3\\sqrt[3]{(2-x)^{2}}}$ não é definida para $x = 2$. Portanto, $c = 2$ é um ponto crítico de $f$.<br><br>\n",
    " b) Analogamente ao item \"a\":<br><br>\n",
    " $$g'(x) = 0 \\Rightarrow \\left(\\frac{x-2}{x^{2}-1}\\right)' = 0 \\Rightarrow \\frac{-x^{2} + 4x - 1}{(x^{2}-1)^{2}} = 0 \\Rightarrow -x^{2} + 4x - 1 = 0 \\overset{\\times(-1)}{\\Rightarrow} x^{2} - 4x + 1 = 0$$<br>\n",
    " Aplicando a fórmula de Bhaskara a esta última equação, temos:<br><br>\n",
    " $$\\Delta = (-4)^{2} - 4\\cdot 1\\cdot 1 = 16 - 4 = 12 \\Rightarrow x = \\frac{-(-4)\\pm \\sqrt{12}}{2\\cdot1} \\Rightarrow $$<br>\n",
    " $$\\Rightarrow x_{1} = \\frac{4 - \\sqrt{12}}{2} \\approx 0.2679491924311228$$<br>\n",
    " $$\\Rightarrow x_{2} = \\frac{4 + \\sqrt{12}}{2} \\approx 3.7320508075688770$$<br>\n",
    " Note que, $x = 1$ e $x = -1$ são pontos nos quais a derivada $g'(x) = -\\frac{x^{2} - 4x + 1}{(x^{2}-1)^{2}}$ não está definida. Contudo, tais pontos também não pertencem ao domínio de $g(x) = \\frac{x-2}{x^{2}-1}$ e, portanto não podem ser pontos críticos. Sendo assim, $g$ conta com apenas os pontos críticos $c_{1} = \\frac{4 - \\sqrt{12}}{2}$ e $c_{2} = \\frac{4 + \\sqrt{12}}{2}$.<br><br>\n",
    " *Podemos simplificar $c_{1}$ e $c_{2}$:<br><br>\n",
    " $$\\frac{4 \\pm \\sqrt{12}}{2} = \\frac{4 \\pm \\sqrt{4\\cdot3}}{2} = \\frac{4 \\pm 2\\sqrt{3}}{2} = \\frac{2(2 \\pm \\sqrt{3})}{2} = 2 \\pm \\sqrt{3} \\Rightarrow c_{1} = 2 - \\sqrt{3} \\ e \\ c_{2} = 2 + \\sqrt{3}.$$<br>\n",
    " Estas seriam as respostas finais mais comuns, embora desnecessárias.*<br><br>\n",
    " Vejamos os gráficos de $f$ e $g$:<br><br>\n",
    " <center> <img src=\"fig4x-2.jpg\" alt=\"jpg_python\" width=\"800\" height=\"\"> </center><br>\n",
    " Note que $c = 2$ é um ponto de inflexão de $f(x) = \\sqrt[3]{2-x}$ enquanto que $c_{1} = 2 - \\sqrt{3}$ e $c_{2} = 2 + \\sqrt{3}$ são, respectivamente, pontos de mínimo e máximo locais de $g(x) = \\frac{x-2}{x^{2}-1}$."
   ]
  },
  {
   "cell_type": "markdown",
   "id": "9ef472ae",
   "metadata": {},
   "source": [
    "# <div style=\"margin-top: -20px;\">\n",
    "<hr style=\"border: 2px solid black;\">\n",
    "\n",
    "<font color='black'><span style=\"font-size: 22px;\"><strong>4.3 Extremos Globais de Uma Função</strong></span></font>\n",
    "\n",
    "<hr style=\"border: 2px solid black;\">\n",
    "</div>"
   ]
  },
  {
   "cell_type": "markdown",
   "id": "b73819ef",
   "metadata": {},
   "source": [
    "Os extremos globais de uma função, conhecidos como máximo e mínimo globais, representam os valores mais altos e mais baixos que a função atinge em todo o seu domínio. Identificar esses pontos é crucial em problemas de otimização, onde o objetivo é encontrar a melhor solução possível dentro de um conjunto de opções. \n",
    "\n",
    "Em muitos casos, é essencial analisar tanto os pontos críticos quanto os limites do domínio da função para identificar os verdadeiros extremos globais. Geralmente, trabalhamos com funções definidas em intervalos fechados $[a,b]$ ou em suas uniões. No entanto, se a função estiver definida em um intervalo aberto (de extremo finito ou infinito), torna-se necessário utilizar limites laterais para fins de comparação. Essa abordagem garante uma avaliação completa do comportamento da função em todo o seu domínio, permitindo uma identificação precisa dos pontos de máximo e mínimo globais."
   ]
  },
  {
   "cell_type": "markdown",
   "id": "d87ef340",
   "metadata": {},
   "source": [
    "####  <font color='blue'> Exemplo 5 </font>"
   ]
  },
  {
   "cell_type": "markdown",
   "id": "57aa619b",
   "metadata": {},
   "source": [
    "<font color='blue'> Determine os extremos globais de cada uma das funções a seguir nos intervalos indicados:<br><br>\n",
    " a) $f(x) = x^{2} + \\frac{x}{2} - \\frac{1}{2}$, $\\ $ $[-2,2]$<br><br>\n",
    " b) $g(x) = 2x - 1$, $\\ $ $[-3,3]$<br><br>\n",
    " c) $h(x) = \\sqrt[3]{x}$, $\\ $ $[-4,4]$<br><br>\n",
    " d) $i(x) = \\frac{1}{x^{2} + 1}$, $\\ $ $\\mathbb{R}$<br><br>\n",
    " e) $j(x) = \\frac{1}{x-1}$, $\\ $ $(1,5]$"
   ]
  },
  {
   "cell_type": "markdown",
   "id": "46d0e61b",
   "metadata": {},
   "source": [
    "#####  <font color='blue'> Solução </font>"
   ]
  },
  {
   "cell_type": "markdown",
   "id": "378ed3ae",
   "metadata": {},
   "source": [
    "<font color='blue'> a) Basta obtermos os maiores e menores valores de imagem dentre todos os pontos críticos de $f$ e os extremos $a = -2$ e $b = 2$. Pois bem, os pontos críticos de $f$ são:<br><br>\n",
    " $$f'(x) = 0 \\Rightarrow \\left(x^{2} + \\frac{x}{2} - \\frac{1}{2}\\right)' = 0 \\Rightarrow 2x + \\frac{1}{2} = 0 \\Rightarrow x = -\\frac{1}{4}.$$<br>\n",
    " Como $f'$ é bem definida em $[-2,2]$ (na verdade em $\\mathbb{R}$), temos que $c = -\\frac{1}{4}$ é o único ponto crítico de $f$ em $[-2,2]$. Assim, basta buscarmos o maior e o menor valores dentre $f\\left(-\\frac{1}{4} \\right)$, $f(-2)$ e $f(2)$. Pois bem,<br><br>\n",
    " $$\\begin{array}{c|c}\n",
    " x & f(x)\\\\ \\hline\n",
    " -\\frac{1}{4} & -0.5625 \\\\ \n",
    " -2           & 2.5 \\\\\n",
    "  2           & 4.5 \\\\\n",
    " \\end{array}$$<br>\n",
    " Assim, o mínimo global de $f$ restrita a $[-2,2]$ ocorre em $x = -\\frac{1}{4}$. Por outro lado, o máximo global de $f$ restrita a $[-2,2]$ ocorre em $x = 2$.<br><br>\n",
    " b) Basta obtermos os maiores e menores valores de imagem dentre todos os pontos críticos de $g$ e os extremos $a = -3$ e $b = 3$. Pois bem,<br><br>\n",
    " $$g'(x) = 0 \\Rightarrow (2x-1)' = 0 \\Rightarrow 2 \\neq 0.$$<br>\n",
    " Note que $g$ não possui ponto crítico $c$ tal que $g'(c) = 0$ além de $g'$ ser bem definida em $[-3,3]$. Assim, basta buscarmos o maior e o menor valores dentre $g(-3)$ e $g(3)$. Pois bem,<br><br>\n",
    " $$\\begin{array}{c|c}\n",
    " x & g(x)\\\\ \\hline\n",
    " -3           & -7 \\\\\n",
    "  3           & 5 \\\\\n",
    " \\end{array}$$<br>\n",
    " Assim, o mínimo global de $g$ restrita a $[-3,3]$ ocorre em $x = -3$. Por outro lado, o máximo global de $g$ restrita a $[-3,3]$ ocorre em $x = 3$.<br><br>\n",
    " c) Basta obtermos os maiores e menores valores de imagem dentre todos os pontos críticos de $h$ e os extremos $a = -4$ e $b = 4$. Pois bem, os pontos críticos de $h$ são:<br><br>\n",
    " $$h'(x) = 0 \\Rightarrow (\\sqrt[3]{x})' = 0 \\Rightarrow \\frac{1}{3\\sqrt[3]{x^{2}}} \\neq 0.$$<br>\n",
    " Note que $h$ não possui ponto crítico $c$ tal que $h'(c) = 0$. Contudo, temos que $h'(x)$ não é bem definida em $x = 0$. Portanto, $c = 0$ é um ponto crítico de $h$. Assim, basta buscarmos o maior e o menor valores dentre $h(0)$, $h(-4)$ e $h(4)$. Pois bem,<br><br>\n",
    " $$\\begin{array}{c|c}\n",
    " x & h(x)\\\\ \\hline\n",
    "  0           & 0 \\\\\n",
    " -4           & -1.5874010519681994 \\\\\n",
    "  4           & 1.5874010519681994 \\\\\n",
    " \\end{array}$$<br>\n",
    " Portanto, o mínimo global de $h$ restrita a $[-4,4]$ ocorre em $x = -4$. Por outro lado, o máximo global de $h$ restrita a $[-4,4]$ ocorre em $x = 4$.<br><br>\n",
    " d) Como temos um intervalo aberto (infinito) devemos buscar os maiores e menores valores reais finitos dentre todos os pontos críticos de $i$ em $\\mathbb{R}$ e os limites $lim_{x \\to -\\infty} \\frac{1}{x^{2}+1}$ e $lim_{x \\to -\\infty} \\frac{1}{x^{2}+1}$ (apenas para fins de comparação). Pois bem,<br><br>\n",
    " $$i'(x) = 0 \\Rightarrow \\left(\\frac{1}{x^{2}+1}\\right)' = 0 \\Rightarrow -\\frac{2x}{(x^{2}+1)^{2}} = 0 \\Rightarrow -2x = 0 \\Rightarrow x = 0.$$\n",
    " Assim, $c = 0$ é um ponto crítico de $i$. Note que $i'$ é bem definida para todo $x \\in \\mathbb{R}$. Sendo assim, o único ponto crítico de $i$ é $c = 0$. Note que<br><br>\n",
    " $$lim_{x \\to -\\infty} \\frac{1}{x^{2}+1} = lim_{x \\to +\\infty} \\frac{1}{x^{2}+1} = 0$$<br>\n",
    " Consideremos a suinte tabela:<br><br>\n",
    " $$\\begin{array}{c|c}\n",
    " x & h(x)\\\\ \\hline\n",
    "  0           & 1 \\\\\n",
    " -\\infty      & 0 \\\\\n",
    "  +\\infty      & 0 \\\\\n",
    " \\end{array}$$<br>\n",
    " Desta forma, vemos que $i$ possui apenas um máximo global em $\\mathbb{R}$. Note que $-\\infty$ e $\\infty$ não podem ser pontos de mínimo global uma vez que não se tratam de números reais.<br><br>\n",
    " e) Como temos um intervalo de extremo inferiormente aberto em $x = 1$ devemos buscar os maiores e menores valores reais finitos dentre todos os pontos críticos de $j$ em $(1,5)$, o valor de $f(5)$ e $lim_{x \\to 1^{+}} \\frac{1}{x-1}$. Pois bem,<br><br>\n",
    " $$j'(x) = 0 \\Rightarrow \\left(\\frac{1}{x-1}\\right)' = 0 \\Rightarrow -\\frac{1}{(x-1)^{2}} = 0 \\Rightarrow \\nexists x \\in \\mathbb{R}.$$<br>\n",
    " Note que $j$ não possui ponto crítico $c$ tal que $j'(c) = 0$. Além disso, note que o ponto $x = 1$ para o qual $j'$ não é bem definida está fora do domínio de $j$ e, portanto, não pode ser um ponto crítico. Vejamos a tabela a seguir:<br><br>\n",
    " $$\\begin{array}{c|c}\n",
    " x & j(x)\\\\ \\hline\n",
    "  5           & \\frac{1}{4} \\\\\n",
    " 1^{+}       & +\\infty \\\\\n",
    " \\end{array}$$<br>\n",
    " Assim, o mínimo global de $j$ restrita a $(1,5]$ ocorre em $x = 5$. Por outro lado, não há um máximo global uma vez que $1$ não pertence ao domínio de $f$.<br><br>\n",
    " Vejamos os gráficos de cada uma das funções consideradas:<br><br>\n",
    " <center> <img src=\"fig4x-3.jpg\" alt=\"jpg_python\" width=\"700\" height=\"\"> </center>"
   ]
  },
  {
   "cell_type": "markdown",
   "id": "1cffd0f5",
   "metadata": {},
   "source": [
    "# <div style=\"margin-top: -20px;\">\n",
    "<hr style=\"border: 2px solid black;\">\n",
    "\n",
    "<font color='black'><span style=\"font-size: 22px;\"><strong>4.4 Problemas Envolvendo Máximos e Mínimos</strong></span></font>\n",
    "\n",
    "<hr style=\"border: 2px solid black;\">\n",
    "</div>"
   ]
  },
  {
   "cell_type": "markdown",
   "id": "0096d0fc",
   "metadata": {},
   "source": [
    "Nesta seção apresentaremos alguns exemplos envolvendo problemas de otimização. Tais problemas referem-se à busca pela melhor solução, seja maximizando ou minimizando uma determinada função. Isso inclui uma variedade de contextos, desde encontrar a forma mais eficiente de alocar recursos em um projeto de negócios até determinar o caminho mais curto em um problema de logística. Através da utilização de métodos matemáticos, como o cálculo de derivadas e o estudo de funções, esses problemas são abordados com o objetivo de encontrar soluções ótimas que atendam aos critérios estabelecidos, ilustrando a aplicação prática e a importância do cálculo em situações reais do dia a dia."
   ]
  },
  {
   "cell_type": "markdown",
   "id": "06a746b1",
   "metadata": {},
   "source": [
    "####  <font color='blue'> Exemplo 6 </font>"
   ]
  },
  {
   "cell_type": "markdown",
   "id": "76f334c4",
   "metadata": {},
   "source": [
    "<font color='blue'> Uma pedra lançada para cima, a partir de certa altura, tem suas diversas posições ao longo do tempo dadas pela equação $h(t) = 100 + 30t - 5t^{2}$ em que $t$ é dado em segundos e $h$ em metros. Determine a altura máxima alcançada pela pedra entre os instantes $0$ e $7$ segundos."
   ]
  },
  {
   "cell_type": "markdown",
   "id": "d192fa9a",
   "metadata": {},
   "source": [
    "#####  <font color='blue'> Solução </font>"
   ]
  },
  {
   "cell_type": "markdown",
   "id": "136e5a17",
   "metadata": {},
   "source": [
    "<font color='blue'> Inicialmente determinemos os pontos críticos de $h$. Pois bem,<br><br>\n",
    " $$h'(t) = 0 \\Rightarrow (100 + 30t - 5t^{2})' = 0 \\Rightarrow 30 - 10t = 0 \\Rightarrow t = 3 \\ s.$$<br>\n",
    " Para obtermos a altura máxima devemos obter o maior valor dentre $h(3)$, $h(0)$ e $h(7)$. Vejamos a tabela a seguir:<br><br>\n",
    " $$\\begin{array}{c|c}\n",
    " t & h(t)\\\\ \\hline\n",
    "  3           & 145 \\\\\n",
    "  0           & 100 \\\\\n",
    "  7           & 65 \\\\\n",
    " \\end{array}$$<br>\n",
    " Assim, a altura máxima atingida pela pedra entre os instantes $0$ e $7$ segundos é $h = 145$ metros que ocorre em $t = 3$ segundos. "
   ]
  },
  {
   "cell_type": "markdown",
   "id": "8d593ad0",
   "metadata": {},
   "source": [
    "####  <font color='blue'> Exemplo 7 </font>"
   ]
  },
  {
   "cell_type": "markdown",
   "id": "a55806f9",
   "metadata": {},
   "source": [
    "<font color='blue'> Um agricultor dispõe de $100$ metros de cerca para a montagem de um curral retangular. Determine as medidas que maximizam a área do curral."
   ]
  },
  {
   "cell_type": "markdown",
   "id": "2c2f852d",
   "metadata": {},
   "source": [
    "#####  <font color='blue'> Solução </font>"
   ]
  },
  {
   "cell_type": "markdown",
   "id": "cd6f9c9b",
   "metadata": {},
   "source": [
    "<font color='blue'> Devemos obter as medidas $x$ e $y$ para largura e o comprimento da cerca que proporcionam a maior área possível. Temos que a área do curral é dada por $A(x,y) = xy$ além da relação $2x + 2y = 100$.<br><br>\n",
    " <center> <img src=\"fig4-7.jpg\" alt=\"jpg_python\" width=\"250\" height=\"\"> </center><br>\n",
    " Podemos isolar $y$ nesta última equação e substituir em $A(x,y)$ tornando-a uma função de uma só variável. Pois bem,<br><br>\n",
    " $$2x + 2y = 100 \\Rightarrow x + y = 50 \\Rightarrow y = 50 - x \\Rightarrow A(x) = x(50-x) \\Rightarrow A(x) = 50x - x^{2}.$$<br>\n",
    " Devemos nos ater que os valores de $x$ e também $y$ devem ser positivos e, além disso, sua soma não pode ser superior a $50$, isto é, $0 < x < 50$. De posse destas informações podemos buscar possíveis valores que maximizam a área. Primeiro devemos obter os pontos críticos de $A(x)$:<br><br>\n",
    " $$A'(x) = 0 \\Rightarrow (50x - x^{2})' = 0 \\Rightarrow 50 -2x = 0 \\Rightarrow x = 25 \\ (y = 25).$$<br>\n",
    " Vejamos quais dentre os valores de $x$ dentre $25$, $0$ e $50$ (este dois últimos apenas como valores limite) produzem a maior área:<br><br>\n",
    " $$\\begin{array}{c|c}\n",
    "  x & A(x)\\\\ \\hline\n",
    "  25           & 625 \\\\\n",
    "   0^{*}       & 0 \\\\\n",
    "  50^{*}       & 0 \\\\\n",
    " \\end{array}$$<br>\n",
    " Neste caso, as dimensões que maximizam a área são dadas por $x = 25$ e $y = 25$ metros."
   ]
  },
  {
   "cell_type": "markdown",
   "id": "4f50ea44",
   "metadata": {},
   "source": [
    "####  <font color='blue'> Exemplo 8 </font>"
   ]
  },
  {
   "cell_type": "markdown",
   "id": "309f696a",
   "metadata": {},
   "source": [
    "<font color='blue'> As equações a seguir fornecem estimativas para as quantidades de indivíduos de duas espécies, os predadores $P_{d}$ e as presas $P_{s}$ de certa ilha ao longo de aproximadamente $80$ anos:<br><br>\n",
    " $$P_{d}(t) = -\\frac{t^{2}}{10} + 10t + 315 \\ \\ e \\ \\ P_{s}(t) = \\frac{t^{2}}{40} + \\frac{3t}{2} + 200,  \\ \\ 0\\leq t \\leq 80.$$<br>\n",
    " Utilizando estas equações, determine os momentos dentro do intervalo de $0$ a $80$ anos em que a diferença entre as populações de predadores e presas será mínima e máxima."
   ]
  },
  {
   "cell_type": "markdown",
   "id": "e656a423",
   "metadata": {},
   "source": [
    "##### <font color='blue'> Solução </font>"
   ]
  },
  {
   "cell_type": "markdown",
   "id": "bd62a323",
   "metadata": {},
   "source": [
    "<font color='blue'> Analisemos o  valor máximo da função diferença $D(t) = P_{d}(t) - P_{s}(t)$. Temos que,<br><br>\n",
    " $$D'(t) = 0 \\Rightarrow \\left(\\left(-\\frac{t^{2}}{10} + 10t + 315\\right) -\\left(\\frac{t^{2}}{40} + \\frac{3t}{2} + 200\\right) \\right)' = 0 \\Rightarrow$$<br>\n",
    " $$\\Rightarrow \\left(-\\frac{t}{5} + 10\\right) - \\left(-\\frac{t}{20} + \\frac{3}{2}\\right) = 0 \\Rightarrow -\\frac{t}{4} + \\frac{17}{2} = 0 \\Rightarrow t = 34$$<br>\n",
    " Restanos agora obter o maior valor dentre $D(34)$, $D(0)$ e $D(80)$.<br><br>\n",
    " $$\\begin{array}{c|c}\n",
    "  t & D(t)\\\\ \\hline\n",
    "   34        & \\approx 260 \\\\\n",
    "    0        & 115 \\\\\n",
    "  80         & -5^{*}\\\\\n",
    " \\end{array}$$<br>\n",
    " Portanto, a diferença máxima entre preasas e predadores ocorrem em $34$ anos sendo de $D(34) = 260$ ($P_{d}(34) = 539.4 \\approx 539$ e $P_{s}(34) = 279.9 \\approx 280$). A diferença mínima ocorrerá no final do intervalo de validade do modelo chegando a apenas $5$ indivíduos ($P_{d}(80) = 475$ e $P_{s}(80) = 480$)."
   ]
  },
  {
   "cell_type": "markdown",
   "id": "2ed4a95a",
   "metadata": {},
   "source": [
    "<font color='blue'>"
   ]
  },
  {
   "cell_type": "markdown",
   "id": "fb4a118d",
   "metadata": {},
   "source": [
    "####  <font color='blue'> Exemplo 9 </font>"
   ]
  },
  {
   "cell_type": "markdown",
   "id": "cd6734f2",
   "metadata": {},
   "source": [
    "<font color='blue'> Uma lata cilíndrica é feita para receber $1$ litro de óleo ($1000 \\ cm^{3}$). Encontre as dimensões que minimizam a quantidade de metal utilizada se for utilizado um mesmo tipo de metal na lateral e nas bases."
   ]
  },
  {
   "cell_type": "markdown",
   "id": "4384b8fb",
   "metadata": {},
   "source": [
    "#####  <font color='blue'> Solução </font> "
   ]
  },
  {
   "cell_type": "markdown",
   "id": "52f8ad93",
   "metadata": {},
   "source": [
    "<font color='blue'> A área total de uma lata cilíndrica é dada por:<br><br>\n",
    " $$A_{total}(r,h) = 2A_{base} + A_{lateral} = 2\\pi r^{2} + 2\\pi rh$$<br>\n",
    " <center> <img src=\"fig4x-1.jpg\" alt=\"jpg_python\" width=\"300\" height=\"\"> </center><br>\n",
    " Devemos obter uma equação contendo somente uma variável. Podemos fazer isso por meio do volume fornecido:<br><br>\n",
    " $$V = \\pi r^{2}h \\Rightarrow \\pi r^{2}h  = 1000 \\Rightarrow h = \\frac{1000}{\\pi r^{2}}.$$<br>\n",
    " Substituindo o valor de $h$ na fórmula da área total, temos:<br><br>\n",
    " $$A_{total}(r) = 2\\pi r^{2} + 2\\pi r\\frac{1000}{\\pi r^{2}} = 2\\pi r^{2} + \\frac{2000}{r}.$$<br>\n",
    " Devemos obter os pontos críticos de $A(r)$:<br><br>\n",
    " $$A'{total}(t) = 0 \\Rightarrow \\left(2\\pi r^{2} + \\frac{2000}{r}\\right)' = 0 \\Rightarrow 4\\pi r - \\frac{2000}{r^{2}} = 0\\Rightarrow $$<br>\n",
    " $$ \\Rightarrow 4\\pi r^{3} - 2000 = 0 \\Rightarrow 4\\pi r^{3} = 2000 \\Rightarrow r^{3} =\\frac{2000}{4\\pi} \\Rightarrow r = \\sqrt[3]{\\frac{500}{\\pi}} = 5.41926070139289 \\ cm\\Rightarrow $$<br>\n",
    " $$\\Rightarrow h = \\frac{1000}{\\pi \\cdot \\sqrt[3]{\\frac{500}{\\pi}}^{2}} \\approx 10.83852140278578$$<br>\n",
    " Note que $h = 2r$."
   ]
  },
  {
   "cell_type": "markdown",
   "id": "d6c4a2a3",
   "metadata": {
    "heading_collapsed": true
   },
   "source": [
    "# <div style=\"margin-top: -20px;\">\n",
    "<hr style=\"border: 2px solid black;\">\n",
    "\n",
    "<font color='black'><span style=\"font-size: 22px;\"><strong>Exercícios Resolvidos</strong></span></font>\n",
    "\n",
    "<hr style=\"border: 2px solid black;\">\n",
    "</div>"
   ]
  },
  {
   "cell_type": "markdown",
   "id": "9076057f",
   "metadata": {
    "hidden": true
   },
   "source": [
    "#### Exercício Resolvido 1"
   ]
  },
  {
   "cell_type": "markdown",
   "id": "62d7387d",
   "metadata": {
    "hidden": true
   },
   "source": [
    "Determine, para cada uma das funções a seguir:\n",
    "\n",
    "i) os pontos críticos;\n",
    "\n",
    "ii) o mínimo e o máximo globais.\n",
    "\n",
    "a) $f(x) = x^{2} - 2x + 3$, $\\ $ $[-2,2]$\n",
    "\n",
    "b) $g(x) = x^{3} - 12x + 8$, $\\ $ $[0,3]$\n",
    "\n",
    "c) $h(x) = 3 - 2x$, $\\ $ $[0,2]$\n",
    "\n",
    "d) $j(x) = \\sqrt[3]{x^{2}-4}$, $\\ $ $[-1,1]$\n",
    "\n",
    "e) $k(x) = \\frac{x^{2}-3x}{x+1}$, $\\ $ $(-1,+\\infty)$"
   ]
  },
  {
   "cell_type": "markdown",
   "id": "8e2933e7",
   "metadata": {
    "hidden": true
   },
   "source": [
    "##### Solução"
   ]
  },
  {
   "cell_type": "markdown",
   "id": "d386beda",
   "metadata": {
    "hidden": true
   },
   "source": [
    "a) Temos que\n",
    "\n",
    "$$f'(x) = 0 \\Rightarrow (x^{2} - 2x + 3)' = 0 \\Rightarrow 2x - 2x = 0 \\Rightarrow x = 1$$\n",
    "\n",
    "i) Assim, $c = 1$ é um ponto crítico de $f$.\n",
    "\n",
    "ii) Basta obtermos o maior e o menor valor dentre $f(1)$, $f(-2)$ e $f(2)$. Vejamos a tabela a seguir:\n",
    "\n",
    "$$\\begin{array}{c|c}\n",
    "  x & f(x)\\\\ \\hline\n",
    "  1      & 2 \\\\\n",
    "  -2      & 11 \\\\\n",
    "  2     & 3 \\\\\n",
    " \\end{array}$$\n",
    " \n",
    "Portanto, o mínimo global de $f$ restrita ao intervalo $[-2,2]$ é $2$ que ocorre em $x = 1$. Por outro lado, o máximo global de $f$ é $11$ que ocorre em $x = -2$.\n",
    "\n",
    "b) Temos que\n",
    "\n",
    "$$g'(x) = 0 \\Rightarrow (x^{3} - 12x + 8)' = 0 \\Rightarrow 3x^{2} - 12 = 0 \\Rightarrow x^{2} = 4 \\Rightarrow x = \\pm 2$$\n",
    "\n",
    "i) Assim, $c_{1} = -2$ e $c_{2} = 2$ são pontos críticos de $g$ em $\\mathbb{R}$. Note que $c_{1} = -2 \\notin [0,2]$ e portanto deve ser descartado. Logo, temos somente o ponto crítico $c_{2}$ correspondente $g$ restrita a $[0,3]$.\n",
    "\n",
    "ii) Basta obtermos o maior e o menor valor dentre $g(2)$, $g(0)$ e $g(3)$. Vejamos a tabela a seguir:\n",
    "\n",
    "$$\\begin{array}{c|c}\n",
    "  x & g(x)\\\\ \\hline\n",
    "  2      & -16 \\\\\n",
    "  0      & 0 \\\\\n",
    "  3      & -9 \\\\\n",
    " \\end{array}$$\n",
    " \n",
    "Portanto, o mínimo global de $g$ restrita ao intervalo $[0,3]$ é $-16$ que ocorre em $x = 2$. Por outro lado, o máximo global de $g$ é $0$ que ocorre em $x = 0$.\n",
    "\n",
    "c) Temos que\n",
    "\n",
    "$$h'(x) = 0 \\Rightarrow (3 - 2x)' = 0 \\Rightarrow -2 \\neq 0$$\n",
    "\n",
    "i) Note que $h$ não possui pontos críticos.\n",
    "\n",
    "ii) Basta obtermos o maior e o menor valor dentre $h(0)$ e $h(2)$. Vejamos a tabela a seguir:\n",
    "\n",
    "$$\\begin{array}{c|c}\n",
    "  x & h(x)\\\\ \\hline\n",
    "  0      & 3 \\\\\n",
    "  2      & -1 \\\\\n",
    " \\end{array}$$\n",
    " \n",
    "Portanto, o mínimo global de $h$ restrita ao intervalo $[0,2]$ é $-1$ que ocorre em $x = 2$. Por outro lado, o máximo global de $h$ é $3$ que ocorre em $x = 0$.\n",
    "\n",
    "d) Temos que\n",
    "\n",
    "$$j'(x) = 0 \\Rightarrow (\\sqrt[3]{x^{2}-4})' = 0 \\Rightarrow \\frac{2x}{3\\left(\\sqrt[3]{x^{2}-4}\\right)^{2}} = 0 \\Rightarrow 2x = 0 \\Rightarrow x = 0$$\n",
    "\n",
    "i) Assim, $c = 0$ é o único ponto crítico de $j$.\n",
    "\n",
    "ii) Basta obtermos o maior e o menor valor dentre $j(0)$, $j(-1)$ e $j(1)$. Vejamos a tabela a seguir:\n",
    "\n",
    "$$\\begin{array}{c|c}\n",
    "  x & j(x)\\\\ \\hline\n",
    "  0       & \\sqrt[3]{-4} = -1.5874010519681994  \\\\\n",
    "  -1      & \\sqrt[3]{-3} = -1.4422495703074083\\\\\n",
    "  1       & \\sqrt[3]{-3} = -1.4422495703074083 \\\\\n",
    " \\end{array}$$\n",
    " \n",
    "Portanto, o mínimo global de $j$ restrita ao intervalo $[-1,1]$ é $-1.5874010519681994$ que ocorre em $x = 0$. Por outro lado, o máximo global de $j$ é $-1.4422495703074083$ que ocorre tanto em $x = -1$ quanto $x = 1$.\n",
    "\n",
    "e) Temos que\n",
    "\n",
    "$$k'(x) = 0 \\Rightarrow \\left(\\frac{x^{2}-3x}{x+1}\\right)' = 0 \\Rightarrow \\frac{x^{2} + 2x - 3}{(x+1)^{2}} = 0 \\Rightarrow x^{2} + 2x - 3 = 0 \\underset{Bhaskara}{\\Rightarrow} c_{1} = -3 \\ e \\ c_{2} = 1$$\n",
    "\n",
    "i) Temos que $c_{2} = 1$ é o único ponto crítico de $k$ no intervalo $(-1,+\\infty)$.\n",
    "\n",
    "ii) Note que nosso intervalo no qual $k$ é definida possui extremos abertos. Neste caso devemos estudar o limites destes (à direita em $x = -1$). Pois bem,\n",
    "\n",
    "$$lim_{x \\to -1^{+}} \\frac{x^{2}-3x}{x+1} = \\frac{(-1)^{2} - 3(-1)}{-1^{+} + 1} = \\frac{4}{0^{+}} = + \\infty$$\n",
    "\n",
    "$$lim_{x \\to +\\infty} \\frac{x^{2}-3x}{x+1} = lim_{x \\to +\\infty} \\frac{x^{2}}{x} = lim_{x \\to +\\infty}  x = +\\infty$$\n",
    "\n",
    "Neste caso, note que $k$ cresce indefinidamente tanto tendendo a $1$ quanto tendendo a $+\\infty$. Desta forma não existe um máximo global para $k$ no intervalo $(-1,+\\infty)$ (consulte o gráfico). Assim, $k(1) = -1$ é o mínimo global de $k$ no intervalo indicado."
   ]
  },
  {
   "cell_type": "markdown",
   "id": "450bed02",
   "metadata": {
    "hidden": true
   },
   "source": [
    "#### Exercício Resolvido 2"
   ]
  },
  {
   "cell_type": "markdown",
   "id": "0d3f8ff8",
   "metadata": {
    "hidden": true
   },
   "source": [
    "Considerando um domínio adequado (o maior possível) determine e classifique cada um dos pontos críticos das funções dadas a seguir como sendo ponto de mínimo local, ponto de máximo local ou uma inflexão. Use uma vizinhança $\\delta = 0.01$:\n",
    "\n",
    "a) $f(x) = x^{2} - 3x + 2$\n",
    "\n",
    "b) $g(x) = \\frac{x^{3}}{3} - \\frac{x^{2}}{2} - 2x + 1$\n",
    "\n",
    "c) $h(x) = e^{x} - x$\n",
    "\n",
    "d) $j(x) = \\frac{x^{2} + 2x}{x-1}$\n",
    "\n",
    "e) $k(x) = \\sqrt[3]{x+1}$\n",
    "\n",
    "*Dica: Consulte o gráfico de $f$ após concluir cada questão para verificar as conclusões obtidas.*"
   ]
  },
  {
   "cell_type": "markdown",
   "id": "b4d54c67",
   "metadata": {
    "hidden": true
   },
   "source": [
    "##### Solução"
   ]
  },
  {
   "cell_type": "markdown",
   "id": "ecb7c4e7",
   "metadata": {
    "hidden": true
   },
   "source": [
    "a) Temos que\n",
    "\n",
    "$$f'(x) = 0 \\Rightarrow (x^{2} - 3x + 2)' = 0 \\Rightarrow 2x - 3 = 0 \\Rightarrow x = \\frac{3}{2} = 1.5$$\n",
    "\n",
    "Assim, $x = 1.5$ é o único ponto crítico de $f$ em $\\mathbb{R}$. Vejamos a tabela a seguir:\n",
    "\n",
    "$$\\begin{array}{c|c}\n",
    "  x & f(x)\\\\ \\hline\n",
    "  1.49       &-0.2498999999999998  \\\\\n",
    "  1.5        & -0.25 \\ (min)\\\\\n",
    "  1.51       & -0.24990000000000023 \\\\\n",
    " \\end{array}$$\n",
    "\n",
    "Portanto, $c = 1.5$ é um ponto de mínimo local de $f$.\n",
    "\n",
    "b) Temos que\n",
    "\n",
    "$$g'(x) = 0 \\Rightarrow \\left(\\frac{x^{3}}{3} - \\frac{x^{2}}{2} - 2x + 1\\right)' = 0 \\Rightarrow x^{2} - x - 2 = 0 \\underset{Bhaskara}{\\Rightarrow} x_{1} = -1 \\ e \\ x_{2} = 2$$\n",
    "\n",
    "Assim, $c_{1} = -1$ e $c_{2} = 2$ são os únicos pontos críticos de $g$ em $\\mathbb{R}$. Vejamos a tabela a seguir:\n",
    "\n",
    "$$\\begin{array}{c|cccc|c} \n",
    "x\t    &  g(x) & & & x & g(x)\\\\\n",
    "-1.01\t&  2.166516333333333         & & &  1.99 & -2.3331836666666668\\\\\n",
    "-1      &  2.166666666666667 \\ (max) & & &  2  & -2.3333333333333335 \\ (min)\\\\\n",
    "-0.99\t&  2.166517000000000         & & &  2.01 & -2.3331830000000000 \\\\\n",
    "\\end{array}$$\n",
    "\n",
    "Portanto, $c_{1} = -1$ é um ponto de máximo local de $g$. Por outro lado, $c_{2} = 2$ é um ponto mínimo local de $g$.\n",
    "\n",
    "c) Temos que\n",
    "\n",
    "$$h'(x) = 0 \\Rightarrow (e^{x} - x)' = 0 \\Rightarrow e^{x} - 1 = 0 \\Rightarrow x = 0$$\n",
    "\n",
    "Assim, $c = 0$ é o único ponto crítico de $h$ em $\\mathbb{R}$. Vejamos a tabela a seguir:\n",
    "\n",
    "$$\\begin{array}{c|cccc|c} \n",
    "x\t    &  h(x) \\\\\n",
    "0.99    & 1.0000498337491681 \\\\\n",
    "1       & 1.0 \\ (min) \\\\\n",
    "1.01\t& 1.000050167084168 \\\\\n",
    "\\end{array}$$\n",
    "\n",
    "Portanto, $c_{1} = -1$ é um ponto de mínimo local de $h$.\n",
    "\n",
    "d) Temos que\n",
    "\n",
    "$$j'(x) = 0 \\Rightarrow \\left(\\frac{x^{2} + 2x}{x-1}\\right)' = 0 \\Rightarrow \\frac{x^{2}-2x-2}{(x-1)}^{2} = 0 \\Rightarrow x_{1} = 1 - \\sqrt{3} \\ e \\ x_{2} = 1 + \\sqrt{3}$$\n",
    "\n",
    "Assim, $c_{1} = 1 -\\sqrt{3} = -0.7320508075688772$ e $c_{2} = 2.732050807568877$  são os únicos pontos críticos de $j$ em $\\mathbb{R} - \\{1\\}$. Note que $j$ não é definida em $x = 1$. Vejamos a tabela a seguir:\n",
    "\n",
    "$$\\begin{array}{c|cccc|c} \n",
    "x\t    &  g(x) & & & x & g(x)\\\\\n",
    "-0.742050807568877\t&  0.5358409812552062         & & &  2.722050807568877 & 7.464159685433683\\\\\n",
    "-0.732050807568877  &  0.5358983848622454 \\ (max) & & &  2.732050807568877  & 7.464101615137754 \\ (min)\\\\\n",
    "-0.722050807568877\t&  0.5358403145663166         & & &  2.742050807568877 & 7.464159018744795 \\\\\n",
    "\\end{array}$$\n",
    "\n",
    "Portanto, $c_{1} = 1 - \\sqrt{3}$ é um ponto de máximo local de $j$. Por outro lado, $c_{2} = 1 + \\sqrt{3}$ é um ponto de mínimo local de $j$.\n",
    "\n",
    "e) Temos que\n",
    "\n",
    "$$k'(x) = 0 \\Rightarrow (\\sqrt[3]{x+1})' = 0 \\Rightarrow \\frac{1}{3\\sqrt{(x+1)^{2}}} \\neq 0$$\n",
    "\n",
    "Portanto, $k$ não possui ponto crítico $c$ tal $k'(c) = 0$. Por outro lado, temos que em $x = -1$ a derivada não existe e, portanto este é um ponto crítico de $k$.\n",
    "\n",
    "Assim, $c_{1} = -1$ e $c_{2} = 2.732050807568877$  é o único ponto crítico de $k$ em $\\mathbb{R}$. Vejamos a tabela a seguir:\n",
    "\n",
    "$$\\begin{array}{c|cccc|c} \n",
    "x\t    &  k(x) \\\\\n",
    "-1.01\t&  -0.21544346900318845 \\\\\n",
    "-1      &  0 (infl) \\\\\n",
    "-0.99\t&  0.21544346900318845 \\\\\n",
    "\\end{array}$$\n",
    "\n",
    "Portanto, $c_{1} = -1$ é um ponto de inflexão de $k$."
   ]
  },
  {
   "cell_type": "markdown",
   "id": "cd4c3067",
   "metadata": {
    "hidden": true
   },
   "source": [
    "#### Exercício Resolvido 3"
   ]
  },
  {
   "cell_type": "markdown",
   "id": "3610cd78",
   "metadata": {
    "hidden": true
   },
   "source": [
    "A quantidade de água em um reservatório, medida em milhares de metros cúbicos, varia ao longo do tempo, sendo o tempo medido em dias. Esta variação pode ser modelada pela equação $Q(t) = -t^{2} + 11t + 2$, onde $0 \\leq t \\leq 10$. Com base nesta equação, determine os valores máximos e mínimos do volume de água no reservatório dentro do intervalo de tempo especificado."
   ]
  },
  {
   "cell_type": "markdown",
   "id": "c9006e95",
   "metadata": {
    "hidden": true
   },
   "source": [
    "##### Solução"
   ]
  },
  {
   "cell_type": "markdown",
   "id": "06893209",
   "metadata": {
    "hidden": true
   },
   "source": [
    "Temos que\n",
    "\n",
    "$$Q'(t) = 0 \\Rightarrow (-t^{2} + 11t + 2)' = 0 \\Rightarrow -2t + 11 = 0 \\Rightarrow t = \\frac{11}{2} = 5.5$$\n",
    "\n",
    "Para obter os extremos globais no intervalo $[0,10]$ devemos observar o menor e o maior valor dentre $Q(5.5)$, $Q(0)$ e $Q(10)$. Vejamos a tabela a seguir:\n",
    "\n",
    "$$\\begin{array}{c|c}\n",
    "  t & Q(t)\\\\ \\hline\n",
    "  5.5       & 32.54  \\\\\n",
    "  0         & 2\\\\\n",
    "  10        & 12 \\\\\n",
    " \\end{array}$$\n",
    "\n",
    "O menor valor observado foi $2$ mil metros cúbicos ocorrendo logo no início das observações em $t = 0$ dias. Por outro lado, o maior valor observado foi de $32.54$ mil metros cúbicos ocorrendo por volta de $t = 5.5$ dias."
   ]
  },
  {
   "cell_type": "markdown",
   "id": "0f66c37c",
   "metadata": {
    "hidden": true
   },
   "source": [
    "#### Exercício Resolvido 4"
   ]
  },
  {
   "cell_type": "markdown",
   "id": "3216beb0",
   "metadata": {
    "hidden": true
   },
   "source": [
    "Um agricultor dispõe de $150$ metros de cerca para a montagem de um curral retangular em um dos lados de paredão rochoso. Determine as medidas que maximizam a área do curral se este for aproveitar o paredão.<br><br>\n",
    "<center> <img src=\"fig4-9.jpg\" alt=\"jpg_python\" width=\"250\" height=\"\"> </center"
   ]
  },
  {
   "cell_type": "markdown",
   "id": "864064f7",
   "metadata": {
    "hidden": true
   },
   "source": [
    "##### Solução"
   ]
  },
  {
   "cell_type": "markdown",
   "id": "4039bc42",
   "metadata": {
    "hidden": true
   },
   "source": [
    "Devemos obter as medidas $x$ e $y$ para largura e o comprimento da cerca que proporcionam a maior área possível. Temos que a área do curral é dada por $A(x,y) = xy$ além da relação $2x + y = 150$. Podemos isolar $y$ nesta última equação e substituir em $A(x,y)$ tornando-a uma função de uma só variável. Pois bem,\n",
    "\n",
    "$$2x + y = 150 \\Rightarrow y = 150 - 2x \\Rightarrow A(x) = x(150-2x) = 150x - 2x^{2}.$$\n",
    " \n",
    "Devemos nos ater que os valores de $x$ e também $y$ devem ser positivos e, além disso, $0 < x < 75$. De posse destas informações podemos buscar possíveis valores que maximizam a área. Primeiro devemos obter os pontos críticos de $A(x)$:\n",
    "\n",
    "$$A'(x) = 0 \\Rightarrow (150x - 2x^{2})' = 0 \\Rightarrow 150 - 4x = 0 \\Rightarrow x = 37.5 \\ (y = 150 - 2\\cdot37.5 = 75).$$\n",
    "\n",
    "Vejamos quais dentre os valores de $x$ dentre $37.5$, $0$ e $150$ (este dois últimos apenas como valores limite) produzem a maior área:<br><br>\n",
    " $$\\begin{array}{c|c}\n",
    "  x & A(x)\\\\ \\hline\n",
    "  37.5           & 2812.5 \\\\\n",
    "   0^{*}       & 0 \\\\\n",
    "  50^{*}       & 0 \\\\\n",
    " \\end{array}$$<br>\n",
    " Neste caso, as dimensões que maximizam a área são dadas por $x = 37.5$ e $y = 75$ metros."
   ]
  },
  {
   "cell_type": "markdown",
   "id": "be7aa0d0",
   "metadata": {
    "hidden": true
   },
   "source": [
    "#### Exercício Resolvido 5"
   ]
  },
  {
   "cell_type": "markdown",
   "id": "92254fe8",
   "metadata": {
    "hidden": true
   },
   "source": [
    "Determine a máxima distância entre as curvas $f(x) = -2x +12$ e $g(x) = -x^{2} + 9x + 12$ no intervalo $[0,10]$."
   ]
  },
  {
   "cell_type": "markdown",
   "id": "861fbd99",
   "metadata": {
    "hidden": true
   },
   "source": [
    "##### Solução"
   ]
  },
  {
   "cell_type": "markdown",
   "id": "cd18af65",
   "metadata": {
    "hidden": true
   },
   "source": [
    "Basta obtermos o máximo (em módulo) da função diferença $d(x) = f(x) - g(x)$. Pois bem, \n",
    "\n",
    "$$d(x) = -2x + 12 - (-x^{2} + 9x + 12) = -2x + 12 + x^{2} - 9x - 12 = x^{2} - 11x$$\n",
    "\n",
    "Temos que\n",
    "\n",
    "$$d'(x) = 0 \\Rightarrow \\left(x^{2} - 11x\\right)' = 0 \\Rightarrow 2x - 11 = 0 \\Rightarrow x = \\frac{11}{2} = 5.5$$\n",
    "\n",
    "Assim, $5.5$ é um ponto crítico de $d$ em $[0,10]$.\n",
    "\n",
    "Para obter o maior valore de diferença busquemos o maior valor dentre $|d(5.5)|$, $|d(0)|$ e $|d(10)|$. Vejamos a tabela a seguir:\n",
    "\n",
    "$$\\begin{array}{c|c}\n",
    "  x & |d(x)|\\\\ \\hline\n",
    "  5.5     & 30.25 \\\\\n",
    "  0       & 0 \\\\\n",
    "  10      & 10 \\\\\n",
    " \\end{array}$$"
   ]
  },
  {
   "cell_type": "markdown",
   "id": "e2457b1a",
   "metadata": {
    "hidden": true
   },
   "source": [
    "#### Exercício Resolvido 6"
   ]
  },
  {
   "cell_type": "markdown",
   "id": "4f19183f",
   "metadata": {
    "hidden": true
   },
   "source": [
    "Uma lata cilíndrica é feita para receber $1$ litro de óleo. Encontre as dimensões que minimização o custo do metal para produzir a lata. Quais são as dimensões que minimizam o custo de produção de desta lata se o metro quadrado do metal usado nas laterais vale $R\\$ \\ 2.00$ e nas bases vale $R\\$ \\ 3.00$?"
   ]
  },
  {
   "cell_type": "markdown",
   "id": "4c69052a",
   "metadata": {
    "hidden": true
   },
   "source": [
    "##### Solução"
   ]
  },
  {
   "cell_type": "markdown",
   "id": "6992c349",
   "metadata": {
    "hidden": true
   },
   "source": [
    "A área total de uma lata cilíndrica é dada por:\n",
    "\n",
    "$$A_{total}(r,h) = 2A_{base} + A_{lateral} = 2\\pi r^{2} + 2\\pi rh$$\n",
    " \n",
    "O custo total, por sua vez, é dado por:\n",
    " \n",
    "$$C_{total}(r,h) = 3(2A_{base}) + 2(A_{lateral}) = 3\\cdot2\\pi r^{2} + 2\\cdot2\\pi rh = 6\\pi r^{2} + 4\\pi rh$$\n",
    " \n",
    "Devemos obter uma equação contendo somente uma variável. Podemos fazer isso por meio do volume fornecido:\n",
    " \n",
    "$$V = \\pi r^{2}h \\Rightarrow \\pi r^{2}h  = 1000 \\Rightarrow h = \\frac{1000}{\\pi r^{2}}.$$<br>\n",
    "Substituindo o valor de $h$ na fórmula do custo total, temos:\n",
    " \n",
    "$$C_{total}(r) = 6\\pi r^{2} + 4\\pi r\\frac{1000}{\\pi r^{2}} = 6\\pi r^{2} + \\frac{4000}{r}.$$<br>\n",
    "Devemos obter os pontos críticos de $A(r)$:\n",
    " \n",
    "$$C'{total}(t) = 0 \\Rightarrow \\left(6\\pi r^{2} + \\frac{4000}{r}\\right)' = 0 \\Rightarrow 12\\pi r - \\frac{4000}{r^{2}} = 0\\Rightarrow $$\n",
    " \n",
    "$$ \\Rightarrow 12\\pi r^{3} - 4000 = 0 \\Rightarrow 12\\pi r^{3} = 4000 \\Rightarrow r^{3} =\\frac{4000}{12\\pi} \\Rightarrow r = \\sqrt[3]{\\frac{1000}{3\\pi}} = 4.734160282049961 \\ cm\\Rightarrow $$\n",
    " \n",
    "$$\\Rightarrow h = \\frac{1000}{\\pi \\cdot \\sqrt[3]{\\frac{1000}{3\\pi}}^{2}} \\approx 14.20248084614989 \\ cm$$\n",
    "\n",
    "Em particular, para calcular o custo de produção de uma lata devemos converter os valores de $r$ e $h$ para metros dividindo-os por $100$, isto é, $r \\approx  0.04734160282049961 \\ m$ e $h = 0.1420248084614989 \\ m$. Neste caso, o custo de uma lata, em reais, será de:\n",
    "\n",
    "$$C_{total}(r,h) = 3\\cdot2\\pi r^{2} + 2\\cdot2\\pi rh = 6\\pi r^{2} + 4\\pi rh = 0.12673842123067935 \\approx R\\$ \\ 0.13.$$\n",
    "\n",
    "*Parece pouco? Pense em chapadas de $1 \\ m^{2}$ para base e as laterais e, dentro delas desenhe os pedaços a serem recortados para se fazer uma única lata!*"
   ]
  },
  {
   "cell_type": "markdown",
   "id": "1a1ae330",
   "metadata": {
    "heading_collapsed": true
   },
   "source": [
    "# <div style=\"margin-top: -20px;\">\n",
    "<hr style=\"border: 2px solid black;\">\n",
    "\n",
    "<font color='black'><span style=\"font-size: 22px;\"><strong>Exercícios</strong></span></font>\n",
    "\n",
    "<hr style=\"border: 2px solid black;\">\n",
    "</div>"
   ]
  },
  {
   "cell_type": "markdown",
   "id": "7ee03f48",
   "metadata": {
    "hidden": true
   },
   "source": [
    "#### Exercício 1"
   ]
  },
  {
   "cell_type": "markdown",
   "id": "81888764",
   "metadata": {
    "hidden": true
   },
   "source": [
    "Determine, para cada uma das funções a seguir:\n",
    "\n",
    "i) os pontos críticos;\n",
    "\n",
    "ii) o mínimo e o máximo globais.\n",
    "\n",
    "a) $f(x) = -2x^{2}+5x-3$, $\\ $ $[0,2]$\n",
    "\n",
    "b) $g(x) = x^{3} - 6x^{2} + 8$, $\\ $ $[0,3]$\n",
    "\n",
    "c) $h(x) = 3 - \\frac{2}{x}$, $\\ $ $[1,3]$\n",
    "\n",
    "d) $j(x) = \\sqrt[3]{1-2x}$, $\\ $ $[-1,1]$\n",
    "\n",
    "e) $k(x) = \\frac{x^{2}}{x-2}$, $\\ $ $\\mathbb{R}-\\{2\\}$"
   ]
  },
  {
   "cell_type": "markdown",
   "id": "0756610d",
   "metadata": {
    "hidden": true
   },
   "source": [
    "##### Respostas"
   ]
  },
  {
   "cell_type": "markdown",
   "id": "78365aae",
   "metadata": {
    "hidden": true
   },
   "source": [
    "a) i) ponto crítico $c = \\frac{5}{4}$, ii) mínimo global $f(0) = -3$, máximo global $f\\left(\\frac{5}{4}\\right) = \\frac{5}{4}$;  \n",
    "\n",
    "b) i) ponto crítico $c = 0$, ii) mínimo global $f(3) = -19$, máximo global $f(0) = 8$; \n",
    "\n",
    "c) i) sem pontos críticos, ii) mínimo global $f(1) = 1$, máximo global $f(3) = \\frac{7}{3}$;\n",
    "\n",
    "d) i) ponto crítico $c = \\frac{1}{2}$, ii) mínimo global $f(1) = \\sqrt[3]{-1} = -1$, máximo global $f(-1) = \\sqrt[3]{3}$;\n",
    "\n",
    "e) i) pontos críticos $c_{1} = 0$ e $c_{2} = 4$, ii) sem mínimo global ($-\\infty$), sem máximo global ($+\\infty$)"
   ]
  },
  {
   "cell_type": "markdown",
   "id": "58703482",
   "metadata": {
    "hidden": true
   },
   "source": [
    "#### Exercício 2"
   ]
  },
  {
   "cell_type": "markdown",
   "id": "344bf21e",
   "metadata": {
    "hidden": true
   },
   "source": [
    "Considerando um domínio adequado (o maior possível) determine e classifique cada um dos pontos críticos das funções dadas a seguir como sendo ponto de mínimo local, ponto de máximo local ou uma inflexão. Use uma vizinhança $\\delta = 0.01$:\n",
    "\n",
    "a) $f(x) = x^{2} - x + 6$\n",
    "\n",
    "b) $g(x) = x^{3} - 12$\n",
    "\n",
    "c) $h(x) = \\frac{e^{x}}{x}$\n",
    "\n",
    "d) $j(x) = \\frac{x^{2} + 1}{x-1}$\n",
    "\n",
    "e) $k(x) = \\sqrt[3]{x^{2}-5x+6}$"
   ]
  },
  {
   "cell_type": "markdown",
   "id": "4e3e4518",
   "metadata": {
    "hidden": true
   },
   "source": [
    "##### Respostas"
   ]
  },
  {
   "cell_type": "markdown",
   "id": "a8902761",
   "metadata": {
    "hidden": true
   },
   "source": [
    "a) $c = \\frac{1}{2}$ é ponto de mínimo local;\n",
    "\n",
    "b) $c = 0$ é ponto de inflexão;\n",
    "\n",
    "c) $c = 1$ é ponto de mínimo local;\n",
    "\n",
    "d) $c_{1} = 1 - \\sqrt{2}$ é ponto de máximo local e $c_{2} = 1 + \\sqrt{2}$ é ponto de mínimo local;\n",
    "\n",
    "e) $c_{1} = 2$ e $c_{2} = 3$ são pontos de inflexão, $c_{3} = \\frac{5}{2}$ é ponto de mínimo local."
   ]
  },
  {
   "cell_type": "markdown",
   "id": "5f07e17c",
   "metadata": {
    "hidden": true
   },
   "source": [
    "#### Exercício 3"
   ]
  },
  {
   "cell_type": "markdown",
   "id": "ab4d92bf",
   "metadata": {
    "hidden": true
   },
   "source": [
    "Um objeto planando no ar tem suas diversas alturas pela equação \n",
    "\n",
    "$$h(t) = t^{3} - 4t^{2} + 20, \\ 0\\leq t \\leq 5$$\n",
    "\n",
    "em que $h$ é dado em metros e $t$ em minutos. Com base nestas informações, determine os momentos em que o objeto ocupa as alturas mínima e máximas bem como estas alturas entre $0$ e $5$ minutos."
   ]
  },
  {
   "cell_type": "markdown",
   "id": "feb751bf",
   "metadata": {
    "hidden": true
   },
   "source": [
    "##### Respostas"
   ]
  },
  {
   "cell_type": "markdown",
   "id": "386eab34",
   "metadata": {
    "hidden": true
   },
   "source": [
    "altura mínima $\\approx 10.52$ metros, $t \\approx 2.67$ minutos ($2min40s$); \n",
    "\n",
    "altura máxima $45$ metros, $t = 5$ minutos "
   ]
  },
  {
   "cell_type": "markdown",
   "id": "fa22674e",
   "metadata": {
    "hidden": true
   },
   "source": [
    "#### Exercício 4"
   ]
  },
  {
   "cell_type": "markdown",
   "id": "691db32b",
   "metadata": {
    "hidden": true
   },
   "source": [
    "Determine dois números, $x$ e $y$, de forma que a soma deles seja igual a $32$ e que o produto $xy$ seja o maior possível."
   ]
  },
  {
   "cell_type": "markdown",
   "id": "78603af4",
   "metadata": {
    "hidden": true
   },
   "source": [
    "##### Respostas"
   ]
  },
  {
   "cell_type": "markdown",
   "id": "74d4e6b1",
   "metadata": {
    "hidden": true
   },
   "source": [
    "$x = 16$ e $y = 16$"
   ]
  },
  {
   "cell_type": "markdown",
   "id": "aae18574",
   "metadata": {
    "hidden": true
   },
   "source": [
    "#### Exercício 5"
   ]
  },
  {
   "cell_type": "markdown",
   "id": "446fbbf5",
   "metadata": {
    "hidden": true
   },
   "source": [
    "Determine dois números, $x$ e $y$, de forma que a soma deles seja igual a $15$ e que a soma $x^{2} + 2y^{2}$ seja a menor possível."
   ]
  },
  {
   "cell_type": "markdown",
   "id": "f01cbf25",
   "metadata": {
    "hidden": true
   },
   "source": [
    "##### Respostas"
   ]
  },
  {
   "cell_type": "markdown",
   "id": "57012179",
   "metadata": {
    "hidden": true
   },
   "source": [
    "$x = 10$ e $y = 5$"
   ]
  },
  {
   "cell_type": "markdown",
   "id": "d6f07389",
   "metadata": {
    "hidden": true
   },
   "source": [
    "#### Exercício 6"
   ]
  },
  {
   "cell_type": "markdown",
   "id": "46a7005a",
   "metadata": {
    "hidden": true
   },
   "source": [
    "Uma lata cilíndrica é feita para receber exatamente $1$ litro de água ($1000 \\ cm^{3}$). Encontre as dimensões que minimizam a quantidade de metal utilizada se esta lata não possui tampa e se usa o mesmo metal nas laterais e na base."
   ]
  },
  {
   "cell_type": "markdown",
   "id": "7db56f70",
   "metadata": {
    "hidden": true
   },
   "source": [
    "##### Respostas"
   ]
  },
  {
   "cell_type": "markdown",
   "id": "297a229b",
   "metadata": {
    "hidden": true
   },
   "source": [
    "$r = \\sqrt[3]{\\frac{1000}{\\pi}} \\ cm \\approx = 6.83 \\ cm$ e $h = \\frac{1000}{\\pi\\sqrt[3]{\\frac{1000}{\\pi}}} \\approx 6.83 \\ cm$"
   ]
  },
  {
   "cell_type": "markdown",
   "id": "dfa764f1",
   "metadata": {},
   "source": [
    "# <div style=\"margin-top: -20px;\">\n",
    "<hr style=\"border: 2px solid black;\">\n",
    "\n",
    "<font color='black'><span style=\"font-size: 22px;\"><strong>Vídeo Aulas</strong></span></font>\n",
    "\n",
    "<hr style=\"border: 2px solid black;\">\n",
    "</div>"
   ]
  },
  {
   "cell_type": "markdown",
   "id": "dd70cf35",
   "metadata": {},
   "source": [
    "[Extremos Relativos de Uma Função](https://youtu.be/Ozi3gtfsOIE)\n",
    "\n",
    "[Extremos Locais e a Derivada](https://youtu.be/3Ab3KHBIhJo)\n",
    "\n",
    "[Ponto de Inflexão e Pontos Críticos](https://youtu.be/QyeFVyHhqgE)\n",
    "\n",
    "[Extremos Globais de Uma Função - Parte 1](https://youtu.be/blNxz1kTr-E)\n",
    "\n",
    "[Extremos Globais de Uma Função - Parte 2](https://youtu.be/NlIiOcMkSgw)\n",
    "\n",
    "[Exemplo 1: Problema de Otimização](https://youtu.be/e-j5CVsEgEI)\n",
    "\n",
    "[Exemplo 2: Problema de Otimização](https://youtu.be/WwG7Pp0DfZ8)\n",
    "\n",
    "["
   ]
  }
 ],
 "metadata": {
  "kernelspec": {
   "display_name": "Python 3 (ipykernel)",
   "language": "python",
   "name": "python3"
  },
  "language_info": {
   "codemirror_mode": {
    "name": "ipython",
    "version": 3
   },
   "file_extension": ".py",
   "mimetype": "text/x-python",
   "name": "python",
   "nbconvert_exporter": "python",
   "pygments_lexer": "ipython3",
   "version": "3.11.5"
  },
  "varInspector": {
   "cols": {
    "lenName": 16,
    "lenType": 16,
    "lenVar": 40
   },
   "kernels_config": {
    "python": {
     "delete_cmd_postfix": "",
     "delete_cmd_prefix": "del ",
     "library": "var_list.py",
     "varRefreshCmd": "print(var_dic_list())"
    },
    "r": {
     "delete_cmd_postfix": ") ",
     "delete_cmd_prefix": "rm(",
     "library": "var_list.r",
     "varRefreshCmd": "cat(var_dic_list()) "
    }
   },
   "types_to_exclude": [
    "module",
    "function",
    "builtin_function_or_method",
    "instance",
    "_Feature"
   ],
   "window_display": false
  }
 },
 "nbformat": 4,
 "nbformat_minor": 5
}
