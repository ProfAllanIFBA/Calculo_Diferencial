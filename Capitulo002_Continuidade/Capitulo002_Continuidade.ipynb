{
 "cells": [
  {
   "cell_type": "markdown",
   "id": "d4ea28a8",
   "metadata": {
    "slideshow": {
     "slide_type": "slide"
    }
   },
   "source": [
    "<center> <img src=\"logo_ifba.jpg\" alt=\"jpg_python\" width=\"100\" height=\"200\"> </center>\n",
    "<br><br>\n",
    "<div align=\"center\"><span style=\"font-size: 26px;\"><strong>Cálculo Diferencial Aplicado à Computação <br></strong></span></div> <br>\n",
    "<center> <img src=\"python_gif.gif\" alt=\"gif_python\" width=\"80\"> </center>"
   ]
  },
  {
   "cell_type": "markdown",
   "id": "d76184a7",
   "metadata": {
    "slideshow": {
     "slide_type": "slide"
    }
   },
   "source": [
    "<div style=\"border: 2px solid black; padding: 10px; width: 95%; background-color: lightgray; display: flex; align-items: center;\">\n",
    "    <h1 style=\"color: red; text-align: center; margin: auto;\">\n",
    "        Capítulo 2: Continuidade\n",
    "    </h1>\n",
    "</div>\n",
    "\n",
    "<font color='red'></font>\n",
    "<a href=\"\"></a>"
   ]
  },
  {
   "cell_type": "markdown",
   "id": "1844c7cb",
   "metadata": {},
   "source": [
    "Uma função é *intuitivamente* concebida como sendo **contínua** quando seu gráfico não possui interrupções ou saltos. A continuidade de uma função em um ponto implica que, para cada valor de entrada que se aproxima desse ponto, o valor de saída da função correspondente se aproxima do valor da função no ponto em questão. Este conceito é fundamental para a análise matemática, pois está intimamente relacionado com a noção de limites, diferenciabilidade e integração."
   ]
  },
  {
   "cell_type": "markdown",
   "id": "0833810f",
   "metadata": {},
   "source": [
    "# <div style=\"margin-top: -20px;\">\n",
    "<hr style=\"border: 2px solid black;\">\n",
    "\n",
    "<font color='black'><span style=\"font-size: 22px;\"><strong>2.1 Exemplos Iniciais e a Definição de Continuidade</strong></span></font>\n",
    "\n",
    "<hr style=\"border: 2px solid black;\">\n",
    "</div>"
   ]
  },
  {
   "cell_type": "markdown",
   "id": "cb54d48c",
   "metadata": {},
   "source": [
    "####  <font color='blue'> Exemplo 1 </font>"
   ]
  },
  {
   "cell_type": "markdown",
   "id": "1db4393f",
   "metadata": {},
   "source": [
    "<font color='blue'> Consideremos os gráficos das funções $f(x) = 2x + 1$, $g(x) = \\frac{x^{2}-9}{x-3}$ e $h(x) = \\frac{1}{x}$:<br><br>\n",
    " <center> <img src=\"fig2-1.jpg\" alt=\"jpg_python\" width=\"800\" height=\"\"> </center><br>\n",
    " Note que apenas o gráfico de $f(x)$ se mostra sem interrupções ou saltos. Por outro lado, o gráfico de $g$ apresenta uma interrupção em $x = 3$ (uma vez que $g(3) = \\frac{0}{0}$ é uma indeterminação). Por sua vez, o gráfico de $h(x) = \\frac{1}{x}$ apresenta um salto em $x = 0$ com $h$ indo para $-\\infty$ quando $x$ se aproxima de $0$ pela esquerda e $+\\infty$ quando $x$ se aproxima de $0$ pela direita."
   ]
  },
  {
   "cell_type": "markdown",
   "id": "06aa5135",
   "metadata": {},
   "source": [
    "####  <font color='red'> Definição 1 </font>"
   ]
  },
  {
   "cell_type": "markdown",
   "id": "2cc4832a",
   "metadata": {},
   "source": [
    "<font color='red'> Uma função $f$ é dita **contínua** em $a$ se as três condições abaixo valem:<br><br>\n",
    " i) $lim_{x \\to a} f(x)$ existe<br><br>\n",
    " ii) $f(a)$ é definida<br><br>\n",
    " iii) $lim_{x \\to a} f(x) = f(a)$"
   ]
  },
  {
   "cell_type": "markdown",
   "id": "78d3f180",
   "metadata": {},
   "source": [
    "Considerando o **Exemplo 1**, vemos que $f(x)$ é a única função que se enquandra na **Definição 1** para todo $x \\in \\mathbb{R}$. As demais funções $g$ e $h$ falham em um ponto cada uma sendo contínuas nos demais. Por exemplo, $g$ é tal que em $x = 3$ temos que $lim_{x \\to 3} \\frac{x^{2}-9}{x-3} = lim_{x \\to 3} \\frac{(x-3)(x+3)}{x-3} = lim_{x \\to 3} x + 3 = 6$, mas $f(3)$ não está definida o que acarreta uma não adequação às condições ii e iii da **Definição 1**; Considerando a função $h$ temos que nenhuma das três condições é verificada para $x = 0$ uma vez que não existe $lim_{x \\to 0} f(x)$ e nem $f(0)$ está definida."
   ]
  },
  {
   "cell_type": "markdown",
   "id": "7035e8ec",
   "metadata": {},
   "source": [
    "####  <font color='blue'> Exemplo 2 </font>"
   ]
  },
  {
   "cell_type": "markdown",
   "id": "06cd12e2",
   "metadata": {},
   "source": [
    "<font color='blue'> Mostre que a função<br><br>\n",
    " $$f(x) = \\left\\{ \\begin{array}{ccc}\n",
    "x^{2}\t& se & x \\neq 1  \\\\\n",
    "2\t& se & x = 1  \\\\\n",
    "\\end{array} \\right.$$<br>\n",
    " é descontínua em $x = 1$. Seria possível redefinir $f$, com uma mudança pontual, de modo a toná-la contínua? Se sim, a redefina.\n",
    "    "
   ]
  },
  {
   "cell_type": "markdown",
   "id": "1af4a761",
   "metadata": {},
   "source": [
    "#####  <font color='blue'> Solução </font>"
   ]
  },
  {
   "cell_type": "markdown",
   "id": "2f740fb7",
   "metadata": {},
   "source": [
    "<font color='blue'> Note que $lim_{x \\to 1^{-}} f(x) = lim_{x \\to 1^{+}} f(x) = 1^{2} = 1$ o que mostra que $lim_{x \\to 1} f(x) = 1$. Contudo, $f(1) = 2 \\neq lim_{x \\to 1} f(x)$ o que mostra que $f$ é descontínua em $x = 1$. Consideremos o gráfico de $f$:<br><br>\n",
    " <center> <img src=\"fig2-2.jpg\" alt=\"jpg_python\" width=\"600\" height=\"\"> </center><br>\n",
    " Note que definindo $f(1) = 1$ (o invés de $f(1) = 2$) teremos a igualdade $lim_{x \\to 1} f(x) = 1 = f(1)$ e, portanto, a continuindade em $x = 1$."
   ]
  },
  {
   "cell_type": "markdown",
   "id": "2fa2f7b3",
   "metadata": {},
   "source": [
    "####  <font color='blue'> Exemplo 3 </font>"
   ]
  },
  {
   "cell_type": "markdown",
   "id": "96cb0ce6",
   "metadata": {},
   "source": [
    "<font color='blue'> Mostre que a função<br><br>\n",
    " $$f(x) = \\left\\{ \\begin{array}{ccc}\n",
    "x^{2}\t& se & x<1  \\\\\n",
    "2\t& se & x \\geq 1  \\\\\n",
    "\\end{array} \\right.$$<br>\n",
    " é descontínua em $x = 1$. Seria possível redefinir $f$, com uma mudança pontual, de modo a toná-la contínua? Se sim, a redefina.    "
   ]
  },
  {
   "cell_type": "markdown",
   "id": "0b35ceb8",
   "metadata": {},
   "source": [
    "#####  <font color='blue'> Solução </font>"
   ]
  },
  {
   "cell_type": "markdown",
   "id": "f16f4a18",
   "metadata": {},
   "source": [
    "<font color='blue'> Note que $lim_{x \\to 1^{-}} f(x) = 2^{2} = 4$ e $lim_{x \\to 1^{+}} f(x) = 2$ o que mostra que não existe $lim_{x \\to 1} f(x)$. Observemos o gráfico de $f$:<br><br>\n",
    " <center> <img src=\"fig2-3.jpg\" alt=\"jpg_python\" width=\"600\" height=\"\"> </center><br>\n",
    " Note que não se pode redefinir $f(1)$ (pelo enunciado $f(1) = 2$) de modo a tornar $f$ contínua em $x = 1$.    "
   ]
  },
  {
   "cell_type": "markdown",
   "id": "79c4fc46",
   "metadata": {},
   "source": [
    "####  <font color='red'> Teorema 1</font>"
   ]
  },
  {
   "cell_type": "markdown",
   "id": "7aa4de73",
   "metadata": {},
   "source": [
    "<font color='red'> A seguir apresentamos algumas funções e seus respectivos intervalos de continuidade:<br><br>\n",
    " i) $f(x) = c$, $c$ constante: contínua em $x \\in \\mathbb{R}$;<br><br>\n",
    " ii) $P(x) = a_{n}x^{n} + a_{n-1}x^{n-1} + \\ldots + a_{1}x + a_{0}$ (função polinomial): contínuas em $x \\in \\mathbb{R}$;<br><br>\n",
    " iii) $sen(x)$, $cos(x)$ (trigonométricas básicas): contínuas em $x \\in \\mathbb{R}$;<br><br>\n",
    " iv) $a^{x}$, $a>0$, $a \\neq 1$ (exponenciais): contínua em $x \\in \\mathbb{R}$;<br><br>\n",
    " v) $log_{b}x$, $b>0$, $b \\neq 1$ (logarítmicas): contínua em $x \\in (0,+\\infty)$"
   ]
  },
  {
   "cell_type": "markdown",
   "id": "3dccbda6",
   "metadata": {},
   "source": [
    "Por meio das funções acima conseguiremos obter inúmeras outras funções e seus respectivos intervalos de continuidade. Tais funções decorrerão da \"junção\" dos **Teoremas 1** e **2** (este último visto logo mais)."
   ]
  },
  {
   "cell_type": "markdown",
   "id": "973a14b8",
   "metadata": {},
   "source": [
    "# <div style=\"margin-top: -20px;\">\n",
    "<hr style=\"border: 2px solid black;\">\n",
    "\n",
    "<font color='black'><span style=\"font-size: 22px;\"><strong>2.2 Tipos de Descontinuidade e Continuidade Lateral</strong></span></font>\n",
    "\n",
    "<hr style=\"border: 2px solid black;\">\n",
    "</div>"
   ]
  },
  {
   "cell_type": "markdown",
   "id": "5ff97d15",
   "metadata": {},
   "source": [
    "####  <font color='red'> Definição 2 </font>"
   ]
  },
  {
   "cell_type": "markdown",
   "id": "1d66613f",
   "metadata": {},
   "source": [
    "<font color='red'> i) Uma função $f$ possui uma **descontinuidade removível** no ponto $x = a$ se $lim_{x \\to a} f(x)$ existe, mas é diferente de $f(a)$ caso $f(a)$ esteja definida, ou se $f(a)$ não está definida. Podemos remover tal descontinuidade definindo ou redefinindo $f(a)$ para ser igual a $ lim_{x \\to a} f(x)$. <br><br>\n",
    " ii) Uma função $f$ possui uma **descontinuidade não removível** no ponto $x = a$ se $lim_{x \\to a^{-}} f(x) \\neq lim_{x \\to a^{+}} f(x)$, ou se pelo menos um desses limites não existe. Isso inclui tanto as descontinuidades infinitas, quando $f(x)$ se aproxima de um infinito (positivo ou negativo) à medida que $x$ se aproxima de $a$, quanto a **descontinuidade tipo salto**, onde há uma \"lacuna\" entre os limites laterais."
   ]
  },
  {
   "cell_type": "markdown",
   "id": "0b2630e0",
   "metadata": {},
   "source": [
    "Com base na **Definição 2** temos que a função apresentada no **Exemplo 2** possui uma descontinuidade do tipo removível em $x = 1$. Por outro lado, a função apresentada no **Exemplo 3** possui uma descontinuidade não removível também em $x = 1$."
   ]
  },
  {
   "cell_type": "markdown",
   "id": "92be92cd",
   "metadata": {},
   "source": [
    "####  <font color='red'> Definição 3 </font>"
   ]
  },
  {
   "cell_type": "markdown",
   "id": "f777dca7",
   "metadata": {},
   "source": [
    "<font color='red'> i) Dizemos que uma função $f$ é **contínua à esquerda** em $a$ se $lim_{x \\rightarrow a^{-}} f(x) = f(a)$.<br><br>\n",
    " ii) Dizemos que uma função $f$ é **contínua à direita** em $a$ se $lim_{x \\rightarrow a^{+}} f(x) = f(a)$."
   ]
  },
  {
   "cell_type": "markdown",
   "id": "71d8ca50",
   "metadata": {},
   "source": [
    "Com base na **Definição 3** temos que a função apresentada no **Exemplo 2** não é contínua lateralmente nem à esquerda nem à direita em $x = 1$, pois $lim_{x \\rightarrow 1^{-}} f(x) = lim_{x \\rightarrow 1^{+}} f(x) = 1 \\neq f(1) = 2$. Por outro lado, a função apresentada no **Exemplo 3** é contínua à direita de $x = 1$, pois $lim_{x \\rightarrow a^{+}} f(x) = 2 = f(1)$."
   ]
  },
  {
   "cell_type": "markdown",
   "id": "3adeb86b",
   "metadata": {},
   "source": [
    "####  <font color='blue'> Exemplo 4 </font>"
   ]
  },
  {
   "cell_type": "markdown",
   "id": "f605e4c7",
   "metadata": {},
   "source": [
    "<font color='blue'> Estude a continuidade da função<br><br>\n",
    " $$f(x) = \\left\\{ \\begin{array}{ccc}\n",
    "x^{2}\t& se & x<0  \\\\\n",
    "3x-1\t& se & 0 \\leq x \\leq 1  \\\\\n",
    "2^{x} \t& se & x > 1  \\\\\n",
    "\\end{array} \\right.$$<br>"
   ]
  },
  {
   "cell_type": "markdown",
   "id": "c3d57c57",
   "metadata": {},
   "source": [
    "#####  <font color='blue'> Solução </font>"
   ]
  },
  {
   "cell_type": "markdown",
   "id": "eadfe50f",
   "metadata": {},
   "source": [
    "<font color='blue'> De acordo o **Teorema 1** todo polinômio e funções exponenciais ($a^{x}$) são contínuas em $\\mathbb{R}$. Desta forma $f_{1}(x) = x^{2}$, $f_{2}(x) = 3x-1$ e $f_{3}(x) = 2^{x}$ são funções contínuas nos intervalos $(-\\infty,0)$, $(0,1)$ e $(1,+\\infty)$ respectivamente. Isto é, $lim_{x \\to a}x^{2} = a^{2}$ para todo $a \\in (-\\infty,0)$, $lim_{x \\to a}3x-1 = 3a-1$ para todo $ a \\in (0,1)$ e $lim_{x \\to a} 2^{x} = 2^{a}$ para todo $a \\in (0,1)$. Restanos observar os valores de ligação $a = 0$ e $a = 1$. Pois bem,<br><br>\n",
    " i) $lim_{x \\to 0^{-}} f(x) = 0^{2} = 0, \\ \\ lim_{x \\to 0^{+}} f(x) = 3\\cdot 0 - 1 = -1 \\Rightarrow lim_{x \\to 0} f(x)$ não existe. Portanto, $f(x)$ é descontínua em $x = 0$. Porém, $f(0) = 3\\cdot0-1 = lim_{x \\to 0^{+}} f(x)$ donde segue que $f(x)$ é contínua à direita em $x = 0$.<br><br>\n",
    " ii) $lim_{x \\to 1^{-}} f(x) = 3\\cdot1 - 1 = 2, \\ \\ lim_{x \\to 1^{+}} f(x) = 2^{1} = 2 \\Rightarrow lim_{x \\to 1} f(x) = 2$. Além disso, $f(1) = 3\\cdot1 -1 = 2$. Portanto, $f(x)$ é contínua em $x = 1$.<br><br>\n",
    " Deste modo $f(x)$ é contínua em todo ponto de $\\mathbb{R}$, exceto em $x = 0$, que trata-se de uma descontinuidade não removível."
   ]
  },
  {
   "cell_type": "markdown",
   "id": "04ca8aa4",
   "metadata": {},
   "source": [
    "<font color='blue'> Podemos observar o esboço gráfico associado ao **Exemplo 4**:"
   ]
  },
  {
   "cell_type": "code",
   "execution_count": 2,
   "id": "7392a037",
   "metadata": {
    "ExecuteTime": {
     "end_time": "2024-01-12T13:34:03.445141Z",
     "start_time": "2024-01-12T13:34:03.284871Z"
    }
   },
   "outputs": [
    {
     "data": {
      "image/png": "[encoded data removed]",
      "text/plain": [
       "<Figure size 640x480 with 1 Axes>"
      ]
     },
     "metadata": {},
     "output_type": "display_data"
    }
   ],
   "source": [
    "from numpy import arange, vectorize\n",
    "import matplotlib.pyplot as plt\n",
    "\n",
    "def f(x):\n",
    "    if x<0:\n",
    "        return x**2\n",
    "    elif 0<=x<=1:\n",
    "        return 3*x-1\n",
    "    else:\n",
    "        return 2**x\n",
    "\n",
    "# Vetorizando a função f\n",
    "f_vectorized = vectorize(f)\n",
    "\n",
    "# Domínio Dividido (vizinhança [-2,2] de x = 0 e x = 1)\n",
    "x1 = arange(-2, 0, 0.01)\n",
    "x2 = arange(0, 1, 0.01)\n",
    "x3 = arange(1, 2, 0.01)\n",
    "\n",
    "# Adicionando título e rótulos\n",
    "plt.xlabel(\"x\")\n",
    "plt.ylabel(\"f(x)\")\n",
    "\n",
    "\n",
    "# Imagens Divididas\n",
    "y1 = f_vectorized(x1)  \n",
    "y2 = f_vectorized(x2) \n",
    "y3 = f_vectorized(x3)\n",
    "\n",
    "# Grade\n",
    "plt.grid()\n",
    "\n",
    "plt.plot(x1,y1,'b-')\n",
    "plt.plot(x2,y2,'b-')\n",
    "plt.plot(x3,y3,'b-')\n",
    "plt.plot(0,f(0),'b.')\n",
    "plt.plot(1,f(1),'b.')\n",
    "plt.show()"
   ]
  },
  {
   "cell_type": "markdown",
   "id": "711629bb",
   "metadata": {},
   "source": [
    "# <div style=\"margin-top: -20px;\">\n",
    "<hr style=\"border: 2px solid black;\">\n",
    "\n",
    "<font color='black'><span style=\"font-size: 22px;\"><strong>2.3 Construindo Funções Contínuas</strong></span></font>\n",
    "\n",
    "<hr style=\"border: 2px solid black;\">\n",
    "</div>"
   ]
  },
  {
   "cell_type": "markdown",
   "id": "07572e41",
   "metadata": {},
   "source": [
    "Uma função $f$ é dita contínua em um conjunto $A \\subset \\mathbb{R}$ se for contínua em todo $x \\in A$."
   ]
  },
  {
   "cell_type": "markdown",
   "id": "d16103e0",
   "metadata": {},
   "source": [
    "####  <font color='red'> Teorema 2 </font>"
   ]
  },
  {
   "cell_type": "markdown",
   "id": "bf3ebc09",
   "metadata": {},
   "source": [
    "<font color='red'> Se $f$ e $g$ são funções contínuas em $a$, então:<br><br>\n",
    " i) a soma $f + g$ e a diferença $f-g$ são contínuas em $a$;<br><br>\n",
    " ii) a função $cf$ é contínua em $a$ em que $c$ é uma constante real;<br><br>\n",
    " iii) o produto $fg$ é contínuo em $a$;<br><br>\n",
    " iv) o quociente $\\frac{f}{g}$ é contínuo em $a$ desde que $g(a) \\neq 0$; <br><br>\n",
    " v) $\\sqrt{f(x)}$ é contínua em $a$ se $f(a)>0$.<br><br>"
   ]
  },
  {
   "cell_type": "markdown",
   "id": "7a2e2b87",
   "metadata": {},
   "source": [
    "####  <font color='blue'> Exemplo 5 </font>"
   ]
  },
  {
   "cell_type": "markdown",
   "id": "3cada503",
   "metadata": {},
   "source": [
    "<font color='blue'> As funções $f(x) = \\frac{1}{x+1}$ e $g(x) = x^{2}$ são contínuas em $x = 1$. Portanto, são contínuas em $x = 1$:<br><br>\n",
    " $$(f+g)(x) = \\frac{1}{x+1} + x^{2}, \\ \\ (fg)(x) = \\frac{x^{2}}{x+1}, \\ \\ \\left(\\frac{f}{g}\\right)(x) = \\frac{1}{x^{2}(x+1)}.$$<br><br>\n",
    " Contudo, considerando $x = 0$, temos que $f$ e $g$ são contínuas neste ponto, mas $g(0) = 0$ o que nos diz que $\\left(\\frac{f}{g}\\right)(x) = \\frac{1}{x^{2}(x+1)}$ não é contínua em $x = 0$. Em particular $lim_{x \\to 0} \\frac{f(x)}{g(x)} = +\\infty$."
   ]
  },
  {
   "cell_type": "markdown",
   "id": "f89de607",
   "metadata": {},
   "source": [
    "####  <font color='red'> Teorema 3 </font>"
   ]
  },
  {
   "cell_type": "markdown",
   "id": "f0f52cf1",
   "metadata": {},
   "source": [
    "<font color='red'> Se $f(x)$ é contínua em $a$ e $g(x)$ é contínua em $f(a)$, então a função composta $h(x) = g(f(x))$ é contínua em $a$.<br><br>"
   ]
  },
  {
   "cell_type": "markdown",
   "id": "b7489d59",
   "metadata": {},
   "source": [
    "####  <font color='blue'> Exemplo 6 </font>"
   ]
  },
  {
   "cell_type": "markdown",
   "id": "cb45ff2c",
   "metadata": {},
   "source": [
    "<font color='blue'> Apresente os pontos nos quais as funções a seguir são contínuas:<br><br>\n",
    " a) $k(x) = \\frac{1}{x^{2} + 2x - 3}$ $ \\ \\ \\ \\ \\ $ b) $r(x) = 2^{\\frac{1}{x}}$ $ \\ \\ \\ \\ \\ $ c) $s(x) = \\frac{sen(x)}{1-cos(x)}$ $ \\ \\ \\ \\ \\ $ d) $t(x) = \\sqrt{2^{x} - 1}$"
   ]
  },
  {
   "cell_type": "markdown",
   "id": "984e014f",
   "metadata": {},
   "source": [
    "#####  <font color='blue'> Solução </font>"
   ]
  },
  {
   "cell_type": "markdown",
   "id": "784aa0fc",
   "metadata": {},
   "source": [
    "<font color='blue'> a) Embora $k(x)$ seja um quociente das funções contínuas $f(x) = 1$ e $g(x) = x^{2} + 2x - 3$, devemos ter que o denominador $g(x)$ deve ser diferente de zero. Assim, $k(x)$ será descontínua nos pontos nos quais o denominador $x^{2} + 2x - 3$ é igual a zero (Propriedade iv do **Teorema 2**). Neste caso,<br><br>\n",
    " $$x^{2} + 2x - 3 = 0 \\Rightarrow \\Delta = 2^{2} - 4\\cdot2\\cdot(-3) = 16 \\Rightarrow x = \\frac{-2 \\pm \\sqrt{16}}{2\\cdot1} = \\frac{-2 \\pm 4}{2} \\Rightarrow x_{1} = 1, \\ x_{2} = -3$$<br>\n",
    " Portanto, $k(x)$ é contínua em $\\mathbb{R} - \\{-3,1\\}$.<br><br>\n",
    " b) Note que temos uma função composta $r(x) = 2^{\\frac{1}{x}}$ de modo que $r = g \\circ f$, com $g(x) = 2^{x}$ e $f(x) = \\frac{1}{x}$. Temos que a função $g(x) = 2^{x}$ é contínua em todo ponto. Contudo, $f(x) = \\frac{1}{x}$ é descontínua em $x = 0$. Sendo assim a composição $h(x) = 2^{\\frac{1}{x}}$ é descontínua em $x = 0$ (**Teorema 3**).<br><br>\n",
    " c) Analogamente ao item \"a\", temos que $s(x)$ é um quociente das funções contínuas $f(x) = sen(x)$ e $g(x) = 1 - cos(x)$. Observemos os pontos nos quais $g(x) = 1 - cos(x)$ é igual a zero. Pois bem,<br><br>\n",
    " $$g(x) = 0 \\Rightarrow cos(x) - 1 = 0 \\Rightarrow cos(x) = 1 \\Rightarrow x = 2\\pi\\alpha, \\alpha \\in \\mathbb{Z}$$<br>\n",
    " Portanto, $s(x)$ é descontínua em $x = 0, \\pm 2\\pi, \\pm 4\\pi, \\pm 6\\pi,...$.<br><br>\n",
    " d) Analogamente ao item \"b\" temos que $t(x) = \\sqrt{2^{x} - 1}$ é uma composição de função $t = g \\circ f$ com $g(x) = \\sqrt{x}$ e $f(x) = 2^{x} - 1$. Temos que $g(x)$ é contínua para todo $x > 0$ (em $x = 0$ é contínua somente pela direita). Por outro lado, $f(x) = 2^{x} - 1$ é contínua em todo $x \\in \\mathbb{R}$. Sendo $f(x) = 2^{x} - 1$ o argumento de $g(x)$, devemos ter que $f(x) > 0$. Assim,<br><br>\n",
    " $$f(x) > 0 \\Rightarrow 2^{x} - 1 > 0 \\Rightarrow 2^{x} > 1 \\Rightarrow 2^{x} > 2^{0} \\Rightarrow x >  0.$$<br>\n",
    " Portanto, $t(x)$ será contínua em $\\{x \\in \\mathbb{R}| x > 0\\}$.<br><br>\n",
    " *Recomendamos a observação dos gráficos das funções consideradas.*"
   ]
  },
  {
   "cell_type": "markdown",
   "id": "82ed473b",
   "metadata": {},
   "source": [
    "# <div style=\"margin-top: -20px;\">\n",
    "<hr style=\"border: 2px solid black;\">\n",
    "\n",
    "<font color='black'><span style=\"font-size: 22px;\"><strong>Exercícios Resolvidos</strong></span></font>\n",
    "\n",
    "<hr style=\"border: 2px solid black;\">\n",
    "</div>"
   ]
  },
  {
   "cell_type": "markdown",
   "id": "d50d6f49",
   "metadata": {},
   "source": [
    "#### Exercício Resolvido 1"
   ]
  },
  {
   "cell_type": "markdown",
   "id": "a103927b",
   "metadata": {},
   "source": [
    "Determine os pontos em que a função $f(x)$ é contínua.\n",
    "$$f(x) = \n",
    "\\begin{cases} \n",
    "    \\frac{x^2 - 1}{x + 1} & \\text{se } x \\neq -1, \\\\\n",
    "    -2 & \\text{se } x = -1.\n",
    "\\end{cases}$$"
   ]
  },
  {
   "cell_type": "markdown",
   "id": "add1713c",
   "metadata": {},
   "source": [
    "##### Solução"
   ]
  },
  {
   "cell_type": "markdown",
   "id": "b91f1c8c",
   "metadata": {},
   "source": [
    "Para $ = -1$, $f$ é contínua, pois $f$ é o quociente entre duas funções contínuas com denominador não nulo. Além disso, para $x \\neq -1$,\n",
    "\n",
    "$$f(x) = \\frac{x^2 - 1}{x + 1} = \\frac{(x - 1)(x + 1)}{x + 1} = x - 1,$$\n",
    "\n",
    "donde\n",
    "\n",
    "$$\\lim_{{x \\to -1}} f(x) = \\lim_{{x \\to -1}} (x - 1) = -2 = f(-1).$$\n",
    "\n",
    "Portanto, $f$ também é contínua em $x = -1$."
   ]
  },
  {
   "cell_type": "markdown",
   "id": "0aab3b8d",
   "metadata": {},
   "source": [
    "#### Exercício Resolvido 2"
   ]
  },
  {
   "cell_type": "markdown",
   "id": "1b80d96e",
   "metadata": {},
   "source": [
    "Para cada função representada na figura a seguir, obtenha os pontos de descontinuidade (se houver). Em cada ponto de descontinuidade, determine se a função é contínua pela direita ou pela esquerda (ou nenhum dos casos).\n",
    "\n",
    "<center> <img src=\"fig2-5.jpg\" alt=\"jpg_python\" width=\"800\" height=\"\"> </center>"
   ]
  },
  {
   "cell_type": "markdown",
   "id": "e43e601c",
   "metadata": {},
   "source": [
    "##### Solução"
   ]
  },
  {
   "cell_type": "markdown",
   "id": "2c3034bb",
   "metadata": {},
   "source": [
    "a) Não existem pontos de descontinuidade (não há quebras no gráfico).\n",
    "\n",
    "b) $0$ é o único ponto de descontinuidade, pois não existe $lim_{x \\to 0} f(x)$.\n",
    "\n",
    "c) $1$ é o único ponto de descontinuidade, pois não existe $lim_{x \\to 0} f(x)$.\n",
    "\n",
    "d) Sem pontos de descontinuidade.\n",
    "\n",
    "e) $0$ e $1$ são pontos de descontinuidade, pois não existem os limites $lim_{x \\to 0} f(x)$ e $lim_{x \\to 1} f(x)$."
   ]
  },
  {
   "cell_type": "markdown",
   "id": "63f88395",
   "metadata": {},
   "source": [
    "#### Exercício Resolvido 3"
   ]
  },
  {
   "cell_type": "markdown",
   "id": "c1e7453e",
   "metadata": {},
   "source": [
    "Para cada uma das seguintes funções, determine os pontos de descontinuidade (se existirem). Para cada ponto de descontinuidade, determine se é removível.\n",
    "\n",
    "a) $f(x) = \n",
    "    \\begin{cases} \n",
    "        x^2 & \\text{se } x > 0, \\\\\n",
    "        -x^2 & \\text{se } x < 0 \n",
    "    \\end{cases}$\n",
    "\n",
    "b) $g(x) = \\frac{x^2 - 1}{x - 1} \\text{ para } x \\neq 1$"
   ]
  },
  {
   "cell_type": "markdown",
   "id": "8666e111",
   "metadata": {},
   "source": [
    "##### Solução"
   ]
  },
  {
   "cell_type": "markdown",
   "id": "09398347",
   "metadata": {},
   "source": [
    "(a) Não existem pontos de descontinuidade [ver Fig. 1]. Em $x = 0$, $f(0) = 0$ e $lim_{{x \\to 0}} f(x) = 0$. Nos demais pontos $f$ é polinomial e por isso contínua.\n",
    "\n",
    "(b) A única descontinuidade ocorre em $x = 1$, uma vez que $g(1)$ não é definida [ver Fig. 2]. Essa descontinuidade é removível. Como\n",
    "$$\\frac{x^2 - 1}{x - 1} = \\frac{(x - 1)(x + 1)}{x - 1} = x + 1,$$\n",
    "então $lim_{{x \\to 1}} g(x) = lim_{{x \\to 1}} (x + 1) = 2$. Assim, se definimos o valor da função em $x = 1$ como sendo $2$, a função estendida é contínua em $x = 1$.\n",
    "\n",
    "<center> <img src=\"fig2-6.jpg\" alt=\"jpg_python\" width=\"600\" height=\"\"> </center>"
   ]
  },
  {
   "cell_type": "markdown",
   "id": "02c7d522",
   "metadata": {},
   "source": [
    "#### Exercício Resolvido 4"
   ]
  },
  {
   "cell_type": "markdown",
   "id": "54a31090",
   "metadata": {},
   "source": [
    "Para cada uma das seguintes funções, determine os pontos de continuidade:\n",
    "\n",
    "a) $j(x) = \\frac{1}{x^{2} - 1}$\n",
    "\n",
    "b) $k(x) = sen\\left(\\frac{1}{2-x}\\right)$\n",
    "\n",
    "c) $l(x) = \\frac{x-1}{2^{x} + 1}$\n",
    "\n",
    "d) $m(x) = log(x - 4)$\n",
    "\n",
    "e) $n(x) = 3^{\\frac{1}{x-2}}\\cdot cos(x)$\n",
    "\n",
    "f) $o(x) = \\sqrt{2^{x} - 2}$"
   ]
  },
  {
   "cell_type": "markdown",
   "id": "0d592875",
   "metadata": {},
   "source": [
    "##### Solução"
   ]
  },
  {
   "cell_type": "markdown",
   "id": "68217862",
   "metadata": {},
   "source": [
    "a) Note que $j(x)$ é formada por um quociente de funções contínuas $f(x) = 1$ e $g(x) = x^{2}-1$. Portanto, $j(x)$ será contínua em todo ponto tal que $g(x) = x^{2} - 1$ seja diferente de zero. Pois bem,\n",
    "\n",
    "$$g(x) \\neq 0 \\Rightarrow x^{2} - 1 \\neq 0 \\Rightarrow x^{2} \\neq 1 \\Rightarrow x \\neq \\pm 1.$$\n",
    "\n",
    "Portanto, $j(x)$ é contínuas em $\\mathbb{R} - \\{-1,1\\}$.\n",
    "\n",
    "b) Note que $k(x)$ é uma composição das funções $g(x) = sen(x)$ e $f(x) = \\frac{1}{2-x}$. Sendo $g(x)$ contínua em $\\mathbb{R}$ e $f(x)$ descontínua em $x = 2$ (pois um quociente não pode ter denominador nulo), temos que $K(x)$ é contínua em $\\mathbb{R} - \\{2\\}$.\n",
    "\n",
    "c) Note que $l(x)$ é formada por um quociente de funções contínuas $f(x) = x-1$ e $g(x) = 2^{x} + 1$. Portanto, $j(x)$ será contínua em todo ponto tal que $g(x) = 2^{x} + 1$ seja diferente de zero. Mas $g(x) = 2^{x} + 1$ é sempre positiva, isto é, nunca se anula. Portanto, $l(x)$ é contínua para todo $x \\in \\mathbb{R}$.\n",
    "\n",
    "d) Temos que a função $m(x)$ é uma composição das funções $g(x) = log(x)$ e $f(x) = x - 4$. Temos que $log(x)$ é contínua somente quando $x > 0$ e $f(x)$ é contínua para todo $x \\in \\mathbb{R}$. Mas o argumento de $g$ é $f(x) = x - 4$. Neste caso, devemos ter que $x - 4 > 0$ o que implica que $x > 4$. Portanto, $m(x)$ é contínua para todo $x > 4$.\n",
    "\n",
    "e) Temos que $n(x)$ é um produto de duas funções $g(x) = 3^{\\frac{1}{x-2}}$ e $f(x) = cos(x)$. Note que $f(x)$ é contínua para todo $x \\in \\mathbb{R}$. Por outro lado, $g(x)$ é uma composição das funções $3^{x}$ e $\\frac{1}{x-2}$. Sendo esta última contínua em $\\mathbb{R} - \\{2\\}$, temos que $n(x)$ é contínua em $\\mathbb{R} - \\{2\\}$.\n",
    "\n",
    "f) Temos que $o(x) = \\sqrt{2^{x} - 2}$ é uma composição das funções $g(x) = \\sqrt{x}$ e $f(x) = 2^{x} -2$. Note que $g(x)$ é contínua somente para $x > 0$. Por outro lado, $f(x)$ é contínua para todo $x$ real. Contudo, $f(x)$ é o argumento de $g(x)$. Neste caso, temos que $f(x)$ deve ser maior ou igual a zero. Assim,\n",
    "\n",
    "$$f(x) \\geq 0 \\Rightarrow 2^{x} - 2 \\geq 0 \\Rightarrow 2^{x} \\geq 2 \\Rightarrow 2^{x} \\geq 2^{1} \\Rightarrow x > 1.$$\n",
    "\n",
    "Portanto, $o(x)$ é contínua para todo $x > 1$."
   ]
  },
  {
   "cell_type": "markdown",
   "id": "9340e0b8",
   "metadata": {},
   "source": [
    "# <div style=\"margin-top: -20px;\">\n",
    "<hr style=\"border: 2px solid black;\">\n",
    "\n",
    "<font color='black'><span style=\"font-size: 22px;\"><strong>Exercícios</strong></span></font>\n",
    "\n",
    "<hr style=\"border: 2px solid black;\">\n",
    "</div>"
   ]
  },
  {
   "cell_type": "markdown",
   "id": "23a2c1cf",
   "metadata": {},
   "source": [
    "#### Exercício 1"
   ]
  },
  {
   "cell_type": "markdown",
   "id": "911969e5",
   "metadata": {},
   "source": [
    "Determine os pontos nos quais cada uma das seguintes funções é contínua.\n",
    "\n",
    "a) $ f(x) = \n",
    "\\begin{cases} \n",
    "x^2 & \\text{se } x \\leq 0 \\\\\n",
    "x & \\text{se } x > 0 \n",
    "\\end{cases} $\n",
    "\n",
    "b) $ f(x) = \n",
    "\\begin{cases} \n",
    "1 & \\text{se } x > 0 \\\\\n",
    "-1 & \\text{se } x < 0 \n",
    "\\end{cases} $\n",
    "\n",
    "c) $ f(x) = |x| $\n",
    "\n",
    "d) $ f(x) = \n",
    "\\begin{cases} \n",
    "\\frac{x^2 - 4}{x + 2} & \\text{se } x \\neq -2 \\\\\n",
    "x + 2 & \\text{se } x = -2 \n",
    "\\end{cases} $\n",
    "\n",
    "e) $ f(x) = \n",
    "\\begin{cases} \n",
    "\\frac{x^2 - 4}{x + 2} & \\text{se } x \\neq -2 \\\\\n",
    "-4 & \\text{se } x = -2 \n",
    "\\end{cases} $\n",
    "\n",
    "f) $ f(x) = \n",
    "\\begin{cases} \n",
    "x + 1 & \\text{se } x \\geq 2 \\\\\n",
    "x & \\text{se } 1 < x < 2 \\\\\n",
    "x-1 & \\text{se } x \\leq 1 \n",
    "\\end{cases} $\n"
   ]
  },
  {
   "cell_type": "markdown",
   "id": "803eb81a",
   "metadata": {},
   "source": [
    "##### Respostas"
   ]
  },
  {
   "cell_type": "markdown",
   "id": "5d64b575",
   "metadata": {},
   "source": [
    "a) Contínua em todos os pontos; b) contínua para $x \\neq 0$; c) contínua em todos os pontos; d) contínua para $x \\neq -2$; e) contínua em todos os pontos; f) contínua, exceto em $x = 1$ e $x = 2$."
   ]
  },
  {
   "cell_type": "markdown",
   "id": "7faffa81",
   "metadata": {},
   "source": [
    "#### Exercício 2"
   ]
  },
  {
   "cell_type": "markdown",
   "id": "afb94ff7",
   "metadata": {},
   "source": [
    "Determine os pontos de descontinuidade (se existirem) e apresente a continuidade lateral de tais pontos para cada uma das funções cujos gráficos são mostrados na figura a seguir:\n",
    "\n",
    "<center> <img src=\"fig2-7.jpg\" alt=\"jpg_python\" width=\"700\" height=\"\"> </center>"
   ]
  },
  {
   "cell_type": "markdown",
   "id": "c7aaae61",
   "metadata": {},
   "source": [
    "##### Respostas"
   ]
  },
  {
   "cell_type": "markdown",
   "id": "2850e532",
   "metadata": {},
   "source": [
    "a) Contínua à direita mas não à esquerda em $x = 0$; b) descontínua tanto pela esquerda quanto pela direita em $x = 0$, $x = 1$, $x = 2$ e $x = 3$; c) sem pontos de descontinuidade; d) contínua pela esquerda mas não pela direita em $x = -3$ e $x = 2$."
   ]
  },
  {
   "cell_type": "markdown",
   "id": "cc20adf3",
   "metadata": {},
   "source": [
    "#### Exercício 3"
   ]
  },
  {
   "cell_type": "markdown",
   "id": "65b0fb47",
   "metadata": {},
   "source": [
    "Seja $f$ definida pela fórmula $f(x) = \\frac{3x + 3}{x^2 - 3x - 4}$.\n",
    "\n",
    "(a) Obtenha os argumentos $x$ em que $f$ é descontínua.\n",
    "\n",
    "(b) Para cada número $a$ no qual $f$ é descontínua, determine se $lim_{x \\to a} f(x)$ existe. Se existe, encontre seu valor.\n",
    "\n",
    "(c) Escreva uma equação para cada assíntota vertical e horizontal do gráfico de $f$."
   ]
  },
  {
   "cell_type": "markdown",
   "id": "69fd7318",
   "metadata": {},
   "source": [
    "##### Respostas"
   ]
  },
  {
   "cell_type": "markdown",
   "id": "408e3ee5",
   "metadata": {},
   "source": [
    "a) $x = 4$, $x = -1$, b) $lim_{x \\to 4} f(x)$ não existe, $lim_{x \\to -1} f(x) = -\\frac{3}{5}$, c) $x = 4$ (assíntota vertical), $y = 0$ (assíntota horizontal)"
   ]
  },
  {
   "cell_type": "markdown",
   "id": "2f734086",
   "metadata": {},
   "source": [
    "#### Exercício 4"
   ]
  },
  {
   "cell_type": "markdown",
   "id": "137ca888",
   "metadata": {},
   "source": [
    "Seja $f(x) = x + \\frac{1}{x}$ para $x \\neq 0$.\n",
    "\n",
    "(a) Obtenha os pontos de descontinuidade de $f$.\n",
    "\n",
    "(b) Determine todas as assíntotas verticais e horizontais do gráfico de $f$."
   ]
  },
  {
   "cell_type": "markdown",
   "id": "348dea36",
   "metadata": {},
   "source": [
    "##### Respostas"
   ]
  },
  {
   "cell_type": "markdown",
   "id": "14c2c4a4",
   "metadata": {},
   "source": [
    "a) $x = 0$, b) $x = 0$ (assíntota vertical), sem assíntota horizontal."
   ]
  },
  {
   "cell_type": "markdown",
   "id": "d21bf20b",
   "metadata": {},
   "source": [
    "#### Exercício 5"
   ]
  },
  {
   "cell_type": "markdown",
   "id": "2193f490",
   "metadata": {},
   "source": [
    "Se a função $f(x)$ é definida pela fórmula\n",
    "\n",
    "$$f(x) = \n",
    "\\begin{cases} \n",
    "\\frac{x^2 - 16}{x - 4}, & \\text{se } x \\neq 4 \\\\\n",
    "c, & \\text{se } x = 4\n",
    "\\end{cases}$$\n",
    "\n",
    "e é contínua, qual é o valor de $c$?"
   ]
  },
  {
   "cell_type": "markdown",
   "id": "fda8e787",
   "metadata": {},
   "source": [
    "##### Respostas"
   ]
  },
  {
   "cell_type": "markdown",
   "id": "5603dcb1",
   "metadata": {},
   "source": [
    "$c = 8$"
   ]
  },
  {
   "cell_type": "markdown",
   "id": "59e3c1c1",
   "metadata": {},
   "source": [
    "#### Exercício 6"
   ]
  },
  {
   "cell_type": "markdown",
   "id": "af0f8552",
   "metadata": {},
   "source": [
    "Seja $b \\neq 0$ e seja $g$ a função tal que\n",
    "\n",
    "$$g(x) = \n",
    "\\begin{cases} \n",
    "\\frac{x^2 - b^2}{x - b}, & \\text{se } x \\neq b \\\\\n",
    "0, & \\text{se } x = b\n",
    "\\end{cases}$$\n",
    "\n",
    "(a) $g(b)$ existe?\n",
    "\n",
    "(b) $lim_{x \\to b} g(x)$ existe?\n",
    "\n",
    "(c) $g$ é contínua em $b$?"
   ]
  },
  {
   "cell_type": "markdown",
   "id": "c2ee0467",
   "metadata": {},
   "source": [
    "##### Respostas"
   ]
  },
  {
   "cell_type": "markdown",
   "id": "be58be2a",
   "metadata": {},
   "source": [
    "a) Sim, b) sim, c) não"
   ]
  },
  {
   "cell_type": "markdown",
   "id": "09e6892d",
   "metadata": {},
   "source": [
    "#### Exercício 7"
   ]
  },
  {
   "cell_type": "markdown",
   "id": "9bc055c0",
   "metadata": {},
   "source": [
    "Para cada uma das seguintes funções, determine os pontos de continuidade:\n",
    "\n",
    "a) $j(x) = \\frac{1}{3 - x}$\n",
    "\n",
    "b) $k(x) = sen\\left(\\frac{x+1}{x^{2} - 2}\\right)$\n",
    "\n",
    "c) $l(x) = \\frac{x-1}{3^{x} - 9}$\n",
    "\n",
    "d) $m(x) = log(3 - 2x)$\n",
    "\n",
    "e) $n(x) = \\frac{x}{sen(x)+2}$\n",
    "\n",
    "f) $o(x) = \\sqrt[3]{2^{x} + 1}$\n",
    "\n",
    "g) $p(x) = \\frac{1}{x-1} + \\frac{2}{2^{x} - 1}$"
   ]
  },
  {
   "cell_type": "markdown",
   "id": "874a7b42",
   "metadata": {},
   "source": [
    "##### Respostas"
   ]
  },
  {
   "cell_type": "markdown",
   "id": "adfb1f0d",
   "metadata": {},
   "source": [
    "a) $x \\in \\mathbb{R} - \\{3\\}$, b) $x \\in \\mathbb{R} - \\left\\{-\\sqrt{2},\\sqrt{2}\\right\\}$, c) $x \\in \\mathbb{R} - \\{2\\}$, d) $x < \\frac{3}{2}$, e) $\\mathbb{R}$ (sem pontos de descontinuidade), f) $\\mathbb{R}$ (sem pontos de descontinuidade), g) $x \\in \\mathbb{R} - \\{0,1\\}$."
   ]
  },
  {
   "cell_type": "markdown",
   "id": "dfa764f1",
   "metadata": {},
   "source": [
    "# <div style=\"margin-top: -20px;\">\n",
    "<hr style=\"border: 2px solid black;\">\n",
    "\n",
    "<font color='black'><span style=\"font-size: 22px;\"><strong>Vídeo Aulas</strong> </span></font>\n",
    "\n",
    "<hr style=\"border: 2px solid black;\">\n",
    "</div>"
   ]
  },
  {
   "cell_type": "markdown",
   "id": "124a06e2",
   "metadata": {},
   "source": [
    "[Definição de Continuidade](https://youtu.be/jH0JD0yCGkg)\n",
    "\n",
    "[Exemplos Envolvendo Funções Descontinuas](https://youtu.be/-qKOsHfsAIs)\n",
    "\n",
    "[Funções Importantes e Continuidade](https://youtu.be/OVIi8l1AsPw)\n",
    "\n",
    "[Tipos de Descontinuidade e Continuidade Lateral](https://youtu.be/-CHu-dhjK4U)\n",
    "\n",
    "[Construindo Funções Continuas - Parte 1](https://youtu.be/TpG2ck3gfPw)\n",
    "\n",
    "[Construindo Funções Continuas - Parte 2](https://youtu.be/E1DyXqZQZ1I)"
   ]
  }
 ],
 "metadata": {
  "kernelspec": {
   "display_name": "Python 3 (ipykernel)",
   "language": "python",
   "name": "python3"
  },
  "language_info": {
   "codemirror_mode": {
    "name": "ipython",
    "version": 3
   },
   "file_extension": ".py",
   "mimetype": "text/x-python",
   "name": "python",
   "nbconvert_exporter": "python",
   "pygments_lexer": "ipython3",
   "version": "3.11.5"
  },
  "varInspector": {
   "cols": {
    "lenName": 16,
    "lenType": 16,
    "lenVar": 40
   },
   "kernels_config": {
    "python": {
     "delete_cmd_postfix": "",
     "delete_cmd_prefix": "del ",
     "library": "var_list.py",
     "varRefreshCmd": "print(var_dic_list())"
    },
    "r": {
     "delete_cmd_postfix": ") ",
     "delete_cmd_prefix": "rm(",
     "library": "var_list.r",
     "varRefreshCmd": "cat(var_dic_list()) "
    }
   },
   "types_to_exclude": [
    "module",
    "function",
    "builtin_function_or_method",
    "instance",
    "_Feature"
   ],
   "window_display": false
  }
 },
 "nbformat": 4,
 "nbformat_minor": 5
}
