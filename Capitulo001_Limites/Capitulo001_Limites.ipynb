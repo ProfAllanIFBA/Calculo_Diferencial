{
 "cells": [
  {
   "cell_type": "markdown",
   "id": "d4ea28a8",
   "metadata": {
    "slideshow": {
     "slide_type": "slide"
    }
   },
   "source": [
    "<center> <img src=\"logo_ifba.jpg\" alt=\"jpg_python\" width=\"100\" height=\"200\"> </center>\n",
    "<br><br>\n",
    "<div align=\"center\"><span style=\"font-size: 26px;\"><strong>Cálculo Diferencial Aplicado à Computação <br></strong></span></div> <br>\n",
    "<center> <img src=\"python_gif.gif\" alt=\"gif_python\" width=\"80\"> </center>"
   ]
  },
  {
   "cell_type": "markdown",
   "id": "d76184a7",
   "metadata": {
    "slideshow": {
     "slide_type": "slide"
    }
   },
   "source": [
    "<div style=\"border: 2px solid black; padding: 10px; width: 95%; background-color: lightgray; display: flex; align-items: center;\">\n",
    "    <h1 style=\"color: red; text-align: center; margin: auto;\">\n",
    "        Capítulo 1: Limites\n",
    "    </h1>\n",
    "</div>\n",
    "\n",
    "<font color='red'></font>\n",
    "<a href=\"\"></a>"
   ]
  },
  {
   "cell_type": "markdown",
   "id": "1844c7cb",
   "metadata": {},
   "source": [
    "Em grande parte, cálculo é o estudo das taxas nas quais quantidades mudam. Será necessário ver como o valor $f(x)$ de uma função $f$ se comporta quando o argumento $x$ se aproxima de um dado número. Isso nos conduzirá à ideia de limite."
   ]
  },
  {
   "cell_type": "markdown",
   "id": "0833810f",
   "metadata": {},
   "source": [
    "# <div style=\"margin-top: -20px;\">\n",
    "<hr style=\"border: 2px solid black;\">\n",
    "\n",
    "<font color='black'><span style=\"font-size: 22px;\"><strong>1.1 Exemplos Iniciais</strong></span></font>\n",
    "\n",
    "<hr style=\"border: 2px solid black;\">\n",
    "</div>"
   ]
  },
  {
   "cell_type": "markdown",
   "id": "e346ee91",
   "metadata": {},
   "source": [
    "####  <font color='blue'> Exemplo 1 </font>"
   ]
  },
  {
   "cell_type": "markdown",
   "id": "205e7be5",
   "metadata": {},
   "source": [
    "<font color='blue'> Consideremos a função $f(x) = 2x + 1$. Note que esta função é bem definida para todo $x \\in \\mathbb{R}$. Por exemplo, o que acontece com o valor de $f(x)$ quando $x$ se aproxima de $3$. As tabelas a seguir nos apresentarão um \"caminho\" para a resposta.<br><br>\n",
    " $$\\begin{array}{c|cccc|c} \n",
    "x^{-}\t&  f(x) & & & x^{+} & f(x)\\\\\n",
    "2.5\t&  6.0 & & & 3.5 & 8\\\\\n",
    "2.7\t&  6.4 & & & 3.3 & 7.6\\\\\n",
    "2.9\t&  6.8 & & & 3.1 & 7.2\\\\\n",
    "2.99\t& 6.98 & & & 3.01 & 7.02 \\\\\n",
    "2.999\t& 6.998 & & & 3.001 & 7.002 \\\\\n",
    "\\vdots\t& \\vdots & & & \\vdots & \\vdots \\\\\n",
    "\\end{array}$$<br>\n",
    "    Note que, tanto aproximando-se de $3$ pela esquerda ($x^{-}$) quanto pela direita ($x^{+}$) percebemos que $f(x)$ se aproxima de $7$. Para esta função em particular podemos simplesmente substituir o valor $x = 3$ em $f(x)$, isto é, $f(3) = 2\\cdot 3 + 1 = 7$."
   ]
  },
  {
   "cell_type": "markdown",
   "id": "55309f39",
   "metadata": {},
   "source": [
    "A função $f(x) = 2x + 1$ goza de uma propriedade especial para todo valor real, a **continuidade** que trataremos logo mais. Por outro lado, devemos ter mais cautela no próximo exemplo."
   ]
  },
  {
   "cell_type": "markdown",
   "id": "20a85888",
   "metadata": {},
   "source": [
    "####  <font color='blue'> Exemplo 2 </font>"
   ]
  },
  {
   "cell_type": "markdown",
   "id": "691d27a9",
   "metadata": {},
   "source": [
    "<font color='blue'> Consideremos a função $g(x) = \\frac{x^{2}-9}{x-3}$. Note que esta função é bem definida para todo $x \\in \\mathbb{R} - \\{3\\}$<font color='red'>$^{[1]}$</font>. Por exemplo, o que acontece com o valor de $g(x)$ quando $x$ se aproxima de $3$. Pois bem, analisemos a tabela a seguir:<br><br>\n",
    " $$\\begin{array}{c|cccc|c} \n",
    "x^{-}\t&  f(x) & & & x^{+} & f(x)\\\\\n",
    "2.5\t&  5.5 & & & 3.5 & 6.5\\\\\n",
    "2.7\t&  5.7 & & & 3.3 & 6.3\\\\\n",
    "2.9\t&  5.9 & & & 3.1 & 6.1\\\\\n",
    "2.99\t& 5.99 & & & 3.01 & 6.01 \\\\\n",
    "2.999\t& 5.999 & & & 3.001 & 6.001 \\\\\n",
    "\\vdots\t& \\vdots & & & \\vdots & \\vdots \\\\\n",
    "\\end{array}$$<br>\n",
    "    Note que, tanto aproximando-se de $3$ pela esquerda ($x^{-}$) quanto pela direita ($x^{+}$) percebemos que $g(x)$ se aproxima de $6$.  Note que, a substituição de $x = 3$ acarreta em um valor \"estranho\" $g(3) = \\frac{3^{2} - 9}{3-3} = \\frac{0}{0}$ que chamaremos de **indeterminação**. Uma forma de contornarmos a indeterminação seria observarmos que é possível obter uma função $\\overline{g}(x)$ \"parecida\" (mas não igual) com $g(x)$ cancelando a indeterminação:<br><br>\n",
    " $$\\overline{g}(x) = \\frac{x^{2}-9}{x-3} = \\frac{(x-3)(x+3)}{x-3} = x + 3 \\Rightarrow \\overline{g}(3) = 3 + 3 = 6,$$<br>\n",
    " de tal sorte que este último valor corresponde à aproximação de $f(x)$ quando $x$ tende a $3$."
   ]
  },
  {
   "cell_type": "markdown",
   "id": "867df8c6",
   "metadata": {},
   "source": [
    "<font size = 1> *<font color='red'>$^{[1]}$ Em um dos vídeos foi mencionado que a função $g(x) = \\frac{x^{2}-9}{x-3}$ tem domínio dado por $\\mathbb{R} - \\{-3,3\\}$ quando o correto é $\\mathbb{R} - \\{3\\}$. Note que, para $x = -3$ a função apresenta saída $f(-3) = \\frac{(-3)^{2}-9}{-3-3} = \\frac{9-9}{-3-3} = \\frac{0}{-6} = 0$ (zero) o que é perfeitamente normal e dentro do domínio de $g(x)$. Infelizmente só pude notar o erro após gravar alguns vídeos. Então, caso veja a incorreção<br><br>\n",
    " <center> <img src=\"fig1-x.jpg\" alt=\"jpg_python\" width=\"700\" height=\"\"> </center><br>\n",
    "    ignore uma vez que não mencionamos o valor $-3$ em nenhum outro momento.*</font></font>"
   ]
  },
  {
   "cell_type": "markdown",
   "id": "b3d7cf5a",
   "metadata": {},
   "source": [
    "#### Função STO da Calculadora Científica"
   ]
  },
  {
   "cell_type": "markdown",
   "id": "6b0bcd01",
   "metadata": {},
   "source": [
    "Note que, na estimativa de limites, no **Exemplos 1** e **2**, aplicamos diversos valores a uma mesma função. Um recurso bastante útil, em diversas calculadoras científicas é a função STO (Estocar). Recomendamos que assista ao vídeo a seguir para: [Usando a Função STO (Estocar) da Calculadora Casio FX82ES](https://youtu.be/W_xmyArfD4Q?si=hsJp_NukSGJ5qfvO)\n",
    "\n",
    "*O procedimento para outras calculadoras é, de modo geral, bastante semelhante. Consulte o manual da mesma*."
   ]
  },
  {
   "cell_type": "markdown",
   "id": "3316b556",
   "metadata": {},
   "source": [
    "#### No PC 1"
   ]
  },
  {
   "cell_type": "markdown",
   "id": "5b1da88e",
   "metadata": {},
   "source": [
    "Os valores apresentados na tabela acima podem ser obtidos tanto via calculadora científica (instrumento permitido nas avalialções presenciais) com aqui no ambiente Jupyter/Colab (isntrumento permitido nas avaliações para casa). A célula de código a seguir apresenta uma forma de obter tais valores:"
   ]
  },
  {
   "cell_type": "code",
   "execution_count": null,
   "id": "4b499593",
   "metadata": {
    "ExecuteTime": {
     "end_time": "2024-02-08T01:38:32.033862Z",
     "start_time": "2024-02-08T01:38:32.024377Z"
    },
    "code_folding": []
   },
   "outputs": [],
   "source": [
    "# Definindo a função (ambas f(x) e g(x) serão tratadas como f(x) em 'def f(x):')\n",
    "def f(x):\n",
    "    return 2*x + 1\n",
    "    # mude 2*x + 1 por (x**2-9)/(x-3) para considerar g(x)\n",
    "\n",
    "# Lista de valores inferiores\n",
    "lista1 = [2.5, 2.7, 2.9, 2.99, 2.999]\n",
    "# mude para [2.5, 2.7, 2.9, 2.99, 2.999] se estiver considerando g(x)\n",
    "\n",
    "# Lista de valores superiores\n",
    "lista2 = [3.5, 3.3, 3.1, 3.01, 3.001]\n",
    "# mude par [3.5, 3.3, 3.1, 3.01, 3.001] se esitiver considerando g(x)\n",
    "\n",
    "for x in lista1: # mude lista1 por lista2\n",
    "    print(f(x))"
   ]
  },
  {
   "cell_type": "markdown",
   "id": "7b877412",
   "metadata": {},
   "source": [
    "##### Observação 1"
   ]
  },
  {
   "cell_type": "markdown",
   "id": "b53f51d5",
   "metadata": {},
   "source": [
    "Ao considerar $g(x) = \\frac{x^{2}-9}{x-3}$ você deve ter notado valores aproximados aqui neste ambiente, por exemplo, $g(2.9) = 5.899999999999993$ e não $5.9$ (calculadora comum). Tais erros são gerados em algumas operações matemáticas. Pode-se tentar resolver isto arredondando-se a resposta para, digamos, $6$ casas decimais com a função round():"
   ]
  },
  {
   "cell_type": "code",
   "execution_count": null,
   "id": "8474d665",
   "metadata": {
    "ExecuteTime": {
     "end_time": "2024-02-08T01:38:32.041506Z",
     "start_time": "2024-02-08T01:38:32.035860Z"
    }
   },
   "outputs": [],
   "source": [
    "# Definindo a funcao (ambas f e g serão tratadas como f)\n",
    "def f(x):\n",
    "    return (x**2-9)/(x-3)\n",
    "\n",
    "# Lista de valores inferiores\n",
    "lista1 = [2.5, 2.7, 2.9, 2.99, 2.999]\n",
    "\n",
    "# Lista de valores superiores\n",
    "lista2 = [3.5, 3.3, 3.1, 3.01, 3.001]\n",
    "\n",
    "for x in lista1: # mude lista1 por lista2\n",
    "    print(round(f(x),6))"
   ]
  },
  {
   "cell_type": "markdown",
   "id": "27df7edc",
   "metadata": {},
   "source": [
    "# <div style=\"margin-top: -20px;\">\n",
    "<hr style=\"border: 2px solid black;\">\n",
    "\n",
    "<font color='black'><span style=\"font-size: 22px;\"><strong>1.2 Notação de Limite e Propriedades Básicas</strong></span></font>\n",
    "\n",
    "<hr style=\"border: 2px solid black;\">\n",
    "</div>"
   ]
  },
  {
   "cell_type": "markdown",
   "id": "fb33ebff",
   "metadata": {},
   "source": [
    "####  <font color='red'> Definição 1 </font>"
   ]
  },
  {
   "cell_type": "markdown",
   "id": "a1ef5b7a",
   "metadata": {},
   "source": [
    "<font color='red'> Suponha que $f(x)$ seja definida quando $x$ está próximo ao número $a$. Então escrevemos<br><br>\n",
    " $$lim_{x \\rightarrow a} f(x) = L, \\ \\ \\ (L \\ finito)$$<br>\n",
    " e dizemos \"o limite de $f(x)$, quando $x$ tende a $a$, é igual a $L$\" se pudermos tornar os valores de $f(x)$ arbitrariamente próximos de $L$ (tanto quanto queiramos), tomando $x$ suficientemente próximos de $a$ (por ambos lados), mas não igual a $a$."
   ]
  },
  {
   "cell_type": "markdown",
   "id": "512c1c50",
   "metadata": {},
   "source": [
    "####  <font color='blue'> Exemplo 3 </font>"
   ]
  },
  {
   "cell_type": "markdown",
   "id": "48718650",
   "metadata": {},
   "source": [
    "<font color='blue'> Considerando os **Exemplos 1** e **2**, temos que<br><br>\n",
    " $$lim_{x \\rightarrow 3} 2x + 1 = 7 \\ \\ \\ \\ \\ e \\ \\ \\ \\ \\ lim_{x \\rightarrow 3} \\frac{x^{2}-9}{x-3} = 6.$$"
   ]
  },
  {
   "cell_type": "markdown",
   "id": "44967916",
   "metadata": {},
   "source": [
    "Apresentaremos a seguir algumas propriedades sobre limites:"
   ]
  },
  {
   "cell_type": "markdown",
   "id": "02841cf6",
   "metadata": {},
   "source": [
    "####  <font color='red'> Teorema 1 (Parte 1)</font>"
   ]
  },
  {
   "cell_type": "markdown",
   "id": "46efbe82",
   "metadata": {},
   "source": [
    "<font color='red'> 1. $lim_{x \\rightarrow a} x = a$<br><br>\n",
    "    2. $lim_{x \\rightarrow a} c = c$, $c$ constante<br><br>\n",
    "    3. $lim_{x \\rightarrow a} c\\cdot f(x) = c\\cdot lim_{x \\rightarrow a} f(x) $"
   ]
  },
  {
   "cell_type": "markdown",
   "id": "9d5b451c",
   "metadata": {},
   "source": [
    "####  <font color='blue'> Exemplo 4 </font>"
   ]
  },
  {
   "cell_type": "markdown",
   "id": "a42c3023",
   "metadata": {},
   "source": [
    "<font color='blue'> Determine os limites a seguir usando algumas das propriedades listadas no **Teorema 1**:<br><br>\n",
    " a) $lim_{x \\rightarrow 2} x$<br><br>\n",
    " b) $lim_{x \\rightarrow 3} 4$<br><br>\n",
    " c) $lim_{x \\rightarrow -1} 5x$"
   ]
  },
  {
   "cell_type": "markdown",
   "id": "7108de0f",
   "metadata": {},
   "source": [
    "#####  <font color='blue'> Solução </font>"
   ]
  },
  {
   "cell_type": "markdown",
   "id": "c0774ad5",
   "metadata": {},
   "source": [
    "<font color='blue'> a) Temos que $f(x) = x$ (função identidade). Neste caso, pela propriedade **1** do **Teorema 1**:<br><br>\n",
    "    $$lim_{x \\rightarrow 2} x = 2.$$<br><br>\n",
    "    b) Temos que $f(x) = 4$ é uma função constante. Neste caso, pela propriedade **2** do **Teorema 1**:<br><br>\n",
    "  $$lim_{x \\rightarrow 3} 4 = 4.$$<br><br>\n",
    "    c) Para $f(x) = 5x$ podemos aplicar as propriedades **3** e **1** do **Teorema 1**:<br><br>\n",
    "  $$lim_{x \\rightarrow -1} 5x = 5 \\cdot lim_{x \\rightarrow -1} x = 5 \\cdot(-1) = -5$$"
   ]
  },
  {
   "cell_type": "markdown",
   "id": "d5e63a8e",
   "metadata": {},
   "source": [
    "Apresentamos a seguir mais algumas propriedades referentes ao **Teorema 1** a serem utilizadas para o cálculo de limites considerando a combinação de duas ou mais funções por meio de somas, produtos, quocientes e potências."
   ]
  },
  {
   "cell_type": "markdown",
   "id": "25af20f6",
   "metadata": {},
   "source": [
    "####  <font color='red'> Teorema 1 (Parte 2) </font>"
   ]
  },
  {
   "cell_type": "markdown",
   "id": "02ef06c8",
   "metadata": {},
   "source": [
    "<font color='red'> Se $f$ e $g$ são funções:<br><br>\n",
    "    4. $lim_{x \\rightarrow a} (f(x) \\pm g(x)) = lim_{x \\rightarrow a} f(x) \\pm lim_{x \\rightarrow a} g(x)$<br><br>\n",
    "    5.  $lim_{x \\rightarrow a} (f(x) \\cdot g(x)) = lim_{x \\rightarrow a} f(x) \\cdot lim_{x \\rightarrow a} g(x)$<br><br>\n",
    "    6. $lim_{x \\rightarrow a} \\frac{f(x)}{g(x)} = \\frac{lim_{x \\rightarrow a} f(x)}{lim_{x \\rightarrow a} g(x)}$, desde que $lim_{x \\rightarrow a} g(x) \\neq 0$<br><br>\n",
    "        7. $lim_{x \\rightarrow a} [f(x)]^{k} = \\left[lim_{x \\rightarrow a} f(x)\\right]^{k}$, $k$ racional<br><br>\n",
    "    *$k$ é dito racional se pode ser escrito na forma $k = \\frac{p}{q}$, $p, q \\in \\mathbb{Z}, q \\neq 0$*"
   ]
  },
  {
   "cell_type": "markdown",
   "id": "633e6146",
   "metadata": {},
   "source": [
    "####  <font color='blue'> Exemplo 5 </font>"
   ]
  },
  {
   "cell_type": "markdown",
   "id": "15befb4e",
   "metadata": {},
   "source": [
    "<font color='blue'> Determine os limites a seguir usando algumas das propriedades listadas no **Teorema 1**:<br><br>\n",
    " a) $lim_{x \\rightarrow 3} 2x + 1$<br><br>\n",
    " b) $lim_{x \\rightarrow 1} 3x^{2} - 5x$<br><br>\n",
    " c) $lim_{x \\rightarrow 2} \\frac{2x^{3}-1}{x^{2} \\ - \\ 5}$<br><br>\n",
    " d) $lim_{x \\rightarrow 2} \\sqrt{x^{2}+5}$<br><br>\n",
    " *Observação que $\\sqrt{x^{2}+5} = (x^{2}+5)^{\\frac{1}{2}}$*"
   ]
  },
  {
   "cell_type": "markdown",
   "id": "5592e8c5",
   "metadata": {},
   "source": [
    "#####  <font color='blue'> Solução </font>"
   ]
  },
  {
   "cell_type": "markdown",
   "id": "ebb44e09",
   "metadata": {},
   "source": [
    "<font color='blue'> a) Temos que<br><br>\n",
    " $$lim_{x \\rightarrow 3} 2x + 1 = lim_{x \\rightarrow 3} 2x + lim_{x \\rightarrow 3} 1 = 2lim_{x \\rightarrow 3} x + 1 = 2\\cdot3 + 1 = 7$$<br>    \n",
    "    b) Temos que<br><br>\n",
    " $$lim_{x \\rightarrow 1} 3x^{2} - 5x = lim_{x \\rightarrow 1} 3x^{2} - lim_{x \\rightarrow 1} 5x = 3\\cdot lim_{x \\rightarrow 1} x^{2} - 5\\cdot lim_{x \\rightarrow 1} x = $$<br>\n",
    " $$3\\cdot \\left(lim_{x \\rightarrow 1}x \\right)^{2} - 5\\cdot lim_{x \\rightarrow 1} x = 3(1)^{2} - 5\\cdot1 = -2$$<br><br>\n",
    "    c) Temos que<br><br>\n",
    " $$lim_{x \\rightarrow 2} \\frac{2x^{3}-1}{x^{2} - 5} = \\frac{lim_{x \\rightarrow 2} 2x^{3}-1}{lim_{x \\rightarrow 2} x^{2} - 5} = \\frac{2(2)^{3} -1}{(2)^2 - 5} = \\frac{15}{-1} = -15$$<br><br>\n",
    "    d) Temos que<br><br>\n",
    " $$lim_{x \\rightarrow 2} \\sqrt{x^{2}+5} = \\sqrt{lim_{x \\rightarrow 2} x^{2}+5} = \\sqrt{\\left(lim_{x \\rightarrow 2} x\\right)^{2}+5} = \\sqrt{(2)^{2} + 5} = \\sqrt{9} = 3 $$"
   ]
  },
  {
   "cell_type": "markdown",
   "id": "96b0e6de",
   "metadata": {},
   "source": [
    "####  <font color='blue'> Exemplo 6 </font>"
   ]
  },
  {
   "cell_type": "markdown",
   "id": "d7263193",
   "metadata": {},
   "source": [
    "<font color='blue'> Calcule os seguintes limites removendo as indeterminações:<br><br>\n",
    "    a) $lim_{x \\rightarrow 2} \\frac{x^{2} - 4}{x - 2}$<br><br>\n",
    "    b) $lim_{x \\rightarrow -1} \\frac{x + 1}{x^{3} + 1}$<br><br>\n",
    "    c) $lim_{x \\rightarrow 4} \\frac{x-4}{\\sqrt{x}-2}$<br><br>"
   ]
  },
  {
   "cell_type": "markdown",
   "id": "a1d85cf1",
   "metadata": {},
   "source": [
    "#####  <font color='blue'> Solução </font>"
   ]
  },
  {
   "cell_type": "markdown",
   "id": "7d28c4e5",
   "metadata": {},
   "source": [
    "<font color='blue'> a) Note que $\\frac{2^{2}-4}{2-2} = \\frac{0}{0}$ o que indica que o limite em questão nos conduzirá, inicialmente, a uma indeterminação da forma $\\frac{0}{0}$. Podemos remover esta indeterminação usando divisão de polinômios:<br><br>\n",
    "    <center> <img src=\"fig1-2.jpg\" alt=\"jpg_python\" width=\"130\" height=\"\"> </center><br>\n",
    "    Sabe-se, da divisão de polinômios que $D(x):d(x) = d(x)q(x) + r(x)$. Sendo $D(x) = x^{2} - 4$, $d(x) = x - 2$ temos que $q(x) = x + 2$ e $r(x) = 0$ (divisão exata). Neste caso,<br><br>\n",
    "    $$\\frac{x^{2} - 4}{x-2} = \\frac{(x-2)(x+2) + 0}{x-2} = \\frac{(x-2)(x+2)}{x-2} = x + 2$$<br>\n",
    "    Assim,\n",
    "    $$lim_{x \\to 2} \\frac{x^{2}-4}{x-2} = lim_{x \\to 2} x + 2 = 2 + 2 = 4$$<br>\n",
    "    b) Note que $\\frac{-1 + 1}{(-1)^{3} + 1} = \\frac{0}{0}$ o que indica que o limite em questão nos conduzirá, inicialmente, a uma indeterminação da forma $\\frac{0}{0}$. Podemos remover esta indeterminação usando divisão de polinômios:<br><br>\n",
    "    <center> <img src=\"fig1-3.jpg\" alt=\"jpg_python\" width=\"150\" height=\"\"> </center><br>\n",
    "    Sendo $D(x) = x^{3}$, $d(x) = x + 1$ temos que $q(x) = x^{2} - x + 1$ e $r(x) = 0$ (divisão exata). Neste caso,<br><br>\n",
    "    $$\\frac{x+1}{x^{3} + 1} = \\frac{x+1}{(x+1)(x^{2}-x+1) + 0} = \\frac{x+1}{(x+1)(x^{2}-x+1)} = \\frac{1}{x^{2}-x+1}$$<br>\n",
    "    Assim,\n",
    "    $$lim_{x \\to -1} \\frac{x+1}{x^{3} + 1} = lim_{x \\to -1} \\frac{1}{x^{2}-x+1} = \\frac{1}{(-1)^{2} - (-1) + 1} = \\frac{1}{3}$$<br>\n",
    "    c) Note que $\\frac{4 - 4}{\\sqrt{4} - 2} = \\frac{0}{0}$ o que indica que o limite em questão nos conduzirá, inicialmente, a uma indeterminação da forma $\\frac{0}{0}$. Podemos remover esta indeterminação multiplicando o numerador e o denominador do quociente original por $\\sqrt{x} + 2$. Pois bem,\n",
    "    $$\\frac{x-4}{\\sqrt{x}-2} = \\frac{x-4}{\\sqrt{x}-2}\\frac{\\sqrt{x} + 2}{\\sqrt{x} + 2} = \\frac{(x-4)\\left(\\sqrt{x} + 2\\right)}{\\left(\\sqrt{x}-2\\right)\\left(\\sqrt{x} + 2\\right)} = \\frac{\\left(x-4\\right)\\left(\\sqrt{x} + 2\\right)}{x - 4} =  \\sqrt{x} + 2$$<br>\n",
    "    Assim,\n",
    "    $$lim_{x \\to 2} \\frac{x-4}{\\sqrt{x}-2} = lim_{x \\to 2} \\sqrt{x} + 2 = \\sqrt{4} + 2 = 2 + 2 = 4.$$"
   ]
  },
  {
   "cell_type": "markdown",
   "id": "10381312",
   "metadata": {},
   "source": [
    "##### Observação 2 "
   ]
  },
  {
   "cell_type": "markdown",
   "id": "3d0f7c7a",
   "metadata": {},
   "source": [
    "As fatorações a seguir são bastante úteis para o cálculo de limites:\n",
    "\n",
    "i) $a^{2} - b^{2} = (a-b)(a+b)$\n",
    "\n",
    "ii) $a^{2} + 2ab + b^{2} = (a+b)^{2}$\n",
    "\n",
    "iii) $a^{2} - 2ab + b^{2} = (a-b)^{2}$\n",
    "\n",
    "iv) $ax^{2} + bx + c = a(x-x')(x-x'')$ em que $x'$ e $x''$ são raízes da equação $ax^{2} + bx + c = 0$\n",
    "\n",
    "v) $a^{3} + b^{3} = (a+b)(a^{2} - ab + b)$\n",
    "\n",
    "vi) $a^{3} - b^{3} = (a-b)(a^{2} + ab + b)$\n",
    "\n",
    "vii) $(a+b)^{3} = a^{3} + 3a^{2}b + 3ab^{2} + b^{3}$\n",
    "\n",
    "viii) $(a - b)^{3} = a^{3} - 3a^{2}b + 3ab^{2} - b^{3}$\n",
    "\n",
    "Por exemplo, podemos simplificar a expressão $\\frac{x^{3} - 8}{x^{2} - 4x + 4}$ da seguinte forma:\n",
    "\n",
    "*Numerador:* $x^{3} - 8 = x^{3} - 2^{3} = (x-2)(x^{2} + 2x + 2^{2}) = (x-2)(x^{2} + 2x + 4)$\n",
    "\n",
    "*Denominador:* $x^{2} - 4x + 4 = x^{2} - 2\\cdot2x + 2^{2} = (x-2)^{2}$\n",
    "\n",
    "Portanto,\n",
    "\n",
    "$$\\frac{x^{3} - 8}{x^{2} - 4x + 4} = \\frac{(x-2)(x^{2} + 2x + 4)}{(x-2)^{2}} = \\frac{x^{2} + 2x + 4}{x-2}$$\n",
    "\n",
    "Note que não é possível simplificar mais uma vez que $x = 2$ é o único zero do denominador mas este mesmo valor não zera o numerador, portanto, $x - 2$ não é um fator de $x^{2} + 2x + 4$.\n",
    "\n",
    "Um conteúdo mais abrangente sobre simplificações pode ser encontrado na playlist: [Simplificação de Expressões Para o ENEM](https://www.youtube.com/playlist?list=PL8aWdrmfXHiLENkVgV7JA0xQ0Gp0sCu_e)"
   ]
  },
  {
   "cell_type": "markdown",
   "id": "dc51941b",
   "metadata": {},
   "source": [
    "# <div style=\"margin-top: -20px;\">\n",
    "<hr style=\"border: 2px solid black;\">\n",
    "\n",
    "<font color='black'><span style=\"font-size: 22px;\"><strong>1.3 Existência do Limite e Limites Laterais</strong></span></font>\n",
    "\n",
    "<hr style=\"border: 2px solid black;\">\n",
    "</div>"
   ]
  },
  {
   "cell_type": "markdown",
   "id": "7cec30b5",
   "metadata": {},
   "source": [
    "Considere a função $f$ definida sobre $\\mathbb{R^{\\large *}}$ dada por $f(x) = \\frac{|x|}{x}$ cujo gráfico é dado por:<br><br>\n",
    "<center> <img src=\"fig1-1.jpg\" alt=\"jpg_python\" width=\"400\" height=\"200\"> </center><br>\n",
    "\n",
    "Note que $lim_{x \\rightarrow 0} f(x)$ não se aproxima de um único valor. Por exemplo, considerando a aproximação pela esquerda (escreveremos $0^{-}$) temos que $lim_{x \\rightarrow 0^{-}} f(x) = -1$. Por outro lado, considerando a aproximação pela direita (escreveremos $0^{+}$) temos que $lim_{x \\rightarrow 0^{+}} f(x) = 1$. Portanto, de acordo com a **Definição 1** o limite não deve existir. Podemos então definir os chamados limites laterais:"
   ]
  },
  {
   "cell_type": "markdown",
   "id": "201e2fa0",
   "metadata": {},
   "source": [
    "####  <font color='red'> Definição 2 </font>"
   ]
  },
  {
   "cell_type": "markdown",
   "id": "a4b5c6bb",
   "metadata": {},
   "source": [
    "<font color='red'> 1. Suponha que $f(x)$ seja definida quando $x$ está próximo ao número $a$. Então escrevemos<br><br>\n",
    " $$lim_{x \\rightarrow a^{-}} f(x) = L$$<br>\n",
    " e dizemos \"o limite lateral esquerdo $f(x)$, quando $x$ tende a $a$ pela esquerda, é igual a $L$\" se pudermos tornar os valores de $f(x)$ arbitrariamente próximos de $L$ (tanto quanto queiramos), tomando $x$ suficientemente próximos de $a$ (pela esquerda), mas não igual a $a$.<br><br>\n",
    "    2. Suponha que $f(x)$ seja definido quando está próximo ao número $a$. Então escrevemos<br><br>\n",
    " $$lim_{x \\rightarrow a^{+}} f(x) = L$$<br>\n",
    " e dizemos \"o limite lateral direito $f(x)$, quando $x$ tende a $a$ pela direita, é igual a $L$\" se pudermos tornar os valores de $f(x)$ arbitrariamente próximos de $L$ (tanto quanto queiramos), tomando $x$ suficientemente próximos de $a$ (pela direita), mas não igual a $a$."
   ]
  },
  {
   "cell_type": "markdown",
   "id": "a993a521",
   "metadata": {},
   "source": [
    "####  <font color='red'> Teorema 2 </font>"
   ]
  },
  {
   "cell_type": "markdown",
   "id": "94ff1972",
   "metadata": {},
   "source": [
    "<font color='red'> $lim_{x \\rightarrow a} f(x)$ existe e é igual a $L$ se, e somente se, $lim_{x \\rightarrow a^{-}} f(x) = lim_{x \\rightarrow a^{+}} f(x) = L.$"
   ]
  },
  {
   "cell_type": "markdown",
   "id": "7b4e38b9",
   "metadata": {},
   "source": [
    "#### Esboço Gráfico"
   ]
  },
  {
   "cell_type": "markdown",
   "id": "435d44b6",
   "metadata": {},
   "source": [
    "O esboço de gráficos desempenha um papela fundamental no entendimento dos conceitos do cálculo. O software GeoGebra, bem como este ambiente (Jupyter Notebook/Colab) serão usados ao longo deste material. Para aqueles interessados em aprender um pouco sobre o GeoGebra para esboço de gráficos recomendamos a playlist [GeoGebra - Tutorial](https://www.youtube.com/playlist?list=PL8aWdrmfXHiL-cAK9TsVvngQiRv-HhWmr)."
   ]
  },
  {
   "cell_type": "markdown",
   "id": "c7942ddb",
   "metadata": {},
   "source": [
    "####  <font color='blue'> Exemplo 7 </font>"
   ]
  },
  {
   "cell_type": "markdown",
   "id": "7a438ac2",
   "metadata": {},
   "source": [
    "<font color='blue'> Considere a função<br><br>\n",
    "  $$f(x) = \\left\\{ \\begin{array}{ccc}\n",
    "x^{2}\t& se & x<1  \\\\\n",
    "2\t& se & x \\geq 1  \\\\\n",
    "\\end{array} \\right.$$<br>\n",
    " Determine os limites laterais e o limite quando $x$ tende a $1$."
   ]
  },
  {
   "cell_type": "markdown",
   "id": "aa149c22",
   "metadata": {},
   "source": [
    "#####  <font color='blue'> Solução </font>"
   ]
  },
  {
   "cell_type": "markdown",
   "id": "f68cbf33",
   "metadata": {},
   "source": [
    "<font color='blue'> Temos que<br><br>\n",
    "  $$lim_{x \\rightarrow 1^{-}} f(x) = lim_{x \\rightarrow 1^{-}} x^{2} = 1^{2} = 1$$<br>\n",
    "  $$lim_{x \\rightarrow 1^{+}} f(x) = lim_{x \\rightarrow 1^{+}} 2 = 2$$<br>\n",
    "  Como $lim_{x \\rightarrow 1^{-}} f(x) \\neq lim_{x \\rightarrow 1^{+}} f(x)$ temos que não existe $lim_{x \\rightarrow 1} f(x)$"
   ]
  },
  {
   "cell_type": "markdown",
   "id": "426b8a9e",
   "metadata": {},
   "source": [
    "<font color='blue'> Podemos observar o esboço gráfico associado ao **Exemplo 7**:"
   ]
  },
  {
   "cell_type": "code",
   "execution_count": null,
   "id": "41f4180f",
   "metadata": {
    "ExecuteTime": {
     "end_time": "2024-02-08T01:38:33.728138Z",
     "start_time": "2024-02-08T01:38:32.055497Z"
    }
   },
   "outputs": [],
   "source": [
    "from numpy import arange, vectorize\n",
    "import matplotlib.pyplot as plt\n",
    "\n",
    "def f(x):\n",
    "    if x<1:\n",
    "        return x**2\n",
    "    else:\n",
    "        return 2\n",
    "\n",
    "# Vetorizando a função f\n",
    "f_vectorized = vectorize(f)\n",
    "\n",
    "# Domínio Dividido (vizinhança [-2,3] de x = 1)\n",
    "x1 = arange(-2, 1, 0.01)\n",
    "x2 = arange(1, 3, 0.01)\n",
    "\n",
    "# Imagens Divididas\n",
    "y1 = f_vectorized(x1)  \n",
    "y2 = f_vectorized(x2)  \n",
    "\n",
    "# Adicionando linhas de referência (eixos x e y)\n",
    "plt.axhline(0, color='black', linewidth=1)\n",
    "plt.axvline(0, color='black', linewidth=1)\n",
    "\n",
    "# Grade\n",
    "plt.grid()\n",
    "\n",
    "# Plotando o gráfico\n",
    "plt.plot(x1,y1,'b-')\n",
    "plt.plot(x2,y2,'b-')\n",
    "plt.plot(1,f(1),'b.')\n",
    "plt.show()"
   ]
  },
  {
   "cell_type": "markdown",
   "id": "9d8c2be2",
   "metadata": {},
   "source": [
    "####  <font color='blue'> Exemplo 8 </font>"
   ]
  },
  {
   "cell_type": "markdown",
   "id": "3da4f91e",
   "metadata": {},
   "source": [
    "<font color='blue'> Considere a função<br><br>\n",
    "  $$f(x) = \\left\\{ \\begin{array}{ccc}\n",
    "2x+3\t& se & x < -2  \\\\\n",
    "x^{2} - 5\t& se & x \\geq -2  \\\\\n",
    "\\end{array} \\right.$$<br>\n",
    " Determine os limites laterais e o limite quando $x$ tende a $-2$."
   ]
  },
  {
   "cell_type": "markdown",
   "id": "5c624b32",
   "metadata": {},
   "source": [
    "#####  <font color='blue'> Solução </font>"
   ]
  },
  {
   "cell_type": "markdown",
   "id": "32056b5f",
   "metadata": {},
   "source": [
    "<font color='blue'> Temos que<br><br>\n",
    "  $$lim_{x \\rightarrow -2^{-}} f(x) = lim_{x \\rightarrow -2^{-}} 2x + 3 = 2(-2)+3 = -1$$<br>\n",
    "  $$lim_{x \\rightarrow -2^{+}} f(x) = lim_{x \\rightarrow -2^{+}} x^{2} - 5 = (-2)^{2} - 5 = -1$$<br>\n",
    "  Como $lim_{x \\rightarrow -2^{-}} f(x) = lim_{x \\rightarrow -2^{+}} f(x) = -1$ temos que $lim_{x \\rightarrow -2} f(x) = -1$."
   ]
  },
  {
   "cell_type": "markdown",
   "id": "6be5c39f",
   "metadata": {},
   "source": [
    "<font color='blue'> Podemos observar o esboço gráfico associado ao **Exemplo 8**:"
   ]
  },
  {
   "cell_type": "code",
   "execution_count": null,
   "id": "3105cd51",
   "metadata": {
    "ExecuteTime": {
     "end_time": "2024-02-08T01:38:33.871141Z",
     "start_time": "2024-02-08T01:38:33.730217Z"
    }
   },
   "outputs": [],
   "source": [
    "from numpy import arange, vectorize\n",
    "import matplotlib.pyplot as plt\n",
    "\n",
    "def f(x):\n",
    "    if x<-2:\n",
    "        return 2*x + 3\n",
    "    else:\n",
    "        return x**2 - 5\n",
    "\n",
    "# Vetorizando a função f\n",
    "f_vectorized = vectorize(f)\n",
    "\n",
    "# Domínio Dividido (vizinhança [-4,0] de x = -2)\n",
    "x1 = arange(-4, -2, 0.01)\n",
    "x2 = arange(-2, 0, 0.01)\n",
    "\n",
    "# Imagens Divididas\n",
    "y1 = f_vectorized(x1)  \n",
    "y2 = f_vectorized(x2)  \n",
    "\n",
    "# Adicionando linhas de referência (eixos x e y)\n",
    "plt.axhline(0, color='black', linewidth=1)\n",
    "plt.axvline(0, color='black', linewidth=1)\n",
    "\n",
    "# Grade\n",
    "plt.grid()\n",
    "\n",
    "plt.plot(x1,y1,'b-')\n",
    "plt.plot(x2,y2,'b-')\n",
    "plt.plot(-2,f(-2),'b.')\n",
    "plt.show()"
   ]
  },
  {
   "cell_type": "markdown",
   "id": "a4136534",
   "metadata": {},
   "source": [
    "# <div style=\"margin-top: -20px;\">\n",
    "<hr style=\"border: 2px solid black;\">\n",
    "\n",
    "<font color='black'><span style=\"font-size: 22px;\"><strong>1.4 Limites Infinitos: Assíntotas Verticais</strong></span></font>\n",
    "\n",
    "<hr style=\"border: 2px solid black;\">\n",
    "</div>"
   ]
  },
  {
   "cell_type": "markdown",
   "id": "58e5b9a7",
   "metadata": {},
   "source": [
    "Em muitas situações, quando nos aproximamos de um determinado valor na variável independente de uma função $f$, observamos que o valor da função cresce sem limites, podendo tender ao infinito positivo ou negativo. Isso pode ocorrer de forma que, conforme a variável independente se aproxima de um número específico, o valor da função aumenta ou diminui indefinidamente, mas nunca atinge um número específico. Quando esse fenômeno ocorre, dizemos que a função possui uma **assíntota vertical** no ponto em questão."
   ]
  },
  {
   "cell_type": "markdown",
   "id": "d3ed6d51",
   "metadata": {},
   "source": [
    "####  <font color='blue'> Exemplo 9 </font>"
   ]
  },
  {
   "cell_type": "markdown",
   "id": "29545d6d",
   "metadata": {},
   "source": [
    "<font color='blue'> Considere a função<br><br>\n",
    "  $$f(x) = \\frac{1}{x}$$<br>\n",
    " Use uma tabela para estimar os limites laterais e o limite quando $x$ tende a $0$."
   ]
  },
  {
   "cell_type": "markdown",
   "id": "a183c7c7",
   "metadata": {},
   "source": [
    "#####  <font color='blue'> Solução </font>"
   ]
  },
  {
   "cell_type": "markdown",
   "id": "3fb71ffd",
   "metadata": {},
   "source": [
    "<font color='blue'> Temos que<br><br>\n",
    "  $$\\begin{array}{c|cccc|c} \n",
    "0^{-}\t&  f(x) & & & 0^{+} & f(x)\\\\\n",
    "-1\t    &  -1 & & & 1 & 1\\\\\n",
    "-0.1\t&  -10 & & & 0.1 & 10\\\\\n",
    "-0.01\t&  -100 & & & 0.01 & 100\\\\\n",
    "-0.001\t& -1000 & & & 0.001 & 1000 \\\\\n",
    "-0.0001\t& -10000 & & & 0.0001 & 10000 \\\\\n",
    "\\vdots\t& \\vdots & & & \\vdots & \\vdots \\\\\n",
    "\\end{array}$$<br>\n",
    "  Notamos que<br><br>\n",
    "  $$lim_{x \\rightarrow 0^{-}} \\frac{1}{x} = -\\infty$$<br>\n",
    "  $$lim_{x \\rightarrow 0^{+}} \\frac{1}{x} = +\\infty$$<br>\n",
    "  Como $lim_{x \\rightarrow 0^{-}} \\frac{1}{x} \\neq lim_{x \\rightarrow 0^{+}} \\frac{1}{x}$ temos que não existe $lim_{x \\rightarrow 0} \\frac{1}{x}$. Neste caso $x = 0$ é uma assíntota vertical."
   ]
  },
  {
   "cell_type": "markdown",
   "id": "0d5c5b67",
   "metadata": {},
   "source": [
    "<font color='blue'> Podemos observar o esboço gráfico associado ao **Exemplo 8**:"
   ]
  },
  {
   "cell_type": "code",
   "execution_count": null,
   "id": "c7b55cec",
   "metadata": {
    "ExecuteTime": {
     "end_time": "2024-02-08T01:38:34.024594Z",
     "start_time": "2024-02-08T01:38:33.872142Z"
    }
   },
   "outputs": [],
   "source": [
    "from numpy import arange, vectorize\n",
    "import matplotlib.pyplot as plt\n",
    "\n",
    "def f(x):\n",
    "    return 1/x\n",
    "\n",
    "f_vectorized = vectorize(f)\n",
    "\n",
    "# Gerando os valores de x para duas partes: x < 0 e x > 0\n",
    "x_negativo = arange(-2, -0.01, 0.01)  # Valores negativos de x, excluindo o zero\n",
    "x_positivo = arange(0.01, 2, 0.01)    # Valores positivos de x, excluindo o zero\n",
    "\n",
    "# Aplicando a função vetorizada\n",
    "y_negativo = f_vectorized(x_negativo)\n",
    "y_positivo = f_vectorized(x_positivo)\n",
    "\n",
    "# Adicionando linhas de referência (eixos x e y)\n",
    "plt.axhline(0, color='black', linewidth=1)\n",
    "plt.axvline(0, color='black', linewidth=1)\n",
    "\n",
    "# Grade\n",
    "plt.grid()\n",
    "\n",
    "# Definindo limites para o eixo y (aumente os valores -10 e 10 para -100 e 100)\n",
    "plt.ylim(-10, 10)\n",
    "\n",
    "# Plotando o gráfico para a parte negativa e positiva, separadamente\n",
    "plt.plot(x_negativo, y_negativo, 'b-')\n",
    "plt.plot(x_positivo, y_positivo, 'b-')\n",
    "\n",
    "# Mostrar o gráfico\n",
    "plt.show()\n"
   ]
  },
  {
   "cell_type": "markdown",
   "id": "fecde9db",
   "metadata": {},
   "source": [
    "#### Observação 3"
   ]
  },
  {
   "cell_type": "markdown",
   "id": "d3ff6405",
   "metadata": {},
   "source": [
    "Podemos observar graficamente o comportamento de $f(x) = \\frac{1}{x^{2}}$ quando $x$ tende a $0$ usando o mesmo código anterior."
   ]
  },
  {
   "cell_type": "code",
   "execution_count": null,
   "id": "a781fbfc",
   "metadata": {
    "ExecuteTime": {
     "end_time": "2024-02-08T01:38:34.180013Z",
     "start_time": "2024-02-08T01:38:34.026606Z"
    }
   },
   "outputs": [],
   "source": [
    "from numpy import arange, vectorize\n",
    "import matplotlib.pyplot as plt\n",
    "\n",
    "def f(x):\n",
    "    return 1/x**2\n",
    "\n",
    "f_vectorized = vectorize(f)\n",
    "\n",
    "# Gerando os valores de x para duas partes: x < 0 e x > 0\n",
    "x_negativo = arange(-2, -0.01, 0.01)  # Valores negativos de x, excluindo o zero\n",
    "x_positivo = arange(0.01, 2, 0.01)    # Valores positivos de x, excluindo o zero\n",
    "\n",
    "# Aplicando a função vetorizada\n",
    "y_negativo = f_vectorized(x_negativo)\n",
    "y_positivo = f_vectorized(x_positivo)\n",
    "\n",
    "# Adicionando linhas de referência (eixos x e y)\n",
    "plt.axhline(0, color='black', linewidth=1)\n",
    "plt.axvline(0, color='black', linewidth=1)\n",
    "\n",
    "# Grade\n",
    "plt.grid()\n",
    "\n",
    "# Definindo limites para o eixo y\n",
    "plt.ylim(-1000, 1000)\n",
    "\n",
    "# Plotando o gráfico para a parte negativa e positiva, separadamente\n",
    "plt.plot(x_negativo, y_negativo, 'b-')\n",
    "plt.plot(x_positivo, y_positivo, 'b-')\n",
    "\n",
    "# Mostrar o gráfico\n",
    "plt.show()\n"
   ]
  },
  {
   "cell_type": "markdown",
   "id": "409d59b8",
   "metadata": {},
   "source": [
    "Podemos descrever o comportamento da função $f$ perto de zero usando a notação de limite, $lim_{x \\rightarrow 0} \\frac{1}{x^{2}} = \\infty$. No entanto, é incorreto afirmar que este limite existe no sentido convencional, pois a **Definição 1** exige que a função se aproxime de um valor finito específico $L$, o que não ocorre neste caso."
   ]
  },
  {
   "cell_type": "markdown",
   "id": "7d2b156f",
   "metadata": {},
   "source": [
    "####  <font color='blue'> Exemplo 10 </font>"
   ]
  },
  {
   "cell_type": "markdown",
   "id": "1955515f",
   "metadata": {},
   "source": [
    "<font color='blue'> Considere a função<br><br>\n",
    "  $$f(x) = \\left\\{ \\begin{array}{ccc}\n",
    "\\frac{3}{x}\t& se & x < 0  \\\\\n",
    "x^{2}+1\t& se & x \\geq 0  \\\\\n",
    "\\end{array} \\right.$$<br>\n",
    " Determine os limites laterais e o limite quando $x$ tende a $0$."
   ]
  },
  {
   "cell_type": "markdown",
   "id": "8ea67483",
   "metadata": {},
   "source": [
    "#####  <font color='blue'> Solução </font>"
   ]
  },
  {
   "cell_type": "markdown",
   "id": "a89f073c",
   "metadata": {},
   "source": [
    "<font color='blue'> Temos que<br><br>\n",
    "  $$lim_{x \\rightarrow 0^{-}} f(x) = lim_{x \\rightarrow 0^{-}} \\frac{3}{x} = -\\infty$$<br>\n",
    "  $$lim_{x \\rightarrow 0^{+}} f(x) = lim_{x \\rightarrow 0^{+}} x^{2} + 1 = (0)^{2} + 1 = 1$$<br>\n",
    "  Como $lim_{x \\rightarrow 0^{-}} f(x) \\neq lim_{x \\rightarrow 0^{+}} f(x)$ temos que não existe $lim_{x \\rightarrow 0} f(x)$."
   ]
  },
  {
   "cell_type": "markdown",
   "id": "eaf10b67",
   "metadata": {},
   "source": [
    "<font color='blue'> Podemos observar o esboço gráfico associado ao **Exemplo 10**:"
   ]
  },
  {
   "cell_type": "code",
   "execution_count": null,
   "id": "309ae6cf",
   "metadata": {
    "ExecuteTime": {
     "end_time": "2024-02-08T01:38:34.330037Z",
     "start_time": "2024-02-08T01:38:34.180013Z"
    }
   },
   "outputs": [],
   "source": [
    "from numpy import arange, vectorize\n",
    "import matplotlib.pyplot as plt\n",
    "\n",
    "def f(x):\n",
    "    if x<0:\n",
    "        return 3/x\n",
    "    else:\n",
    "        return x**2 + 1\n",
    "\n",
    "# Vetorizando a função f\n",
    "f_vectorized = vectorize(f)\n",
    "\n",
    "# Domínio Dividido (vizinhança [-2,2] de x = 0)\n",
    "x1 = arange(-2, 0, 0.01)\n",
    "x2 = arange(0, 2, 0.01)\n",
    "\n",
    "# Imagens Divididas\n",
    "y1 = f_vectorized(x1)  \n",
    "y2 = f_vectorized(x2)  \n",
    "\n",
    "# Adicionando linhas de referência (eixos x e y)\n",
    "plt.axhline(0, color='black', linewidth=1)\n",
    "plt.axvline(0, color='black', linewidth=1)\n",
    "\n",
    "# Grade\n",
    "plt.grid()\n",
    "\n",
    "# Definindo limites para o eixo y\n",
    "plt.ylim(-10, 10)\n",
    "\n",
    "plt.plot(x1,y1,'b-')\n",
    "plt.plot(x2,y2,'b-')\n",
    "plt.plot(0,f(0),'b.')\n",
    "plt.show()"
   ]
  },
  {
   "cell_type": "markdown",
   "id": "a25f32e0",
   "metadata": {},
   "source": [
    "# <div style=\"margin-top: -20px;\">\n",
    "<hr style=\"border: 2px solid black;\">\n",
    "\n",
    "<font color='black'><span style=\"font-size: 22px;\"><strong>1.5 Limites No Infinito: Assíntotas Horizontais</strong></span></font>\n",
    "\n",
    "<hr style=\"border: 2px solid black;\">\n",
    "</div>"
   ]
  },
  {
   "cell_type": "markdown",
   "id": "8c29d92d",
   "metadata": {},
   "source": [
    "Em muitas situações, quando $x$ cresce indefinidamente, isto é, $x \\rightarrow +\\infty$ (ou decresce indefinidamente, $x \\rightarrow -\\infty$) pode ocorrer de $f(x)$ se aproximar de um valor constante $c$, isto é, $lim_{x \\rightarrow +\\infty} f(x) = c$ (ou $x \\rightarrow -\\infty$). Neste caso dizemos que $y = c$ é uma **assíntota horizontal**.\n",
    "\n",
    "Por exemplo, a função $f(x) = \\frac{1}{x}$ se aproxima de $0$ quando $x$ cresce indefinidamente:\n",
    "\n",
    "$$\\begin{array}{c|c} \n",
    "x\t&  f(x)        \\\\\n",
    "1\t    &  1       \\\\\n",
    "10\t    &  0.1     \\\\\n",
    "100\t    &  0.01    \\\\\n",
    "1000\t&  0.001   \\\\\n",
    "10000\t&  0.0001  \\\\\n",
    "\\vdots\t& \\vdots   \\\\\n",
    "\\end{array}$$\n",
    "\n",
    "Acompanhe o comportamento gráfico no código a seguir:"
   ]
  },
  {
   "cell_type": "code",
   "execution_count": null,
   "id": "618c01a1",
   "metadata": {
    "ExecuteTime": {
     "end_time": "2024-02-08T01:38:34.470613Z",
     "start_time": "2024-02-08T01:38:34.330037Z"
    }
   },
   "outputs": [],
   "source": [
    "from numpy import arange, vectorize\n",
    "import matplotlib.pyplot as plt\n",
    "\n",
    "def f(x):\n",
    "    return 1/x\n",
    "\n",
    "f_vectorized = vectorize(f)\n",
    "\n",
    "# Gerando os valores de x para duas partes: x < 0 e x > 0\n",
    "x_negativo = arange(-1, -0.01, 0.01)  # Valores negativos de x, excluindo o zero\n",
    "x_positivo = arange(0.01, 10, 0.01)    # Valores positivos de x, excluindo o zero\n",
    "\n",
    "# Aplicando a função vetorizada\n",
    "y_negativo = f_vectorized(x_negativo)\n",
    "y_positivo = f_vectorized(x_positivo)\n",
    "\n",
    "# Adicionando linhas de referência (eixos x e y)\n",
    "plt.axhline(0, color='black', linewidth=1)\n",
    "plt.axvline(0, color='black', linewidth=1)\n",
    "\n",
    "# Grade\n",
    "plt.grid()\n",
    "\n",
    "# Definindo limites para o eixo y\n",
    "plt.ylim(-10, 10)\n",
    "\n",
    "# Plotando o gráfico para a parte negativa e positiva, separadamente\n",
    "plt.plot(x_negativo, y_negativo, 'r-')\n",
    "plt.plot(x_positivo, y_positivo, 'r-')\n",
    "\n",
    "# Mostrar o gráfico\n",
    "plt.show()"
   ]
  },
  {
   "cell_type": "markdown",
   "id": "3b447f14",
   "metadata": {},
   "source": [
    "####  <font color='blue'> Exemplo 11 </font>"
   ]
  },
  {
   "cell_type": "markdown",
   "id": "bdba2a19",
   "metadata": {},
   "source": [
    "<font color='blue'> Determine $lim_{x \\rightarrow +\\infty} \\frac{2x+3}{x+1}$ usando o fato de que $lim_{x \\to +\\infty} \\frac{1}{x} = 0$. Ao final construa uma tabela para revisar o valor obtido."
   ]
  },
  {
   "cell_type": "markdown",
   "id": "610be9b5",
   "metadata": {},
   "source": [
    "#####  <font color='blue'> Solução </font>"
   ]
  },
  {
   "cell_type": "markdown",
   "id": "15c9a032",
   "metadata": {},
   "source": [
    "<font color='blue'> Para começar, obsevemos a seguinte indeterminação:<br><br>\n",
    " $$lim_{x \\rightarrow +\\infty} \\frac{2x+3}{x+1} = \\frac{2\\cdot \\infty + 3}{\\infty+1} = \\frac{\\infty}{\\infty}$$<br>\n",
    " Podemos resolver este problema usando o seguinte recurso:<br><br>\n",
    " $$lim_{x \\rightarrow +\\infty} \\frac{2x+3}{x+1} = lim_{x \\rightarrow +\\infty} \\frac{x \\left(2+\\frac{3}{x}\\right)}{x\\left(1+\\frac{1}{x}\\right)} =  lim_{x \\rightarrow +\\infty} \\frac{2+\\frac{3}{x}}{1+\\frac{1}{x}} = \\frac{2 + 0}{1 + 0} = \\frac{2}{1} = 2.$$<br>\n",
    " Vejamos uma tabela considerando valores $1$, $10$, $100$, $1000$ e $10000$:\n",
    " $$\\begin{array}{c|c} \n",
    "x\t&  f(x) \\\\\n",
    "1\t    &  2.5 \\\\\n",
    "10\t&  2.090909090909091 \\\\\n",
    "100\t&  2.00990099009901 \\\\\n",
    "1000\t& 2.000999000999001 \\\\\n",
    "10000\t& 2.000099990001  \\\\\n",
    "\\vdots\t& \\vdots \\\\\n",
    "\\end{array}$$<br>\n",
    " Temos que, a medida que $x$ cresce o valor de $f(x)$ se aproxima cada vez mais de $2$."
   ]
  },
  {
   "cell_type": "markdown",
   "id": "d35da288",
   "metadata": {},
   "source": [
    "<font color='blue'> Podemos observar o esboço gráfico associado ao **Exemplo 11**:"
   ]
  },
  {
   "cell_type": "code",
   "execution_count": null,
   "id": "d0a79bf0",
   "metadata": {
    "ExecuteTime": {
     "end_time": "2024-02-08T01:38:34.592145Z",
     "start_time": "2024-02-08T01:38:34.470613Z"
    },
    "scrolled": false
   },
   "outputs": [],
   "source": [
    "from numpy import arange, vectorize\n",
    "import matplotlib.pyplot as plt\n",
    "\n",
    "def f(x):\n",
    "    return (2*x+3)/(x+1)\n",
    "\n",
    "f_vectorized = vectorize(f)\n",
    "\n",
    "# Gerando os valores de x em [0,10], aumente 10 para 100, 1000, 10000,...\n",
    "x = arange(0, 10, 0.01)\n",
    "\n",
    "# Aplicando a função vetorizada\n",
    "y = f_vectorized(x)\n",
    "\n",
    "# Adicionando linhas de referência (eixos x e y)\n",
    "plt.axhline(0, color='black', linewidth=1)\n",
    "plt.axvline(0, color='black', linewidth=1)\n",
    "\n",
    "# Grade\n",
    "plt.grid()\n",
    "\n",
    "# Definindo limites para o eixo y (aumente os valores -10 e 10 para -100 e 100)\n",
    "plt.ylim(-5, 5)\n",
    "\n",
    "# Plotando o gráfico para a parte negativa e positiva, separadamente\n",
    "plt.plot(x, y, 'b-')\n",
    "\n",
    "# Mostrar o gráfico\n",
    "plt.show()\n"
   ]
  },
  {
   "cell_type": "markdown",
   "id": "b22701dc",
   "metadata": {},
   "source": [
    "####  <font color='blue'> Exemplo 12 </font>"
   ]
  },
  {
   "cell_type": "markdown",
   "id": "7928d779",
   "metadata": {},
   "source": [
    "<font color='blue'> Determine os seguintes limites:<br><br>\n",
    " a) $lim_{x \\rightarrow +\\infty} \\frac{x^{2}+3x + 2}{20x^{3}+100x -10}$<br><br>\n",
    " b) $lim_{x \\rightarrow -\\infty} \\frac{x^{5}-2x^{3} + 2}{x^{2}+10x + 4}$<br><br>\n",
    " *Dica: Assuma que $lim_{x \\to \\pm \\infty} \\frac{1}{x^{n}} = 0$ desde que $n \\geq 1$*"
   ]
  },
  {
   "cell_type": "markdown",
   "id": "8a09865b",
   "metadata": {},
   "source": [
    "#####  <font color='blue'> Solução </font>"
   ]
  },
  {
   "cell_type": "markdown",
   "id": "759d9d7d",
   "metadata": {},
   "source": [
    "<font color='blue'> a) Temos que:<br><br>\n",
    " $$lim_{x \\rightarrow +\\infty} \\frac{x^{2}+3x + 2}{20x^{3}+100x -10} = lim_{x \\rightarrow +\\infty} \\frac{x^{2}\\left(1+ \\frac{3}{x} + \\frac{2}{x^{2}}\\right)}{x^{3}\\left(20+\\frac{100}{x^{2}} -\\frac{10}{x^{3}}\\right)}=$$<br>\n",
    " $$lim_{x \\to +\\infty} \\frac{x^{2}}{x^{3}}lim_{x \\to +\\infty} \\frac{1 + \\frac{3}{x} + \\frac{2}{x^{2}}}{20 + \\frac{100}{x^{2}} - \\frac{10}{x^{3}}} = lim_{x \\to +\\infty} \\frac{1}{x}lim_{x \\to +\\infty} \\frac{1 + \\frac{3}{x} + \\frac{2}{x^{2}}}{20 + \\frac{100}{x^{2}} - \\frac{10}{x^{3}}} = 0 \\cdot \\frac{1}{20} = 0$$"
   ]
  },
  {
   "cell_type": "markdown",
   "id": "88b214df",
   "metadata": {},
   "source": [
    "<font color='blue'> b) Temos que:<br><br>\n",
    " $$lim_{x \\rightarrow -\\infty} \\frac{x^{5}-2x^{3} + 2}{x^{2}+10x + 4} = lim_{x \\rightarrow -\\infty} \\frac{x^{5} \\left(1-\\frac{2}{x^{2}} + \\frac{2}{x^{5}}\\right)}{x^{2}\\left(1+\\frac{10}{x} + \\frac{4}{x^{2}}\\right)} = lim_{x \\rightarrow -\\infty} \\frac{x^{3}\\left(1-\\frac{2}{x^{2}} + \\frac{2}{x^{5}}\\right)}{1+\\frac{10}{x} + \\frac{4}{x^{2}}} =$$<br>\n",
    " $$= lim_{x \\rightarrow -\\infty} x^{3} \\cdot lim_{x \\rightarrow -\\infty} \\frac{1-\\frac{2}{x^{2}} + \\frac{2}{x^{5}}}{1+\\frac{10}{x} + \\frac{4}{x^{2}}} = -\\infty \\cdot \\frac{1 - 0 - 0}{1 - 0 + 0} = -\\infty \\cdot 1 = -\\infty$$"
   ]
  },
  {
   "cell_type": "markdown",
   "id": "72f4b6e0",
   "metadata": {},
   "source": [
    "# <div style=\"margin-top: -20px;\">\n",
    "<hr style=\"border: 2px solid black;\">\n",
    "\n",
    "<font color='black'><span style=\"font-size: 22px;\"><strong>1.6 Limites Especiais</strong></span></font>\n",
    "\n",
    "<hr style=\"border: 2px solid black;\">\n",
    "</div>"
   ]
  },
  {
   "cell_type": "markdown",
   "id": "a4033c56",
   "metadata": {},
   "source": [
    "Apresentaremos a seguir um importante teorema sobre limites conhecido como **Teorema do Sanduíche**."
   ]
  },
  {
   "cell_type": "markdown",
   "id": "57a9fbf0",
   "metadata": {},
   "source": [
    "#### <font color='red'> Teorema 3"
   ]
  },
  {
   "cell_type": "markdown",
   "id": "2cab5f4d",
   "metadata": {},
   "source": [
    "<font color='red'> Se $lim_{x \\to k}f(x)= lim_{x \\to k}g(x)=L$  e  $f(x)\\leq h(x)\\leq g(x)$, então $lim_{x\\rightarrow k} h(x) = L$<br><br>\n",
    "  em que $k = +\\infty$, $-\\infty$, $a$, $a^{+}$ ou $a^{-}$, $a \\in \\mathbb{R}$."
   ]
  },
  {
   "cell_type": "markdown",
   "id": "750b9ca7",
   "metadata": {
    "ExecuteTime": {
     "end_time": "2024-01-27T14:29:15.328616Z",
     "start_time": "2024-01-27T14:29:15.324048Z"
    }
   },
   "source": [
    "####  <font color='blue'> Exemplo 13 </font>"
   ]
  },
  {
   "cell_type": "markdown",
   "id": "046a75d6",
   "metadata": {},
   "source": [
    "<font color='blue'> Determine $lim_{x \\to \\infty} \\frac{cos(x)}{x}$."
   ]
  },
  {
   "cell_type": "markdown",
   "id": "df7b60e6",
   "metadata": {},
   "source": [
    "#####  <font color='blue'> Solução </font>"
   ]
  },
  {
   "cell_type": "markdown",
   "id": "03382d9e",
   "metadata": {},
   "source": [
    "<font color='blue'> Da trigonometria sabemos que $-1 \\leq cos(x) \\leq 1$ para todo $x \\in \\mathbb{R}$. Dividindo todos os membros desta inequação por $x$ (positivo devido ao $lim_{x \\to \\infty}$), temos:<br><br>\n",
    " $$-\\frac{1}{x} \\leq \\frac{cos(x)}{x} \\leq \\frac{1}{x}$$<br>\n",
    " Como $lim_{x \\to \\infty} -\\frac{1}{x} = lim_{x \\to \\infty} \\frac{1}{x} = 0$ o **Teorema 3** assegura que $lim_{x \\to 0} \\frac{cos(x)}{x} = 0$. Veja os gráficos das funções envolvidas:"
   ]
  },
  {
   "cell_type": "code",
   "execution_count": 1,
   "id": "d0921a6e",
   "metadata": {
    "ExecuteTime": {
     "end_time": "2024-02-08T01:38:58.371015Z",
     "start_time": "2024-02-08T01:38:57.622186Z"
    }
   },
   "outputs": [
    {
     "data": {
      "image/png": "[encoded data removed]",
      "text/plain": [
       "<Figure size 640x480 with 1 Axes>"
      ]
     },
     "metadata": {},
     "output_type": "display_data"
    }
   ],
   "source": [
    "import numpy as np\n",
    "import matplotlib.pyplot as plt\n",
    "\n",
    "def f(x):\n",
    "    return -1/x\n",
    "\n",
    "def g(x):\n",
    "    return 1/x\n",
    "\n",
    "def h(x):\n",
    "    return (1/x)*np.cos(x)\n",
    "\n",
    "\n",
    "f_vectorized = np.vectorize(f)\n",
    "g_vectorized = np.vectorize(g)\n",
    "h_vectorized = np.vectorize(h)\n",
    "\n",
    "# Gerando os valores de x em [1,10], aumente [1,100], ...\n",
    "x = np.arange(1, 100, 0.01)\n",
    "\n",
    "# Aplicando a função vetorizada\n",
    "y1 = f_vectorized(x)\n",
    "y2 = g_vectorized(x)\n",
    "y3 = h_vectorized(x)\n",
    "\n",
    "# Adicionando linhas de referência (eixos x e y)\n",
    "plt.axhline(0, color='black', linewidth=1)\n",
    "plt.axvline(0, color='black', linewidth=1)\n",
    "\n",
    "# Grade\n",
    "plt.grid()\n",
    "\n",
    "# Plotando o gráfico\n",
    "plt.plot(x, y1, 'r-')\n",
    "plt.plot(x, y2, 'r-')\n",
    "plt.plot(x, y3, 'b-')\n",
    "\n",
    "# Mostrar o gráfico\n",
    "plt.show()"
   ]
  },
  {
   "cell_type": "markdown",
   "id": "18a83457",
   "metadata": {},
   "source": [
    "Alguns limites apresentam certa importância na fundamentação teórica servindo de suporte para de base para importantes resultados. Apresentamos no **Teorema 4** alguns destes limites."
   ]
  },
  {
   "cell_type": "markdown",
   "id": "216289b3",
   "metadata": {},
   "source": [
    "#### <font color='red'> Teorema 4"
   ]
  },
  {
   "cell_type": "markdown",
   "id": "a9cbbd2f",
   "metadata": {},
   "source": [
    "<font color='red'>1. $lim_{x \\to 0} \\frac{sen(x)}{x} = 1$<br><br>\n",
    " 2. $lim_{x \\to 0} \\frac{1 - cos(x)}{x} = 0$<br><br>\n",
    " 3. $lim_{x \\to \\pm \\infty} \\left(1 + \\frac{1}{x}\\right)^{x} = e, \\ \\ e = 2.718281828459045$<br><br>\n",
    " 4. $lim_{x \\to 0} \\frac{a^{x} - 1}{x} = ln(a)$\n"
   ]
  },
  {
   "cell_type": "markdown",
   "id": "fe7793d6",
   "metadata": {},
   "source": [
    "##### <font color='red'> Demonstração"
   ]
  },
  {
   "cell_type": "markdown",
   "id": "b3cb8116",
   "metadata": {},
   "source": [
    "<font color='red'> Apresentaremos, por hora, a demonstração de $1$:<br><br> Para demonstrar que $lim_{x \\to 0} \\frac{sen(x)}{x} = 1$ utilizaremos a figura a seguir:<br><br>\n",
    " <center> <img src=\"fig1-5.jpg\" alt=\"jpg_python\" width=\"250\" height=\"\"> </center><br>\n",
    " Note que<br><br>\n",
    " $$\\overline{AC}\\leq B\\hat{O}C\\leq \\overline{BD}$$<br>\n",
    " Considerando o triângulo menor temos:<br><br>\n",
    " $$sen(x)=\\frac{\\overline{AC}}{\\overline{OC}}=\\frac{\\overline{AC}}{1}.$$<br>\n",
    " Então:<br><br>\n",
    " $$\\overline{AC}=sen(x)$$<br>\n",
    " Como temos um ângulo de $x$ radianos, arco circular de raio $1$ e sabendo que uma volta completa possui $2\\pi$ radianos com comprimento $2\\pi r$, então ao fazer uma regra de três obtemos:<br><br>\n",
    " $$B\\hat{O}C=x$$<br>\n",
    " Considerando o triângulo maior temos:<br><br>\n",
    " $$tg(x)=\\frac{\\overline{BD}}{\\overline{OB}}=\\frac{BD}{1}.$$\n",
    " Então:<br><br>\n",
    " $$\\overline{BD}=tg(x).$$<br>\n",
    " Substituindo tem-se:<br><br>\n",
    " $$sen(x)\\leq x\\leq tg(x).$$<br>\n",
    " Dividindo todos os termos por $sen(x)$ obtém-se:<br><br>\n",
    " $$1 \\leq \\frac{x}{sen(x)}\\leq \\frac{1}{cos(x)}.$$<br>\n",
    " Invertendo todas as frações fica-se com:<br><br>\n",
    " $$1 \\geq \\frac{sen(x)}{x}\\geq cos(x)$$<br>\n",
    " e aplicando o limite em todos os termos quando $x\\rightarrow 0$<br><br>\n",
    " $$lim_{x \\to 0}1\\geq lim_{x \\to 0}\\frac{sen(x)}{x}\\geq lim_{x \\to 0}cos(x).$$<br>\n",
    " Assim, tem-se:<br><br>\n",
    " $$1\\geq lim_{x \\to 0}\\frac{sen(x)}{x}\\geq 1$$<br>\n",
    " e pelo **Teorema 1**, temos:<br><br>\n",
    " $$lim_{x \\to 0}\\frac{sen(x)}{x}=1.$$"
   ]
  },
  {
   "cell_type": "markdown",
   "id": "c0930766",
   "metadata": {},
   "source": [
    "####  <font color='blue'> Exemplo 14 </font>"
   ]
  },
  {
   "cell_type": "markdown",
   "id": "2e37616f",
   "metadata": {},
   "source": [
    "<font color='blue'> Calcule os seguintes limites a partir dos limites fundamentais apresentados no **Teorema 4**:<br><br>\n",
    " a) $lim_{x \\to 0} \\frac{sen(2x)}{x}$ $\\ \\ \\ \\ \\ $ b) $lim_{x \\to 0} \\frac{1 - cos(x)}{2x}$ $\\ \\ \\ \\ \\ $ c) $lim_{x \\to +\\infty} \\left(1 + \\frac{1}{x}\\right)^{2x}$<br><br>\n",
    " d) $lim_{x \\to +\\infty} \\left(1 + \\frac{3}{x}\\right)^{x}$ $\\ \\ \\ \\ \\ $ e) $lim_{x \\to 0} \\frac{2^{x} - 1}{3x}$  $\\ \\ \\ \\ \\ $ f) $lim_{x \\to 0} \\frac{3^{2x} - 1}{x}$"
   ]
  },
  {
   "cell_type": "markdown",
   "id": "701ed335",
   "metadata": {},
   "source": [
    "#####  <font color='blue'> Solução </font>"
   ]
  },
  {
   "cell_type": "markdown",
   "id": "59a826e4",
   "metadata": {},
   "source": [
    "<font color='blue'> a) Temos que\n",
    " $$lim_{x \\to 0} \\frac{sen(2x)}{x} = \\frac{2}{2}lim_{x \\to 0} \\frac{sen(2x)}{x} = 2lim_{x \\to 0}\\frac{sen(2x)}{2x}$$<br>\n",
    " Ora, quando $x \\to 0$ temos que $2x \\to 0$ o que nos leva que $lim_{x \\to 0}\\frac{sen(2x)}{2x} = 1$. Assim,<br><br>\n",
    " $$lim_{x \\to 0} \\frac{sen(2x)}{x} = 2lim_{x \\to 0}\\frac{sen(2x)}{2x} = 2 \\cdot 1 = 2.$$<br>\n",
    " b) Temos que<br><br>\n",
    " $$lim_{x \\to 0} \\frac{1 - cos(x)}{2x} = \\frac{1}{2}lim_{x \\to 0} \\frac{1 - cos(x)}{x} = \\frac{1}{2}\\cdot 0 = 0$$<br>\n",
    " c) Temos que<br><br>\n",
    " $$lim_{x \\to +\\infty} \\left(1 + \\frac{1}{x}\\right)^{2x} = lim_{x \\to +\\infty} \\left(\\left(1 + \\frac{1}{x}\\right)^{x}\\right)^{2} = \\left(lim_{x \\to +\\infty} \\left(1 + \\frac{1}{x}\\right)^{x}\\right)^{2} = e^{2}$$<br>\n",
    " d) Temos que<br><br>\n",
    " $$lim_{x \\to +\\infty} \\left(1 + \\frac{3}{x}\\right)^{x} = lim_{x \\to +\\infty} \\left(1 + \\frac{1}{\\frac{x}{3}}\\right)^{x} = lim_{x \\to +\\infty} \\left(\\left(1 + \\frac{1}{\\frac{x}{3}}\\right)^{x}\\right)^{\\frac{3}{3}} = lim_{x \\to +\\infty} \\left(\\left(1 + \\frac{1}{\\frac{x}{3}}\\right)^{\\frac{x}{3}}\\right)^{3} = \\left(lim_{x \\to +\\infty} \\left(1 + \\frac{1}{\\frac{x}{3}}\\right)^{\\frac{x}{3}}\\right)^{3} = e^{3}$$<br>\n",
    " o que se deve ao fato de $\\frac{x}{3} \\to 0$ quando $x \\to 0$.<br><br>\n",
    " e) Temos que<br><br>\n",
    " $$lim_{x \\to 0} \\frac{2^{x} - 1}{3x} = \\frac{1}{3}lim_{x \\to 0} \\frac{2^{x} - 1}{x}=\\frac{1}{3}ln(2) = \\frac{ln(2)}{3}$$<br>\n",
    " f) Temos que<br><br>\n",
    " $$lim_{x \\to 0} \\frac{3^{2x} - 1}{x} = \\frac{2}{2}lim_{x \\to 0} \\frac{3^{2x} - 1}{x} = 2lim_{x \\to 0} \\frac{3^{2x} - 1}{2x} = 2ln(3)$$<br>\n",
    " o que se deve ao fato de $2x \\to 0$ quando $x \\to 0$.\n",
    " "
   ]
  },
  {
   "cell_type": "markdown",
   "id": "82ed473b",
   "metadata": {
    "heading_collapsed": true
   },
   "source": [
    "# <div style=\"margin-top: -20px;\">\n",
    "<hr style=\"border: 2px solid black;\">\n",
    "\n",
    "<font color='black'><span style=\"font-size: 22px;\"><strong>Exercícios Resolvidos</strong></span></font>\n",
    "\n",
    "<hr style=\"border: 2px solid black;\">\n",
    "</div>"
   ]
  },
  {
   "cell_type": "markdown",
   "id": "be4d3492",
   "metadata": {
    "hidden": true
   },
   "source": [
    "#### Exercício Resolvido 1"
   ]
  },
  {
   "cell_type": "markdown",
   "id": "915d6eda",
   "metadata": {
    "hidden": true
   },
   "source": [
    "Calcule os seguintes limites (se existirem):\n",
    "\n",
    "a) $lim_{y \\to 2} \\left(y^2 - \\frac{1}{y}\\right)$\n",
    "\n",
    "b) $lim_{x \\to 0} \\left(x^2 - \\frac{1}{x}\\right)$\n",
    "\n",
    "c) $lim_{u \\to -5} \\left(\\frac{u^2 - 25}{u - 5}\\right)$"
   ]
  },
  {
   "cell_type": "markdown",
   "id": "ab4968b7",
   "metadata": {
    "hidden": true
   },
   "source": [
    "##### Solução"
   ]
  },
  {
   "cell_type": "markdown",
   "id": "9fc84065",
   "metadata": {
    "hidden": true
   },
   "source": [
    "a) $y^2$ e $\\frac{1}{y}$ têm limites quando $y \\to 2$. Assim,\n",
    "\n",
    "$$lim_{y \\to 2} \\left(y^2 - \\frac{1}{y}\\right) = lim_{y \\to 2} y^2 - lim_{y \\to 2} \\frac{1}{y} = 4 - \\frac{1}{2} = \\frac{7}{2}$$\n",
    "\n",
    "b) Aqui é necessário proceder indiretamente. A função $x^2$ tem um limite quando $x \\to 0$. Logo, supondo que o limite indicado exista, temos\n",
    "\n",
    "$$lim_{x \\to 0} \\left(x^2 - \\left(x^2 - \\frac{1}{x}\\right)\\right) = lim_{x \\to 0} 1 - lim_{x \\to 0} x = 1 - 0 = 1$$\n",
    "\n",
    "também existe. Mas esse não é o caso. Assim,\n",
    "\n",
    "$$lim_{x \\to 0} \\left(x^2 - \\frac{1}{x}\\right)$$\n",
    "\n",
    "não existe.\n",
    "\n",
    "c) Temos que \n",
    "\n",
    "$$lim_{u \\to -5} \\left(\\frac{u^2 - 25}{u - 5}\\right) = lim_{u \\to -5} \\left(\\frac{(u - 5)(u + 5)}{u - 5}\\right) = lim_{u \\to -5} (u + 5) = 10$$"
   ]
  },
  {
   "cell_type": "markdown",
   "id": "09c96b1c",
   "metadata": {
    "hidden": true
   },
   "source": [
    "#### Exercício Resolvido 2"
   ]
  },
  {
   "cell_type": "markdown",
   "id": "23a45fd9",
   "metadata": {
    "hidden": true
   },
   "source": [
    "Determine $\\frac{f(x + h) - f(x)}{h}$ para cada uma das seguintes funções. (Esse limite será importante no estudo do cálculo diferencial.)\n",
    "\n",
    "a) $f(x) = 3x - 1$\n",
    "\n",
    "b) $f(x) = 4x^{2} - x$\n",
    "\n",
    "c) $f(x) = \\frac{1}{x}$"
   ]
  },
  {
   "cell_type": "markdown",
   "id": "05c3e055",
   "metadata": {
    "hidden": true
   },
   "source": [
    "##### Solução"
   ]
  },
  {
   "cell_type": "markdown",
   "id": "43918f83",
   "metadata": {
    "hidden": true
   },
   "source": [
    "a) \n",
    "$$\\begin{align*}\n",
    "f(x + h) &= 3(x + h) - 1 = 3x + 3h - 1 \\\\\n",
    "f(x) &= 3x - 1 \\\\\n",
    "f(x + h) - f(x) &= (3x + 3h - 1) - (3x - 1) = 3x + 3h - 1 - 3x + 1 = 3h \\\\\n",
    "\\frac{f(x + h) - f(x)}{h} &= \\frac{3h}{h} = 3\n",
    "\\end{align*}$$\n",
    "\n",
    "Logo\n",
    "\n",
    "$$\n",
    "lim_{{h \\to 0}} \\frac{f(x + h) - f(x)}{h} = lim_{{h \\to 0}} 3 = 3$$\n",
    "\n",
    "b) \n",
    "$$\\begin{align*}\n",
    "f(x + h) &= 4(x + h)^2 - (x + h) = 4x^2 + 8hx + 4h^2 - x - h \\\\\n",
    "f(x) &= 4x^2 - x \\\\\n",
    "f(x + h) - f(x) &= (4x^2 + 8hx + 4h^2 - x - h) - (4x^2 - x) \\\\\n",
    "&= 4x^2 + 8hx + 4h^2 - x - h - 4x^2 + x \\\\\n",
    "&= 8hx + 4h^2 - h \\\\\n",
    "\\frac{f(x + h) - f(x)}{h} &= \\frac{8hx + 4h^2 - h}{h} = 8x + 4h - 1\n",
    "\\end{align*}$$\n",
    "\n",
    "Logo\n",
    "\n",
    "$$lim_{{h \\to 0}} \\frac{f(x + h) - f(x)}{h} = lim_{{h \\to 0}} (8x + 4h - 1) = lim_{{h \\to 0}} (8x - 1) + lim_{{h \\to 0}} 4h = 8x - 1 + 0 = 8x - 1$$\n",
    "\n",
    "c)\n",
    "$$\\begin{align*}\n",
    "f(x + h) &= \\frac{1}{x + h} \\\\\n",
    "f(x) &= \\frac{1}{x} \\\\\n",
    "f(x + h) - f(x) &= \\frac{1}{x + h} - \\frac{1}{x} \\\\\n",
    "&= \\frac{x - (x + h)}{x(x + h)} \\\\\n",
    "&= \\frac{-h}{x(x + h)}\n",
    "\\end{align*}$$\n",
    "\n",
    "Logo,\n",
    "\n",
    "$$\\frac{f(x + h) - f(x)}{h} = \\frac{-h}{(x + h)x} \\cdot \\frac{1}{h} = \\frac{-1}{(x + h)x}$$\n",
    "\n",
    "e\n",
    "\n",
    "$$lim_{{h \\to 0}} \\frac{f(x + h) - f(x)}{h} = lim_{{h \\to 0}} \\left(\\frac{-1}{(x + h)x}\\right) = lim_{{h \\to 0}} \\left(\\frac{-1}{x^2}\\right) = -\\frac{1}{x^2}$$\n"
   ]
  },
  {
   "cell_type": "markdown",
   "id": "3c578270",
   "metadata": {
    "hidden": true
   },
   "source": [
    "#### Exercício Resolvido 3"
   ]
  },
  {
   "cell_type": "markdown",
   "id": "c4eb3111",
   "metadata": {
    "hidden": true
   },
   "source": [
    "Calcule $$lim_{{x \\to 1}} \\frac{x^3 - 1}{x - 1}.$$"
   ]
  },
  {
   "cell_type": "markdown",
   "id": "f00eaad2",
   "metadata": {
    "hidden": true
   },
   "source": [
    "##### Solução"
   ]
  },
  {
   "cell_type": "markdown",
   "id": "c9920320",
   "metadata": {
    "hidden": true
   },
   "source": [
    "Ambos numerador e denominador tendem a $0$ quando $x$ se aproxima de $1$. No entanto, uma vez que $1$ é uma raiz de $x^3 - 1$, $x - 1$ é um fator de $x^3 - 1$. A divisão de $x^3 - 1$ por $x - 1$ produz a fatorização $x^3 - 1 = (x - 1)(x^2 + x + 1)$. Assim,\n",
    "\n",
    "$$lim_{{x \\to 1}} \\frac{x^3 - 1}{x - 1} = lim_{{x \\to 1}} (x - 1)(x^2 + x + 1) = lim_{{x \\to 1}} (x^2 + x + 1) = 1^2 + 1 + 1 = 3$$\n"
   ]
  },
  {
   "cell_type": "markdown",
   "id": "8debcf63",
   "metadata": {
    "hidden": true
   },
   "source": [
    "#### Exercício Resolvido 4"
   ]
  },
  {
   "cell_type": "markdown",
   "id": "2f52bd2f",
   "metadata": {
    "hidden": true
   },
   "source": [
    "Encontre $$\\lim_{{t \\to 0}} \\frac{\\sqrt{t^2 + 9} - 3}{t^2}.$$"
   ]
  },
  {
   "cell_type": "markdown",
   "id": "4a70da95",
   "metadata": {
    "hidden": true
   },
   "source": [
    "##### Solução"
   ]
  },
  {
   "cell_type": "markdown",
   "id": "78c1197c",
   "metadata": {
    "hidden": true
   },
   "source": [
    "Aplicando o valor de $t$ de imediato produzimos uma indeterminação da forma $\\frac{0}{0}$. Façamos a racionalização do numerador:\n",
    "\n",
    "$$\\begin{align*}\n",
    "\\lim_{{t \\to 0}} \\frac{\\sqrt{t^2 + 9} - 3}{t^2} &= \\lim_{{t \\to 0}} \\frac{\\sqrt{t^2 + 9} - 3}{t^2} \\cdot \\frac{\\sqrt{t^2 + 9} + 3}{\\sqrt{t^2 + 9} + 3} \\\\\n",
    "&= \\lim_{{t \\to 0}} \\frac{(t^2 + 9) - 9}{t^2(\\sqrt{t^2 + 9} + 3)} \\\\\n",
    "&= \\lim_{{t \\to 0}} \\frac{t^2}{t^2(\\sqrt{t^2 + 9} + 3)} \\\\\n",
    "&= \\lim_{{t \\to 0}} \\frac{1}{\\sqrt{t^2 + 9} + 3} \\\\\n",
    "&= \\frac{1}{\\sqrt{0 + 9} + 3} \\\\\n",
    "&= \\frac{1}{3 + 3} \\\\\n",
    "&= \\frac{1}{6}\n",
    "\\end{align*}$$\n"
   ]
  },
  {
   "cell_type": "markdown",
   "id": "84d67ff1",
   "metadata": {
    "hidden": true
   },
   "source": [
    "#### Exercício Resolvido 5"
   ]
  },
  {
   "cell_type": "markdown",
   "id": "90b3a757",
   "metadata": {
    "hidden": true
   },
   "source": [
    "Calcule os seguintes limites:\n",
    "\n",
    "a) $lim_{{x \\to +\\infty}} (5x^3 - 20x^2 + 2x - 14)$\n",
    "\n",
    "b) $lim_{{x \\to +\\infty}} (-2x^3 + 70x^2 + 50x + 5)$\n",
    "\n",
    "c) $lim_{{x \\to -\\infty}} (7x^4 - 12x^3 + 4x - 3)$\n",
    "\n",
    "d) $lim_{{x \\to -\\infty}} (7x^3 + 10x^2 + 3x + 5)$"
   ]
  },
  {
   "cell_type": "markdown",
   "id": "299a3147",
   "metadata": {
    "hidden": true
   },
   "source": [
    "##### Solução"
   ]
  },
  {
   "cell_type": "markdown",
   "id": "57f56cdf",
   "metadata": {
    "hidden": true
   },
   "source": [
    "Se $f(x)$ é um polinômio, $f(x) = a_nx^n + a_{n-1}x^{n-1} + \\ldots + a_2x^2 + a_1x + a_0$ com $a_n \\neq 0$, então\n",
    "\n",
    "$$ \\frac{f(x)}{a_nx^n} = 1 + \\frac{a_{n-1}}{a_n}\\frac{1}{x} + \\frac{a_{n-2}}{a_n}\\frac{1}{x^2} + \\ldots + \\frac{a_1}{a_n}\\frac{1}{x^{n-1}} + \\frac{a_0}{a_n}\\frac{1}{x^n}$$\n",
    "\n",
    "Temos que quando $x \\to +\\infty$, $\\frac{f(x)}{a_nx^n}$ fica arbitrariamente próximo de $1$. Por essa razão, $f(x)$ deve ser ilimitada da mesma forma como $a_nx^n$; isto é,\n",
    "\n",
    "$$lim_{{x \\to +\\infty}} f(x) = \\lim_{{x \\to +\\infty}} a_nx^n$$\n",
    "\n",
    "Aplicando essa regra aos polinômios dados, temos:\n",
    "\n",
    "a) $lim_{{x \\to +\\infty}} 5x^3 = +\\infty$\n",
    "\n",
    "b) $lim_{{x \\to +\\infty}} (-2x^3) = -\\infty$\n",
    "\n",
    "c) $lim_{{x \\to -\\infty}} 7x^4 = +\\infty$\n",
    "\n",
    "d) $lim_{{x \\to -\\infty}} 7x^3 = -\\infty$\n",
    " \n",
    "<font color='red'> **REGRA GERAL**: Se $f(x) = a_nx^n + a_{n-1}x^{n-1} + \\ldots + a_1x + a_0$, então<br><br>\n",
    " i) $lim_{{x \\to +\\infty}} f(x) = \\pm \\infty$ e o sinal correto é o sinal de $a_n$,<br><br>\n",
    " ii) $lim_{{x \\to -\\infty}} f(x) = \\pm \\infty$ e o sinal correto é o sinal de $(-1)^n a_n$.\n",
    "\n"
   ]
  },
  {
   "cell_type": "markdown",
   "id": "46b762b6",
   "metadata": {
    "hidden": true
   },
   "source": [
    "#### Exercício Resolvido 6"
   ]
  },
  {
   "cell_type": "markdown",
   "id": "cce8033f",
   "metadata": {
    "hidden": true
   },
   "source": [
    "Calcule:\n",
    "\n",
    "a) $lim_{{x \\to 1^+}} \\frac{x + 3}{x - 1}$\n",
    "\n",
    "b) $lim_{{x \\to 1^-}} \\frac{x + 3}{x - 1}$"
   ]
  },
  {
   "cell_type": "markdown",
   "id": "5a1bf3aa",
   "metadata": {
    "hidden": true
   },
   "source": [
    "##### Solução"
   ]
  },
  {
   "cell_type": "markdown",
   "id": "e3a53d73",
   "metadata": {
    "hidden": true
   },
   "source": [
    "Quando $x$ tende a $1$, o denominador $x - 1$ se aproxima de $0$, enquanto $x + 3$ se aproxima de $4$. Portanto, $\\left|\\frac{x + 3}{x - 1}\\right|$ cresce indefinidamente.\n",
    "\n",
    "a) Quando $x$ tende a $1$ pela direita, $x - 1$ é positivo. Uma vez que $x + 3$ é positivo quando $x$ está próximo de $1$,\n",
    "\n",
    "$$\\frac{x + 3}{x - 1} > 0 \\quad e \\quad lim_{{x \\to 1^+}} \\frac{x + 3}{x - 1} = +\\infty$$\n",
    "\n",
    "b) Quando $x$ se aproxima de $1$ pela esquerda, $x - 1$ é negativo, enquanto $x + 3$ é positivo. Então,\n",
    "\n",
    "$$\\frac{x + 3}{x - 1} < 0 \\quad e \\quad lim_{{x \\to 1^-}} \\frac{x + 3}{x - 1} = -\\infty$$\n",
    "\n",
    "Em particular, a reta \\(x = 1\\) é uma assíntota vertical do gráfico da função racional. Use os códigos anteriores para ver o gráfico."
   ]
  },
  {
   "cell_type": "markdown",
   "id": "8e96d3f8",
   "metadata": {
    "hidden": true
   },
   "source": [
    "#### Exercício Resolvido 7"
   ]
  },
  {
   "cell_type": "markdown",
   "id": "16a7e857",
   "metadata": {
    "hidden": true
   },
   "source": [
    "Calcule:\n",
    "\n",
    "a) $lim_{{x \\to -\\infty}} \\frac{3x^2 - 5}{4x^2 + 5}$\n",
    "    \n",
    "b) $lim_{{x \\to +\\infty}} \\frac{2x - 7}{x^2 - 8}$\n",
    "\n",
    "c) $lim_{{x \\to +\\infty}} \\frac{5x + 2}{\\sqrt{x^2 - 3x + 1}}$\n",
    "\n",
    "d) $lim_{{x \\to -\\infty}} \\frac{5x + 2}{\\sqrt{x^2 - 3x + 1}}$"
   ]
  },
  {
   "cell_type": "markdown",
   "id": "249511c1",
   "metadata": {
    "hidden": true
   },
   "source": [
    "##### Solução"
   ]
  },
  {
   "cell_type": "markdown",
   "id": "23312fd6",
   "metadata": {
    "hidden": true
   },
   "source": [
    "a) Temos que\n",
    "\n",
    "$$lim_{{x \\to -\\infty}} \\frac{3x^2 - 5}{4x^2 + 5} = \\frac{3}{4}$$\n",
    "\n",
    "b) Temos que\n",
    "\n",
    "$$lim_{{x \\to +\\infty}} \\frac{2x - 7}{x^2 - 8} = 0$$\n",
    "\n",
    "c) Temos que o denominador se comporta como $\\sqrt{x^2}$ quando $x \\to +\\infty$, o que é igual a $x$ quando $x > 0$. Portanto,\n",
    "\n",
    "$$lim_{{x \\to +\\infty}} \\frac{5x + 2}{\\sqrt{x^2 - 3x + 1}} = \\lim_{{x \\to +\\infty}} \\frac{5x + 2}{x} = \\frac{5}{1} = 5$$\n",
    "\n",
    "d) Temos que o denominador se comporta como $\\sqrt{x^2}$ quando $x \\to -\\infty$, o que é igual a $-x$ quando $x < 0$. Portanto,\n",
    "\n",
    "$$lim_{{x \\to -\\infty}} \\frac{5x + 2}{\\sqrt{x^2 - 3x + 1}} = \\lim_{{x \\to -\\infty}} \\frac{5x + 2}{-x} = \\frac{5}{-1} = -5$$"
   ]
  },
  {
   "cell_type": "markdown",
   "id": "2a46e56e",
   "metadata": {
    "hidden": true
   },
   "source": [
    "#### Exercício Resolvido 8"
   ]
  },
  {
   "cell_type": "markdown",
   "id": "e7014bdf",
   "metadata": {
    "hidden": true
   },
   "source": [
    "Determine as assíntotas verticais e horizontais do gráfico da função racional $f(x) = \\frac{3x^2 - 5x + 2}{6x^2 - 5x + 1}$."
   ]
  },
  {
   "cell_type": "markdown",
   "id": "2f58731e",
   "metadata": {
    "hidden": true
   },
   "source": [
    "##### Solução"
   ]
  },
  {
   "cell_type": "markdown",
   "id": "a76cd43d",
   "metadata": {
    "hidden": true
   },
   "source": [
    "As assíntotas verticais são determinadas pelas raízes do denominador:\n",
    "\n",
    "$$6x^2 - 5x + 1 = 0 \\quad \\Rightarrow \\quad (3x - 1)(2x - 1) = 0 \\quad \\Rightarrow \\quad\n",
    "\\begin{cases}\n",
    "3x - 1 = 0 & \\Rightarrow x = \\frac{1}{3} \\\\\n",
    "2x - 1 = 0 & \\Rightarrow x = \\frac{1}{2}\n",
    "\\end{cases}$$\n",
    "\n",
    "Como o numerador não é zero em $x = \\frac{1}{3}$ ou $x = \\frac{1}{2}$, $f(x)$ se aproxima de $+\\infty$ ou $-\\infty$ quando $x$ tende a $\\frac{1}{3}$ ou $\\frac{1}{2}$, seja de um lado ou do outro. Portanto, as assíntotas verticais são $x = \\frac{1}{3}$ e $x = \\frac{1}{2}$.\n",
    "\n",
    "As assíntotas horizontais podem ser encontradas aplicando-se os limites,\n",
    "\n",
    "$$lim_{{x \\to +\\infty}} \\frac{3x^2 - 5x + 2}{6x^2 - 5x + 1} = \\frac{3}{6} = \\frac{1}{2}$$\n",
    "\n",
    "Portanto, $y = \\frac{1}{2}$ é uma assíntota horizontal pela direita. Um procedimento semelhante mostra que:\n",
    "\n",
    "$$lim_{{x \\to -\\infty}} f(x) = \\frac{1}{2}$$\n",
    "\n",
    "assim $y = \\frac{1}{2}$ é também uma assíntota horizontal pela esquerda.\n"
   ]
  },
  {
   "cell_type": "markdown",
   "id": "cf27a6fd",
   "metadata": {
    "ExecuteTime": {
     "end_time": "2024-01-27T14:51:14.881440Z",
     "start_time": "2024-01-27T14:51:14.878483Z"
    },
    "hidden": true
   },
   "source": [
    "#### Exercício Resolvido 9"
   ]
  },
  {
   "cell_type": "markdown",
   "id": "e2323580",
   "metadata": {
    "hidden": true
   },
   "source": [
    "Calcule os seguintes limites:\n",
    "\n",
    "a) $lim_{x \\to \\infty} \\frac{3 + sen(x)}{x}$\n",
    "\n",
    "b) $lim_{x \\to 0} x^{2}cos\\left(\\frac{1}{x}\\right)$"
   ]
  },
  {
   "cell_type": "markdown",
   "id": "4339229c",
   "metadata": {
    "hidden": true
   },
   "source": [
    "##### Solução"
   ]
  },
  {
   "cell_type": "markdown",
   "id": "b6db9eb3",
   "metadata": {
    "hidden": true
   },
   "source": [
    "a) Temos que\n",
    "\n",
    "$$lim_{x \\to \\infty} \\frac{3 + sen(x)}{x} = lim_{x \\to \\infty} \\frac{3}{x} + \\frac{sen(x)}{x}  = lim_{x \\to \\infty} \\frac{3}{x} + lim_{x \\to \\infty}\\frac{sen(x)}{x}$$\n",
    "\n",
    "Note que $lim_{x \\to \\infty} \\frac{3}{x} = 0$. Sendo $-1 \\leq sen(x) \\leq 1$ para todo $x \\in \\mathbb{R}$, temos que $\\frac{1}{x} \\leq \\frac{sen(x)}{x} \\leq \\frac{1}{x}$. Sendo $lim_{x \\to \\infty} -\\frac{1}{x} = lim_{x \\to \\infty} \\frac{1}{x} = 0$, temos que $lim_{x \\to \\infty} \\frac{sen(x)}{x} = 0$.\n",
    "\n",
    "b) Temos que $-1 \\leq cos\\left(\\frac{1}{x}\\right) \\leq 1$ para todo $x \\in \\mathbb{R}$. Assim, temos que\n",
    "\n",
    "$$-1 \\leq cos\\left(\\frac{1}{x}\\right) \\leq 1 \\Rightarrow -x^{2} \\leq x^{2}cos\\left(\\frac{1}{x}\\right) \\leq x^{2}$$\n",
    "\n",
    "Sendo $lim_{x \\to 0} -x^{2} = lim_{x \\to 0} x^{2} = 0$, temos que $lim_{x \\to 0} x^{2}cos\\left(\\frac{1}{x}\\right) = 0$."
   ]
  },
  {
   "cell_type": "markdown",
   "id": "117eb143",
   "metadata": {
    "hidden": true
   },
   "source": [
    "#### Exercício Resolvido 10"
   ]
  },
  {
   "cell_type": "markdown",
   "id": "4777204c",
   "metadata": {
    "hidden": true
   },
   "source": [
    "Calcule os seguintes limites a partir dos limites fundamentais apresentados no **Teorema 4**:\n",
    "\n",
    "a) $lim_{x \\to 0} \\frac{sen(3x)}{2x}$\n",
    "\n",
    "b) $lim_{x \\to 0^{+}} \\frac{sen(x)}{x^{2}}$\n",
    "\n",
    "c) $lim_{x \\to +\\infty} \\left(1 + \\frac{1}{x}\\right)^{3x}$\n",
    "\n",
    "d) $lim_{x \\to +\\infty} \\left(1 + \\frac{1}{2x}\\right)^{x}$\n",
    "\n",
    "e) $lim_{x \\to 0} \\frac{3^{2x} - 1}{2x}$\n",
    "\n",
    "f) $lim_{x \\to 0} \\frac{5^{3x} - 1}{2x}$"
   ]
  },
  {
   "cell_type": "markdown",
   "id": "827a03ae",
   "metadata": {
    "hidden": true
   },
   "source": [
    "##### Solução"
   ]
  },
  {
   "cell_type": "markdown",
   "id": "ba852702",
   "metadata": {
    "hidden": true
   },
   "source": [
    "a) Temos que\n",
    " $$lim_{x \\to 0} \\frac{sen(3x)}{2x} = \\frac{1}{2}lim_{x \\to 0} \\frac{sen(3x)}{x} = \\frac{1}{2}\\frac{3}{3}lim_{x \\to 0}\\frac{sen(3x)}{x} = \\frac{3}{2} lim_{x \\to 0} \\frac{sen(3x)}{3x}$$\n",
    " \n",
    " Ora, quando $x \\to 0$ temos que $3x \\to 0$ o que nos leva que $lim_{x \\to 0}\\frac{sen(3x)}{3x} = 1$. Assim,\n",
    " \n",
    " $$lim_{x \\to 0} \\frac{sen(3x)}{2x} = \\frac{3}{2}lim_{x \\to 0}\\frac{sen(3x)}{3x} = \\frac{3}{2} \\cdot 1 = \\frac{3}{2}.$$\n",
    " \n",
    " b) Temos que\n",
    " \n",
    " $$lim_{x \\to 0^{+}} \\frac{sen(x)}{x^{2}} = lim_{x \\to 0^{+}} \\frac{1}{x} \\cdot \\frac{sen(x)}{x} = lim_{x \\to 0^{+}} \\frac{1}{x} \\cdot lim_{x \\to 0^{+}} \\frac{sen(x)}{x}  = \\infty \\cdot 1 = \\infty$$\n",
    " \n",
    " c) Temos que\n",
    " \n",
    " $$lim_{x \\to +\\infty} \\left(1 + \\frac{1}{x}\\right)^{3x} = lim_{x \\to +\\infty} \\left(\\left(1 + \\frac{1}{x}\\right)^{x}\\right)^{3} = \\left(lim_{x \\to +\\infty} \\left(1 + \\frac{1}{x}\\right)^{x}\\right)^{3} = e^{3}$$\n",
    " \n",
    " d) Temos que\n",
    " \n",
    " $$lim_{x \\to +\\infty} \\left(1 + \\frac{1}{2x}\\right)^{x} =  lim_{x \\to +\\infty} \\left(\\left(1 + \\frac{1}{2x}\\right)^{x}\\right)^{\\frac{2}{2}} = lim_{x \\to +\\infty} \\left(\\left(1 + \\frac{1}{2x}\\right)^{2x}\\right)^{\\frac{1}{2}} =$$\n",
    " \n",
    " $$=\\left(lim_{x \\to +\\infty} \\left(1 + \\frac{1}{2x}\\right)^{2x}\\right)^{\\frac{1}{2}} = e^{\\frac{1}{2}} = \\sqrt{e}$$\n",
    " \n",
    " o que se deve ao fato de $2x \\to 0$ quando $x \\to 0$.\n",
    " \n",
    " e) Temos que\n",
    " \n",
    " $$lim_{x \\to 0} \\frac{3^{2x} - 1}{2x} = ln(3)$$\n",
    " \n",
    " o que se deve ao fato de $2x \\to 0$ quando $x \\to 0$.\n",
    " \n",
    " f) Temos que\n",
    " \n",
    " $$lim_{x \\to 0} \\frac{5^{3x} - 1}{2x} = \\frac{1}{2}lim_{x \\to 0} \\frac{5^{3x} - 1}{x} = \\frac{1}{2}\\frac{3}{3}lim_{x \\to 0} \\frac{5^{3x} - 1}{x} = \\frac{3}{2}lim_{x \\to 0} \\frac{5^{3x} - 1}{3x} = \\frac{3}{2}ln(5)$$\n",
    " \n",
    " o que se deve ao fato de $3x \\to 0$ quando $x \\to 0$. "
   ]
  },
  {
   "cell_type": "markdown",
   "id": "9340e0b8",
   "metadata": {
    "heading_collapsed": true
   },
   "source": [
    "# <div style=\"margin-top: -20px;\">\n",
    "<hr style=\"border: 2px solid black;\">\n",
    "\n",
    "<font color='black'><span style=\"font-size: 22px;\"><strong>Exercícios</strong></span></font>\n",
    "\n",
    "<hr style=\"border: 2px solid black;\">\n",
    "</div>"
   ]
  },
  {
   "cell_type": "markdown",
   "id": "23a2c1cf",
   "metadata": {
    "hidden": true
   },
   "source": [
    "#### Exercício 1"
   ]
  },
  {
   "cell_type": "markdown",
   "id": "f696d886",
   "metadata": {
    "hidden": true
   },
   "source": [
    "Calcule o valor dos seguintes limites:\n",
    "\n",
    "a) $lim_{{x \\to 2}} 7$\n",
    "\n",
    "b) $lim_{{u \\to 0}} \\frac{5u^2 - 4}{u + 1}$\n",
    "\n",
    "c) $lim_{{w \\to -2}} \\frac{4 - w^2}{w + 2}$\n",
    "\n",
    "d) $lim_{{x \\to 0}} |x|$\n",
    "\n",
    "e) $lim_{{x \\to 2}} (7x^3 - 5x^2 + 2x - 4)$\n",
    "\n",
    "f) $lim_{{x \\to 2}} \\frac{x^3 - 8}{x - 2}$\n",
    "\n",
    "g) $lim_{{x \\to 4}} \\frac{x^2 - x - 12}{x - 4}$\n",
    "\n",
    "h) $lim_{{x \\to 3}} \\frac{x^3 - x^2 - x - 15}{x - 3}$\n",
    "\n",
    "i) $lim_{{x \\to 2}} \\frac{2x^4 - 7x^2 + x - 6}{x - 2}$\n",
    "\n",
    "j) $lim_{{x \\to 1}} \\frac{x^4 + 3x^3 - 13x^2 - 27x + 36}{x^2 + 3x - 4}$\n",
    "\n",
    "k) $lim_{{x \\to 0}} \\frac{\\sqrt{x + 3} - \\sqrt{3}}{x}$\n",
    "\n",
    "l) $lim_{{x \\to 1}} \\frac{\\sqrt{x + 3} - 2}{x - 1}$\n",
    "\n",
    "m) $lim_{{x \\to 2}} \\left(\\frac{1}{x - 2} - \\frac{4}{x^2 - 4}\\right)$"
   ]
  },
  {
   "cell_type": "markdown",
   "id": "73fd0493",
   "metadata": {
    "hidden": true
   },
   "source": [
    "##### Respostas"
   ]
  },
  {
   "cell_type": "markdown",
   "id": "9939685c",
   "metadata": {
    "hidden": true
   },
   "source": [
    "(a) $7$ $\\ \\ \\ $ b) $-4$ $\\ \\ \\ $ c) $4$ $\\ \\ \\ $ d) $0$ $\\ \\ \\ $ e) $36$ $\\ \\ \\ $ f) $12$ $\\ \\ \\ $ g) $7$ $\\ \\ \\ $ h) $20$ $\\ \\ \\ $ i) $37$ $\\ \\ \\ $ j) $-8$ $\\ \\ \\ $ k) $\\frac{1}{2\\sqrt{3}}$ $\\ \\ \\ $ l) $\\frac{1}{4}$ $\\ \\ \\ $ m) $\\frac{1}{4}$"
   ]
  },
  {
   "cell_type": "markdown",
   "id": "1c648997",
   "metadata": {
    "hidden": true
   },
   "source": [
    "#### Exercício 2"
   ]
  },
  {
   "cell_type": "markdown",
   "id": "15cb63cf",
   "metadata": {
    "hidden": true
   },
   "source": [
    "Calcule $\\frac{f(x + h) - f(x)}{h}$ e então $\\lim_{{h \\to 0}} \\frac{f(x + h) - f(x)}{h}$ (se existir) para cada uma das seguintes funções:\n",
    "\n",
    "a) $f(x) = 3x^2 + 5$\n",
    "\n",
    "b) $f(x) = \\frac{1}{x + 1}$\n",
    "\n",
    "c) $f(x) = 7x + 12$\n",
    "\n",
    "d) $f(x) = x^3$\n",
    "\n",
    "e) $f(x) = \\sqrt{x}$\n",
    "\n",
    "f) $f(x) = 5x^2 - 2x + 4$\n"
   ]
  },
  {
   "cell_type": "markdown",
   "id": "8571a980",
   "metadata": {
    "hidden": true
   },
   "source": [
    "##### Respostas"
   ]
  },
  {
   "cell_type": "markdown",
   "id": "5bcc7943",
   "metadata": {
    "hidden": true
   },
   "source": [
    "a) $6x + h$ e $6x$ $\\ \\ \\ $ b) $\\frac{-1}{(x+h+1)(x+1)}$ e $\\frac{-1}{(x+1)^{2}}$ $\\ \\ \\ $ c) $7$ e $7$ $\\ \\ \\ $ d) $3x^{2} + 3xh + h^{2}$ e $3x^{2}$ $\\ \\ \\ $ e) $\\frac{1}{\\sqrt{x+h}+\\sqrt{x}}$ e $\\frac{1}{2\\sqrt{x}}$ $\\ \\ \\ $ f) $10x + 5h -2$ e $10x-2$"
   ]
  },
  {
   "cell_type": "markdown",
   "id": "6f831977",
   "metadata": {
    "hidden": true
   },
   "source": [
    "#### Exercício 3"
   ]
  },
  {
   "cell_type": "markdown",
   "id": "1c94ba51",
   "metadata": {
    "hidden": true
   },
   "source": [
    "Calcule os seguintes limites:\n",
    "\n",
    "a) $lim_{{x \\to +\\infty}} (2x^{11} - 5x^6 + 3x^2 + 1)$\n",
    "\n",
    "b) $lim_{{x \\to +\\infty}} (-4x^7 + 23x^3 + 5x^2 + 1)$\n",
    "\n",
    "c) $lim_{{x \\to -\\infty}} (2x^4 - 12x^2 + x - 7)$\n",
    "\n",
    "d) $lim_{{x \\to -\\infty}} (2x^3 - 12x^2 + x - 7)$"
   ]
  },
  {
   "cell_type": "markdown",
   "id": "9b01922f",
   "metadata": {
    "hidden": true
   },
   "source": [
    "##### Respostas"
   ]
  },
  {
   "cell_type": "markdown",
   "id": "5d9d371d",
   "metadata": {
    "hidden": true
   },
   "source": [
    "a) $+\\infty$ $\\ \\ \\ $ b) $-\\infty$ $\\ \\ \\ $ c) $+\\infty$ $\\ \\ \\ $ d) $-\\infty$"
   ]
  },
  {
   "cell_type": "markdown",
   "id": "7057e85f",
   "metadata": {
    "hidden": true
   },
   "source": [
    "#### Exercício 4"
   ]
  },
  {
   "cell_type": "markdown",
   "id": "be056c48",
   "metadata": {
    "hidden": true
   },
   "source": [
    "Calcule os seguintes limites (se existirem):\n",
    "\n",
    "a) $lim_{{x \\to 0^+}} \\frac{|x|}{2x}$ e $lim_{{x \\to 0^-}} \\frac{|x|}{2x}$\n",
    "\n",
    "b) $lim_{{x \\to 0^-}} \\left(\\frac{1}{x} - \\frac{1}{x^{2}}\\right)$\n",
    "\n",
    "c) $lim_{{x \\to 3^{+}}} \\frac{x + 3}{x^2 - 9}$ e $lim_{{x \\to 3^{-}}} \\frac{x + 3}{x^2-9}$\n",
    "\n",
    "d) $lim_{{x \\to 3^+}} \\frac{x^2 - 5x + 6}{x - 3}$ e $lim_{{x \\to 3^-}} \\frac{x^2 - 5x + 6}{x - 3}$\n",
    "\n",
    "e) $lim_{{x \\to 3^+}} \\frac{1}{x^2 - 7x + 12}$ e $lim_{{x \\to 3^-}} \\frac{1}{x^2 - 7x + 12}$\n",
    "\n",
    "f) $lim_{{x \\to +\\infty}} \\frac{1}{3x - 5}$ e $lim_{{x \\to -\\infty}} \\frac{1}{3x - 5}$\n",
    "\n",
    "g) $lim_{{x \\to +\\infty}} \\frac{3x^3 + x^2}{5x^3 - 1}$ e $lim_{{x \\to -\\infty}} \\frac{3x^3 + x^2}{5x^3 - 1}$\n",
    "\n",
    "h) $lim_{{x \\to +\\infty}} \\frac{x^2 + 4x - 5}{3x + 1}$ e $lim_{{x \\to -\\infty}} \\frac{x^2 + 4x - 5}{3x + 1}$\n",
    "\n",
    "i) $lim_{{x \\to +\\infty}} \\frac{2x^3 + x - 5}{3x^4+4}$ e $lim_{{x \\to -\\infty}} \\frac{2x^3 + x - 5}{3x^4+4}$\n",
    "\n",
    "j) $lim_{{x \\to +\\infty}} \\frac{4x - 1}{\\sqrt{x^2 + 2}}$ e $lim_{{x \\to -\\infty}} \\frac{4x - 1}{\\sqrt{x^2 + 2}}$\n",
    "\n",
    "k) $lim_{{x \\to +\\infty}} \\frac{3x^3 + 2}{\\sqrt{x^4 - 2}}$ e $lim_{{x \\to -\\infty}} \\frac{3x^3 + 2}{\\sqrt{x^4 - 2}}$"
   ]
  },
  {
   "cell_type": "markdown",
   "id": "1196eac6",
   "metadata": {
    "hidden": true
   },
   "source": [
    "##### Respostas"
   ]
  },
  {
   "cell_type": "markdown",
   "id": "456c5d15",
   "metadata": {
    "hidden": true
   },
   "source": [
    "a) $\\frac{1}{2}$ e $\\frac{-1}{2}$ $\\ \\ \\ $ b) $-\\infty$ $\\ \\ \\ $ c) $+\\infty$ e $-\\infty$ $\\ \\ \\ $ d) $1$ e $1$ $\\ \\ \\ $ e) $-\\infty$ e $+\\infty$ $\\ \\ \\ $ f) $0$ e $0$ $\\ \\ \\ $ g) $\\frac{3}{5}$ e $\\frac{3}{5}$ $\\ \\ \\ $ h) $+\\infty$ e $-\\infty$ $\\ \\ \\ $ i) $0$ e $0$ $\\ \\ \\ $ j) $4$ e $-4$ $\\ \\ \\ $ k) $+\\infty$ e $-\\infty$"
   ]
  },
  {
   "cell_type": "markdown",
   "id": "bf6e0979",
   "metadata": {
    "hidden": true
   },
   "source": [
    "#### Exercício 5"
   ]
  },
  {
   "cell_type": "markdown",
   "id": "fb4a9748",
   "metadata": {
    "hidden": true
   },
   "source": [
    "Encontre, se existirem, quaisquer assíntotas verticais e horizontais dos gráficos das seguintes funções:\n",
    "\n",
    "a) $f(x) = x^3$\n",
    "\n",
    "b) $f(x) = \\frac{2x - 5}{3x + 2}$\n",
    "\n",
    "c) $f(x) = \\frac{4}{x^2 + x - 6}$\n",
    "\n",
    "d) $f(x) = \\frac{2x - 3}{2x^2 + 3x - 5}$\n",
    "\n",
    "e) $f(x) = \\frac{3x - 1}{3x^2 + 5x - 2}$\n",
    "\n",
    "f) $f(x) = \\frac{x + 3}{\\sqrt{x^2 + 2x - 8}}$\n",
    "\n",
    "g) $f(x) = \\frac{2x + 3}{\\sqrt{x^2 - 2x + 3}}$\n",
    "\n",
    "h) $f(x) = \\sqrt{x + 1} - \\sqrt{x}$\n",
    "\n",
    "i) $f(x) = \\frac{\\sqrt{x + 4} - 2}{x}$"
   ]
  },
  {
   "cell_type": "markdown",
   "id": "67476979",
   "metadata": {
    "hidden": true
   },
   "source": [
    "##### Respostas"
   ]
  },
  {
   "cell_type": "markdown",
   "id": "a6ac9eb4",
   "metadata": {
    "hidden": true
   },
   "source": [
    "a) Sem assíntotas, $\\ $ b) assíntota vertical: $x = -\\frac{2}{3}$, assíntota horizontal: $y = \\frac{2}{3}$ (pela esquerda e pela direita), $\\ $ c) assíntotas verticais: $x = -3$, $x = 2$; assíntota horizontal: $y = 0$ (pela esquerda e pela direita), $\\ $ d) assíntotas verticais: $x = -\\frac{5}{2} $, $x = 1$, assíntota horizontal: \\( y = 0 \\) (pela esquerda e pela direita), $\\ $ e) assíntota vertical: $x = -2$, assíntota horizontal: $y = 0$ (pela direita), $\\ $ f) assíntotas verticais: $x = -4$ e $x = 2$, assíntotas horizontais: $y = 1$ pela direita e $y = -1$ (pela esquerda), $\\ $ g) assíntotas horizontais: $y = 2$ (pela direita) e $y = -2$ (pela esquerda), $\\ $ h) assíntota horizontal: $y = 0 $ (pela direita), $\\ $ i) assíntota horizontal: $y = 0$ (pela direita)."
   ]
  },
  {
   "cell_type": "markdown",
   "id": "a5525d1e",
   "metadata": {
    "hidden": true
   },
   "source": [
    "#### Exercício 6"
   ]
  },
  {
   "cell_type": "markdown",
   "id": "af94910d",
   "metadata": {
    "hidden": true
   },
   "source": [
    "Calcule os seguintes limites:\n",
    "\n",
    "a) $lim_{x \\to \\infty} \\frac{cos(x)+1}{x^{2}}$\n",
    "\n",
    "b) $lim_{x \\to 0} xsen\\left(\\frac{1}{x}\\right)$\n",
    "\n",
    "c) $lim_{x \\to 0} \\frac{sen(-x)}{3x}$\n",
    "\n",
    "d) $lim_{x \\to 0} \\frac{x}{sen(x)}$\n",
    "\n",
    "e) $lim_{x \\to 0} \\frac{x}{x + sen(x)}$\n",
    "\n",
    "f) $lim_{x \\to +\\infty} \\left(1 + \\frac{2}{x}\\right)^{3x}$\n",
    "\n",
    "g) $lim_{x \\to +\\infty} \\left(1 + \\frac{1}{5x}\\right)^{5x}$\n",
    "\n",
    "h) $lim_{x \\to 0} \\frac{4^{4x} - 1}{4x}$\n",
    "\n",
    "i) $lim_{x \\to 0} \\frac{2x}{2^{-x} - 1}$"
   ]
  },
  {
   "cell_type": "markdown",
   "id": "15885b83",
   "metadata": {
    "hidden": true
   },
   "source": [
    "##### Respostas"
   ]
  },
  {
   "cell_type": "markdown",
   "id": "c64ee19b",
   "metadata": {
    "hidden": true
   },
   "source": [
    "a) $0$, $\\ $ b) $0$, $\\ $ c) $-\\frac{1}{3}$, $\\ $ d) $1$, $\\ $ e) $\\frac{1}{2}$, $\\ $ f) $e^{6}$, $\\ $ g) $1$, $\\ $ h) $ln(4)$, $\\ $ i) $-\\frac{2}{ln(2)}$"
   ]
  },
  {
   "cell_type": "markdown",
   "id": "dfa764f1",
   "metadata": {},
   "source": [
    "# <div style=\"margin-top: -20px;\">\n",
    "<hr style=\"border: 2px solid black;\">\n",
    "\n",
    "<font color='black'><span style=\"font-size: 22px;\"><strong>Vídeo Aulas</strong></span></font>\n",
    "\n",
    "<hr style=\"border: 2px solid black;\">\n",
    "</div>"
   ]
  },
  {
   "cell_type": "markdown",
   "id": "c8ca24a4",
   "metadata": {},
   "source": [
    "[Recursos Educacionais da Disciplina Cálculo Diferencial Aplicada à Computação](https://youtu.be/LThudy8xSd8)\n",
    "\n",
    "[Exemplos Iniciais Sobre Limites](https://youtu.be/BhXrOpnwC3E)\n",
    "\n",
    "[Propriedades dos Limites - Parte 1](https://youtu.be/BmJW4ujgD9Y)\n",
    "\n",
    "[Propriedades dos Limites - Parte 2](https://youtu.be/OQdcVbWjRYM)\n",
    "\n",
    "[Limites Envolvendo Indeterminações](https://youtu.be/-rguNS7Vzek)\n",
    "\n",
    "[Usando o Geogebra Para Entender Limites](https://youtu.be/JLoR2nBA2kY)\n",
    "\n",
    "[Existência do Limite e Limites Laterais](https://youtu.be/ajeUOJWiA-0)\n",
    "\n",
    "[Limites Infinitos: Assíntotas Verticais](https://youtu.be/vbW6Vuzd1CM)\n",
    "\n",
    "[Limites no Infinito: Assíntotas Horizontais](https://youtu.be/9-wnlrXdoRk)\n",
    "\n",
    "[Exemplos Envolvendo Limites no Infinito](https://youtu.be/fK00ZY1DON4)\n",
    "\n",
    "[Teorema do Sanduíche](https://youtu.be/NI4y3yZ7NFo)\n",
    "\n",
    "[Limites Especiais](https://youtu.be/wJln3njzcgY)\n",
    "\n",
    "[Exemplo Envolvendo Limites Especiais - Parte 1](https://youtu.be/Gea5WUkbH9c)\n",
    "\n",
    "[Exemplo Envolvendo Limites Especiais - Parte 2](https://youtu.be/sErWuHcnN7I)"
   ]
  }
 ],
 "metadata": {
  "kernelspec": {
   "display_name": "Python 3 (ipykernel)",
   "language": "python",
   "name": "python3"
  },
  "language_info": {
   "codemirror_mode": {
    "name": "ipython",
    "version": 3
   },
   "file_extension": ".py",
   "mimetype": "text/x-python",
   "name": "python",
   "nbconvert_exporter": "python",
   "pygments_lexer": "ipython3",
   "version": "3.11.5"
  },
  "varInspector": {
   "cols": {
    "lenName": 16,
    "lenType": 16,
    "lenVar": 40
   },
   "kernels_config": {
    "python": {
     "delete_cmd_postfix": "",
     "delete_cmd_prefix": "del ",
     "library": "var_list.py",
     "varRefreshCmd": "print(var_dic_list())"
    },
    "r": {
     "delete_cmd_postfix": ") ",
     "delete_cmd_prefix": "rm(",
     "library": "var_list.r",
     "varRefreshCmd": "cat(var_dic_list()) "
    }
   },
   "types_to_exclude": [
    "module",
    "function",
    "builtin_function_or_method",
    "instance",
    "_Feature"
   ],
   "window_display": false
  }
 },
 "nbformat": 4,
 "nbformat_minor": 5
}
